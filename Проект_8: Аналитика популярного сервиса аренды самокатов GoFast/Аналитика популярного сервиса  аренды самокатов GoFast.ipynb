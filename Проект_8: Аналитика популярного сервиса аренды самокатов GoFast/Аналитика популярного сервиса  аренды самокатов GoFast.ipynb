{
 "cells": [
  {
   "cell_type": "markdown",
   "id": "d397d460",
   "metadata": {},
   "source": [
    "# Проект: Аналитика популярного сервиса аренды самокатов GoFast"
   ]
  },
  {
   "cell_type": "markdown",
   "id": "aa400d57",
   "metadata": {},
   "source": [
    "***Описание проекта***"
   ]
  },
  {
   "cell_type": "markdown",
   "id": "465a0ee6",
   "metadata": {},
   "source": [
    "Вы аналитик популярного сервиса аренды самокатов GoFast. Вам передали данные о некоторых пользователях из нескольких городов, а также об их поездках. Проанализируйте данные и проверьте некоторые гипотезы, которые могут помочь бизнесу вырасти.\n",
    "\n",
    "Чтобы совершать поездки по городу, пользователи сервиса GoFast пользуются мобильным приложением. Сервисом можно пользоваться:\n",
    "\n",
    "* без подписки \n",
    "* абонентская плата отсутствует;\n",
    "* стоимость одной минуты поездки — 8 рублей;\n",
    "* стоимость старта (начала поездки) — 50 рублей;\n",
    "* с подпиской Ultra \n",
    "* абонентская плата — 199 рублей в месяц;\n",
    "* стоимость одной минуты поездки — 6 рублей;\n",
    "* стоимость старта — бесплатно.\n",
    "\n",
    "***Описание данных***\n",
    "\n",
    "В основных данных есть информация о пользователях, их поездках и подписках.\n",
    "\n",
    "**Пользователи — users_go.csv**\n",
    "\n",
    "* user_id — уникальный идентификатор пользователя\n",
    "* name — имя пользователя\n",
    "* age — возраст\n",
    "* city — город\n",
    "* subscription_type — тип подписки (free, ultra)\n",
    "\n",
    "**Поeздки — rides_go.csv**\n",
    "\n",
    "* user_id — уникальный идентификатор пользователя\n",
    "* distance — расстояние, которое пользователь проехал в текущей сессии (в метрах)\n",
    "* duration — продолжительность сессии (в минутах) — время с того момента, как пользователь нажал кнопку «Начать поездку» до момента, как он нажал кнопку «Завершить поездку»\n",
    "* date — дата совершения поездки\n",
    "\n",
    "**Подписки — subscriptions_go.csv**\n",
    "\n",
    "* subscription_type — тип подписки\n",
    "* minute_price — стоимость одной минуты поездки по данной подписке\n",
    "* start_ride_price — стоимость начала поездки\n",
    "* subscription_fee — стоимость ежемесячного платежа\n",
    "\n"
   ]
  },
  {
   "cell_type": "markdown",
   "id": "40a9c57e",
   "metadata": {},
   "source": [
    "#### Шаг 1. Загрузка данных"
   ]
  },
  {
   "cell_type": "markdown",
   "id": "9d15769a",
   "metadata": {},
   "source": [
    "***Импортируем библиотеки***"
   ]
  },
  {
   "cell_type": "code",
   "execution_count": 1,
   "id": "a1d79331",
   "metadata": {},
   "outputs": [],
   "source": [
    "import pandas as pd\n",
    "import matplotlib.pyplot as plt\n",
    "%matplotlib inline\n",
    "import seaborn as sns\n",
    "import plotly.express as px\n",
    "import numpy as np\n",
    "from scipy import stats as st\n",
    "from datetime import datetime, timedelta\n",
    "from math import sqrt\n",
    "from math import factorial\n",
    "from scipy.stats import binom, norm\n",
    "from matplotlib import rcParams, rcParamsDefault\n",
    "\n",
    "import warnings\n",
    "warnings.filterwarnings('ignore')"
   ]
  },
  {
   "cell_type": "code",
   "execution_count": 2,
   "id": "92a09352",
   "metadata": {},
   "outputs": [],
   "source": [
    "import nbformat as nbf\n",
    "from glob import glob\n",
    "\n",
    "import uuid\n",
    "def get_cell_id(id_length=8):\n",
    "    return uuid.uuid4().hex[:id_length]\n",
    "\n",
    "# your notebook name/keyword\n",
    "nb_name = 'my_notebook'\n",
    "notebooks = list(filter(lambda x: nb_name in x, glob(\"./*.ipynb\", recursive=True)))\n",
    "\n",
    "# iterate over notebooks\n",
    "for ipath in sorted(notebooks):\n",
    "    # load notebook\n",
    "    ntbk = nbf.read(ipath, nbf.NO_CONVERT)\n",
    "    \n",
    "    cell_ids = []\n",
    "    for cell in ntbk.cells:\n",
    "        cell_ids.append(cell['id'])\n",
    "\n",
    "    # reset cell ids if there are duplicates\n",
    "    if not len(cell_ids) == len(set(cell_ids)): \n",
    "        for cell in ntbk.cells:\n",
    "            cell['id'] = get_cell_id()\n",
    "\n",
    "    nbf.write(ntbk, ipath)"
   ]
  },
  {
   "cell_type": "markdown",
   "id": "88a5a4f4",
   "metadata": {},
   "source": [
    "***Импортируем данные в датасет***"
   ]
  },
  {
   "cell_type": "code",
   "execution_count": 3,
   "id": "fdc87815",
   "metadata": {},
   "outputs": [],
   "source": [
    "try:\n",
    "    users = pd.read_csv('/datasets/users_go.csv')\n",
    "    riders = pd.read_csv('/datasets/rides_go.csv')\n",
    "    subs = pd.read_csv('/datasets/subscriptions_go.csv')\n",
    "except:\n",
    "    users = pd.read_csv('https://code.s3.yandex.net/datasets/users_go.csv')\n",
    "    riders = pd.read_csv('https://code.s3.yandex.net/datasets/rides_go.csv')\n",
    "    subs = pd.read_csv('https://code.s3.yandex.net/datasets/subscriptions_go.csv')"
   ]
  },
  {
   "cell_type": "markdown",
   "id": "a3a5b6cb",
   "metadata": {},
   "source": [
    "***Проверяем данные***"
   ]
  },
  {
   "cell_type": "code",
   "execution_count": 4,
   "id": "c1748015",
   "metadata": {},
   "outputs": [
    {
     "data": {
      "text/html": [
       "<div>\n",
       "<style scoped>\n",
       "    .dataframe tbody tr th:only-of-type {\n",
       "        vertical-align: middle;\n",
       "    }\n",
       "\n",
       "    .dataframe tbody tr th {\n",
       "        vertical-align: top;\n",
       "    }\n",
       "\n",
       "    .dataframe thead th {\n",
       "        text-align: right;\n",
       "    }\n",
       "</style>\n",
       "<table border=\"1\" class=\"dataframe\">\n",
       "  <thead>\n",
       "    <tr style=\"text-align: right;\">\n",
       "      <th></th>\n",
       "      <th>user_id</th>\n",
       "      <th>name</th>\n",
       "      <th>age</th>\n",
       "      <th>city</th>\n",
       "      <th>subscription_type</th>\n",
       "    </tr>\n",
       "  </thead>\n",
       "  <tbody>\n",
       "    <tr>\n",
       "      <th>0</th>\n",
       "      <td>1</td>\n",
       "      <td>Кира</td>\n",
       "      <td>22</td>\n",
       "      <td>Тюмень</td>\n",
       "      <td>ultra</td>\n",
       "    </tr>\n",
       "    <tr>\n",
       "      <th>1</th>\n",
       "      <td>2</td>\n",
       "      <td>Станислав</td>\n",
       "      <td>31</td>\n",
       "      <td>Омск</td>\n",
       "      <td>ultra</td>\n",
       "    </tr>\n",
       "    <tr>\n",
       "      <th>2</th>\n",
       "      <td>3</td>\n",
       "      <td>Алексей</td>\n",
       "      <td>20</td>\n",
       "      <td>Москва</td>\n",
       "      <td>ultra</td>\n",
       "    </tr>\n",
       "    <tr>\n",
       "      <th>3</th>\n",
       "      <td>4</td>\n",
       "      <td>Константин</td>\n",
       "      <td>26</td>\n",
       "      <td>Ростов-на-Дону</td>\n",
       "      <td>ultra</td>\n",
       "    </tr>\n",
       "    <tr>\n",
       "      <th>4</th>\n",
       "      <td>5</td>\n",
       "      <td>Адель</td>\n",
       "      <td>28</td>\n",
       "      <td>Омск</td>\n",
       "      <td>ultra</td>\n",
       "    </tr>\n",
       "  </tbody>\n",
       "</table>\n",
       "</div>"
      ],
      "text/plain": [
       "   user_id        name  age            city subscription_type\n",
       "0        1        Кира   22          Тюмень             ultra\n",
       "1        2   Станислав   31            Омск             ultra\n",
       "2        3     Алексей   20          Москва             ultra\n",
       "3        4  Константин   26  Ростов-на-Дону             ultra\n",
       "4        5       Адель   28            Омск             ultra"
      ]
     },
     "metadata": {},
     "output_type": "display_data"
    },
    {
     "name": "stdout",
     "output_type": "stream",
     "text": [
      "<class 'pandas.core.frame.DataFrame'>\n",
      "RangeIndex: 1565 entries, 0 to 1564\n",
      "Data columns (total 5 columns):\n",
      " #   Column             Non-Null Count  Dtype \n",
      "---  ------             --------------  ----- \n",
      " 0   user_id            1565 non-null   int64 \n",
      " 1   name               1565 non-null   object\n",
      " 2   age                1565 non-null   int64 \n",
      " 3   city               1565 non-null   object\n",
      " 4   subscription_type  1565 non-null   object\n",
      "dtypes: int64(2), object(3)\n",
      "memory usage: 61.3+ KB\n",
      "Количество дубликатов - 31\n"
     ]
    },
    {
     "data": {
      "text/html": [
       "<div>\n",
       "<style scoped>\n",
       "    .dataframe tbody tr th:only-of-type {\n",
       "        vertical-align: middle;\n",
       "    }\n",
       "\n",
       "    .dataframe tbody tr th {\n",
       "        vertical-align: top;\n",
       "    }\n",
       "\n",
       "    .dataframe thead th {\n",
       "        text-align: right;\n",
       "    }\n",
       "</style>\n",
       "<table border=\"1\" class=\"dataframe\">\n",
       "  <thead>\n",
       "    <tr style=\"text-align: right;\">\n",
       "      <th></th>\n",
       "      <th>user_id</th>\n",
       "      <th>age</th>\n",
       "    </tr>\n",
       "  </thead>\n",
       "  <tbody>\n",
       "    <tr>\n",
       "      <th>count</th>\n",
       "      <td>1565.000000</td>\n",
       "      <td>1565.000000</td>\n",
       "    </tr>\n",
       "    <tr>\n",
       "      <th>mean</th>\n",
       "      <td>762.633866</td>\n",
       "      <td>24.922045</td>\n",
       "    </tr>\n",
       "    <tr>\n",
       "      <th>std</th>\n",
       "      <td>443.260155</td>\n",
       "      <td>4.553496</td>\n",
       "    </tr>\n",
       "    <tr>\n",
       "      <th>min</th>\n",
       "      <td>1.000000</td>\n",
       "      <td>12.000000</td>\n",
       "    </tr>\n",
       "    <tr>\n",
       "      <th>25%</th>\n",
       "      <td>378.000000</td>\n",
       "      <td>22.000000</td>\n",
       "    </tr>\n",
       "    <tr>\n",
       "      <th>50%</th>\n",
       "      <td>762.000000</td>\n",
       "      <td>25.000000</td>\n",
       "    </tr>\n",
       "    <tr>\n",
       "      <th>75%</th>\n",
       "      <td>1146.000000</td>\n",
       "      <td>28.000000</td>\n",
       "    </tr>\n",
       "    <tr>\n",
       "      <th>max</th>\n",
       "      <td>1534.000000</td>\n",
       "      <td>43.000000</td>\n",
       "    </tr>\n",
       "  </tbody>\n",
       "</table>\n",
       "</div>"
      ],
      "text/plain": [
       "           user_id          age\n",
       "count  1565.000000  1565.000000\n",
       "mean    762.633866    24.922045\n",
       "std     443.260155     4.553496\n",
       "min       1.000000    12.000000\n",
       "25%     378.000000    22.000000\n",
       "50%     762.000000    25.000000\n",
       "75%    1146.000000    28.000000\n",
       "max    1534.000000    43.000000"
      ]
     },
     "metadata": {},
     "output_type": "display_data"
    },
    {
     "data": {
      "text/plain": [
       "Мария        23\n",
       "Анна         22\n",
       "Александр    18\n",
       "Никита       17\n",
       "Дмитрий      17\n",
       "             ..\n",
       "Матвей        3\n",
       "Семен         2\n",
       "Радмир        1\n",
       "Тихон         1\n",
       "Милана        1\n",
       "Name: name, Length: 194, dtype: int64"
      ]
     },
     "metadata": {},
     "output_type": "display_data"
    },
    {
     "name": "stdout",
     "output_type": "stream",
     "text": [
      "**************************************************\n"
     ]
    },
    {
     "data": {
      "text/plain": [
       "Пятигорск         226\n",
       "Екатеринбург      206\n",
       "Ростов-на-Дону    202\n",
       "Краснодар         196\n",
       "Сочи              192\n",
       "Омск              186\n",
       "Тюмень            185\n",
       "Москва            172\n",
       "Name: city, dtype: int64"
      ]
     },
     "metadata": {},
     "output_type": "display_data"
    },
    {
     "name": "stdout",
     "output_type": "stream",
     "text": [
      "**************************************************\n"
     ]
    },
    {
     "data": {
      "text/plain": [
       "free     846\n",
       "ultra    719\n",
       "Name: subscription_type, dtype: int64"
      ]
     },
     "metadata": {},
     "output_type": "display_data"
    },
    {
     "name": "stdout",
     "output_type": "stream",
     "text": [
      "**************************************************\n"
     ]
    },
    {
     "data": {
      "text/html": [
       "<div>\n",
       "<style scoped>\n",
       "    .dataframe tbody tr th:only-of-type {\n",
       "        vertical-align: middle;\n",
       "    }\n",
       "\n",
       "    .dataframe tbody tr th {\n",
       "        vertical-align: top;\n",
       "    }\n",
       "\n",
       "    .dataframe thead th {\n",
       "        text-align: right;\n",
       "    }\n",
       "</style>\n",
       "<table border=\"1\" class=\"dataframe\">\n",
       "  <thead>\n",
       "    <tr style=\"text-align: right;\">\n",
       "      <th></th>\n",
       "      <th>user_id</th>\n",
       "      <th>distance</th>\n",
       "      <th>duration</th>\n",
       "      <th>date</th>\n",
       "    </tr>\n",
       "  </thead>\n",
       "  <tbody>\n",
       "    <tr>\n",
       "      <th>0</th>\n",
       "      <td>1</td>\n",
       "      <td>4409.919140</td>\n",
       "      <td>25.599769</td>\n",
       "      <td>2021-01-01</td>\n",
       "    </tr>\n",
       "    <tr>\n",
       "      <th>1</th>\n",
       "      <td>1</td>\n",
       "      <td>2617.592153</td>\n",
       "      <td>15.816871</td>\n",
       "      <td>2021-01-18</td>\n",
       "    </tr>\n",
       "    <tr>\n",
       "      <th>2</th>\n",
       "      <td>1</td>\n",
       "      <td>754.159807</td>\n",
       "      <td>6.232113</td>\n",
       "      <td>2021-04-20</td>\n",
       "    </tr>\n",
       "    <tr>\n",
       "      <th>3</th>\n",
       "      <td>1</td>\n",
       "      <td>2694.783254</td>\n",
       "      <td>18.511000</td>\n",
       "      <td>2021-08-11</td>\n",
       "    </tr>\n",
       "    <tr>\n",
       "      <th>4</th>\n",
       "      <td>1</td>\n",
       "      <td>4028.687306</td>\n",
       "      <td>26.265803</td>\n",
       "      <td>2021-08-28</td>\n",
       "    </tr>\n",
       "  </tbody>\n",
       "</table>\n",
       "</div>"
      ],
      "text/plain": [
       "   user_id     distance   duration        date\n",
       "0        1  4409.919140  25.599769  2021-01-01\n",
       "1        1  2617.592153  15.816871  2021-01-18\n",
       "2        1   754.159807   6.232113  2021-04-20\n",
       "3        1  2694.783254  18.511000  2021-08-11\n",
       "4        1  4028.687306  26.265803  2021-08-28"
      ]
     },
     "metadata": {},
     "output_type": "display_data"
    },
    {
     "name": "stdout",
     "output_type": "stream",
     "text": [
      "<class 'pandas.core.frame.DataFrame'>\n",
      "RangeIndex: 18068 entries, 0 to 18067\n",
      "Data columns (total 4 columns):\n",
      " #   Column    Non-Null Count  Dtype  \n",
      "---  ------    --------------  -----  \n",
      " 0   user_id   18068 non-null  int64  \n",
      " 1   distance  18068 non-null  float64\n",
      " 2   duration  18068 non-null  float64\n",
      " 3   date      18068 non-null  object \n",
      "dtypes: float64(2), int64(1), object(1)\n",
      "memory usage: 564.8+ KB\n",
      "Количество дубликатов - 0\n"
     ]
    },
    {
     "data": {
      "text/html": [
       "<div>\n",
       "<style scoped>\n",
       "    .dataframe tbody tr th:only-of-type {\n",
       "        vertical-align: middle;\n",
       "    }\n",
       "\n",
       "    .dataframe tbody tr th {\n",
       "        vertical-align: top;\n",
       "    }\n",
       "\n",
       "    .dataframe thead th {\n",
       "        text-align: right;\n",
       "    }\n",
       "</style>\n",
       "<table border=\"1\" class=\"dataframe\">\n",
       "  <thead>\n",
       "    <tr style=\"text-align: right;\">\n",
       "      <th></th>\n",
       "      <th>user_id</th>\n",
       "      <th>distance</th>\n",
       "      <th>duration</th>\n",
       "    </tr>\n",
       "  </thead>\n",
       "  <tbody>\n",
       "    <tr>\n",
       "      <th>count</th>\n",
       "      <td>18068.000000</td>\n",
       "      <td>18068.000000</td>\n",
       "      <td>18068.000000</td>\n",
       "    </tr>\n",
       "    <tr>\n",
       "      <th>mean</th>\n",
       "      <td>842.869936</td>\n",
       "      <td>3070.659976</td>\n",
       "      <td>17.805011</td>\n",
       "    </tr>\n",
       "    <tr>\n",
       "      <th>std</th>\n",
       "      <td>434.734317</td>\n",
       "      <td>1116.831209</td>\n",
       "      <td>6.091051</td>\n",
       "    </tr>\n",
       "    <tr>\n",
       "      <th>min</th>\n",
       "      <td>1.000000</td>\n",
       "      <td>0.855683</td>\n",
       "      <td>0.500000</td>\n",
       "    </tr>\n",
       "    <tr>\n",
       "      <th>25%</th>\n",
       "      <td>487.000000</td>\n",
       "      <td>2543.226360</td>\n",
       "      <td>13.597563</td>\n",
       "    </tr>\n",
       "    <tr>\n",
       "      <th>50%</th>\n",
       "      <td>889.000000</td>\n",
       "      <td>3133.609994</td>\n",
       "      <td>17.678395</td>\n",
       "    </tr>\n",
       "    <tr>\n",
       "      <th>75%</th>\n",
       "      <td>1213.250000</td>\n",
       "      <td>3776.222735</td>\n",
       "      <td>21.724800</td>\n",
       "    </tr>\n",
       "    <tr>\n",
       "      <th>max</th>\n",
       "      <td>1534.000000</td>\n",
       "      <td>7211.007745</td>\n",
       "      <td>40.823963</td>\n",
       "    </tr>\n",
       "  </tbody>\n",
       "</table>\n",
       "</div>"
      ],
      "text/plain": [
       "            user_id      distance      duration\n",
       "count  18068.000000  18068.000000  18068.000000\n",
       "mean     842.869936   3070.659976     17.805011\n",
       "std      434.734317   1116.831209      6.091051\n",
       "min        1.000000      0.855683      0.500000\n",
       "25%      487.000000   2543.226360     13.597563\n",
       "50%      889.000000   3133.609994     17.678395\n",
       "75%     1213.250000   3776.222735     21.724800\n",
       "max     1534.000000   7211.007745     40.823963"
      ]
     },
     "metadata": {},
     "output_type": "display_data"
    },
    {
     "data": {
      "text/plain": [
       "2021-12-22    72\n",
       "2021-01-12    70\n",
       "2021-12-27    69\n",
       "2021-06-09    67\n",
       "2021-08-20    67\n",
       "              ..\n",
       "2021-07-30    35\n",
       "2021-11-07    35\n",
       "2021-02-02    34\n",
       "2021-12-15    34\n",
       "2021-07-03    31\n",
       "Name: date, Length: 364, dtype: int64"
      ]
     },
     "metadata": {},
     "output_type": "display_data"
    },
    {
     "name": "stdout",
     "output_type": "stream",
     "text": [
      "**************************************************\n"
     ]
    },
    {
     "data": {
      "text/html": [
       "<div>\n",
       "<style scoped>\n",
       "    .dataframe tbody tr th:only-of-type {\n",
       "        vertical-align: middle;\n",
       "    }\n",
       "\n",
       "    .dataframe tbody tr th {\n",
       "        vertical-align: top;\n",
       "    }\n",
       "\n",
       "    .dataframe thead th {\n",
       "        text-align: right;\n",
       "    }\n",
       "</style>\n",
       "<table border=\"1\" class=\"dataframe\">\n",
       "  <thead>\n",
       "    <tr style=\"text-align: right;\">\n",
       "      <th></th>\n",
       "      <th>subscription_type</th>\n",
       "      <th>minute_price</th>\n",
       "      <th>start_ride_price</th>\n",
       "      <th>subscription_fee</th>\n",
       "    </tr>\n",
       "  </thead>\n",
       "  <tbody>\n",
       "    <tr>\n",
       "      <th>0</th>\n",
       "      <td>free</td>\n",
       "      <td>8</td>\n",
       "      <td>50</td>\n",
       "      <td>0</td>\n",
       "    </tr>\n",
       "    <tr>\n",
       "      <th>1</th>\n",
       "      <td>ultra</td>\n",
       "      <td>6</td>\n",
       "      <td>0</td>\n",
       "      <td>199</td>\n",
       "    </tr>\n",
       "  </tbody>\n",
       "</table>\n",
       "</div>"
      ],
      "text/plain": [
       "  subscription_type  minute_price  start_ride_price  subscription_fee\n",
       "0              free             8                50                 0\n",
       "1             ultra             6                 0               199"
      ]
     },
     "metadata": {},
     "output_type": "display_data"
    },
    {
     "name": "stdout",
     "output_type": "stream",
     "text": [
      "<class 'pandas.core.frame.DataFrame'>\n",
      "RangeIndex: 2 entries, 0 to 1\n",
      "Data columns (total 4 columns):\n",
      " #   Column             Non-Null Count  Dtype \n",
      "---  ------             --------------  ----- \n",
      " 0   subscription_type  2 non-null      object\n",
      " 1   minute_price       2 non-null      int64 \n",
      " 2   start_ride_price   2 non-null      int64 \n",
      " 3   subscription_fee   2 non-null      int64 \n",
      "dtypes: int64(3), object(1)\n",
      "memory usage: 192.0+ bytes\n",
      "Количество дубликатов - 0\n"
     ]
    },
    {
     "data": {
      "text/html": [
       "<div>\n",
       "<style scoped>\n",
       "    .dataframe tbody tr th:only-of-type {\n",
       "        vertical-align: middle;\n",
       "    }\n",
       "\n",
       "    .dataframe tbody tr th {\n",
       "        vertical-align: top;\n",
       "    }\n",
       "\n",
       "    .dataframe thead th {\n",
       "        text-align: right;\n",
       "    }\n",
       "</style>\n",
       "<table border=\"1\" class=\"dataframe\">\n",
       "  <thead>\n",
       "    <tr style=\"text-align: right;\">\n",
       "      <th></th>\n",
       "      <th>minute_price</th>\n",
       "      <th>start_ride_price</th>\n",
       "      <th>subscription_fee</th>\n",
       "    </tr>\n",
       "  </thead>\n",
       "  <tbody>\n",
       "    <tr>\n",
       "      <th>count</th>\n",
       "      <td>2.000000</td>\n",
       "      <td>2.000000</td>\n",
       "      <td>2.000000</td>\n",
       "    </tr>\n",
       "    <tr>\n",
       "      <th>mean</th>\n",
       "      <td>7.000000</td>\n",
       "      <td>25.000000</td>\n",
       "      <td>99.500000</td>\n",
       "    </tr>\n",
       "    <tr>\n",
       "      <th>std</th>\n",
       "      <td>1.414214</td>\n",
       "      <td>35.355339</td>\n",
       "      <td>140.714249</td>\n",
       "    </tr>\n",
       "    <tr>\n",
       "      <th>min</th>\n",
       "      <td>6.000000</td>\n",
       "      <td>0.000000</td>\n",
       "      <td>0.000000</td>\n",
       "    </tr>\n",
       "    <tr>\n",
       "      <th>25%</th>\n",
       "      <td>6.500000</td>\n",
       "      <td>12.500000</td>\n",
       "      <td>49.750000</td>\n",
       "    </tr>\n",
       "    <tr>\n",
       "      <th>50%</th>\n",
       "      <td>7.000000</td>\n",
       "      <td>25.000000</td>\n",
       "      <td>99.500000</td>\n",
       "    </tr>\n",
       "    <tr>\n",
       "      <th>75%</th>\n",
       "      <td>7.500000</td>\n",
       "      <td>37.500000</td>\n",
       "      <td>149.250000</td>\n",
       "    </tr>\n",
       "    <tr>\n",
       "      <th>max</th>\n",
       "      <td>8.000000</td>\n",
       "      <td>50.000000</td>\n",
       "      <td>199.000000</td>\n",
       "    </tr>\n",
       "  </tbody>\n",
       "</table>\n",
       "</div>"
      ],
      "text/plain": [
       "       minute_price  start_ride_price  subscription_fee\n",
       "count      2.000000          2.000000          2.000000\n",
       "mean       7.000000         25.000000         99.500000\n",
       "std        1.414214         35.355339        140.714249\n",
       "min        6.000000          0.000000          0.000000\n",
       "25%        6.500000         12.500000         49.750000\n",
       "50%        7.000000         25.000000         99.500000\n",
       "75%        7.500000         37.500000        149.250000\n",
       "max        8.000000         50.000000        199.000000"
      ]
     },
     "metadata": {},
     "output_type": "display_data"
    },
    {
     "data": {
      "text/plain": [
       "ultra    1\n",
       "free     1\n",
       "Name: subscription_type, dtype: int64"
      ]
     },
     "metadata": {},
     "output_type": "display_data"
    },
    {
     "name": "stdout",
     "output_type": "stream",
     "text": [
      "**************************************************\n"
     ]
    }
   ],
   "source": [
    "def inspect(df):\n",
    "    display(df.head()) \n",
    "    df.info() \n",
    "    print ('Количество дубликатов -', df.duplicated().sum())\n",
    "    numeric_columns=df.describe().columns\n",
    "    display(df.describe())\n",
    "    display()\n",
    "    df.columns = [x.lower().replace(' ', '_') for x in df.columns.values]\n",
    "    for column_name in df.columns:\n",
    "        if column_name not in numeric_columns:\n",
    "            if 'session' in column_name or 'dt' in column_name:\n",
    "                df[column_name] = pd.to_datetime(df[column_name])\n",
    "            else:\n",
    "                display(df[column_name].value_counts())\n",
    "                print(50*'*')\n",
    "    return df\n",
    "users = inspect(users)\n",
    "riders = inspect(riders)\n",
    "subs = inspect(subs)"
   ]
  },
  {
   "cell_type": "markdown",
   "id": "6eed85ea",
   "metadata": {},
   "source": [
    "В датафрейме *users есть 31 дубликат. Если их удалить, то в целом, эти строки не повлияют на результаты дальнейшего анализа данных. В остальном, дубликатов больше нигде не обнаружено. Колонка date* в датафрейме *riders* имеет тип object. Нужно будет изменить тип данных на datetime."
   ]
  },
  {
   "cell_type": "markdown",
   "id": "fd53c075",
   "metadata": {},
   "source": [
    "***Для наглядности построим гистограммы по данным users***"
   ]
  },
  {
   "cell_type": "code",
   "execution_count": 5,
   "id": "52aad555",
   "metadata": {
    "scrolled": true
   },
   "outputs": [
    {
     "data": {
      "image/png": "[encoded data removed]",
      "text/plain": [
       "<Figure size 720x360 with 2 Axes>"
      ]
     },
     "metadata": {
      "needs_background": "light"
     },
     "output_type": "display_data"
    }
   ],
   "source": [
    "users.hist(figsize=(10, 5));"
   ]
  },
  {
   "cell_type": "markdown",
   "id": "24203e0a",
   "metadata": {},
   "source": [
    "***Для наглядности построим гистограммы по данным riders***"
   ]
  },
  {
   "cell_type": "code",
   "execution_count": 6,
   "id": "7932b63a",
   "metadata": {
    "scrolled": false
   },
   "outputs": [
    {
     "data": {
      "image/png": "[encoded data removed]",
      "text/plain": [
       "<Figure size 720x360 with 4 Axes>"
      ]
     },
     "metadata": {
      "needs_background": "light"
     },
     "output_type": "display_data"
    }
   ],
   "source": [
    "riders.hist(figsize=(10, 5));"
   ]
  },
  {
   "cell_type": "markdown",
   "id": "3bdf1b3e",
   "metadata": {},
   "source": [
    "В датафрейме users присутствует 5 столбцов, он состоит и 1565 строк. Вес 61.3+KB. Пропуски отсутствуют. Имеются дубликаты в количестве 31, которые будут удалены.\n",
    "    \n",
    "В датафрейме riders присутствует 4 столбца, он состоит из 18068 строк. Вес 564.8+KB. Дубликатов не обнаружено, пропусков нет.\n",
    "    \n",
    "В датафрейме subs присутствует 4 столбца, он состоит из 2 строк. Вес 192.0+bytes. Дубликатов не обнаружено, пропусков нет.\n",
    "\n",
    "Названия столбцов соответствуют 'змеиному' стилю - тут все в порядке и в корректировке не нуждаются."
   ]
  },
  {
   "cell_type": "markdown",
   "id": "6e581d60",
   "metadata": {},
   "source": [
    "#### Шаг 2. Предобработка данных"
   ]
  },
  {
   "cell_type": "markdown",
   "id": "6c70bf67",
   "metadata": {},
   "source": [
    "***Изменим настройки отображения***"
   ]
  },
  {
   "cell_type": "code",
   "execution_count": 7,
   "id": "8083d70e",
   "metadata": {},
   "outputs": [],
   "source": [
    "pd.options.display.float_format = '{:,.2f}'.format"
   ]
  },
  {
   "cell_type": "markdown",
   "id": "879aad06",
   "metadata": {},
   "source": [
    "***Приведём формат даты и времени к удобному виду***"
   ]
  },
  {
   "cell_type": "code",
   "execution_count": 8,
   "id": "c8e85f9c",
   "metadata": {},
   "outputs": [],
   "source": [
    "riders['date'] = pd.to_datetime(riders['date'])\n",
    "riders['month']= pd.to_datetime(riders['date']).dt.strftime('%Y-%m')\n",
    "riders['year'] = pd.to_datetime(riders['date']).dt.strftime('%Y')"
   ]
  },
  {
   "cell_type": "markdown",
   "id": "35b582c4",
   "metadata": {},
   "source": [
    "***Проверим, за какой период предоставлены данные***"
   ]
  },
  {
   "cell_type": "code",
   "execution_count": 9,
   "id": "2c8ce197",
   "metadata": {
    "scrolled": true
   },
   "outputs": [
    {
     "data": {
      "text/plain": [
       "array([2021])"
      ]
     },
     "execution_count": 9,
     "metadata": {},
     "output_type": "execute_result"
    }
   ],
   "source": [
    "riders['date'].dt.year.unique()"
   ]
  },
  {
   "cell_type": "markdown",
   "id": "7e1814d3",
   "metadata": {},
   "source": [
    "Данные предоставлены только за 2021 год."
   ]
  },
  {
   "cell_type": "markdown",
   "id": "7a9a6825",
   "metadata": {},
   "source": [
    "***Удаляем дубликаты из датафрейма users, столбец user_id***"
   ]
  },
  {
   "cell_type": "code",
   "execution_count": 10,
   "id": "b17d90c1",
   "metadata": {},
   "outputs": [],
   "source": [
    "users.drop_duplicates(inplace=True)"
   ]
  },
  {
   "cell_type": "code",
   "execution_count": 11,
   "id": "b411036e",
   "metadata": {},
   "outputs": [
    {
     "data": {
      "text/plain": [
       "0"
      ]
     },
     "execution_count": 11,
     "metadata": {},
     "output_type": "execute_result"
    }
   ],
   "source": [
    "users.duplicated().sum()"
   ]
  },
  {
   "cell_type": "markdown",
   "id": "15c173c3",
   "metadata": {},
   "source": [
    "***Проверим снова, как изменились данные***"
   ]
  },
  {
   "cell_type": "code",
   "execution_count": 12,
   "id": "2ec08b3d",
   "metadata": {},
   "outputs": [
    {
     "data": {
      "text/html": [
       "<div>\n",
       "<style scoped>\n",
       "    .dataframe tbody tr th:only-of-type {\n",
       "        vertical-align: middle;\n",
       "    }\n",
       "\n",
       "    .dataframe tbody tr th {\n",
       "        vertical-align: top;\n",
       "    }\n",
       "\n",
       "    .dataframe thead th {\n",
       "        text-align: right;\n",
       "    }\n",
       "</style>\n",
       "<table border=\"1\" class=\"dataframe\">\n",
       "  <thead>\n",
       "    <tr style=\"text-align: right;\">\n",
       "      <th></th>\n",
       "      <th>user_id</th>\n",
       "      <th>name</th>\n",
       "      <th>age</th>\n",
       "      <th>city</th>\n",
       "      <th>subscription_type</th>\n",
       "    </tr>\n",
       "  </thead>\n",
       "  <tbody>\n",
       "    <tr>\n",
       "      <th>0</th>\n",
       "      <td>1</td>\n",
       "      <td>Кира</td>\n",
       "      <td>22</td>\n",
       "      <td>Тюмень</td>\n",
       "      <td>ultra</td>\n",
       "    </tr>\n",
       "    <tr>\n",
       "      <th>1</th>\n",
       "      <td>2</td>\n",
       "      <td>Станислав</td>\n",
       "      <td>31</td>\n",
       "      <td>Омск</td>\n",
       "      <td>ultra</td>\n",
       "    </tr>\n",
       "    <tr>\n",
       "      <th>2</th>\n",
       "      <td>3</td>\n",
       "      <td>Алексей</td>\n",
       "      <td>20</td>\n",
       "      <td>Москва</td>\n",
       "      <td>ultra</td>\n",
       "    </tr>\n",
       "    <tr>\n",
       "      <th>3</th>\n",
       "      <td>4</td>\n",
       "      <td>Константин</td>\n",
       "      <td>26</td>\n",
       "      <td>Ростов-на-Дону</td>\n",
       "      <td>ultra</td>\n",
       "    </tr>\n",
       "    <tr>\n",
       "      <th>4</th>\n",
       "      <td>5</td>\n",
       "      <td>Адель</td>\n",
       "      <td>28</td>\n",
       "      <td>Омск</td>\n",
       "      <td>ultra</td>\n",
       "    </tr>\n",
       "  </tbody>\n",
       "</table>\n",
       "</div>"
      ],
      "text/plain": [
       "   user_id        name  age            city subscription_type\n",
       "0        1        Кира   22          Тюмень             ultra\n",
       "1        2   Станислав   31            Омск             ultra\n",
       "2        3     Алексей   20          Москва             ultra\n",
       "3        4  Константин   26  Ростов-на-Дону             ultra\n",
       "4        5       Адель   28            Омск             ultra"
      ]
     },
     "metadata": {},
     "output_type": "display_data"
    },
    {
     "name": "stdout",
     "output_type": "stream",
     "text": [
      "<class 'pandas.core.frame.DataFrame'>\n",
      "Int64Index: 1534 entries, 0 to 1533\n",
      "Data columns (total 5 columns):\n",
      " #   Column             Non-Null Count  Dtype \n",
      "---  ------             --------------  ----- \n",
      " 0   user_id            1534 non-null   int64 \n",
      " 1   name               1534 non-null   object\n",
      " 2   age                1534 non-null   int64 \n",
      " 3   city               1534 non-null   object\n",
      " 4   subscription_type  1534 non-null   object\n",
      "dtypes: int64(2), object(3)\n",
      "memory usage: 71.9+ KB\n",
      "Количество дубликатов - 0\n"
     ]
    },
    {
     "data": {
      "text/html": [
       "<div>\n",
       "<style scoped>\n",
       "    .dataframe tbody tr th:only-of-type {\n",
       "        vertical-align: middle;\n",
       "    }\n",
       "\n",
       "    .dataframe tbody tr th {\n",
       "        vertical-align: top;\n",
       "    }\n",
       "\n",
       "    .dataframe thead th {\n",
       "        text-align: right;\n",
       "    }\n",
       "</style>\n",
       "<table border=\"1\" class=\"dataframe\">\n",
       "  <thead>\n",
       "    <tr style=\"text-align: right;\">\n",
       "      <th></th>\n",
       "      <th>user_id</th>\n",
       "      <th>age</th>\n",
       "    </tr>\n",
       "  </thead>\n",
       "  <tbody>\n",
       "    <tr>\n",
       "      <th>count</th>\n",
       "      <td>1,534.00</td>\n",
       "      <td>1,534.00</td>\n",
       "    </tr>\n",
       "    <tr>\n",
       "      <th>mean</th>\n",
       "      <td>767.50</td>\n",
       "      <td>24.90</td>\n",
       "    </tr>\n",
       "    <tr>\n",
       "      <th>std</th>\n",
       "      <td>442.97</td>\n",
       "      <td>4.57</td>\n",
       "    </tr>\n",
       "    <tr>\n",
       "      <th>min</th>\n",
       "      <td>1.00</td>\n",
       "      <td>12.00</td>\n",
       "    </tr>\n",
       "    <tr>\n",
       "      <th>25%</th>\n",
       "      <td>384.25</td>\n",
       "      <td>22.00</td>\n",
       "    </tr>\n",
       "    <tr>\n",
       "      <th>50%</th>\n",
       "      <td>767.50</td>\n",
       "      <td>25.00</td>\n",
       "    </tr>\n",
       "    <tr>\n",
       "      <th>75%</th>\n",
       "      <td>1,150.75</td>\n",
       "      <td>28.00</td>\n",
       "    </tr>\n",
       "    <tr>\n",
       "      <th>max</th>\n",
       "      <td>1,534.00</td>\n",
       "      <td>43.00</td>\n",
       "    </tr>\n",
       "  </tbody>\n",
       "</table>\n",
       "</div>"
      ],
      "text/plain": [
       "       user_id      age\n",
       "count 1,534.00 1,534.00\n",
       "mean    767.50    24.90\n",
       "std     442.97     4.57\n",
       "min       1.00    12.00\n",
       "25%     384.25    22.00\n",
       "50%     767.50    25.00\n",
       "75%   1,150.75    28.00\n",
       "max   1,534.00    43.00"
      ]
     },
     "metadata": {},
     "output_type": "display_data"
    },
    {
     "data": {
      "text/plain": [
       "Анна         22\n",
       "Мария        22\n",
       "Дмитрий      17\n",
       "Александр    17\n",
       "Никита       16\n",
       "             ..\n",
       "Матвей        3\n",
       "Семен         2\n",
       "Радмир        1\n",
       "Тихон         1\n",
       "Милана        1\n",
       "Name: name, Length: 194, dtype: int64"
      ]
     },
     "metadata": {},
     "output_type": "display_data"
    },
    {
     "name": "stdout",
     "output_type": "stream",
     "text": [
      "**************************************************\n"
     ]
    },
    {
     "data": {
      "text/plain": [
       "Пятигорск         219\n",
       "Екатеринбург      204\n",
       "Ростов-на-Дону    198\n",
       "Краснодар         193\n",
       "Сочи              189\n",
       "Омск              183\n",
       "Тюмень            180\n",
       "Москва            168\n",
       "Name: city, dtype: int64"
      ]
     },
     "metadata": {},
     "output_type": "display_data"
    },
    {
     "name": "stdout",
     "output_type": "stream",
     "text": [
      "**************************************************\n"
     ]
    },
    {
     "data": {
      "text/plain": [
       "free     835\n",
       "ultra    699\n",
       "Name: subscription_type, dtype: int64"
      ]
     },
     "metadata": {},
     "output_type": "display_data"
    },
    {
     "name": "stdout",
     "output_type": "stream",
     "text": [
      "**************************************************\n"
     ]
    },
    {
     "data": {
      "text/html": [
       "<div>\n",
       "<style scoped>\n",
       "    .dataframe tbody tr th:only-of-type {\n",
       "        vertical-align: middle;\n",
       "    }\n",
       "\n",
       "    .dataframe tbody tr th {\n",
       "        vertical-align: top;\n",
       "    }\n",
       "\n",
       "    .dataframe thead th {\n",
       "        text-align: right;\n",
       "    }\n",
       "</style>\n",
       "<table border=\"1\" class=\"dataframe\">\n",
       "  <thead>\n",
       "    <tr style=\"text-align: right;\">\n",
       "      <th></th>\n",
       "      <th>user_id</th>\n",
       "      <th>distance</th>\n",
       "      <th>duration</th>\n",
       "      <th>date</th>\n",
       "      <th>month</th>\n",
       "      <th>year</th>\n",
       "    </tr>\n",
       "  </thead>\n",
       "  <tbody>\n",
       "    <tr>\n",
       "      <th>0</th>\n",
       "      <td>1</td>\n",
       "      <td>4,409.92</td>\n",
       "      <td>25.60</td>\n",
       "      <td>2021-01-01</td>\n",
       "      <td>2021-01</td>\n",
       "      <td>2021</td>\n",
       "    </tr>\n",
       "    <tr>\n",
       "      <th>1</th>\n",
       "      <td>1</td>\n",
       "      <td>2,617.59</td>\n",
       "      <td>15.82</td>\n",
       "      <td>2021-01-18</td>\n",
       "      <td>2021-01</td>\n",
       "      <td>2021</td>\n",
       "    </tr>\n",
       "    <tr>\n",
       "      <th>2</th>\n",
       "      <td>1</td>\n",
       "      <td>754.16</td>\n",
       "      <td>6.23</td>\n",
       "      <td>2021-04-20</td>\n",
       "      <td>2021-04</td>\n",
       "      <td>2021</td>\n",
       "    </tr>\n",
       "    <tr>\n",
       "      <th>3</th>\n",
       "      <td>1</td>\n",
       "      <td>2,694.78</td>\n",
       "      <td>18.51</td>\n",
       "      <td>2021-08-11</td>\n",
       "      <td>2021-08</td>\n",
       "      <td>2021</td>\n",
       "    </tr>\n",
       "    <tr>\n",
       "      <th>4</th>\n",
       "      <td>1</td>\n",
       "      <td>4,028.69</td>\n",
       "      <td>26.27</td>\n",
       "      <td>2021-08-28</td>\n",
       "      <td>2021-08</td>\n",
       "      <td>2021</td>\n",
       "    </tr>\n",
       "  </tbody>\n",
       "</table>\n",
       "</div>"
      ],
      "text/plain": [
       "   user_id  distance  duration       date    month  year\n",
       "0        1  4,409.92     25.60 2021-01-01  2021-01  2021\n",
       "1        1  2,617.59     15.82 2021-01-18  2021-01  2021\n",
       "2        1    754.16      6.23 2021-04-20  2021-04  2021\n",
       "3        1  2,694.78     18.51 2021-08-11  2021-08  2021\n",
       "4        1  4,028.69     26.27 2021-08-28  2021-08  2021"
      ]
     },
     "metadata": {},
     "output_type": "display_data"
    },
    {
     "name": "stdout",
     "output_type": "stream",
     "text": [
      "<class 'pandas.core.frame.DataFrame'>\n",
      "RangeIndex: 18068 entries, 0 to 18067\n",
      "Data columns (total 6 columns):\n",
      " #   Column    Non-Null Count  Dtype         \n",
      "---  ------    --------------  -----         \n",
      " 0   user_id   18068 non-null  int64         \n",
      " 1   distance  18068 non-null  float64       \n",
      " 2   duration  18068 non-null  float64       \n",
      " 3   date      18068 non-null  datetime64[ns]\n",
      " 4   month     18068 non-null  object        \n",
      " 5   year      18068 non-null  object        \n",
      "dtypes: datetime64[ns](1), float64(2), int64(1), object(2)\n",
      "memory usage: 847.1+ KB\n",
      "Количество дубликатов - 0\n"
     ]
    },
    {
     "data": {
      "text/html": [
       "<div>\n",
       "<style scoped>\n",
       "    .dataframe tbody tr th:only-of-type {\n",
       "        vertical-align: middle;\n",
       "    }\n",
       "\n",
       "    .dataframe tbody tr th {\n",
       "        vertical-align: top;\n",
       "    }\n",
       "\n",
       "    .dataframe thead th {\n",
       "        text-align: right;\n",
       "    }\n",
       "</style>\n",
       "<table border=\"1\" class=\"dataframe\">\n",
       "  <thead>\n",
       "    <tr style=\"text-align: right;\">\n",
       "      <th></th>\n",
       "      <th>user_id</th>\n",
       "      <th>distance</th>\n",
       "      <th>duration</th>\n",
       "    </tr>\n",
       "  </thead>\n",
       "  <tbody>\n",
       "    <tr>\n",
       "      <th>count</th>\n",
       "      <td>18,068.00</td>\n",
       "      <td>18,068.00</td>\n",
       "      <td>18,068.00</td>\n",
       "    </tr>\n",
       "    <tr>\n",
       "      <th>mean</th>\n",
       "      <td>842.87</td>\n",
       "      <td>3,070.66</td>\n",
       "      <td>17.81</td>\n",
       "    </tr>\n",
       "    <tr>\n",
       "      <th>std</th>\n",
       "      <td>434.73</td>\n",
       "      <td>1,116.83</td>\n",
       "      <td>6.09</td>\n",
       "    </tr>\n",
       "    <tr>\n",
       "      <th>min</th>\n",
       "      <td>1.00</td>\n",
       "      <td>0.86</td>\n",
       "      <td>0.50</td>\n",
       "    </tr>\n",
       "    <tr>\n",
       "      <th>25%</th>\n",
       "      <td>487.00</td>\n",
       "      <td>2,543.23</td>\n",
       "      <td>13.60</td>\n",
       "    </tr>\n",
       "    <tr>\n",
       "      <th>50%</th>\n",
       "      <td>889.00</td>\n",
       "      <td>3,133.61</td>\n",
       "      <td>17.68</td>\n",
       "    </tr>\n",
       "    <tr>\n",
       "      <th>75%</th>\n",
       "      <td>1,213.25</td>\n",
       "      <td>3,776.22</td>\n",
       "      <td>21.72</td>\n",
       "    </tr>\n",
       "    <tr>\n",
       "      <th>max</th>\n",
       "      <td>1,534.00</td>\n",
       "      <td>7,211.01</td>\n",
       "      <td>40.82</td>\n",
       "    </tr>\n",
       "  </tbody>\n",
       "</table>\n",
       "</div>"
      ],
      "text/plain": [
       "        user_id  distance  duration\n",
       "count 18,068.00 18,068.00 18,068.00\n",
       "mean     842.87  3,070.66     17.81\n",
       "std      434.73  1,116.83      6.09\n",
       "min        1.00      0.86      0.50\n",
       "25%      487.00  2,543.23     13.60\n",
       "50%      889.00  3,133.61     17.68\n",
       "75%    1,213.25  3,776.22     21.72\n",
       "max    1,534.00  7,211.01     40.82"
      ]
     },
     "metadata": {},
     "output_type": "display_data"
    },
    {
     "data": {
      "text/plain": [
       "2021-12-22    72\n",
       "2021-01-12    70\n",
       "2021-12-27    69\n",
       "2021-08-20    67\n",
       "2021-06-09    67\n",
       "              ..\n",
       "2021-11-07    35\n",
       "2021-07-30    35\n",
       "2021-12-15    34\n",
       "2021-02-02    34\n",
       "2021-07-03    31\n",
       "Name: date, Length: 364, dtype: int64"
      ]
     },
     "metadata": {},
     "output_type": "display_data"
    },
    {
     "name": "stdout",
     "output_type": "stream",
     "text": [
      "**************************************************\n"
     ]
    },
    {
     "data": {
      "text/plain": [
       "2021-01    1585\n",
       "2021-05    1560\n",
       "2021-06    1553\n",
       "2021-03    1544\n",
       "2021-07    1529\n",
       "2021-12    1527\n",
       "2021-08    1518\n",
       "2021-09    1517\n",
       "2021-04    1506\n",
       "2021-10    1475\n",
       "2021-11    1418\n",
       "2021-02    1336\n",
       "Name: month, dtype: int64"
      ]
     },
     "metadata": {},
     "output_type": "display_data"
    },
    {
     "name": "stdout",
     "output_type": "stream",
     "text": [
      "**************************************************\n"
     ]
    },
    {
     "data": {
      "text/plain": [
       "2021    18068\n",
       "Name: year, dtype: int64"
      ]
     },
     "metadata": {},
     "output_type": "display_data"
    },
    {
     "name": "stdout",
     "output_type": "stream",
     "text": [
      "**************************************************\n"
     ]
    },
    {
     "data": {
      "text/html": [
       "<div>\n",
       "<style scoped>\n",
       "    .dataframe tbody tr th:only-of-type {\n",
       "        vertical-align: middle;\n",
       "    }\n",
       "\n",
       "    .dataframe tbody tr th {\n",
       "        vertical-align: top;\n",
       "    }\n",
       "\n",
       "    .dataframe thead th {\n",
       "        text-align: right;\n",
       "    }\n",
       "</style>\n",
       "<table border=\"1\" class=\"dataframe\">\n",
       "  <thead>\n",
       "    <tr style=\"text-align: right;\">\n",
       "      <th></th>\n",
       "      <th>subscription_type</th>\n",
       "      <th>minute_price</th>\n",
       "      <th>start_ride_price</th>\n",
       "      <th>subscription_fee</th>\n",
       "    </tr>\n",
       "  </thead>\n",
       "  <tbody>\n",
       "    <tr>\n",
       "      <th>0</th>\n",
       "      <td>free</td>\n",
       "      <td>8</td>\n",
       "      <td>50</td>\n",
       "      <td>0</td>\n",
       "    </tr>\n",
       "    <tr>\n",
       "      <th>1</th>\n",
       "      <td>ultra</td>\n",
       "      <td>6</td>\n",
       "      <td>0</td>\n",
       "      <td>199</td>\n",
       "    </tr>\n",
       "  </tbody>\n",
       "</table>\n",
       "</div>"
      ],
      "text/plain": [
       "  subscription_type  minute_price  start_ride_price  subscription_fee\n",
       "0              free             8                50                 0\n",
       "1             ultra             6                 0               199"
      ]
     },
     "metadata": {},
     "output_type": "display_data"
    },
    {
     "name": "stdout",
     "output_type": "stream",
     "text": [
      "<class 'pandas.core.frame.DataFrame'>\n",
      "RangeIndex: 2 entries, 0 to 1\n",
      "Data columns (total 4 columns):\n",
      " #   Column             Non-Null Count  Dtype \n",
      "---  ------             --------------  ----- \n",
      " 0   subscription_type  2 non-null      object\n",
      " 1   minute_price       2 non-null      int64 \n",
      " 2   start_ride_price   2 non-null      int64 \n",
      " 3   subscription_fee   2 non-null      int64 \n",
      "dtypes: int64(3), object(1)\n",
      "memory usage: 192.0+ bytes\n",
      "Количество дубликатов - 0\n"
     ]
    },
    {
     "data": {
      "text/html": [
       "<div>\n",
       "<style scoped>\n",
       "    .dataframe tbody tr th:only-of-type {\n",
       "        vertical-align: middle;\n",
       "    }\n",
       "\n",
       "    .dataframe tbody tr th {\n",
       "        vertical-align: top;\n",
       "    }\n",
       "\n",
       "    .dataframe thead th {\n",
       "        text-align: right;\n",
       "    }\n",
       "</style>\n",
       "<table border=\"1\" class=\"dataframe\">\n",
       "  <thead>\n",
       "    <tr style=\"text-align: right;\">\n",
       "      <th></th>\n",
       "      <th>minute_price</th>\n",
       "      <th>start_ride_price</th>\n",
       "      <th>subscription_fee</th>\n",
       "    </tr>\n",
       "  </thead>\n",
       "  <tbody>\n",
       "    <tr>\n",
       "      <th>count</th>\n",
       "      <td>2.00</td>\n",
       "      <td>2.00</td>\n",
       "      <td>2.00</td>\n",
       "    </tr>\n",
       "    <tr>\n",
       "      <th>mean</th>\n",
       "      <td>7.00</td>\n",
       "      <td>25.00</td>\n",
       "      <td>99.50</td>\n",
       "    </tr>\n",
       "    <tr>\n",
       "      <th>std</th>\n",
       "      <td>1.41</td>\n",
       "      <td>35.36</td>\n",
       "      <td>140.71</td>\n",
       "    </tr>\n",
       "    <tr>\n",
       "      <th>min</th>\n",
       "      <td>6.00</td>\n",
       "      <td>0.00</td>\n",
       "      <td>0.00</td>\n",
       "    </tr>\n",
       "    <tr>\n",
       "      <th>25%</th>\n",
       "      <td>6.50</td>\n",
       "      <td>12.50</td>\n",
       "      <td>49.75</td>\n",
       "    </tr>\n",
       "    <tr>\n",
       "      <th>50%</th>\n",
       "      <td>7.00</td>\n",
       "      <td>25.00</td>\n",
       "      <td>99.50</td>\n",
       "    </tr>\n",
       "    <tr>\n",
       "      <th>75%</th>\n",
       "      <td>7.50</td>\n",
       "      <td>37.50</td>\n",
       "      <td>149.25</td>\n",
       "    </tr>\n",
       "    <tr>\n",
       "      <th>max</th>\n",
       "      <td>8.00</td>\n",
       "      <td>50.00</td>\n",
       "      <td>199.00</td>\n",
       "    </tr>\n",
       "  </tbody>\n",
       "</table>\n",
       "</div>"
      ],
      "text/plain": [
       "       minute_price  start_ride_price  subscription_fee\n",
       "count          2.00              2.00              2.00\n",
       "mean           7.00             25.00             99.50\n",
       "std            1.41             35.36            140.71\n",
       "min            6.00              0.00              0.00\n",
       "25%            6.50             12.50             49.75\n",
       "50%            7.00             25.00             99.50\n",
       "75%            7.50             37.50            149.25\n",
       "max            8.00             50.00            199.00"
      ]
     },
     "metadata": {},
     "output_type": "display_data"
    },
    {
     "data": {
      "text/plain": [
       "ultra    1\n",
       "free     1\n",
       "Name: subscription_type, dtype: int64"
      ]
     },
     "metadata": {},
     "output_type": "display_data"
    },
    {
     "name": "stdout",
     "output_type": "stream",
     "text": [
      "**************************************************\n"
     ]
    }
   ],
   "source": [
    "def inspect(df):\n",
    "    display(df.head()) \n",
    "    df.info() \n",
    "    print ('Количество дубликатов -', df.duplicated().sum())\n",
    "    numeric_columns=df.describe().columns\n",
    "    display(df.describe())\n",
    "    display()\n",
    "    df.columns = [x.lower().replace(' ', '_') for x in df.columns.values]\n",
    "    for column_name in df.columns:\n",
    "        if column_name not in numeric_columns:\n",
    "            if 'session' in column_name or 'dt' in column_name:\n",
    "                df[column_name] = pd.to_datetime(df[column_name])\n",
    "            else:\n",
    "                display(df[column_name].value_counts())\n",
    "                print(50*'*')\n",
    "    return df\n",
    "users = inspect(users)\n",
    "riders = inspect(riders)\n",
    "subs = inspect(subs)"
   ]
  },
  {
   "cell_type": "markdown",
   "id": "dc2aeb05",
   "metadata": {},
   "source": [
    "***Вывод:***\n",
    "\n",
    "Пропущенных данных в таблицах нет.\n",
    "\n",
    "Дубликаты были среди пользователей, сейчас удалены.\n",
    "\n",
    "Добавили столбец month и year."
   ]
  },
  {
   "cell_type": "markdown",
   "id": "0da8c025",
   "metadata": {},
   "source": [
    "#### Шаг 3. Исследовательский анализ данных"
   ]
  },
  {
   "cell_type": "markdown",
   "id": "c248d305",
   "metadata": {},
   "source": [
    "***Частота встречаемости городов***"
   ]
  },
  {
   "cell_type": "code",
   "execution_count": 13,
   "id": "fce23006",
   "metadata": {},
   "outputs": [],
   "source": [
    "users_by_city = users['city'].value_counts()"
   ]
  },
  {
   "cell_type": "code",
   "execution_count": 14,
   "id": "754baa12",
   "metadata": {},
   "outputs": [
    {
     "data": {
      "text/plain": [
       "Пятигорск         219\n",
       "Екатеринбург      204\n",
       "Ростов-на-Дону    198\n",
       "Краснодар         193\n",
       "Сочи              189\n",
       "Омск              183\n",
       "Тюмень            180\n",
       "Москва            168\n",
       "Name: city, dtype: int64"
      ]
     },
     "execution_count": 14,
     "metadata": {},
     "output_type": "execute_result"
    }
   ],
   "source": [
    "users_by_city"
   ]
  },
  {
   "cell_type": "markdown",
   "id": "5850701f",
   "metadata": {},
   "source": [
    "Лидером является Пятигорск (219). Следом идут Екатеринбург (204), Ростов-на-Дону (198) и Краснодар (193). \n",
    "\n",
    "Замыкает рейтинг Москва (168)."
   ]
  },
  {
   "cell_type": "markdown",
   "id": "21b41407",
   "metadata": {},
   "source": [
    "***Построим визуализацию***"
   ]
  },
  {
   "cell_type": "code",
   "execution_count": 15,
   "id": "475e2278",
   "metadata": {},
   "outputs": [
    {
     "data": {
      "image/png": "[encoded data removed]",
      "text/plain": [
       "<Figure size 432x288 with 1 Axes>"
      ]
     },
     "metadata": {
      "needs_background": "light"
     },
     "output_type": "display_data"
    }
   ],
   "source": [
    "users_by_city = users['city'].value_counts(ascending = True).plot.barh()\n",
    "plt.ylabel('Города')\n",
    "plt.title('Рейтинг городов по количеству используемых самокатов')\n",
    "plt.show()"
   ]
  },
  {
   "cell_type": "markdown",
   "id": "c3ec70a0",
   "metadata": {},
   "source": [
    "***Соотношение пользователей с подпиской и без подписки***"
   ]
  },
  {
   "cell_type": "code",
   "execution_count": 16,
   "id": "bf406dee",
   "metadata": {},
   "outputs": [
    {
     "data": {
      "text/plain": [
       "free     835\n",
       "ultra    699\n",
       "Name: subscription_type, dtype: int64"
      ]
     },
     "execution_count": 16,
     "metadata": {},
     "output_type": "execute_result"
    }
   ],
   "source": [
    "users['subscription_type'].value_counts()"
   ]
  },
  {
   "cell_type": "markdown",
   "id": "58327908",
   "metadata": {},
   "source": [
    "С подпиской пользователей меньше на 136."
   ]
  },
  {
   "cell_type": "markdown",
   "id": "1337c949",
   "metadata": {},
   "source": [
    "***Представим визуализацию в процентном соотношении***"
   ]
  },
  {
   "cell_type": "code",
   "execution_count": 17,
   "id": "e29d9747",
   "metadata": {},
   "outputs": [
    {
     "data": {
      "image/png": "[encoded data removed]",
      "text/plain": [
       "<Figure size 720x504 with 1 Axes>"
      ]
     },
     "metadata": {},
     "output_type": "display_data"
    }
   ],
   "source": [
    "users.groupby(by='subscription_type')['subscription_type'].count().plot(kind='pie',\n",
    "figsize=(10,7),\n",
    "autopct = '%1.1f%%')\n",
    "plt.show()"
   ]
  },
  {
   "cell_type": "markdown",
   "id": "96308630",
   "metadata": {},
   "source": [
    "С подпиской 699 (45,6%) пользователей, без подписки 835 (54,4%). С подпиской пользователей меньше на 136 (8,8%)."
   ]
  },
  {
   "cell_type": "markdown",
   "id": "0438145d",
   "metadata": {},
   "source": [
    "***Возраст пользователей***"
   ]
  },
  {
   "cell_type": "markdown",
   "id": "814dc39e",
   "metadata": {},
   "source": [
    "Посмотрим соотношение возраста пользователей."
   ]
  },
  {
   "cell_type": "code",
   "execution_count": 18,
   "id": "4d107bb0",
   "metadata": {},
   "outputs": [
    {
     "data": {
      "text/plain": [
       "count   1,534.00\n",
       "mean       24.90\n",
       "std         4.57\n",
       "min        12.00\n",
       "25%        22.00\n",
       "50%        25.00\n",
       "75%        28.00\n",
       "max        43.00\n",
       "Name: age, dtype: float64"
      ]
     },
     "metadata": {},
     "output_type": "display_data"
    }
   ],
   "source": [
    "display(users['age'].describe())"
   ]
  },
  {
   "cell_type": "markdown",
   "id": "ccce5a8c",
   "metadata": {},
   "source": [
    "***Визуализируем информацию***"
   ]
  },
  {
   "cell_type": "markdown",
   "id": "9f8cc9c2",
   "metadata": {},
   "source": [
    "Ниже, я решил продублировать информацию в гистограммах на визуализациях в violinplot, так как этот график отображает распределение, медиану и межквартильный диапазон данных."
   ]
  },
  {
   "cell_type": "code",
   "execution_count": 19,
   "id": "b6a066ae",
   "metadata": {},
   "outputs": [
    {
     "data": {
      "image/png": "[encoded data removed]",
      "text/plain": [
       "<Figure size 720x360 with 1 Axes>"
      ]
     },
     "metadata": {
      "needs_background": "light"
     },
     "output_type": "display_data"
    }
   ],
   "source": [
    "users.groupby('age')['age'].count().plot.bar(figsize = (10,5))\n",
    "plt.xticks(rotation = 0)\n",
    "plt.ylabel('Количество пользователей')\n",
    "plt.xlabel('Возраст')\n",
    "plt.title('Возраст пользователей')\n",
    "plt.show()"
   ]
  },
  {
   "cell_type": "code",
   "execution_count": 20,
   "id": "c5ae6723",
   "metadata": {},
   "outputs": [
    {
     "data": {
      "image/png": "[encoded data removed]",
      "text/plain": [
       "<Figure size 432x288 with 1 Axes>"
      ]
     },
     "metadata": {
      "needs_background": "light"
     },
     "output_type": "display_data"
    }
   ],
   "source": [
    "sns.violinplot(users['age'], color='green')\n",
    "plt.title('Возраст пользователей')\n",
    "plt.xlabel('Возраст');"
   ]
  },
  {
   "cell_type": "markdown",
   "id": "9df6edc9",
   "metadata": {},
   "source": [
    "Больше всего пользуются сервисом люди примерно от 23 до 26 лет. Пользователи от 30 лет пользуются сервисом меньше и далее тенденция идет на спад."
   ]
  },
  {
   "cell_type": "markdown",
   "id": "9a2cb105",
   "metadata": {},
   "source": [
    "***Расстояние, которое пользователь преодолел за одну поездку***"
   ]
  },
  {
   "cell_type": "code",
   "execution_count": 21,
   "id": "69f25a61",
   "metadata": {},
   "outputs": [
    {
     "data": {
      "text/plain": [
       "count   18,068.00\n",
       "mean     3,070.66\n",
       "std      1,116.83\n",
       "min          0.86\n",
       "25%      2,543.23\n",
       "50%      3,133.61\n",
       "75%      3,776.22\n",
       "max      7,211.01\n",
       "Name: distance, dtype: float64"
      ]
     },
     "metadata": {},
     "output_type": "display_data"
    }
   ],
   "source": [
    "display(riders['distance'].describe())"
   ]
  },
  {
   "cell_type": "markdown",
   "id": "c5d2ce36",
   "metadata": {},
   "source": [
    "Самое минимальное расстояния, которое пользователь преодолел за одну поездку - 0.86 м.\n",
    "\n",
    "Самое максимальное расстояние - 7.211 м."
   ]
  },
  {
   "cell_type": "markdown",
   "id": "ad1f5d78",
   "metadata": {},
   "source": [
    "***Визуализируем***"
   ]
  },
  {
   "cell_type": "code",
   "execution_count": 22,
   "id": "2848c1d2",
   "metadata": {},
   "outputs": [
    {
     "data": {
      "image/png": "[encoded data removed]",
      "text/plain": [
       "<Figure size 432x288 with 1 Axes>"
      ]
     },
     "metadata": {
      "needs_background": "light"
     },
     "output_type": "display_data"
    }
   ],
   "source": [
    "sns.histplot(data=riders, x='distance', color='green', bins=50)\n",
    "plt.ylabel('Количество')\n",
    "plt.xlabel('Расстояние, метры')\n",
    "plt.title('Расстояние за одну поездку')\n",
    "plt.show()"
   ]
  },
  {
   "cell_type": "code",
   "execution_count": 23,
   "id": "20d72ffd",
   "metadata": {},
   "outputs": [
    {
     "data": {
      "image/png": "[encoded data removed]",
      "text/plain": [
       "<Figure size 432x288 with 1 Axes>"
      ]
     },
     "metadata": {
      "needs_background": "light"
     },
     "output_type": "display_data"
    }
   ],
   "source": [
    "sns.violinplot(riders['distance'], color='green')\n",
    "plt.title('Расстояние за одну поездку')\n",
    "plt.xlabel('Расстояние, метры');"
   ]
  },
  {
   "cell_type": "markdown",
   "id": "28924ece",
   "metadata": {},
   "source": [
    "В среднем, пользователи преодолевают расстояние от 2,5 до 4 км.\n",
    "Самое частое расстояние, которое проезжают пользователи в районе 3,1 км (3100м)."
   ]
  },
  {
   "cell_type": "markdown",
   "id": "04077647",
   "metadata": {},
   "source": [
    "***Общее время поездок для каждого пользователя***"
   ]
  },
  {
   "cell_type": "code",
   "execution_count": 24,
   "id": "e8fa90c8",
   "metadata": {},
   "outputs": [
    {
     "data": {
      "text/plain": [
       "count   18,068.00\n",
       "mean        17.81\n",
       "std          6.09\n",
       "min          0.50\n",
       "25%         13.60\n",
       "50%         17.68\n",
       "75%         21.72\n",
       "max         40.82\n",
       "Name: duration, dtype: float64"
      ]
     },
     "metadata": {},
     "output_type": "display_data"
    }
   ],
   "source": [
    "display(riders['duration'].describe())"
   ]
  },
  {
   "cell_type": "markdown",
   "id": "d250827c",
   "metadata": {},
   "source": [
    "***Визуализируем***"
   ]
  },
  {
   "cell_type": "code",
   "execution_count": 25,
   "id": "d0495ed0",
   "metadata": {},
   "outputs": [
    {
     "data": {
      "image/png": "[encoded data removed]",
      "text/plain": [
       "<Figure size 432x288 with 1 Axes>"
      ]
     },
     "metadata": {
      "needs_background": "light"
     },
     "output_type": "display_data"
    }
   ],
   "source": [
    "sns.histplot(data=riders, x='duration', color='orange', bins=50)\n",
    "plt.ylabel('Количество')\n",
    "plt.xlabel('Время, минуты')\n",
    "plt.title('Продолжительность поездок')\n",
    "plt.show()"
   ]
  },
  {
   "cell_type": "code",
   "execution_count": 26,
   "id": "59f80c19",
   "metadata": {},
   "outputs": [
    {
     "data": {
      "image/png": "[encoded data removed]",
      "text/plain": [
       "<Figure size 432x288 with 1 Axes>"
      ]
     },
     "metadata": {
      "needs_background": "light"
     },
     "output_type": "display_data"
    }
   ],
   "source": [
    "sns.violinplot(riders['duration'], color='orange')\n",
    "plt.title('Продолжительность поездок')\n",
    "plt.xlabel('Время, минуты');"
   ]
  },
  {
   "cell_type": "markdown",
   "id": "454793b2",
   "metadata": {},
   "source": [
    "Продолжительность поездки в среднем занимает от 14 до 22 минут."
   ]
  },
  {
   "cell_type": "markdown",
   "id": "668d8227",
   "metadata": {},
   "source": [
    "***Вывод***\n",
    "\n",
    "**Частота встречаемости городов**\n",
    "\n",
    "В лидерах по количеству пользователей идет Пятигорск (219). Следом идут Екатеринбург (204), Ростов-на-Дону (198) и Краснодар (193). Замыкает рейтинг Москва (168). Возможно, это связано с тем, что Пятигорск меньше Москвы.\n",
    "\n",
    "**Соотношение пользователей с подпиской и без подписки**\n",
    "\n",
    "Используют бесплатную подписку 835 человек - это 54,4%. Платную подписку используют 699 - это 45,6%.\n",
    "\n",
    "**Возраст пользователей**\n",
    "\n",
    "Больше всего пользуются сервисом люди примерно от 23 до 26 лет. Пользователи от 30 лет пользуются сервисом меньше и далее тенденция идет на спад.\n",
    "\n",
    "В среднем, больше всего пользователей в районе 25 лет.\n",
    "\n",
    "\n",
    "**Расстояние, которое пользователь преодолел за одну поездку**\n",
    "\n",
    "Самое минимальное расстояния, которое пользователь преодолел за одну поездку - 0.86 м.\n",
    "\n",
    "Самое максимальное расстояние - 7.211 м.\n",
    "\n",
    "\n",
    "**Продолжительность поездок**\n",
    "\n",
    "Продолжительность поездки в среднем занимает от 14 до 22 минут.\n",
    "\n",
    "Самая короткая меньше минуты. Тут возможны факторы неисправности самокатов, либо у пользователей изменились планы.\n",
    "Самая длинная поездка была около 41 минуты. Возможно, пользователь брал самокат на 1 день для того, чтобы решить дела по городу, либо для поездкам по паркам или зонам отдыха."
   ]
  },
  {
   "cell_type": "markdown",
   "id": "c331cec8",
   "metadata": {},
   "source": [
    "#### Шаг 4. Объединение данных"
   ]
  },
  {
   "cell_type": "markdown",
   "id": "46d784cc",
   "metadata": {},
   "source": [
    "***Объединим данные с пользователями, поездками и подписками в один датафрейм***"
   ]
  },
  {
   "cell_type": "code",
   "execution_count": 27,
   "id": "a2dd3df1",
   "metadata": {},
   "outputs": [],
   "source": [
    "full_data = pd.merge(users, riders, on='user_id', how='inner')"
   ]
  },
  {
   "cell_type": "code",
   "execution_count": 28,
   "id": "0840803b",
   "metadata": {},
   "outputs": [],
   "source": [
    "full_data = pd.merge(full_data, subs, on='subscription_type', how='inner')"
   ]
  },
  {
   "cell_type": "markdown",
   "id": "e19240ef",
   "metadata": {},
   "source": [
    "***Проверим даитафрейм***"
   ]
  },
  {
   "cell_type": "code",
   "execution_count": 29,
   "id": "6800841c",
   "metadata": {},
   "outputs": [
    {
     "data": {
      "text/html": [
       "<div>\n",
       "<style scoped>\n",
       "    .dataframe tbody tr th:only-of-type {\n",
       "        vertical-align: middle;\n",
       "    }\n",
       "\n",
       "    .dataframe tbody tr th {\n",
       "        vertical-align: top;\n",
       "    }\n",
       "\n",
       "    .dataframe thead th {\n",
       "        text-align: right;\n",
       "    }\n",
       "</style>\n",
       "<table border=\"1\" class=\"dataframe\">\n",
       "  <thead>\n",
       "    <tr style=\"text-align: right;\">\n",
       "      <th></th>\n",
       "      <th>user_id</th>\n",
       "      <th>name</th>\n",
       "      <th>age</th>\n",
       "      <th>city</th>\n",
       "      <th>subscription_type</th>\n",
       "      <th>distance</th>\n",
       "      <th>duration</th>\n",
       "      <th>date</th>\n",
       "      <th>month</th>\n",
       "      <th>year</th>\n",
       "      <th>minute_price</th>\n",
       "      <th>start_ride_price</th>\n",
       "      <th>subscription_fee</th>\n",
       "    </tr>\n",
       "  </thead>\n",
       "  <tbody>\n",
       "    <tr>\n",
       "      <th>0</th>\n",
       "      <td>1</td>\n",
       "      <td>Кира</td>\n",
       "      <td>22</td>\n",
       "      <td>Тюмень</td>\n",
       "      <td>ultra</td>\n",
       "      <td>4,409.92</td>\n",
       "      <td>25.60</td>\n",
       "      <td>2021-01-01</td>\n",
       "      <td>2021-01</td>\n",
       "      <td>2021</td>\n",
       "      <td>6</td>\n",
       "      <td>0</td>\n",
       "      <td>199</td>\n",
       "    </tr>\n",
       "    <tr>\n",
       "      <th>1</th>\n",
       "      <td>1</td>\n",
       "      <td>Кира</td>\n",
       "      <td>22</td>\n",
       "      <td>Тюмень</td>\n",
       "      <td>ultra</td>\n",
       "      <td>2,617.59</td>\n",
       "      <td>15.82</td>\n",
       "      <td>2021-01-18</td>\n",
       "      <td>2021-01</td>\n",
       "      <td>2021</td>\n",
       "      <td>6</td>\n",
       "      <td>0</td>\n",
       "      <td>199</td>\n",
       "    </tr>\n",
       "    <tr>\n",
       "      <th>2</th>\n",
       "      <td>1</td>\n",
       "      <td>Кира</td>\n",
       "      <td>22</td>\n",
       "      <td>Тюмень</td>\n",
       "      <td>ultra</td>\n",
       "      <td>754.16</td>\n",
       "      <td>6.23</td>\n",
       "      <td>2021-04-20</td>\n",
       "      <td>2021-04</td>\n",
       "      <td>2021</td>\n",
       "      <td>6</td>\n",
       "      <td>0</td>\n",
       "      <td>199</td>\n",
       "    </tr>\n",
       "    <tr>\n",
       "      <th>3</th>\n",
       "      <td>1</td>\n",
       "      <td>Кира</td>\n",
       "      <td>22</td>\n",
       "      <td>Тюмень</td>\n",
       "      <td>ultra</td>\n",
       "      <td>2,694.78</td>\n",
       "      <td>18.51</td>\n",
       "      <td>2021-08-11</td>\n",
       "      <td>2021-08</td>\n",
       "      <td>2021</td>\n",
       "      <td>6</td>\n",
       "      <td>0</td>\n",
       "      <td>199</td>\n",
       "    </tr>\n",
       "    <tr>\n",
       "      <th>4</th>\n",
       "      <td>1</td>\n",
       "      <td>Кира</td>\n",
       "      <td>22</td>\n",
       "      <td>Тюмень</td>\n",
       "      <td>ultra</td>\n",
       "      <td>4,028.69</td>\n",
       "      <td>26.27</td>\n",
       "      <td>2021-08-28</td>\n",
       "      <td>2021-08</td>\n",
       "      <td>2021</td>\n",
       "      <td>6</td>\n",
       "      <td>0</td>\n",
       "      <td>199</td>\n",
       "    </tr>\n",
       "    <tr>\n",
       "      <th>...</th>\n",
       "      <td>...</td>\n",
       "      <td>...</td>\n",
       "      <td>...</td>\n",
       "      <td>...</td>\n",
       "      <td>...</td>\n",
       "      <td>...</td>\n",
       "      <td>...</td>\n",
       "      <td>...</td>\n",
       "      <td>...</td>\n",
       "      <td>...</td>\n",
       "      <td>...</td>\n",
       "      <td>...</td>\n",
       "      <td>...</td>\n",
       "    </tr>\n",
       "    <tr>\n",
       "      <th>18063</th>\n",
       "      <td>1534</td>\n",
       "      <td>Альберт</td>\n",
       "      <td>25</td>\n",
       "      <td>Краснодар</td>\n",
       "      <td>free</td>\n",
       "      <td>3,781.10</td>\n",
       "      <td>19.82</td>\n",
       "      <td>2021-11-04</td>\n",
       "      <td>2021-11</td>\n",
       "      <td>2021</td>\n",
       "      <td>8</td>\n",
       "      <td>50</td>\n",
       "      <td>0</td>\n",
       "    </tr>\n",
       "    <tr>\n",
       "      <th>18064</th>\n",
       "      <td>1534</td>\n",
       "      <td>Альберт</td>\n",
       "      <td>25</td>\n",
       "      <td>Краснодар</td>\n",
       "      <td>free</td>\n",
       "      <td>2,840.42</td>\n",
       "      <td>21.41</td>\n",
       "      <td>2021-11-16</td>\n",
       "      <td>2021-11</td>\n",
       "      <td>2021</td>\n",
       "      <td>8</td>\n",
       "      <td>50</td>\n",
       "      <td>0</td>\n",
       "    </tr>\n",
       "    <tr>\n",
       "      <th>18065</th>\n",
       "      <td>1534</td>\n",
       "      <td>Альберт</td>\n",
       "      <td>25</td>\n",
       "      <td>Краснодар</td>\n",
       "      <td>free</td>\n",
       "      <td>3,826.19</td>\n",
       "      <td>18.44</td>\n",
       "      <td>2021-11-18</td>\n",
       "      <td>2021-11</td>\n",
       "      <td>2021</td>\n",
       "      <td>8</td>\n",
       "      <td>50</td>\n",
       "      <td>0</td>\n",
       "    </tr>\n",
       "    <tr>\n",
       "      <th>18066</th>\n",
       "      <td>1534</td>\n",
       "      <td>Альберт</td>\n",
       "      <td>25</td>\n",
       "      <td>Краснодар</td>\n",
       "      <td>free</td>\n",
       "      <td>2,902.31</td>\n",
       "      <td>16.67</td>\n",
       "      <td>2021-11-27</td>\n",
       "      <td>2021-11</td>\n",
       "      <td>2021</td>\n",
       "      <td>8</td>\n",
       "      <td>50</td>\n",
       "      <td>0</td>\n",
       "    </tr>\n",
       "    <tr>\n",
       "      <th>18067</th>\n",
       "      <td>1534</td>\n",
       "      <td>Альберт</td>\n",
       "      <td>25</td>\n",
       "      <td>Краснодар</td>\n",
       "      <td>free</td>\n",
       "      <td>2,371.71</td>\n",
       "      <td>15.89</td>\n",
       "      <td>2021-12-29</td>\n",
       "      <td>2021-12</td>\n",
       "      <td>2021</td>\n",
       "      <td>8</td>\n",
       "      <td>50</td>\n",
       "      <td>0</td>\n",
       "    </tr>\n",
       "  </tbody>\n",
       "</table>\n",
       "<p>18068 rows × 13 columns</p>\n",
       "</div>"
      ],
      "text/plain": [
       "       user_id     name  age       city subscription_type  distance  duration  \\\n",
       "0            1     Кира   22     Тюмень             ultra  4,409.92     25.60   \n",
       "1            1     Кира   22     Тюмень             ultra  2,617.59     15.82   \n",
       "2            1     Кира   22     Тюмень             ultra    754.16      6.23   \n",
       "3            1     Кира   22     Тюмень             ultra  2,694.78     18.51   \n",
       "4            1     Кира   22     Тюмень             ultra  4,028.69     26.27   \n",
       "...        ...      ...  ...        ...               ...       ...       ...   \n",
       "18063     1534  Альберт   25  Краснодар              free  3,781.10     19.82   \n",
       "18064     1534  Альберт   25  Краснодар              free  2,840.42     21.41   \n",
       "18065     1534  Альберт   25  Краснодар              free  3,826.19     18.44   \n",
       "18066     1534  Альберт   25  Краснодар              free  2,902.31     16.67   \n",
       "18067     1534  Альберт   25  Краснодар              free  2,371.71     15.89   \n",
       "\n",
       "            date    month  year  minute_price  start_ride_price  \\\n",
       "0     2021-01-01  2021-01  2021             6                 0   \n",
       "1     2021-01-18  2021-01  2021             6                 0   \n",
       "2     2021-04-20  2021-04  2021             6                 0   \n",
       "3     2021-08-11  2021-08  2021             6                 0   \n",
       "4     2021-08-28  2021-08  2021             6                 0   \n",
       "...          ...      ...   ...           ...               ...   \n",
       "18063 2021-11-04  2021-11  2021             8                50   \n",
       "18064 2021-11-16  2021-11  2021             8                50   \n",
       "18065 2021-11-18  2021-11  2021             8                50   \n",
       "18066 2021-11-27  2021-11  2021             8                50   \n",
       "18067 2021-12-29  2021-12  2021             8                50   \n",
       "\n",
       "       subscription_fee  \n",
       "0                   199  \n",
       "1                   199  \n",
       "2                   199  \n",
       "3                   199  \n",
       "4                   199  \n",
       "...                 ...  \n",
       "18063                 0  \n",
       "18064                 0  \n",
       "18065                 0  \n",
       "18066                 0  \n",
       "18067                 0  \n",
       "\n",
       "[18068 rows x 13 columns]"
      ]
     },
     "execution_count": 29,
     "metadata": {},
     "output_type": "execute_result"
    }
   ],
   "source": [
    "full_data"
   ]
  },
  {
   "cell_type": "code",
   "execution_count": 30,
   "id": "3f77ad5f",
   "metadata": {},
   "outputs": [
    {
     "data": {
      "text/plain": [
       "(18068, 13)"
      ]
     },
     "execution_count": 30,
     "metadata": {},
     "output_type": "execute_result"
    }
   ],
   "source": [
    "full_data.shape"
   ]
  },
  {
   "cell_type": "markdown",
   "id": "6633d4bd",
   "metadata": {},
   "source": [
    "У получившегося датафрейма 18068 строк, что до этого соответствует такому же количеству строк в датафрейме riders."
   ]
  },
  {
   "cell_type": "markdown",
   "id": "c578ff22",
   "metadata": {},
   "source": [
    "***Создадим датафрейм с данными о пользователях без подписки***"
   ]
  },
  {
   "cell_type": "code",
   "execution_count": 31,
   "id": "91c6a358",
   "metadata": {},
   "outputs": [],
   "source": [
    "free_subs = full_data.query(\"`subscription_type` == 'free'\")"
   ]
  },
  {
   "cell_type": "markdown",
   "id": "5d92f10e",
   "metadata": {},
   "source": [
    "***Проверим датафрейм***"
   ]
  },
  {
   "cell_type": "code",
   "execution_count": 32,
   "id": "82599ee8",
   "metadata": {},
   "outputs": [
    {
     "data": {
      "text/html": [
       "<div>\n",
       "<style scoped>\n",
       "    .dataframe tbody tr th:only-of-type {\n",
       "        vertical-align: middle;\n",
       "    }\n",
       "\n",
       "    .dataframe tbody tr th {\n",
       "        vertical-align: top;\n",
       "    }\n",
       "\n",
       "    .dataframe thead th {\n",
       "        text-align: right;\n",
       "    }\n",
       "</style>\n",
       "<table border=\"1\" class=\"dataframe\">\n",
       "  <thead>\n",
       "    <tr style=\"text-align: right;\">\n",
       "      <th></th>\n",
       "      <th>user_id</th>\n",
       "      <th>name</th>\n",
       "      <th>age</th>\n",
       "      <th>city</th>\n",
       "      <th>subscription_type</th>\n",
       "      <th>distance</th>\n",
       "      <th>duration</th>\n",
       "      <th>date</th>\n",
       "      <th>month</th>\n",
       "      <th>year</th>\n",
       "      <th>minute_price</th>\n",
       "      <th>start_ride_price</th>\n",
       "      <th>subscription_fee</th>\n",
       "    </tr>\n",
       "  </thead>\n",
       "  <tbody>\n",
       "    <tr>\n",
       "      <th>6500</th>\n",
       "      <td>700</td>\n",
       "      <td>Айдар</td>\n",
       "      <td>22</td>\n",
       "      <td>Омск</td>\n",
       "      <td>free</td>\n",
       "      <td>2,515.69</td>\n",
       "      <td>14.94</td>\n",
       "      <td>2021-01-02</td>\n",
       "      <td>2021-01</td>\n",
       "      <td>2021</td>\n",
       "      <td>8</td>\n",
       "      <td>50</td>\n",
       "      <td>0</td>\n",
       "    </tr>\n",
       "    <tr>\n",
       "      <th>6501</th>\n",
       "      <td>700</td>\n",
       "      <td>Айдар</td>\n",
       "      <td>22</td>\n",
       "      <td>Омск</td>\n",
       "      <td>free</td>\n",
       "      <td>846.93</td>\n",
       "      <td>16.23</td>\n",
       "      <td>2021-02-01</td>\n",
       "      <td>2021-02</td>\n",
       "      <td>2021</td>\n",
       "      <td>8</td>\n",
       "      <td>50</td>\n",
       "      <td>0</td>\n",
       "    </tr>\n",
       "    <tr>\n",
       "      <th>6502</th>\n",
       "      <td>700</td>\n",
       "      <td>Айдар</td>\n",
       "      <td>22</td>\n",
       "      <td>Омск</td>\n",
       "      <td>free</td>\n",
       "      <td>4,004.43</td>\n",
       "      <td>20.02</td>\n",
       "      <td>2021-02-04</td>\n",
       "      <td>2021-02</td>\n",
       "      <td>2021</td>\n",
       "      <td>8</td>\n",
       "      <td>50</td>\n",
       "      <td>0</td>\n",
       "    </tr>\n",
       "    <tr>\n",
       "      <th>6503</th>\n",
       "      <td>700</td>\n",
       "      <td>Айдар</td>\n",
       "      <td>22</td>\n",
       "      <td>Омск</td>\n",
       "      <td>free</td>\n",
       "      <td>1,205.91</td>\n",
       "      <td>9.78</td>\n",
       "      <td>2021-02-10</td>\n",
       "      <td>2021-02</td>\n",
       "      <td>2021</td>\n",
       "      <td>8</td>\n",
       "      <td>50</td>\n",
       "      <td>0</td>\n",
       "    </tr>\n",
       "    <tr>\n",
       "      <th>6504</th>\n",
       "      <td>700</td>\n",
       "      <td>Айдар</td>\n",
       "      <td>22</td>\n",
       "      <td>Омск</td>\n",
       "      <td>free</td>\n",
       "      <td>3,047.38</td>\n",
       "      <td>17.43</td>\n",
       "      <td>2021-02-14</td>\n",
       "      <td>2021-02</td>\n",
       "      <td>2021</td>\n",
       "      <td>8</td>\n",
       "      <td>50</td>\n",
       "      <td>0</td>\n",
       "    </tr>\n",
       "    <tr>\n",
       "      <th>...</th>\n",
       "      <td>...</td>\n",
       "      <td>...</td>\n",
       "      <td>...</td>\n",
       "      <td>...</td>\n",
       "      <td>...</td>\n",
       "      <td>...</td>\n",
       "      <td>...</td>\n",
       "      <td>...</td>\n",
       "      <td>...</td>\n",
       "      <td>...</td>\n",
       "      <td>...</td>\n",
       "      <td>...</td>\n",
       "      <td>...</td>\n",
       "    </tr>\n",
       "    <tr>\n",
       "      <th>18063</th>\n",
       "      <td>1534</td>\n",
       "      <td>Альберт</td>\n",
       "      <td>25</td>\n",
       "      <td>Краснодар</td>\n",
       "      <td>free</td>\n",
       "      <td>3,781.10</td>\n",
       "      <td>19.82</td>\n",
       "      <td>2021-11-04</td>\n",
       "      <td>2021-11</td>\n",
       "      <td>2021</td>\n",
       "      <td>8</td>\n",
       "      <td>50</td>\n",
       "      <td>0</td>\n",
       "    </tr>\n",
       "    <tr>\n",
       "      <th>18064</th>\n",
       "      <td>1534</td>\n",
       "      <td>Альберт</td>\n",
       "      <td>25</td>\n",
       "      <td>Краснодар</td>\n",
       "      <td>free</td>\n",
       "      <td>2,840.42</td>\n",
       "      <td>21.41</td>\n",
       "      <td>2021-11-16</td>\n",
       "      <td>2021-11</td>\n",
       "      <td>2021</td>\n",
       "      <td>8</td>\n",
       "      <td>50</td>\n",
       "      <td>0</td>\n",
       "    </tr>\n",
       "    <tr>\n",
       "      <th>18065</th>\n",
       "      <td>1534</td>\n",
       "      <td>Альберт</td>\n",
       "      <td>25</td>\n",
       "      <td>Краснодар</td>\n",
       "      <td>free</td>\n",
       "      <td>3,826.19</td>\n",
       "      <td>18.44</td>\n",
       "      <td>2021-11-18</td>\n",
       "      <td>2021-11</td>\n",
       "      <td>2021</td>\n",
       "      <td>8</td>\n",
       "      <td>50</td>\n",
       "      <td>0</td>\n",
       "    </tr>\n",
       "    <tr>\n",
       "      <th>18066</th>\n",
       "      <td>1534</td>\n",
       "      <td>Альберт</td>\n",
       "      <td>25</td>\n",
       "      <td>Краснодар</td>\n",
       "      <td>free</td>\n",
       "      <td>2,902.31</td>\n",
       "      <td>16.67</td>\n",
       "      <td>2021-11-27</td>\n",
       "      <td>2021-11</td>\n",
       "      <td>2021</td>\n",
       "      <td>8</td>\n",
       "      <td>50</td>\n",
       "      <td>0</td>\n",
       "    </tr>\n",
       "    <tr>\n",
       "      <th>18067</th>\n",
       "      <td>1534</td>\n",
       "      <td>Альберт</td>\n",
       "      <td>25</td>\n",
       "      <td>Краснодар</td>\n",
       "      <td>free</td>\n",
       "      <td>2,371.71</td>\n",
       "      <td>15.89</td>\n",
       "      <td>2021-12-29</td>\n",
       "      <td>2021-12</td>\n",
       "      <td>2021</td>\n",
       "      <td>8</td>\n",
       "      <td>50</td>\n",
       "      <td>0</td>\n",
       "    </tr>\n",
       "  </tbody>\n",
       "</table>\n",
       "<p>11568 rows × 13 columns</p>\n",
       "</div>"
      ],
      "text/plain": [
       "       user_id     name  age       city subscription_type  distance  duration  \\\n",
       "6500       700    Айдар   22       Омск              free  2,515.69     14.94   \n",
       "6501       700    Айдар   22       Омск              free    846.93     16.23   \n",
       "6502       700    Айдар   22       Омск              free  4,004.43     20.02   \n",
       "6503       700    Айдар   22       Омск              free  1,205.91      9.78   \n",
       "6504       700    Айдар   22       Омск              free  3,047.38     17.43   \n",
       "...        ...      ...  ...        ...               ...       ...       ...   \n",
       "18063     1534  Альберт   25  Краснодар              free  3,781.10     19.82   \n",
       "18064     1534  Альберт   25  Краснодар              free  2,840.42     21.41   \n",
       "18065     1534  Альберт   25  Краснодар              free  3,826.19     18.44   \n",
       "18066     1534  Альберт   25  Краснодар              free  2,902.31     16.67   \n",
       "18067     1534  Альберт   25  Краснодар              free  2,371.71     15.89   \n",
       "\n",
       "            date    month  year  minute_price  start_ride_price  \\\n",
       "6500  2021-01-02  2021-01  2021             8                50   \n",
       "6501  2021-02-01  2021-02  2021             8                50   \n",
       "6502  2021-02-04  2021-02  2021             8                50   \n",
       "6503  2021-02-10  2021-02  2021             8                50   \n",
       "6504  2021-02-14  2021-02  2021             8                50   \n",
       "...          ...      ...   ...           ...               ...   \n",
       "18063 2021-11-04  2021-11  2021             8                50   \n",
       "18064 2021-11-16  2021-11  2021             8                50   \n",
       "18065 2021-11-18  2021-11  2021             8                50   \n",
       "18066 2021-11-27  2021-11  2021             8                50   \n",
       "18067 2021-12-29  2021-12  2021             8                50   \n",
       "\n",
       "       subscription_fee  \n",
       "6500                  0  \n",
       "6501                  0  \n",
       "6502                  0  \n",
       "6503                  0  \n",
       "6504                  0  \n",
       "...                 ...  \n",
       "18063                 0  \n",
       "18064                 0  \n",
       "18065                 0  \n",
       "18066                 0  \n",
       "18067                 0  \n",
       "\n",
       "[11568 rows x 13 columns]"
      ]
     },
     "execution_count": 32,
     "metadata": {},
     "output_type": "execute_result"
    }
   ],
   "source": [
    "free_subs"
   ]
  },
  {
   "cell_type": "markdown",
   "id": "30a40c16",
   "metadata": {},
   "source": [
    "***Визуализируем информацию по расстоянию без подписки***"
   ]
  },
  {
   "cell_type": "code",
   "execution_count": 33,
   "id": "50bb9971",
   "metadata": {},
   "outputs": [
    {
     "data": {
      "image/png": "[encoded data removed]",
      "text/plain": [
       "<Figure size 432x288 with 1 Axes>"
      ]
     },
     "metadata": {
      "needs_background": "light"
     },
     "output_type": "display_data"
    }
   ],
   "source": [
    "sns.histplot(data=free_subs, x='distance', color='red', bins=50)\n",
    "plt.ylabel('Частота')\n",
    "plt.xlabel('Расстояние, метры')\n",
    "plt.title('Расстояние поездок, пользователи без платной подписки')\n",
    "plt.show()"
   ]
  },
  {
   "cell_type": "code",
   "execution_count": 34,
   "id": "bcbf1427",
   "metadata": {},
   "outputs": [
    {
     "data": {
      "image/png": "[encoded data removed]",
      "text/plain": [
       "<Figure size 432x288 with 1 Axes>"
      ]
     },
     "metadata": {
      "needs_background": "light"
     },
     "output_type": "display_data"
    }
   ],
   "source": [
    "sns.violinplot(free_subs['distance'], color='orange')\n",
    "plt.title('Расстояние поездок, пользователи без платной подписки')\n",
    "plt.xlabel('Расстояние, метры');"
   ]
  },
  {
   "cell_type": "markdown",
   "id": "c8e31975",
   "metadata": {},
   "source": [
    "Пользователи без платной подписки проезжают от 2,2 до 4 км. Чаще всего проезжают расстояния в 2,5км."
   ]
  },
  {
   "cell_type": "markdown",
   "id": "c9fa8b89",
   "metadata": {},
   "source": [
    "***Визуализируем информацию по времени без подписки***"
   ]
  },
  {
   "cell_type": "code",
   "execution_count": 35,
   "id": "ffa60317",
   "metadata": {},
   "outputs": [
    {
     "data": {
      "image/png": "[encoded data removed]",
      "text/plain": [
       "<Figure size 432x288 with 1 Axes>"
      ]
     },
     "metadata": {
      "needs_background": "light"
     },
     "output_type": "display_data"
    }
   ],
   "source": [
    "sns.histplot(data=free_subs, x='duration', color='red', bins=50)\n",
    "plt.ylabel('Частота')\n",
    "plt.xlabel('Время, минуты')\n",
    "plt.title('Продолжительность поездок, пользователи без платной подписки')\n",
    "plt.show()"
   ]
  },
  {
   "cell_type": "markdown",
   "id": "c1024ea3",
   "metadata": {},
   "source": [
    "Наблюдаются выбросы размером менее 100 поездок с продолжительностью до 1 минуты."
   ]
  },
  {
   "cell_type": "code",
   "execution_count": 36,
   "id": "2c770aae",
   "metadata": {},
   "outputs": [
    {
     "data": {
      "text/plain": [
       "count      95.00\n",
       "mean    5,113.18\n",
       "std       658.25\n",
       "min     4,030.31\n",
       "25%     4,611.51\n",
       "50%     5,052.77\n",
       "75%     5,488.46\n",
       "max     7,211.01\n",
       "Name: distance, dtype: float64"
      ]
     },
     "execution_count": 36,
     "metadata": {},
     "output_type": "execute_result"
    }
   ],
   "source": [
    "riders.query('duration == 0.5')['distance'].describe()"
   ]
  },
  {
   "cell_type": "code",
   "execution_count": 37,
   "id": "d4ac19e0",
   "metadata": {},
   "outputs": [
    {
     "data": {
      "image/png": "[encoded data removed]",
      "text/plain": [
       "<Figure size 432x288 with 1 Axes>"
      ]
     },
     "metadata": {
      "needs_background": "light"
     },
     "output_type": "display_data"
    }
   ],
   "source": [
    "sns.violinplot(free_subs['duration'], color='orange')\n",
    "plt.title('Продолжительность поездок, пользователи без платной подписки')\n",
    "plt.xlabel('Расстояние, метры');"
   ]
  },
  {
   "cell_type": "markdown",
   "id": "d338c0f2",
   "metadata": {},
   "source": [
    "Время в пиковых значениях поездок составляет от 13 до 23 минут. Больше всего поездок около 18 минут."
   ]
  },
  {
   "cell_type": "markdown",
   "id": "5116140d",
   "metadata": {},
   "source": [
    "***Создадим датафрейм с данными о пользователях с подпиской***"
   ]
  },
  {
   "cell_type": "code",
   "execution_count": 38,
   "id": "be2c4967",
   "metadata": {},
   "outputs": [],
   "source": [
    "ultra_subs = full_data.query(\"`subscription_type` == 'ultra'\")"
   ]
  },
  {
   "cell_type": "markdown",
   "id": "49cb6b26",
   "metadata": {},
   "source": [
    "***Проверим датафрейм***"
   ]
  },
  {
   "cell_type": "code",
   "execution_count": 39,
   "id": "6fe9849f",
   "metadata": {},
   "outputs": [
    {
     "data": {
      "text/html": [
       "<div>\n",
       "<style scoped>\n",
       "    .dataframe tbody tr th:only-of-type {\n",
       "        vertical-align: middle;\n",
       "    }\n",
       "\n",
       "    .dataframe tbody tr th {\n",
       "        vertical-align: top;\n",
       "    }\n",
       "\n",
       "    .dataframe thead th {\n",
       "        text-align: right;\n",
       "    }\n",
       "</style>\n",
       "<table border=\"1\" class=\"dataframe\">\n",
       "  <thead>\n",
       "    <tr style=\"text-align: right;\">\n",
       "      <th></th>\n",
       "      <th>user_id</th>\n",
       "      <th>name</th>\n",
       "      <th>age</th>\n",
       "      <th>city</th>\n",
       "      <th>subscription_type</th>\n",
       "      <th>distance</th>\n",
       "      <th>duration</th>\n",
       "      <th>date</th>\n",
       "      <th>month</th>\n",
       "      <th>year</th>\n",
       "      <th>minute_price</th>\n",
       "      <th>start_ride_price</th>\n",
       "      <th>subscription_fee</th>\n",
       "    </tr>\n",
       "  </thead>\n",
       "  <tbody>\n",
       "    <tr>\n",
       "      <th>0</th>\n",
       "      <td>1</td>\n",
       "      <td>Кира</td>\n",
       "      <td>22</td>\n",
       "      <td>Тюмень</td>\n",
       "      <td>ultra</td>\n",
       "      <td>4,409.92</td>\n",
       "      <td>25.60</td>\n",
       "      <td>2021-01-01</td>\n",
       "      <td>2021-01</td>\n",
       "      <td>2021</td>\n",
       "      <td>6</td>\n",
       "      <td>0</td>\n",
       "      <td>199</td>\n",
       "    </tr>\n",
       "    <tr>\n",
       "      <th>1</th>\n",
       "      <td>1</td>\n",
       "      <td>Кира</td>\n",
       "      <td>22</td>\n",
       "      <td>Тюмень</td>\n",
       "      <td>ultra</td>\n",
       "      <td>2,617.59</td>\n",
       "      <td>15.82</td>\n",
       "      <td>2021-01-18</td>\n",
       "      <td>2021-01</td>\n",
       "      <td>2021</td>\n",
       "      <td>6</td>\n",
       "      <td>0</td>\n",
       "      <td>199</td>\n",
       "    </tr>\n",
       "    <tr>\n",
       "      <th>2</th>\n",
       "      <td>1</td>\n",
       "      <td>Кира</td>\n",
       "      <td>22</td>\n",
       "      <td>Тюмень</td>\n",
       "      <td>ultra</td>\n",
       "      <td>754.16</td>\n",
       "      <td>6.23</td>\n",
       "      <td>2021-04-20</td>\n",
       "      <td>2021-04</td>\n",
       "      <td>2021</td>\n",
       "      <td>6</td>\n",
       "      <td>0</td>\n",
       "      <td>199</td>\n",
       "    </tr>\n",
       "    <tr>\n",
       "      <th>3</th>\n",
       "      <td>1</td>\n",
       "      <td>Кира</td>\n",
       "      <td>22</td>\n",
       "      <td>Тюмень</td>\n",
       "      <td>ultra</td>\n",
       "      <td>2,694.78</td>\n",
       "      <td>18.51</td>\n",
       "      <td>2021-08-11</td>\n",
       "      <td>2021-08</td>\n",
       "      <td>2021</td>\n",
       "      <td>6</td>\n",
       "      <td>0</td>\n",
       "      <td>199</td>\n",
       "    </tr>\n",
       "    <tr>\n",
       "      <th>4</th>\n",
       "      <td>1</td>\n",
       "      <td>Кира</td>\n",
       "      <td>22</td>\n",
       "      <td>Тюмень</td>\n",
       "      <td>ultra</td>\n",
       "      <td>4,028.69</td>\n",
       "      <td>26.27</td>\n",
       "      <td>2021-08-28</td>\n",
       "      <td>2021-08</td>\n",
       "      <td>2021</td>\n",
       "      <td>6</td>\n",
       "      <td>0</td>\n",
       "      <td>199</td>\n",
       "    </tr>\n",
       "    <tr>\n",
       "      <th>...</th>\n",
       "      <td>...</td>\n",
       "      <td>...</td>\n",
       "      <td>...</td>\n",
       "      <td>...</td>\n",
       "      <td>...</td>\n",
       "      <td>...</td>\n",
       "      <td>...</td>\n",
       "      <td>...</td>\n",
       "      <td>...</td>\n",
       "      <td>...</td>\n",
       "      <td>...</td>\n",
       "      <td>...</td>\n",
       "      <td>...</td>\n",
       "    </tr>\n",
       "    <tr>\n",
       "      <th>6495</th>\n",
       "      <td>699</td>\n",
       "      <td>Оксана</td>\n",
       "      <td>22</td>\n",
       "      <td>Москва</td>\n",
       "      <td>ultra</td>\n",
       "      <td>3,973.05</td>\n",
       "      <td>24.67</td>\n",
       "      <td>2021-08-29</td>\n",
       "      <td>2021-08</td>\n",
       "      <td>2021</td>\n",
       "      <td>6</td>\n",
       "      <td>0</td>\n",
       "      <td>199</td>\n",
       "    </tr>\n",
       "    <tr>\n",
       "      <th>6496</th>\n",
       "      <td>699</td>\n",
       "      <td>Оксана</td>\n",
       "      <td>22</td>\n",
       "      <td>Москва</td>\n",
       "      <td>ultra</td>\n",
       "      <td>3,288.70</td>\n",
       "      <td>15.89</td>\n",
       "      <td>2021-09-12</td>\n",
       "      <td>2021-09</td>\n",
       "      <td>2021</td>\n",
       "      <td>6</td>\n",
       "      <td>0</td>\n",
       "      <td>199</td>\n",
       "    </tr>\n",
       "    <tr>\n",
       "      <th>6497</th>\n",
       "      <td>699</td>\n",
       "      <td>Оксана</td>\n",
       "      <td>22</td>\n",
       "      <td>Москва</td>\n",
       "      <td>ultra</td>\n",
       "      <td>3,076.16</td>\n",
       "      <td>14.39</td>\n",
       "      <td>2021-09-26</td>\n",
       "      <td>2021-09</td>\n",
       "      <td>2021</td>\n",
       "      <td>6</td>\n",
       "      <td>0</td>\n",
       "      <td>199</td>\n",
       "    </tr>\n",
       "    <tr>\n",
       "      <th>6498</th>\n",
       "      <td>699</td>\n",
       "      <td>Оксана</td>\n",
       "      <td>22</td>\n",
       "      <td>Москва</td>\n",
       "      <td>ultra</td>\n",
       "      <td>4,707.85</td>\n",
       "      <td>15.84</td>\n",
       "      <td>2021-10-17</td>\n",
       "      <td>2021-10</td>\n",
       "      <td>2021</td>\n",
       "      <td>6</td>\n",
       "      <td>0</td>\n",
       "      <td>199</td>\n",
       "    </tr>\n",
       "    <tr>\n",
       "      <th>6499</th>\n",
       "      <td>699</td>\n",
       "      <td>Оксана</td>\n",
       "      <td>22</td>\n",
       "      <td>Москва</td>\n",
       "      <td>ultra</td>\n",
       "      <td>3,202.89</td>\n",
       "      <td>25.22</td>\n",
       "      <td>2021-12-03</td>\n",
       "      <td>2021-12</td>\n",
       "      <td>2021</td>\n",
       "      <td>6</td>\n",
       "      <td>0</td>\n",
       "      <td>199</td>\n",
       "    </tr>\n",
       "  </tbody>\n",
       "</table>\n",
       "<p>6500 rows × 13 columns</p>\n",
       "</div>"
      ],
      "text/plain": [
       "      user_id    name  age    city subscription_type  distance  duration  \\\n",
       "0           1    Кира   22  Тюмень             ultra  4,409.92     25.60   \n",
       "1           1    Кира   22  Тюмень             ultra  2,617.59     15.82   \n",
       "2           1    Кира   22  Тюмень             ultra    754.16      6.23   \n",
       "3           1    Кира   22  Тюмень             ultra  2,694.78     18.51   \n",
       "4           1    Кира   22  Тюмень             ultra  4,028.69     26.27   \n",
       "...       ...     ...  ...     ...               ...       ...       ...   \n",
       "6495      699  Оксана   22  Москва             ultra  3,973.05     24.67   \n",
       "6496      699  Оксана   22  Москва             ultra  3,288.70     15.89   \n",
       "6497      699  Оксана   22  Москва             ultra  3,076.16     14.39   \n",
       "6498      699  Оксана   22  Москва             ultra  4,707.85     15.84   \n",
       "6499      699  Оксана   22  Москва             ultra  3,202.89     25.22   \n",
       "\n",
       "           date    month  year  minute_price  start_ride_price  \\\n",
       "0    2021-01-01  2021-01  2021             6                 0   \n",
       "1    2021-01-18  2021-01  2021             6                 0   \n",
       "2    2021-04-20  2021-04  2021             6                 0   \n",
       "3    2021-08-11  2021-08  2021             6                 0   \n",
       "4    2021-08-28  2021-08  2021             6                 0   \n",
       "...         ...      ...   ...           ...               ...   \n",
       "6495 2021-08-29  2021-08  2021             6                 0   \n",
       "6496 2021-09-12  2021-09  2021             6                 0   \n",
       "6497 2021-09-26  2021-09  2021             6                 0   \n",
       "6498 2021-10-17  2021-10  2021             6                 0   \n",
       "6499 2021-12-03  2021-12  2021             6                 0   \n",
       "\n",
       "      subscription_fee  \n",
       "0                  199  \n",
       "1                  199  \n",
       "2                  199  \n",
       "3                  199  \n",
       "4                  199  \n",
       "...                ...  \n",
       "6495               199  \n",
       "6496               199  \n",
       "6497               199  \n",
       "6498               199  \n",
       "6499               199  \n",
       "\n",
       "[6500 rows x 13 columns]"
      ]
     },
     "execution_count": 39,
     "metadata": {},
     "output_type": "execute_result"
    }
   ],
   "source": [
    "ultra_subs"
   ]
  },
  {
   "cell_type": "markdown",
   "id": "7d4ba2d8",
   "metadata": {},
   "source": [
    "***Визуализируем информацию по расстоянию с подпиской***"
   ]
  },
  {
   "cell_type": "code",
   "execution_count": 40,
   "id": "32685501",
   "metadata": {},
   "outputs": [
    {
     "data": {
      "image/png": "[encoded data removed]",
      "text/plain": [
       "<Figure size 432x288 with 1 Axes>"
      ]
     },
     "metadata": {
      "needs_background": "light"
     },
     "output_type": "display_data"
    }
   ],
   "source": [
    "sns.histplot(data=ultra_subs, x='distance', color='red', bins=50)\n",
    "plt.ylabel('Частота')\n",
    "plt.xlabel('Расстояние, метры')\n",
    "plt.title('Расстояние поездок, пользователи с платной подпиской')\n",
    "plt.show()"
   ]
  },
  {
   "cell_type": "code",
   "execution_count": 41,
   "id": "5fd522b8",
   "metadata": {},
   "outputs": [
    {
     "data": {
      "image/png": "[encoded data removed]",
      "text/plain": [
       "<Figure size 432x288 with 1 Axes>"
      ]
     },
     "metadata": {
      "needs_background": "light"
     },
     "output_type": "display_data"
    }
   ],
   "source": [
    "sns.violinplot(ultra_subs['distance'], color='orange')\n",
    "plt.title('Расстояние поездок, пользователи с платной подпиской')\n",
    "plt.xlabel('Расстояние, метры');"
   ]
  },
  {
   "cell_type": "markdown",
   "id": "2698d453",
   "metadata": {},
   "source": [
    "Пользователи с платной подпиской проезжают от 2,8 до 3,8км. Пик расстояния приходится на 3,2км."
   ]
  },
  {
   "cell_type": "markdown",
   "id": "dc4ed909",
   "metadata": {},
   "source": [
    "***Визуализируем информацию по времени с подпиской***"
   ]
  },
  {
   "cell_type": "code",
   "execution_count": 42,
   "id": "a7c7dbce",
   "metadata": {},
   "outputs": [
    {
     "data": {
      "image/png": "[encoded data removed]",
      "text/plain": [
       "<Figure size 432x288 with 1 Axes>"
      ]
     },
     "metadata": {
      "needs_background": "light"
     },
     "output_type": "display_data"
    }
   ],
   "source": [
    "sns.histplot(data=ultra_subs, x='duration', color='red', bins=50)\n",
    "plt.ylabel('Частота')\n",
    "plt.xlabel('Время, минуты')\n",
    "plt.title('Продолжительность поездок, пользователи с платной подпиской')\n",
    "plt.show()"
   ]
  },
  {
   "cell_type": "code",
   "execution_count": 43,
   "id": "4eb2df26",
   "metadata": {},
   "outputs": [
    {
     "data": {
      "image/png": "[encoded data removed]",
      "text/plain": [
       "<Figure size 432x288 with 1 Axes>"
      ]
     },
     "metadata": {
      "needs_background": "light"
     },
     "output_type": "display_data"
    }
   ],
   "source": [
    "sns.violinplot(ultra_subs['duration'], color='orange')\n",
    "plt.title('Продолжительность поездок, пользователи с платной подпиской')\n",
    "plt.xlabel('Расстояние, метры');"
   ]
  },
  {
   "cell_type": "markdown",
   "id": "8cac7683",
   "metadata": {},
   "source": [
    "Время пиковых значений поездок составляет от 14 до 22 минут."
   ]
  },
  {
   "cell_type": "markdown",
   "id": "8d7131bf",
   "metadata": {},
   "source": [
    "**Вывод**\n",
    "\n",
    "Были объединены данные о пользователях, поездках и тарифах в один датафрейм.\n",
    "\n",
    "Вывели на основе одного датафрейме еще пару:\n",
    "\n",
    "* free_subs - данные о пользователях без подписки;\n",
    "* ultra_subs - данные о пользователях с подпиской.\n",
    "\n",
    "Также, были построены визуализации для каждого из тарифов по времени и расстоянию.\n",
    "\n",
    "У бесплатного тарифа интервал времени на пиковых значениях поездок составляет от 13 до 23 минут. Больше всего поездок около 18 минут. Также, пользователи проезжают от 2,2 до 4 км. Чаще всего проезжают расстояния в 2,5км. Есть такие, кто проежает 6км и более.\n",
    "\n",
    "Если смотреть информацию по платному тарифу, то время пиковых значений поездок составляет от 15 до 23 минут. Расстояние от 2,8 до 3,8км. Чаще всего проезжают расстояния 3,2км.\n",
    "\n",
    "Если делать вывод на этой основе то, пользователи на обоих тарифах проезжают приблизительно одинковые расстояния и используют одинаковое время."
   ]
  },
  {
   "cell_type": "markdown",
   "id": "9dc3ecf5",
   "metadata": {},
   "source": [
    "#### Шаг 5. Подсчёт выручки"
   ]
  },
  {
   "cell_type": "markdown",
   "id": "d1673142",
   "metadata": {},
   "source": [
    "***Найдем суммарное расстояние, количество поeздок и суммарное время для каждого пользователя за каждый месяц***"
   ]
  },
  {
   "cell_type": "markdown",
   "id": "e82e24d9",
   "metadata": {},
   "source": [
    "***Округляем данные перед рассчетом***"
   ]
  },
  {
   "cell_type": "code",
   "execution_count": 44,
   "id": "1e7b95f1",
   "metadata": {},
   "outputs": [],
   "source": [
    "full_data['duration'] = np.ceil(full_data['duration'])"
   ]
  },
  {
   "cell_type": "markdown",
   "id": "3d7865a9",
   "metadata": {},
   "source": [
    "***Создаем датафрейм c агрегированными данными***"
   ]
  },
  {
   "cell_type": "code",
   "execution_count": 45,
   "id": "ca3cbc9c",
   "metadata": {
    "scrolled": true
   },
   "outputs": [
    {
     "data": {
      "text/html": [
       "<div>\n",
       "<style scoped>\n",
       "    .dataframe tbody tr th:only-of-type {\n",
       "        vertical-align: middle;\n",
       "    }\n",
       "\n",
       "    .dataframe tbody tr th {\n",
       "        vertical-align: top;\n",
       "    }\n",
       "\n",
       "    .dataframe thead th {\n",
       "        text-align: right;\n",
       "    }\n",
       "</style>\n",
       "<table border=\"1\" class=\"dataframe\">\n",
       "  <thead>\n",
       "    <tr style=\"text-align: right;\">\n",
       "      <th></th>\n",
       "      <th></th>\n",
       "      <th>distance</th>\n",
       "      <th>duration</th>\n",
       "      <th>name</th>\n",
       "      <th>subscription_type</th>\n",
       "    </tr>\n",
       "    <tr>\n",
       "      <th>user_id</th>\n",
       "      <th>month</th>\n",
       "      <th></th>\n",
       "      <th></th>\n",
       "      <th></th>\n",
       "      <th></th>\n",
       "    </tr>\n",
       "  </thead>\n",
       "  <tbody>\n",
       "    <tr>\n",
       "      <th rowspan=\"6\" valign=\"top\">1</th>\n",
       "      <th>2021-01</th>\n",
       "      <td>7,027.51</td>\n",
       "      <td>42.00</td>\n",
       "      <td>2</td>\n",
       "      <td>ultra</td>\n",
       "    </tr>\n",
       "    <tr>\n",
       "      <th>2021-04</th>\n",
       "      <td>754.16</td>\n",
       "      <td>7.00</td>\n",
       "      <td>1</td>\n",
       "      <td>ultra</td>\n",
       "    </tr>\n",
       "    <tr>\n",
       "      <th>2021-08</th>\n",
       "      <td>6,723.47</td>\n",
       "      <td>46.00</td>\n",
       "      <td>2</td>\n",
       "      <td>ultra</td>\n",
       "    </tr>\n",
       "    <tr>\n",
       "      <th>2021-10</th>\n",
       "      <td>5,809.91</td>\n",
       "      <td>32.00</td>\n",
       "      <td>2</td>\n",
       "      <td>ultra</td>\n",
       "    </tr>\n",
       "    <tr>\n",
       "      <th>2021-11</th>\n",
       "      <td>7,003.50</td>\n",
       "      <td>56.00</td>\n",
       "      <td>3</td>\n",
       "      <td>ultra</td>\n",
       "    </tr>\n",
       "    <tr>\n",
       "      <th>2021-12</th>\n",
       "      <td>6,751.63</td>\n",
       "      <td>28.00</td>\n",
       "      <td>2</td>\n",
       "      <td>ultra</td>\n",
       "    </tr>\n",
       "    <tr>\n",
       "      <th rowspan=\"7\" valign=\"top\">2</th>\n",
       "      <th>2021-03</th>\n",
       "      <td>10,187.72</td>\n",
       "      <td>63.00</td>\n",
       "      <td>3</td>\n",
       "      <td>ultra</td>\n",
       "    </tr>\n",
       "    <tr>\n",
       "      <th>2021-04</th>\n",
       "      <td>6,164.38</td>\n",
       "      <td>40.00</td>\n",
       "      <td>2</td>\n",
       "      <td>ultra</td>\n",
       "    </tr>\n",
       "    <tr>\n",
       "      <th>2021-06</th>\n",
       "      <td>3,255.34</td>\n",
       "      <td>14.00</td>\n",
       "      <td>1</td>\n",
       "      <td>ultra</td>\n",
       "    </tr>\n",
       "    <tr>\n",
       "      <th>2021-07</th>\n",
       "      <td>6,780.72</td>\n",
       "      <td>48.00</td>\n",
       "      <td>2</td>\n",
       "      <td>ultra</td>\n",
       "    </tr>\n",
       "    <tr>\n",
       "      <th>2021-08</th>\n",
       "      <td>923.01</td>\n",
       "      <td>7.00</td>\n",
       "      <td>1</td>\n",
       "      <td>ultra</td>\n",
       "    </tr>\n",
       "    <tr>\n",
       "      <th>2021-10</th>\n",
       "      <td>2,824.64</td>\n",
       "      <td>19.00</td>\n",
       "      <td>1</td>\n",
       "      <td>ultra</td>\n",
       "    </tr>\n",
       "    <tr>\n",
       "      <th>2021-12</th>\n",
       "      <td>3,828.25</td>\n",
       "      <td>12.00</td>\n",
       "      <td>1</td>\n",
       "      <td>ultra</td>\n",
       "    </tr>\n",
       "    <tr>\n",
       "      <th rowspan=\"2\" valign=\"top\">3</th>\n",
       "      <th>2021-01</th>\n",
       "      <td>3,061.78</td>\n",
       "      <td>13.00</td>\n",
       "      <td>1</td>\n",
       "      <td>ultra</td>\n",
       "    </tr>\n",
       "    <tr>\n",
       "      <th>2021-02</th>\n",
       "      <td>5,421.15</td>\n",
       "      <td>39.00</td>\n",
       "      <td>2</td>\n",
       "      <td>ultra</td>\n",
       "    </tr>\n",
       "  </tbody>\n",
       "</table>\n",
       "</div>"
      ],
      "text/plain": [
       "                 distance  duration  name subscription_type\n",
       "user_id month                                              \n",
       "1       2021-01  7,027.51     42.00     2             ultra\n",
       "        2021-04    754.16      7.00     1             ultra\n",
       "        2021-08  6,723.47     46.00     2             ultra\n",
       "        2021-10  5,809.91     32.00     2             ultra\n",
       "        2021-11  7,003.50     56.00     3             ultra\n",
       "        2021-12  6,751.63     28.00     2             ultra\n",
       "2       2021-03 10,187.72     63.00     3             ultra\n",
       "        2021-04  6,164.38     40.00     2             ultra\n",
       "        2021-06  3,255.34     14.00     1             ultra\n",
       "        2021-07  6,780.72     48.00     2             ultra\n",
       "        2021-08    923.01      7.00     1             ultra\n",
       "        2021-10  2,824.64     19.00     1             ultra\n",
       "        2021-12  3,828.25     12.00     1             ultra\n",
       "3       2021-01  3,061.78     13.00     1             ultra\n",
       "        2021-02  5,421.15     39.00     2             ultra"
      ]
     },
     "execution_count": 45,
     "metadata": {},
     "output_type": "execute_result"
    }
   ],
   "source": [
    "total_df = full_data.pivot_table(\n",
    "    index=['user_id', 'month'], \n",
    "    values = ['distance', 'duration', 'name', 'subscription_type'], \n",
    "    aggfunc={'distance':'sum', 'duration':'sum', 'name':'count', 'subscription_type': 'min'})\n",
    "total_df.head(15)"
   ]
  },
  {
   "cell_type": "code",
   "execution_count": 46,
   "id": "9275b6cc",
   "metadata": {},
   "outputs": [],
   "source": [
    "#переименуем столбец name\n",
    "total_df.rename(columns = {'name' : 'trip_cnt'}, inplace = True)"
   ]
  },
  {
   "cell_type": "markdown",
   "id": "ae2bebe2",
   "metadata": {},
   "source": [
    "***Помесячная выручка на тарифе *ultra* и *free****"
   ]
  },
  {
   "cell_type": "code",
   "execution_count": 50,
   "id": "f62b37a7",
   "metadata": {},
   "outputs": [],
   "source": [
    "total_df = pd.pivot_table(full_data, index=['user_id', 'month'], \n",
    "                            values = ['distance', 'name', \n",
    "                                      'duration', 'subscription_type', 'start_ride_price', 'subscription_fee', 'minute_price'], \n",
    "                            aggfunc={'distance': 'sum', \n",
    "                                     'name': 'count',\n",
    "                                     'duration': 'sum',\n",
    "                                     'subscription_type': 'first',\n",
    "                                     'start_ride_price': 'first',\n",
    "                                     'subscription_fee': 'first',\n",
    "                                     'minute_price': 'first'}).reset_index()"
   ]
  },
  {
   "cell_type": "code",
   "execution_count": 51,
   "id": "ae31354e",
   "metadata": {},
   "outputs": [],
   "source": [
    "total_df['revenue'] = ((total_df['name']*total_df['start_ride_price']) + (total_df['duration']*total_df['minute_price']) + total_df['subscription_fee'])"
   ]
  },
  {
   "cell_type": "code",
   "execution_count": 52,
   "id": "23c3ea66",
   "metadata": {},
   "outputs": [
    {
     "data": {
      "text/html": [
       "<div>\n",
       "<style scoped>\n",
       "    .dataframe tbody tr th:only-of-type {\n",
       "        vertical-align: middle;\n",
       "    }\n",
       "\n",
       "    .dataframe tbody tr th {\n",
       "        vertical-align: top;\n",
       "    }\n",
       "\n",
       "    .dataframe thead th {\n",
       "        text-align: right;\n",
       "    }\n",
       "</style>\n",
       "<table border=\"1\" class=\"dataframe\">\n",
       "  <thead>\n",
       "    <tr style=\"text-align: right;\">\n",
       "      <th></th>\n",
       "      <th>user_id</th>\n",
       "      <th>month</th>\n",
       "      <th>distance</th>\n",
       "      <th>duration</th>\n",
       "      <th>minute_price</th>\n",
       "      <th>name</th>\n",
       "      <th>start_ride_price</th>\n",
       "      <th>subscription_fee</th>\n",
       "      <th>subscription_type</th>\n",
       "      <th>revenue</th>\n",
       "    </tr>\n",
       "  </thead>\n",
       "  <tbody>\n",
       "    <tr>\n",
       "      <th>0</th>\n",
       "      <td>1</td>\n",
       "      <td>2021-01</td>\n",
       "      <td>7,027.51</td>\n",
       "      <td>42.00</td>\n",
       "      <td>6</td>\n",
       "      <td>2</td>\n",
       "      <td>0</td>\n",
       "      <td>199</td>\n",
       "      <td>ultra</td>\n",
       "      <td>451.00</td>\n",
       "    </tr>\n",
       "    <tr>\n",
       "      <th>1</th>\n",
       "      <td>1</td>\n",
       "      <td>2021-04</td>\n",
       "      <td>754.16</td>\n",
       "      <td>7.00</td>\n",
       "      <td>6</td>\n",
       "      <td>1</td>\n",
       "      <td>0</td>\n",
       "      <td>199</td>\n",
       "      <td>ultra</td>\n",
       "      <td>241.00</td>\n",
       "    </tr>\n",
       "    <tr>\n",
       "      <th>2</th>\n",
       "      <td>1</td>\n",
       "      <td>2021-08</td>\n",
       "      <td>6,723.47</td>\n",
       "      <td>46.00</td>\n",
       "      <td>6</td>\n",
       "      <td>2</td>\n",
       "      <td>0</td>\n",
       "      <td>199</td>\n",
       "      <td>ultra</td>\n",
       "      <td>475.00</td>\n",
       "    </tr>\n",
       "    <tr>\n",
       "      <th>3</th>\n",
       "      <td>1</td>\n",
       "      <td>2021-10</td>\n",
       "      <td>5,809.91</td>\n",
       "      <td>32.00</td>\n",
       "      <td>6</td>\n",
       "      <td>2</td>\n",
       "      <td>0</td>\n",
       "      <td>199</td>\n",
       "      <td>ultra</td>\n",
       "      <td>391.00</td>\n",
       "    </tr>\n",
       "    <tr>\n",
       "      <th>4</th>\n",
       "      <td>1</td>\n",
       "      <td>2021-11</td>\n",
       "      <td>7,003.50</td>\n",
       "      <td>56.00</td>\n",
       "      <td>6</td>\n",
       "      <td>3</td>\n",
       "      <td>0</td>\n",
       "      <td>199</td>\n",
       "      <td>ultra</td>\n",
       "      <td>535.00</td>\n",
       "    </tr>\n",
       "    <tr>\n",
       "      <th>...</th>\n",
       "      <td>...</td>\n",
       "      <td>...</td>\n",
       "      <td>...</td>\n",
       "      <td>...</td>\n",
       "      <td>...</td>\n",
       "      <td>...</td>\n",
       "      <td>...</td>\n",
       "      <td>...</td>\n",
       "      <td>...</td>\n",
       "      <td>...</td>\n",
       "    </tr>\n",
       "    <tr>\n",
       "      <th>11326</th>\n",
       "      <td>1534</td>\n",
       "      <td>2021-06</td>\n",
       "      <td>3,409.47</td>\n",
       "      <td>26.00</td>\n",
       "      <td>8</td>\n",
       "      <td>2</td>\n",
       "      <td>50</td>\n",
       "      <td>0</td>\n",
       "      <td>free</td>\n",
       "      <td>308.00</td>\n",
       "    </tr>\n",
       "    <tr>\n",
       "      <th>11327</th>\n",
       "      <td>1534</td>\n",
       "      <td>2021-08</td>\n",
       "      <td>7,622.45</td>\n",
       "      <td>48.00</td>\n",
       "      <td>8</td>\n",
       "      <td>2</td>\n",
       "      <td>50</td>\n",
       "      <td>0</td>\n",
       "      <td>free</td>\n",
       "      <td>484.00</td>\n",
       "    </tr>\n",
       "    <tr>\n",
       "      <th>11328</th>\n",
       "      <td>1534</td>\n",
       "      <td>2021-09</td>\n",
       "      <td>4,928.17</td>\n",
       "      <td>23.00</td>\n",
       "      <td>8</td>\n",
       "      <td>1</td>\n",
       "      <td>50</td>\n",
       "      <td>0</td>\n",
       "      <td>free</td>\n",
       "      <td>234.00</td>\n",
       "    </tr>\n",
       "    <tr>\n",
       "      <th>11329</th>\n",
       "      <td>1534</td>\n",
       "      <td>2021-11</td>\n",
       "      <td>13,350.02</td>\n",
       "      <td>78.00</td>\n",
       "      <td>8</td>\n",
       "      <td>4</td>\n",
       "      <td>50</td>\n",
       "      <td>0</td>\n",
       "      <td>free</td>\n",
       "      <td>824.00</td>\n",
       "    </tr>\n",
       "    <tr>\n",
       "      <th>11330</th>\n",
       "      <td>1534</td>\n",
       "      <td>2021-12</td>\n",
       "      <td>2,371.71</td>\n",
       "      <td>16.00</td>\n",
       "      <td>8</td>\n",
       "      <td>1</td>\n",
       "      <td>50</td>\n",
       "      <td>0</td>\n",
       "      <td>free</td>\n",
       "      <td>178.00</td>\n",
       "    </tr>\n",
       "  </tbody>\n",
       "</table>\n",
       "<p>11331 rows × 10 columns</p>\n",
       "</div>"
      ],
      "text/plain": [
       "       user_id    month  distance  duration  minute_price  name  \\\n",
       "0            1  2021-01  7,027.51     42.00             6     2   \n",
       "1            1  2021-04    754.16      7.00             6     1   \n",
       "2            1  2021-08  6,723.47     46.00             6     2   \n",
       "3            1  2021-10  5,809.91     32.00             6     2   \n",
       "4            1  2021-11  7,003.50     56.00             6     3   \n",
       "...        ...      ...       ...       ...           ...   ...   \n",
       "11326     1534  2021-06  3,409.47     26.00             8     2   \n",
       "11327     1534  2021-08  7,622.45     48.00             8     2   \n",
       "11328     1534  2021-09  4,928.17     23.00             8     1   \n",
       "11329     1534  2021-11 13,350.02     78.00             8     4   \n",
       "11330     1534  2021-12  2,371.71     16.00             8     1   \n",
       "\n",
       "       start_ride_price  subscription_fee subscription_type  revenue  \n",
       "0                     0               199             ultra   451.00  \n",
       "1                     0               199             ultra   241.00  \n",
       "2                     0               199             ultra   475.00  \n",
       "3                     0               199             ultra   391.00  \n",
       "4                     0               199             ultra   535.00  \n",
       "...                 ...               ...               ...      ...  \n",
       "11326                50                 0              free   308.00  \n",
       "11327                50                 0              free   484.00  \n",
       "11328                50                 0              free   234.00  \n",
       "11329                50                 0              free   824.00  \n",
       "11330                50                 0              free   178.00  \n",
       "\n",
       "[11331 rows x 10 columns]"
      ]
     },
     "execution_count": 52,
     "metadata": {},
     "output_type": "execute_result"
    }
   ],
   "source": [
    "#Посмотрим данные которые получились\n",
    "total_df"
   ]
  },
  {
   "cell_type": "markdown",
   "id": "a573f518",
   "metadata": {},
   "source": [
    "***Посмотрим на то, сколько пользователи тратят в серднем в месяц на платной подписке***"
   ]
  },
  {
   "cell_type": "code",
   "execution_count": 53,
   "id": "4d940131",
   "metadata": {},
   "outputs": [
    {
     "data": {
      "text/plain": [
       "count   4,533.00\n",
       "mean      362.79\n",
       "std        88.26\n",
       "min       223.00\n",
       "25%       301.00\n",
       "50%       337.00\n",
       "75%       409.00\n",
       "max       955.00\n",
       "Name: revenue, dtype: float64"
      ]
     },
     "execution_count": 53,
     "metadata": {},
     "output_type": "execute_result"
    }
   ],
   "source": [
    "total_df.loc[total_df['subscription_type'] == 'ultra']['revenue'].describe()"
   ]
  },
  {
   "cell_type": "markdown",
   "id": "8759b730",
   "metadata": {},
   "source": [
    "***Посмотрим на то, сколько пользователи тратят в серднем в месяц на бесплатной подписке***"
   ]
  },
  {
   "cell_type": "code",
   "execution_count": 54,
   "id": "3210c448",
   "metadata": {},
   "outputs": [
    {
     "data": {
      "text/plain": [
       "count   6,798.00\n",
       "mean      328.64\n",
       "std       183.87\n",
       "min        58.00\n",
       "25%       194.00\n",
       "50%       274.00\n",
       "75%       428.00\n",
       "max     1,444.00\n",
       "Name: revenue, dtype: float64"
      ]
     },
     "execution_count": 54,
     "metadata": {},
     "output_type": "execute_result"
    }
   ],
   "source": [
    "total_df.loc[total_df['subscription_type'] == 'free']['revenue'].describe()"
   ]
  },
  {
   "cell_type": "markdown",
   "id": "b6e234d4",
   "metadata": {},
   "source": [
    "**Вывод**\n",
    "\n",
    "Добавлен новый датафрейм с агрегированными данными *total_df*.\n",
    "\n",
    "В нем есть данные о количестве поездок суммарном расстоянии и суммарное время для каждого пользователя помесячно. \n",
    "\n",
    "Был добавлен столбец выручкой для каждого пользователя за каждый месяц.\n",
    "\n",
    "В среднем в месяц пользователи с подпиской тратят на аренду 362.79 руб. Пользователи без подписки 328.64 руб. Таким образом, в среднем, пользователи с подпиской приносят на 34.15 руб. больше, чем пользователи без платной подписки."
   ]
  },
  {
   "cell_type": "markdown",
   "id": "2bdf6137",
   "metadata": {},
   "source": [
    "#### Шаг 6. Проверка гипотез"
   ]
  },
  {
   "cell_type": "markdown",
   "id": "a4f3c89a",
   "metadata": {},
   "source": [
    "***6.1 Важно понять, тратят ли пользователи с подпиской больше времени на поездки?***"
   ]
  },
  {
   "cell_type": "markdown",
   "id": "8de9e6fd",
   "metadata": {},
   "source": [
    "Если да, то пользователи с подпиской могут быть «выгоднее» для компании. Проверьте гипотезу. Используйте исходные данные о продолжительности каждой сессии — отдельно для подписчиков и тех, у кого нет подписки."
   ]
  },
  {
   "cell_type": "markdown",
   "id": "c836a905",
   "metadata": {},
   "source": [
    "H0: Продолжительность поездок с подпиской равна продолжительности поездок без подписки.\n",
    "\n",
    "H1: Продолжительность поездок с подпиской больше чем без подписки."
   ]
  },
  {
   "cell_type": "code",
   "execution_count": 55,
   "id": "3347a1c6",
   "metadata": {},
   "outputs": [
    {
     "name": "stdout",
     "output_type": "stream",
     "text": [
      "1.2804098316645618e-34\n",
      "Отвергаем нулевую гипотезу\n"
     ]
    }
   ],
   "source": [
    "results = st.ttest_ind(ultra_subs['duration'], free_subs['duration'], alternative = 'greater')\n",
    "alpha = 0.05\n",
    "print(results.pvalue)\n",
    "if results.pvalue < alpha:\n",
    "    print('Отвергаем нулевую гипотезу')\n",
    "else:\n",
    "    print('Не получилось отвергнуть нулевую гипотезу')"
   ]
  },
  {
   "cell_type": "code",
   "execution_count": 56,
   "id": "c6bf9581",
   "metadata": {},
   "outputs": [
    {
     "name": "stdout",
     "output_type": "stream",
     "text": [
      "Средняя продолжительности поездок по подписке: 18.54 минут.\n",
      "Средняя продолжительности поездок без подписки: 17.39 минут.\n"
     ]
    }
   ],
   "source": [
    "print('Средняя продолжительности поездок по подписке:', round(ultra_subs['duration'].mean(),2), 'минут.')\n",
    "print('Средняя продолжительности поездок без подписки:', round(free_subs['duration'].mean(),2), 'минут.')"
   ]
  },
  {
   "cell_type": "markdown",
   "id": "89193b84",
   "metadata": {},
   "source": [
    "**Вывод**: Была отвергнута нулевая гипотеза о том, что продолжительность поездок пользователей с подпиской равна продолжительности поездок пользователей без подписки. Соответственно, пользователи с подпиской тратят больше времени на аренду."
   ]
  },
  {
   "cell_type": "markdown",
   "id": "a475f2cc",
   "metadata": {},
   "source": [
    "***6.2***"
   ]
  },
  {
   "cell_type": "markdown",
   "id": "f14375c4",
   "metadata": {},
   "source": [
    "Расстояние одной поездки в 3130 метров — оптимальное с точки зрения износа самоката. Можно ли сказать, что среднее расстояние, которое проезжают пользователи с подпиской за одну поездку, не превышает 3130 метров? Проверьте гипотезу и сделайте выводы."
   ]
  },
  {
   "cell_type": "markdown",
   "id": "231be10d",
   "metadata": {},
   "source": [
    "H0: Пользователи с подпиской проезжают среднее расстояние за одну поездку не больше 3130 метров.\n",
    "\n",
    "H1: Пользователи с подпиской проезжают среднее расстояние за одну поездку более 3130 метров."
   ]
  },
  {
   "cell_type": "code",
   "execution_count": 57,
   "id": "9a905e05",
   "metadata": {},
   "outputs": [
    {
     "name": "stdout",
     "output_type": "stream",
     "text": [
      "0.9195368847849785\n",
      "Не получилось отвергнуть нулевую гипотезу\n"
     ]
    }
   ],
   "source": [
    "ultra_dist = ultra_subs['distance']\n",
    "\n",
    "optimal_distant = 3130.0\n",
    "alpha = 0.05\n",
    "\n",
    "results = st.ttest_1samp(\n",
    "    ultra_dist, \n",
    "    optimal_distant,\n",
    "    alternative='greater')\n",
    "    \n",
    "print(results.pvalue)\n",
    "\n",
    "if (results.pvalue < alpha):\n",
    "    print('Отвергаем нулевую гипотезу')\n",
    "else:\n",
    "    print('Не получилось отвергнуть нулевую гипотезу')"
   ]
  },
  {
   "cell_type": "markdown",
   "id": "9a7f42e1",
   "metadata": {},
   "source": [
    "**Вывод**: Не получилось отвергнуть нулевую гипотезу. Таким образом, можно говорить о том, что среднее расстояние за одну поездку, которое проезжают пользователи с подпиской не больше 3130 метров."
   ]
  },
  {
   "cell_type": "markdown",
   "id": "9a921fa0",
   "metadata": {},
   "source": [
    "***6.3***"
   ]
  },
  {
   "cell_type": "markdown",
   "id": "db070fba",
   "metadata": {},
   "source": [
    "Проверьте гипотезу о том, будет ли помесячная выручка от пользователей с подпиской по месяцам выше, чем выручка от пользователей без подписки. Сделайте вывод."
   ]
  },
  {
   "cell_type": "markdown",
   "id": "d36751d4",
   "metadata": {},
   "source": [
    "H0:Cредняя выручка пользователей с подпиской равна cредней выручки пользователей без подписки.\n",
    "\n",
    "H1:Cредняя выручка пользователей с подпиской больше чем средняя выручка пользователей без подписки."
   ]
  },
  {
   "cell_type": "code",
   "execution_count": 58,
   "id": "c7ef6c16",
   "metadata": {},
   "outputs": [
    {
     "name": "stdout",
     "output_type": "stream",
     "text": [
      "1.8850394384715216e-31\n",
      "Отвергаем нулевую гипотезу\n"
     ]
    }
   ],
   "source": [
    "results = st.ttest_ind(total_df.loc[total_df['subscription_type'] == 'ultra']['revenue'], \n",
    "                       total_df.loc[total_df['subscription_type'] == 'free']['revenue'], \n",
    "                       alternative = 'greater')\n",
    "\n",
    "alpha = 0.05\n",
    "print(results.pvalue)\n",
    "\n",
    "if results.pvalue < alpha:\n",
    "    print('Отвергаем нулевую гипотезу')\n",
    "else:\n",
    "    print('Не получилось отвергнуть нулевую гипотезу')"
   ]
  },
  {
   "cell_type": "markdown",
   "id": "afdab514",
   "metadata": {},
   "source": [
    "**Вывод**: Была отвергнута нулевая гипотеза. Таким образом, можно говорить о том, что выручка от пользователей с подпиской больше, чем выручка от пользователей без подписки."
   ]
  },
  {
   "cell_type": "markdown",
   "id": "6198d560",
   "metadata": {},
   "source": [
    "***6.4***"
   ]
  },
  {
   "cell_type": "markdown",
   "id": "ab3b4bae",
   "metadata": {},
   "source": [
    "Представьте такую ситуацию: техническая команда сервиса обновила сервера, с которыми взаимодействует мобильное приложение. Она надеется, что из-за этого количество обращений в техподдержку значимо снизилось. Некоторый файл содержит для каждого пользователя данные о количестве обращений до обновления и после него. Какой тест вам понадобился бы для проверки этой гипотезы?"
   ]
  },
  {
   "cell_type": "markdown",
   "id": "56221b5e",
   "metadata": {},
   "source": [
    "**Ответ**: Будем использовать гипотезу о равенстве средних для зависимых выборок. Решать будем через метод scipy.stats.ttest_rel()"
   ]
  },
  {
   "cell_type": "markdown",
   "id": "ee760676",
   "metadata": {},
   "source": [
    "#### Шаг 7. Общий вывод"
   ]
  },
  {
   "cell_type": "markdown",
   "id": "397ff83c",
   "metadata": {},
   "source": [
    "Было загружено 3 датафрейма: пользователи, поездки и подписки.\n",
    "\n",
    "Привели тип данных у столбца date из датафрейма riders к нужному типу. Также, добавили столбец с номером месяца. Были удалены дубликаты строк из датафрейма с пользователями.\n",
    "\n",
    "Был проведен исследовательский анализ данных:\n",
    "\n",
    "Лидер по количеству пользователей Пятигорск - 219, а замыкает рейтинг Москва - 168 пользователей.\n",
    "835 человек используют бесплатную подписку, это является 54,4% от общего числа пользователей. 699 человек используют бесплатную подписку, это 45,6% от общего числа пользователей.\n",
    "Если говорить о возрасте пользователей, от это люди от 23 до 26 лет. Пользователи от 30 лет пользуются сервисом меньше и далее тенденция идет на спад. В среднем, больше всего пользователей в районе 25 лет.\n",
    "\n",
    "Самое минимальное расстояния, которое пользователь преодолел за одну поездку - 0.86 м. Самое максимальное расстояние - 7.211 м.\n",
    "\n",
    "Был создан общий датафрейм для пользователей с планой и бесплатной подпиской. На его основе были созданы еще два датафрейма:\n",
    "Первый для пользователей только с платной подпиской, воторой для пользователей только с беспланой подпиской и визуализировали полученную информацию.\n",
    "\n",
    "Вывели на основе одного датафрейма еще пару:\n",
    "\n",
    "free_subs - данные о пользователях без подписки;\n",
    "ultra_subs - данные о пользователях с подпиской.\n",
    "\n",
    "Также, были построены визуализации для каждого из тарифов по времени и расстоянию.\n",
    "\n",
    "У бесплатного тарифа интервал времени на пиковых значениях поездок составляет от 13 до 23 минут. Больше всего поездок около 18 минут. Также, пользователи проезжают от 2,2 до 4 км. Чаще всего проезжают расстояния в 2,5км. Есть такие, кто проежает 6км и более. \n",
    "\n",
    "Если смотреть информацию по платному тарифу, то время пиковых значений поездок составляет от 15 до 23 минут. Расстояние от 2,8 до 3,8км. Чаще всего проезжают расстояния 3,2км.\n",
    "\n",
    "Если делать вывод на этой основе то, пользователи на обоих тарифах проезжают приблизительно одинковые расстояния и используют одинаковое время.\n",
    "\n",
    "В среднем в месяц пользователи с подпиской тратят на аренду 362.79 руб. Пользователи без подписки 328.64 руб. Таким образом, в среднем, пользователи с подпиской приносят на 34.15 руб. больше, чем пользователи без платной подписки.\n",
    "\n",
    "Исходя из данных можно сказать, что число пользователей с подпиской и без не сильно отличаются. Но пользователи с подпиской приносят прибыли больше и пользуются самокатами чуть чаще.\n",
    "\n",
    "Были проверены следующие гипотезы:\n",
    "\n",
    "H0: Продолжительность поездок с подпиской равна продолжительности поездок без подписки.\n",
    "\n",
    "H1: Продолжительность поездок с подпиской больше чем без подписки.\n",
    "\n",
    "Отвергли нулевую гипотезу. Соответственно, пользователи с подпиской тратят больше времени на аренду.\n",
    "\n",
    "H0: Пользователи с подпиской проезжают среднее расстояние за одну поездку не больше 3130 метров.\n",
    "\n",
    "H1: Пользователи с подпиской проезжают среднее расстояние за одну поездку более 3130 метров.\n",
    "\n",
    "Не получилось отвергнуть нулевую гипотезу. Таким образом, можно говорить о том, что среднее расстояние за одну поездку, которое проезжают пользователи с подпиской не больше 3130 метров.\n",
    "\n",
    "H0:Cредняя выручка пользователей с подпиской равна cредней выручки пользователей без подписки.\n",
    "\n",
    "H1:Cредняя выручка пользователей с подпиской больше чем средняя выручка пользователей без подписки.\n",
    "\n",
    "Отвергли нулевую гипотезу. Таким образом, можно говорить о том, что выручка от пользователей с подпиской больше, чем выручка от пользователей без подписки."
   ]
  },
  {
   "cell_type": "markdown",
   "id": "419eb6fe",
   "metadata": {},
   "source": [
    "#### Шаг 7. Распределения"
   ]
  },
  {
   "cell_type": "markdown",
   "id": "facc388e",
   "metadata": {},
   "source": [
    " **Задача 1**"
   ]
  },
  {
   "cell_type": "markdown",
   "id": "0df98eb2",
   "metadata": {},
   "source": [
    "Требуется выполнить план по продлению подписки 100 клиентами путем рассылки промокодов. Ранее вероятность продления была 10%. Требуется обеспечить выполнение плана с вероятностью неуспеха не более 5%. Построить график и ответить на вопрос. Сколько нужно разослать промокодов?"
   ]
  },
  {
   "cell_type": "code",
   "execution_count": 59,
   "id": "790b93e1",
   "metadata": {},
   "outputs": [
    {
     "name": "stdout",
     "output_type": "stream",
     "text": [
      "Минимальное количество промокодов для рассылки: 1169\n"
     ]
    }
   ],
   "source": [
    "p = 0.1\n",
    "promo_minimum = 1\n",
    "clients = 100\n",
    "mu=promo_minimum*p\n",
    "sigma=sqrt(promo_minimum*p*(1-p))\n",
    "distr=st.norm(mu, sigma)\n",
    "while distr.cdf(clients) > 0.05:\n",
    "    promo_minimum +=1\n",
    "    mu=promo_minimum*p\n",
    "    sigma=sqrt(promo_minimum*p*(1-p))\n",
    "    distr=st.norm(mu, sigma)\n",
    "print(f'Минимальное количество промокодов для рассылки: {promo_minimum}')"
   ]
  },
  {
   "cell_type": "markdown",
   "id": "5601b9dc",
   "metadata": {},
   "source": [
    "Получается, что нужно разослать как минимум 1169 промокодов."
   ]
  },
  {
   "cell_type": "markdown",
   "id": "22b756fe",
   "metadata": {},
   "source": [
    "**Задача 2**"
   ]
  },
  {
   "cell_type": "markdown",
   "id": "a0b892f9",
   "metadata": {},
   "source": [
    "Планируется разослать клиентам 1 млн. уведомлений, которые клиенты открывают с вероятностью 40%. Требуется с помощью аппроксимации построить график распределения и оценить вероятность того, что не более 399.5 тыс. клиентов откроют уведомления."
   ]
  },
  {
   "cell_type": "code",
   "execution_count": 61,
   "id": "4d36ca77",
   "metadata": {},
   "outputs": [
    {
     "name": "stdout",
     "output_type": "stream",
     "text": [
      "Вероятность, что не более 399.5 тыс. клиентов откроют уведомления равна 15.37%\n"
     ]
    }
   ],
   "source": [
    "p = 0.4  \n",
    "n = 1000000\n",
    "notification = 399500\n",
    "mu = n*p\n",
    "sigma = sqrt(n*p*(1-p))\n",
    "distr = st.norm(mu, sigma)\n",
    "result = distr.cdf(notification)\n",
    "print(f'Вероятность, что не более 399.5 тыс. клиентов откроют уведомления равна {result:.2%}')"
   ]
  },
  {
   "cell_type": "markdown",
   "id": "230e3744",
   "metadata": {},
   "source": [
    "Получается, что не более 399.5 тыс. клиентов откроют уведомления с вероятностью, которая равна 15.37%."
   ]
  },
  {
   "cell_type": "markdown",
   "id": "e85dc3b2",
   "metadata": {},
   "source": [
    "**Вывод**\n",
    "\n",
    "Минимальное количество промокодов, которе нужно разослать для продления подписки - 1169. Это нужно, чтобы обеспечить выполнение плана за месяц с вероятностью неуспеха не более 5% для 100 пользователей.\n",
    "\n",
    "Вероятность, что не более 399.5 тыс. клиентов откроют уведомления равна 15.37%. если разослать их 1 млн., при условии, что  уведомления, которые открывают клиенты равна вероятности в 40%."
   ]
  }
 ],
 "metadata": {
  "ExecuteTimeLog": [
   {
    "duration": 445,
    "start_time": "2024-02-12T13:16:23.997Z"
   },
   {
    "duration": 1021,
    "start_time": "2024-02-12T13:25:25.116Z"
   },
   {
    "duration": 83,
    "start_time": "2024-02-12T13:29:02.220Z"
   },
   {
    "duration": 112,
    "start_time": "2024-02-12T15:29:29.859Z"
   },
   {
    "duration": 54,
    "start_time": "2024-02-12T15:31:59.778Z"
   },
   {
    "duration": 4,
    "start_time": "2024-02-12T15:39:04.851Z"
   },
   {
    "duration": 146,
    "start_time": "2024-02-12T15:39:06.301Z"
   },
   {
    "duration": 14,
    "start_time": "2024-02-12T15:39:07.926Z"
   },
   {
    "duration": 156,
    "start_time": "2024-02-12T15:39:48.501Z"
   },
   {
    "duration": 3,
    "start_time": "2024-02-12T15:51:53.445Z"
   },
   {
    "duration": 142,
    "start_time": "2024-02-12T15:52:19.225Z"
   },
   {
    "duration": 88,
    "start_time": "2024-02-12T15:58:14.265Z"
   },
   {
    "duration": 9,
    "start_time": "2024-02-12T16:08:51.886Z"
   },
   {
    "duration": 8,
    "start_time": "2024-02-12T16:09:01.260Z"
   },
   {
    "duration": 10,
    "start_time": "2024-02-12T16:09:33.327Z"
   },
   {
    "duration": 9,
    "start_time": "2024-02-12T16:09:44.364Z"
   },
   {
    "duration": 15,
    "start_time": "2024-02-12T16:12:41.521Z"
   },
   {
    "duration": 182,
    "start_time": "2024-02-12T16:12:54.940Z"
   },
   {
    "duration": 129,
    "start_time": "2024-02-12T16:51:45.365Z"
   },
   {
    "duration": 6,
    "start_time": "2024-02-12T17:03:48.639Z"
   },
   {
    "duration": 8,
    "start_time": "2024-02-12T17:04:17.158Z"
   },
   {
    "duration": 9,
    "start_time": "2024-02-12T17:04:22.119Z"
   },
   {
    "duration": 10,
    "start_time": "2024-02-12T17:24:35.692Z"
   },
   {
    "duration": 403,
    "start_time": "2024-02-12T17:24:50.933Z"
   },
   {
    "duration": 325,
    "start_time": "2024-02-12T17:25:05.921Z"
   },
   {
    "duration": 375,
    "start_time": "2024-02-12T17:25:43.992Z"
   },
   {
    "duration": 319,
    "start_time": "2024-02-12T17:25:54.751Z"
   },
   {
    "duration": 307,
    "start_time": "2024-02-12T17:25:59.971Z"
   },
   {
    "duration": 572,
    "start_time": "2024-02-12T17:27:10.034Z"
   },
   {
    "duration": 383,
    "start_time": "2024-02-12T17:27:35.670Z"
   },
   {
    "duration": 551,
    "start_time": "2024-02-12T17:28:32.235Z"
   },
   {
    "duration": 1281,
    "start_time": "2024-02-12T17:34:43.528Z"
   },
   {
    "duration": 4,
    "start_time": "2024-02-12T17:35:44.992Z"
   },
   {
    "duration": 5,
    "start_time": "2024-02-12T17:36:03.787Z"
   },
   {
    "duration": 5,
    "start_time": "2024-02-12T17:36:46.067Z"
   },
   {
    "duration": 4,
    "start_time": "2024-02-12T17:37:03.468Z"
   },
   {
    "duration": 4,
    "start_time": "2024-02-12T17:37:21.598Z"
   },
   {
    "duration": 4,
    "start_time": "2024-02-12T17:38:24.447Z"
   },
   {
    "duration": 5,
    "start_time": "2024-02-12T17:39:52.190Z"
   },
   {
    "duration": 4,
    "start_time": "2024-02-12T17:40:28.407Z"
   },
   {
    "duration": 5,
    "start_time": "2024-02-12T17:43:35.466Z"
   },
   {
    "duration": 6,
    "start_time": "2024-02-12T18:33:30.220Z"
   },
   {
    "duration": 8,
    "start_time": "2024-02-12T18:33:49.600Z"
   },
   {
    "duration": 8,
    "start_time": "2024-02-12T18:38:20.539Z"
   },
   {
    "duration": 5,
    "start_time": "2024-02-12T18:38:28.720Z"
   },
   {
    "duration": 8,
    "start_time": "2024-02-12T18:38:29.819Z"
   },
   {
    "duration": 7,
    "start_time": "2024-02-12T18:38:43.719Z"
   },
   {
    "duration": 11,
    "start_time": "2024-02-12T18:49:21.640Z"
   },
   {
    "duration": 7,
    "start_time": "2024-02-12T18:49:25.620Z"
   },
   {
    "duration": 5,
    "start_time": "2024-02-12T18:55:28.360Z"
   },
   {
    "duration": 5,
    "start_time": "2024-02-12T18:55:34.241Z"
   },
   {
    "duration": 6,
    "start_time": "2024-02-12T18:55:45.243Z"
   },
   {
    "duration": 1192,
    "start_time": "2024-02-12T19:08:59.015Z"
   },
   {
    "duration": 73,
    "start_time": "2024-02-12T19:09:00.209Z"
   },
   {
    "duration": 107,
    "start_time": "2024-02-12T19:09:00.284Z"
   },
   {
    "duration": 0,
    "start_time": "2024-02-12T19:09:00.393Z"
   },
   {
    "duration": 0,
    "start_time": "2024-02-12T19:09:00.394Z"
   },
   {
    "duration": 0,
    "start_time": "2024-02-12T19:09:00.395Z"
   },
   {
    "duration": 0,
    "start_time": "2024-02-12T19:09:00.396Z"
   },
   {
    "duration": 0,
    "start_time": "2024-02-12T19:09:00.397Z"
   },
   {
    "duration": 0,
    "start_time": "2024-02-12T19:09:00.398Z"
   },
   {
    "duration": 0,
    "start_time": "2024-02-12T19:09:00.399Z"
   },
   {
    "duration": 1305,
    "start_time": "2024-02-12T19:10:08.208Z"
   },
   {
    "duration": 68,
    "start_time": "2024-02-12T19:10:09.515Z"
   },
   {
    "duration": 143,
    "start_time": "2024-02-12T19:10:09.585Z"
   },
   {
    "duration": 317,
    "start_time": "2024-02-12T19:10:09.730Z"
   },
   {
    "duration": 343,
    "start_time": "2024-02-12T19:10:10.049Z"
   },
   {
    "duration": 3,
    "start_time": "2024-02-12T19:10:10.394Z"
   },
   {
    "duration": 242,
    "start_time": "2024-02-12T19:10:10.399Z"
   },
   {
    "duration": 6,
    "start_time": "2024-02-12T19:10:10.643Z"
   },
   {
    "duration": 19,
    "start_time": "2024-02-12T19:10:10.651Z"
   },
   {
    "duration": 12,
    "start_time": "2024-02-12T19:10:10.671Z"
   },
   {
    "duration": 151,
    "start_time": "2024-02-12T19:14:06.903Z"
   },
   {
    "duration": 4,
    "start_time": "2024-02-12T19:23:42.043Z"
   },
   {
    "duration": 4,
    "start_time": "2024-02-12T19:24:05.189Z"
   },
   {
    "duration": 99,
    "start_time": "2024-02-12T19:26:45.100Z"
   },
   {
    "duration": 9,
    "start_time": "2024-02-12T19:28:06.840Z"
   },
   {
    "duration": 8,
    "start_time": "2024-02-12T19:28:23.414Z"
   },
   {
    "duration": 5,
    "start_time": "2024-02-12T19:28:39.655Z"
   },
   {
    "duration": 146,
    "start_time": "2024-02-12T19:29:02.355Z"
   },
   {
    "duration": 5,
    "start_time": "2024-02-12T19:33:48.370Z"
   },
   {
    "duration": 3,
    "start_time": "2024-02-12T19:34:15.063Z"
   },
   {
    "duration": 4,
    "start_time": "2024-02-12T19:34:25.171Z"
   },
   {
    "duration": 92,
    "start_time": "2024-02-12T19:35:00.344Z"
   },
   {
    "duration": 7,
    "start_time": "2024-02-12T19:37:53.068Z"
   },
   {
    "duration": 7,
    "start_time": "2024-02-12T19:39:13.559Z"
   },
   {
    "duration": 171,
    "start_time": "2024-02-12T19:39:33.448Z"
   },
   {
    "duration": 8,
    "start_time": "2024-02-12T19:44:09.274Z"
   },
   {
    "duration": 8,
    "start_time": "2024-02-12T19:44:30.025Z"
   },
   {
    "duration": 113,
    "start_time": "2024-02-12T19:45:06.144Z"
   },
   {
    "duration": 7,
    "start_time": "2024-02-12T19:48:55.356Z"
   },
   {
    "duration": 8,
    "start_time": "2024-02-12T19:49:18.220Z"
   },
   {
    "duration": 12,
    "start_time": "2024-02-12T19:49:49.595Z"
   },
   {
    "duration": 98,
    "start_time": "2024-02-12T19:50:25.269Z"
   },
   {
    "duration": 106,
    "start_time": "2024-02-12T19:59:14.885Z"
   },
   {
    "duration": 116,
    "start_time": "2024-02-12T19:59:22.032Z"
   },
   {
    "duration": 111,
    "start_time": "2024-02-12T20:13:15.208Z"
   },
   {
    "duration": 114,
    "start_time": "2024-02-12T20:13:38.527Z"
   },
   {
    "duration": 12,
    "start_time": "2024-02-12T20:16:35.351Z"
   },
   {
    "duration": 11,
    "start_time": "2024-02-12T20:16:48.229Z"
   },
   {
    "duration": 8,
    "start_time": "2024-02-12T20:16:59.110Z"
   },
   {
    "duration": 12,
    "start_time": "2024-02-12T20:17:28.768Z"
   },
   {
    "duration": 25,
    "start_time": "2024-02-12T20:17:36.751Z"
   },
   {
    "duration": 11,
    "start_time": "2024-02-12T20:18:31.416Z"
   },
   {
    "duration": 7,
    "start_time": "2024-02-12T20:18:42.447Z"
   },
   {
    "duration": 19,
    "start_time": "2024-02-12T20:18:43.105Z"
   },
   {
    "duration": 185,
    "start_time": "2024-02-12T20:19:41.850Z"
   },
   {
    "duration": 186,
    "start_time": "2024-02-12T20:19:57.469Z"
   },
   {
    "duration": 203,
    "start_time": "2024-02-12T20:20:10.342Z"
   },
   {
    "duration": 213,
    "start_time": "2024-02-12T20:20:18.650Z"
   },
   {
    "duration": 192,
    "start_time": "2024-02-12T20:20:30.161Z"
   },
   {
    "duration": 179,
    "start_time": "2024-02-12T20:20:37.511Z"
   },
   {
    "duration": 194,
    "start_time": "2024-02-12T20:20:43.389Z"
   },
   {
    "duration": 191,
    "start_time": "2024-02-12T20:20:48.529Z"
   },
   {
    "duration": 189,
    "start_time": "2024-02-12T20:21:10.509Z"
   },
   {
    "duration": 179,
    "start_time": "2024-02-12T20:22:02.970Z"
   },
   {
    "duration": 214,
    "start_time": "2024-02-12T20:22:43.451Z"
   },
   {
    "duration": 178,
    "start_time": "2024-02-12T20:22:59.017Z"
   },
   {
    "duration": 191,
    "start_time": "2024-02-12T20:23:27.009Z"
   },
   {
    "duration": 183,
    "start_time": "2024-02-12T20:24:13.198Z"
   },
   {
    "duration": 538,
    "start_time": "2024-02-12T20:24:32.552Z"
   },
   {
    "duration": 527,
    "start_time": "2024-02-12T20:24:43.016Z"
   },
   {
    "duration": 398,
    "start_time": "2024-02-12T20:24:49.332Z"
   },
   {
    "duration": 317,
    "start_time": "2024-02-12T20:24:52.913Z"
   },
   {
    "duration": 327,
    "start_time": "2024-02-12T20:25:01.325Z"
   },
   {
    "duration": 197,
    "start_time": "2024-02-12T20:25:16.986Z"
   },
   {
    "duration": 179,
    "start_time": "2024-02-12T20:26:29.633Z"
   },
   {
    "duration": 172,
    "start_time": "2024-02-12T20:26:43.151Z"
   },
   {
    "duration": 190,
    "start_time": "2024-02-12T20:26:51.891Z"
   },
   {
    "duration": 194,
    "start_time": "2024-02-12T20:27:10.732Z"
   },
   {
    "duration": 188,
    "start_time": "2024-02-12T20:27:17.133Z"
   },
   {
    "duration": 6,
    "start_time": "2024-02-12T20:28:19.127Z"
   },
   {
    "duration": 20,
    "start_time": "2024-02-12T20:28:31.113Z"
   },
   {
    "duration": 290,
    "start_time": "2024-02-12T20:29:00.531Z"
   },
   {
    "duration": 181,
    "start_time": "2024-02-12T20:29:12.831Z"
   },
   {
    "duration": 169,
    "start_time": "2024-02-12T20:29:50.275Z"
   },
   {
    "duration": 59,
    "start_time": "2024-02-14T15:31:43.417Z"
   },
   {
    "duration": 1477,
    "start_time": "2024-02-14T15:34:40.736Z"
   },
   {
    "duration": 204,
    "start_time": "2024-02-14T15:34:42.216Z"
   },
   {
    "duration": 122,
    "start_time": "2024-02-14T15:34:42.422Z"
   },
   {
    "duration": 292,
    "start_time": "2024-02-14T15:34:42.567Z"
   },
   {
    "duration": 346,
    "start_time": "2024-02-14T15:34:42.865Z"
   },
   {
    "duration": 3,
    "start_time": "2024-02-14T15:34:43.213Z"
   },
   {
    "duration": 254,
    "start_time": "2024-02-14T15:34:43.217Z"
   },
   {
    "duration": 6,
    "start_time": "2024-02-14T15:34:43.473Z"
   },
   {
    "duration": 5,
    "start_time": "2024-02-14T15:34:43.480Z"
   },
   {
    "duration": 8,
    "start_time": "2024-02-14T15:34:43.487Z"
   },
   {
    "duration": 194,
    "start_time": "2024-02-14T15:34:43.497Z"
   },
   {
    "duration": 4,
    "start_time": "2024-02-14T15:34:43.694Z"
   },
   {
    "duration": 22,
    "start_time": "2024-02-14T15:34:43.699Z"
   },
   {
    "duration": 8,
    "start_time": "2024-02-14T15:34:43.724Z"
   },
   {
    "duration": 8,
    "start_time": "2024-02-14T15:34:43.733Z"
   },
   {
    "duration": 160,
    "start_time": "2024-02-14T15:34:43.743Z"
   },
   {
    "duration": 4,
    "start_time": "2024-02-14T15:34:43.904Z"
   },
   {
    "duration": 9,
    "start_time": "2024-02-14T15:34:43.909Z"
   },
   {
    "duration": 111,
    "start_time": "2024-02-14T15:34:43.919Z"
   },
   {
    "duration": 6,
    "start_time": "2024-02-14T15:34:44.033Z"
   },
   {
    "duration": 12,
    "start_time": "2024-02-14T15:34:44.040Z"
   },
   {
    "duration": 164,
    "start_time": "2024-02-14T15:34:44.054Z"
   },
   {
    "duration": 7,
    "start_time": "2024-02-14T15:34:44.220Z"
   },
   {
    "duration": 7,
    "start_time": "2024-02-14T15:34:44.228Z"
   },
   {
    "duration": 126,
    "start_time": "2024-02-14T15:34:44.236Z"
   },
   {
    "duration": 14,
    "start_time": "2024-02-14T15:34:44.363Z"
   },
   {
    "duration": 9,
    "start_time": "2024-02-14T15:34:44.380Z"
   },
   {
    "duration": 12,
    "start_time": "2024-02-14T15:34:44.391Z"
   },
   {
    "duration": 136,
    "start_time": "2024-02-14T15:34:44.405Z"
   },
   {
    "duration": 13,
    "start_time": "2024-02-14T15:34:44.543Z"
   },
   {
    "duration": 28,
    "start_time": "2024-02-14T15:34:44.558Z"
   },
   {
    "duration": 19,
    "start_time": "2024-02-14T15:34:44.588Z"
   },
   {
    "duration": 11,
    "start_time": "2024-02-14T15:34:44.609Z"
   },
   {
    "duration": 22,
    "start_time": "2024-02-14T15:34:44.621Z"
   },
   {
    "duration": 218,
    "start_time": "2024-02-14T15:34:44.645Z"
   },
   {
    "duration": 192,
    "start_time": "2024-02-14T15:34:44.864Z"
   },
   {
    "duration": 18,
    "start_time": "2024-02-14T15:34:45.058Z"
   },
   {
    "duration": 48,
    "start_time": "2024-02-14T15:34:45.078Z"
   },
   {
    "duration": 219,
    "start_time": "2024-02-14T15:34:45.128Z"
   },
   {
    "duration": 183,
    "start_time": "2024-02-14T15:34:45.348Z"
   },
   {
    "duration": 937,
    "start_time": "2024-02-14T15:34:45.535Z"
   },
   {
    "duration": 952,
    "start_time": "2024-02-14T15:35:34.463Z"
   },
   {
    "duration": 4,
    "start_time": "2024-02-14T15:36:09.525Z"
   },
   {
    "duration": 129,
    "start_time": "2024-02-14T15:36:22.623Z"
   },
   {
    "duration": 4,
    "start_time": "2024-02-14T15:36:31.442Z"
   },
   {
    "duration": 21,
    "start_time": "2024-02-14T15:36:45.571Z"
   },
   {
    "duration": 12,
    "start_time": "2024-02-14T15:37:24.162Z"
   },
   {
    "duration": 4,
    "start_time": "2024-02-14T15:38:28.629Z"
   },
   {
    "duration": 138,
    "start_time": "2024-02-14T15:38:48.431Z"
   },
   {
    "duration": 6,
    "start_time": "2024-02-14T15:39:07.942Z"
   },
   {
    "duration": 12,
    "start_time": "2024-02-14T15:39:35.683Z"
   },
   {
    "duration": 1230,
    "start_time": "2024-02-14T15:46:47.951Z"
   },
   {
    "duration": 69,
    "start_time": "2024-02-14T15:46:49.183Z"
   },
   {
    "duration": 143,
    "start_time": "2024-02-14T15:46:49.254Z"
   },
   {
    "duration": 323,
    "start_time": "2024-02-14T15:46:49.398Z"
   },
   {
    "duration": 388,
    "start_time": "2024-02-14T15:46:49.723Z"
   },
   {
    "duration": 2,
    "start_time": "2024-02-14T15:46:50.112Z"
   },
   {
    "duration": 245,
    "start_time": "2024-02-14T15:46:50.116Z"
   },
   {
    "duration": 7,
    "start_time": "2024-02-14T15:46:50.363Z"
   },
   {
    "duration": 11,
    "start_time": "2024-02-14T15:46:50.372Z"
   },
   {
    "duration": 16,
    "start_time": "2024-02-14T15:46:50.384Z"
   },
   {
    "duration": 178,
    "start_time": "2024-02-14T15:46:50.401Z"
   },
   {
    "duration": 3,
    "start_time": "2024-02-14T15:46:50.580Z"
   },
   {
    "duration": 20,
    "start_time": "2024-02-14T15:46:50.585Z"
   },
   {
    "duration": 23,
    "start_time": "2024-02-14T15:46:50.608Z"
   },
   {
    "duration": 17,
    "start_time": "2024-02-14T15:46:50.633Z"
   },
   {
    "duration": 167,
    "start_time": "2024-02-14T15:46:50.652Z"
   },
   {
    "duration": 4,
    "start_time": "2024-02-14T15:46:50.821Z"
   },
   {
    "duration": 23,
    "start_time": "2024-02-14T15:46:50.826Z"
   },
   {
    "duration": 93,
    "start_time": "2024-02-14T15:46:50.850Z"
   },
   {
    "duration": 6,
    "start_time": "2024-02-14T15:46:50.945Z"
   },
   {
    "duration": 16,
    "start_time": "2024-02-14T15:46:50.952Z"
   },
   {
    "duration": 183,
    "start_time": "2024-02-14T15:46:50.970Z"
   },
   {
    "duration": 12,
    "start_time": "2024-02-14T15:46:51.154Z"
   },
   {
    "duration": 17,
    "start_time": "2024-02-14T15:46:51.167Z"
   },
   {
    "duration": 112,
    "start_time": "2024-02-14T15:46:51.185Z"
   },
   {
    "duration": 7,
    "start_time": "2024-02-14T15:46:51.298Z"
   },
   {
    "duration": 17,
    "start_time": "2024-02-14T15:46:51.307Z"
   },
   {
    "duration": 25,
    "start_time": "2024-02-14T15:46:51.325Z"
   },
   {
    "duration": 111,
    "start_time": "2024-02-14T15:46:51.351Z"
   },
   {
    "duration": 12,
    "start_time": "2024-02-14T15:46:51.466Z"
   },
   {
    "duration": 25,
    "start_time": "2024-02-14T15:46:51.479Z"
   },
   {
    "duration": 21,
    "start_time": "2024-02-14T15:46:51.506Z"
   },
   {
    "duration": 15,
    "start_time": "2024-02-14T15:46:51.529Z"
   },
   {
    "duration": 27,
    "start_time": "2024-02-14T15:46:51.545Z"
   },
   {
    "duration": 248,
    "start_time": "2024-02-14T15:46:51.574Z"
   },
   {
    "duration": 205,
    "start_time": "2024-02-14T15:46:51.824Z"
   },
   {
    "duration": 6,
    "start_time": "2024-02-14T15:46:52.031Z"
   },
   {
    "duration": 39,
    "start_time": "2024-02-14T15:46:52.038Z"
   },
   {
    "duration": 211,
    "start_time": "2024-02-14T15:46:52.079Z"
   },
   {
    "duration": 223,
    "start_time": "2024-02-14T15:46:52.292Z"
   },
   {
    "duration": 1013,
    "start_time": "2024-02-14T15:46:52.521Z"
   },
   {
    "duration": 4,
    "start_time": "2024-02-14T15:46:53.535Z"
   },
   {
    "duration": 20,
    "start_time": "2024-02-14T15:46:53.540Z"
   },
   {
    "duration": 45,
    "start_time": "2024-02-14T15:46:53.561Z"
   },
   {
    "duration": 16,
    "start_time": "2024-02-14T15:46:53.607Z"
   },
   {
    "duration": 15,
    "start_time": "2024-02-14T15:46:53.624Z"
   },
   {
    "duration": 215,
    "start_time": "2024-02-14T15:46:53.641Z"
   },
   {
    "duration": 5,
    "start_time": "2024-02-14T15:46:53.857Z"
   },
   {
    "duration": 41,
    "start_time": "2024-02-14T15:46:53.864Z"
   },
   {
    "duration": 6,
    "start_time": "2024-02-14T15:51:24.326Z"
   },
   {
    "duration": 1014,
    "start_time": "2024-02-14T15:51:38.907Z"
   },
   {
    "duration": 806,
    "start_time": "2024-02-14T15:53:17.009Z"
   },
   {
    "duration": 809,
    "start_time": "2024-02-14T15:53:31.508Z"
   },
   {
    "duration": 901,
    "start_time": "2024-02-14T15:56:06.709Z"
   },
   {
    "duration": 83,
    "start_time": "2024-02-14T16:09:15.462Z"
   },
   {
    "duration": 19,
    "start_time": "2024-02-14T16:09:58.373Z"
   },
   {
    "duration": 105,
    "start_time": "2024-02-14T16:50:06.794Z"
   },
   {
    "duration": 14,
    "start_time": "2024-02-14T16:50:19.352Z"
   },
   {
    "duration": 12,
    "start_time": "2024-02-14T16:50:54.970Z"
   },
   {
    "duration": 5,
    "start_time": "2024-02-14T19:59:46.330Z"
   },
   {
    "duration": 246,
    "start_time": "2024-02-14T20:00:03.768Z"
   },
   {
    "duration": 4,
    "start_time": "2024-02-14T20:02:21.226Z"
   },
   {
    "duration": 217,
    "start_time": "2024-02-14T20:02:25.702Z"
   },
   {
    "duration": 5,
    "start_time": "2024-02-14T20:04:56.387Z"
   },
   {
    "duration": 324,
    "start_time": "2024-02-14T20:04:58.088Z"
   },
   {
    "duration": 250,
    "start_time": "2024-02-14T20:05:13.177Z"
   },
   {
    "duration": 4,
    "start_time": "2024-02-14T20:08:44.368Z"
   },
   {
    "duration": 235,
    "start_time": "2024-02-14T20:08:48.170Z"
   },
   {
    "duration": 4,
    "start_time": "2024-02-14T20:09:34.098Z"
   },
   {
    "duration": 238,
    "start_time": "2024-02-14T20:09:35.729Z"
   },
   {
    "duration": 4,
    "start_time": "2024-02-14T20:09:45.765Z"
   },
   {
    "duration": 230,
    "start_time": "2024-02-14T20:09:53.678Z"
   },
   {
    "duration": 4,
    "start_time": "2024-02-14T20:12:19.399Z"
   },
   {
    "duration": 188,
    "start_time": "2024-02-14T20:12:20.919Z"
   },
   {
    "duration": 69,
    "start_time": "2024-02-14T20:17:13.600Z"
   },
   {
    "duration": 3,
    "start_time": "2024-02-14T20:17:23.980Z"
   },
   {
    "duration": 4,
    "start_time": "2024-02-14T20:17:39.311Z"
   },
   {
    "duration": 8,
    "start_time": "2024-02-14T20:17:47.960Z"
   },
   {
    "duration": 274,
    "start_time": "2024-02-14T20:20:26.649Z"
   },
   {
    "duration": 4,
    "start_time": "2024-02-14T20:20:33.539Z"
   },
   {
    "duration": 203,
    "start_time": "2024-02-14T20:20:35.219Z"
   },
   {
    "duration": 9,
    "start_time": "2024-02-14T20:33:51.487Z"
   },
   {
    "duration": 218,
    "start_time": "2024-02-14T20:34:23.487Z"
   },
   {
    "duration": 8,
    "start_time": "2024-02-14T20:34:35.198Z"
   },
   {
    "duration": 272,
    "start_time": "2024-02-14T20:34:38.658Z"
   },
   {
    "duration": 7,
    "start_time": "2024-02-14T20:35:24.147Z"
   },
   {
    "duration": 258,
    "start_time": "2024-02-14T20:35:31.957Z"
   },
   {
    "duration": 3,
    "start_time": "2024-02-14T20:35:43.788Z"
   },
   {
    "duration": 226,
    "start_time": "2024-02-14T20:35:58.698Z"
   },
   {
    "duration": 1254,
    "start_time": "2024-02-14T20:45:24.405Z"
   },
   {
    "duration": 9,
    "start_time": "2024-02-14T20:45:43.534Z"
   },
   {
    "duration": 10,
    "start_time": "2024-02-14T20:46:47.425Z"
   },
   {
    "duration": 3,
    "start_time": "2024-02-14T21:07:19.518Z"
   },
   {
    "duration": 343,
    "start_time": "2024-02-14T21:07:23.877Z"
   },
   {
    "duration": 1201,
    "start_time": "2024-02-15T00:37:19.748Z"
   },
   {
    "duration": 196,
    "start_time": "2024-02-15T00:37:20.951Z"
   },
   {
    "duration": 100,
    "start_time": "2024-02-15T00:37:21.148Z"
   },
   {
    "duration": 232,
    "start_time": "2024-02-15T00:37:21.250Z"
   },
   {
    "duration": 270,
    "start_time": "2024-02-15T00:37:21.483Z"
   },
   {
    "duration": 2,
    "start_time": "2024-02-15T00:37:21.755Z"
   },
   {
    "duration": 212,
    "start_time": "2024-02-15T00:37:21.758Z"
   },
   {
    "duration": 4,
    "start_time": "2024-02-15T00:37:21.972Z"
   },
   {
    "duration": 10,
    "start_time": "2024-02-15T00:37:21.977Z"
   },
   {
    "duration": 10,
    "start_time": "2024-02-15T00:37:21.989Z"
   },
   {
    "duration": 116,
    "start_time": "2024-02-15T00:37:22.000Z"
   },
   {
    "duration": 2,
    "start_time": "2024-02-15T00:37:22.117Z"
   },
   {
    "duration": 7,
    "start_time": "2024-02-15T00:37:22.120Z"
   },
   {
    "duration": 9,
    "start_time": "2024-02-15T00:37:22.128Z"
   },
   {
    "duration": 4,
    "start_time": "2024-02-15T00:37:22.138Z"
   },
   {
    "duration": 131,
    "start_time": "2024-02-15T00:37:22.143Z"
   },
   {
    "duration": 3,
    "start_time": "2024-02-15T00:37:22.275Z"
   },
   {
    "duration": 15,
    "start_time": "2024-02-15T00:37:22.280Z"
   },
   {
    "duration": 74,
    "start_time": "2024-02-15T00:37:22.296Z"
   },
   {
    "duration": 4,
    "start_time": "2024-02-15T00:37:22.371Z"
   },
   {
    "duration": 6,
    "start_time": "2024-02-15T00:37:22.376Z"
   },
   {
    "duration": 127,
    "start_time": "2024-02-15T00:37:22.384Z"
   },
   {
    "duration": 6,
    "start_time": "2024-02-15T00:37:22.512Z"
   },
   {
    "duration": 5,
    "start_time": "2024-02-15T00:37:22.519Z"
   },
   {
    "duration": 96,
    "start_time": "2024-02-15T00:37:22.525Z"
   },
   {
    "duration": 6,
    "start_time": "2024-02-15T00:37:22.622Z"
   },
   {
    "duration": 15,
    "start_time": "2024-02-15T00:37:22.629Z"
   },
   {
    "duration": 9,
    "start_time": "2024-02-15T00:37:22.647Z"
   },
   {
    "duration": 90,
    "start_time": "2024-02-15T00:37:22.657Z"
   },
   {
    "duration": 10,
    "start_time": "2024-02-15T00:37:22.748Z"
   },
   {
    "duration": 8,
    "start_time": "2024-02-15T00:37:22.760Z"
   },
   {
    "duration": 15,
    "start_time": "2024-02-15T00:37:22.769Z"
   },
   {
    "duration": 8,
    "start_time": "2024-02-15T00:37:22.801Z"
   },
   {
    "duration": 13,
    "start_time": "2024-02-15T00:37:22.810Z"
   },
   {
    "duration": 158,
    "start_time": "2024-02-15T00:37:22.824Z"
   },
   {
    "duration": 147,
    "start_time": "2024-02-15T00:37:22.984Z"
   },
   {
    "duration": 5,
    "start_time": "2024-02-15T00:37:23.132Z"
   },
   {
    "duration": 22,
    "start_time": "2024-02-15T00:37:23.139Z"
   },
   {
    "duration": 150,
    "start_time": "2024-02-15T00:37:23.162Z"
   },
   {
    "duration": 136,
    "start_time": "2024-02-15T00:37:23.314Z"
   },
   {
    "duration": 803,
    "start_time": "2024-02-15T00:37:23.452Z"
   },
   {
    "duration": 3,
    "start_time": "2024-02-15T00:37:24.256Z"
   },
   {
    "duration": 4,
    "start_time": "2024-02-15T00:37:24.261Z"
   },
   {
    "duration": 13,
    "start_time": "2024-02-15T00:37:24.266Z"
   },
   {
    "duration": 23,
    "start_time": "2024-02-15T00:37:24.280Z"
   },
   {
    "duration": 3,
    "start_time": "2024-02-15T00:37:24.305Z"
   },
   {
    "duration": 134,
    "start_time": "2024-02-15T00:37:24.309Z"
   },
   {
    "duration": 5,
    "start_time": "2024-02-15T00:37:24.444Z"
   },
   {
    "duration": 9,
    "start_time": "2024-02-15T00:37:24.451Z"
   },
   {
    "duration": 4,
    "start_time": "2024-02-15T00:37:24.462Z"
   },
   {
    "duration": 751,
    "start_time": "2024-02-15T00:37:24.468Z"
   },
   {
    "duration": 5,
    "start_time": "2024-02-15T00:37:25.220Z"
   },
   {
    "duration": 8,
    "start_time": "2024-02-15T00:37:25.226Z"
   },
   {
    "duration": 8,
    "start_time": "2024-02-15T00:37:25.235Z"
   },
   {
    "duration": 8,
    "start_time": "2024-02-15T00:37:25.244Z"
   },
   {
    "duration": 4,
    "start_time": "2024-02-15T00:37:25.253Z"
   },
   {
    "duration": 299,
    "start_time": "2024-02-15T00:37:25.258Z"
   },
   {
    "duration": 4,
    "start_time": "2024-02-15T00:37:25.558Z"
   },
   {
    "duration": 194,
    "start_time": "2024-02-15T00:37:25.563Z"
   },
   {
    "duration": 1077,
    "start_time": "2024-02-15T00:46:21.721Z"
   },
   {
    "duration": 65,
    "start_time": "2024-02-15T00:46:22.800Z"
   },
   {
    "duration": 99,
    "start_time": "2024-02-15T00:46:22.866Z"
   },
   {
    "duration": 240,
    "start_time": "2024-02-15T00:46:22.966Z"
   },
   {
    "duration": 270,
    "start_time": "2024-02-15T00:46:23.208Z"
   },
   {
    "duration": 2,
    "start_time": "2024-02-15T00:46:23.480Z"
   },
   {
    "duration": 216,
    "start_time": "2024-02-15T00:46:23.483Z"
   },
   {
    "duration": 4,
    "start_time": "2024-02-15T00:46:23.702Z"
   },
   {
    "duration": 5,
    "start_time": "2024-02-15T00:46:23.707Z"
   },
   {
    "duration": 20,
    "start_time": "2024-02-15T00:46:23.713Z"
   },
   {
    "duration": 110,
    "start_time": "2024-02-15T00:46:23.734Z"
   },
   {
    "duration": 3,
    "start_time": "2024-02-15T00:46:23.845Z"
   },
   {
    "duration": 6,
    "start_time": "2024-02-15T00:46:23.849Z"
   },
   {
    "duration": 10,
    "start_time": "2024-02-15T00:46:23.857Z"
   },
   {
    "duration": 8,
    "start_time": "2024-02-15T00:46:23.868Z"
   },
   {
    "duration": 138,
    "start_time": "2024-02-15T00:46:23.877Z"
   },
   {
    "duration": 3,
    "start_time": "2024-02-15T00:46:24.016Z"
   },
   {
    "duration": 15,
    "start_time": "2024-02-15T00:46:24.021Z"
   },
   {
    "duration": 73,
    "start_time": "2024-02-15T00:46:24.037Z"
   },
   {
    "duration": 4,
    "start_time": "2024-02-15T00:46:24.111Z"
   },
   {
    "duration": 10,
    "start_time": "2024-02-15T00:46:24.116Z"
   },
   {
    "duration": 120,
    "start_time": "2024-02-15T00:46:24.128Z"
   },
   {
    "duration": 6,
    "start_time": "2024-02-15T00:46:24.249Z"
   },
   {
    "duration": 6,
    "start_time": "2024-02-15T00:46:24.256Z"
   },
   {
    "duration": 102,
    "start_time": "2024-02-15T00:46:24.264Z"
   },
   {
    "duration": 6,
    "start_time": "2024-02-15T00:46:24.367Z"
   },
   {
    "duration": 5,
    "start_time": "2024-02-15T00:46:24.374Z"
   },
   {
    "duration": 23,
    "start_time": "2024-02-15T00:46:24.381Z"
   },
   {
    "duration": 84,
    "start_time": "2024-02-15T00:46:24.405Z"
   },
   {
    "duration": 18,
    "start_time": "2024-02-15T00:46:24.491Z"
   },
   {
    "duration": 8,
    "start_time": "2024-02-15T00:46:24.510Z"
   },
   {
    "duration": 29,
    "start_time": "2024-02-15T00:46:24.519Z"
   },
   {
    "duration": 9,
    "start_time": "2024-02-15T00:46:24.549Z"
   },
   {
    "duration": 18,
    "start_time": "2024-02-15T00:46:24.559Z"
   },
   {
    "duration": 154,
    "start_time": "2024-02-15T00:46:24.579Z"
   },
   {
    "duration": 149,
    "start_time": "2024-02-15T00:46:24.734Z"
   },
   {
    "duration": 7,
    "start_time": "2024-02-15T00:46:24.884Z"
   },
   {
    "duration": 15,
    "start_time": "2024-02-15T00:46:24.902Z"
   },
   {
    "duration": 157,
    "start_time": "2024-02-15T00:46:24.918Z"
   },
   {
    "duration": 156,
    "start_time": "2024-02-15T00:46:25.076Z"
   },
   {
    "duration": 844,
    "start_time": "2024-02-15T00:46:25.236Z"
   },
   {
    "duration": 2,
    "start_time": "2024-02-15T00:46:26.081Z"
   },
   {
    "duration": 10,
    "start_time": "2024-02-15T00:46:26.085Z"
   },
   {
    "duration": 13,
    "start_time": "2024-02-15T00:46:26.096Z"
   },
   {
    "duration": 8,
    "start_time": "2024-02-15T00:46:26.110Z"
   },
   {
    "duration": 4,
    "start_time": "2024-02-15T00:46:26.119Z"
   },
   {
    "duration": 132,
    "start_time": "2024-02-15T00:46:26.124Z"
   },
   {
    "duration": 5,
    "start_time": "2024-02-15T00:46:26.257Z"
   },
   {
    "duration": 12,
    "start_time": "2024-02-15T00:46:26.263Z"
   },
   {
    "duration": 5,
    "start_time": "2024-02-15T00:46:26.276Z"
   },
   {
    "duration": 749,
    "start_time": "2024-02-15T00:46:26.282Z"
   },
   {
    "duration": 5,
    "start_time": "2024-02-15T00:46:27.033Z"
   },
   {
    "duration": 8,
    "start_time": "2024-02-15T00:46:27.039Z"
   },
   {
    "duration": 8,
    "start_time": "2024-02-15T00:46:27.049Z"
   },
   {
    "duration": 9,
    "start_time": "2024-02-15T00:46:27.059Z"
   },
   {
    "duration": 33,
    "start_time": "2024-02-15T00:46:27.069Z"
   },
   {
    "duration": 228,
    "start_time": "2024-02-15T00:46:27.103Z"
   },
   {
    "duration": 3,
    "start_time": "2024-02-15T00:46:27.332Z"
   },
   {
    "duration": 211,
    "start_time": "2024-02-15T00:46:27.336Z"
   },
   {
    "duration": 51,
    "start_time": "2024-02-15T18:09:53.204Z"
   },
   {
    "duration": 1552,
    "start_time": "2024-02-15T18:10:10.112Z"
   },
   {
    "duration": 184,
    "start_time": "2024-02-15T18:10:11.666Z"
   },
   {
    "duration": 126,
    "start_time": "2024-02-15T18:10:11.852Z"
   },
   {
    "duration": 301,
    "start_time": "2024-02-15T18:10:11.980Z"
   },
   {
    "duration": 367,
    "start_time": "2024-02-15T18:10:12.283Z"
   },
   {
    "duration": 3,
    "start_time": "2024-02-15T18:10:12.651Z"
   },
   {
    "duration": 264,
    "start_time": "2024-02-15T18:10:12.656Z"
   },
   {
    "duration": 7,
    "start_time": "2024-02-15T18:10:12.922Z"
   },
   {
    "duration": 11,
    "start_time": "2024-02-15T18:10:12.930Z"
   },
   {
    "duration": 7,
    "start_time": "2024-02-15T18:10:12.942Z"
   },
   {
    "duration": 176,
    "start_time": "2024-02-15T18:10:12.951Z"
   },
   {
    "duration": 3,
    "start_time": "2024-02-15T18:10:13.129Z"
   },
   {
    "duration": 14,
    "start_time": "2024-02-15T18:10:13.134Z"
   },
   {
    "duration": 115,
    "start_time": "2024-02-15T18:10:13.151Z"
   },
   {
    "duration": 0,
    "start_time": "2024-02-15T18:10:13.269Z"
   },
   {
    "duration": 0,
    "start_time": "2024-02-15T18:10:13.270Z"
   },
   {
    "duration": 0,
    "start_time": "2024-02-15T18:10:13.271Z"
   },
   {
    "duration": 0,
    "start_time": "2024-02-15T18:10:13.272Z"
   },
   {
    "duration": 0,
    "start_time": "2024-02-15T18:10:13.273Z"
   },
   {
    "duration": 0,
    "start_time": "2024-02-15T18:10:13.274Z"
   },
   {
    "duration": 0,
    "start_time": "2024-02-15T18:10:13.275Z"
   },
   {
    "duration": 0,
    "start_time": "2024-02-15T18:10:13.276Z"
   },
   {
    "duration": 0,
    "start_time": "2024-02-15T18:10:13.277Z"
   },
   {
    "duration": 0,
    "start_time": "2024-02-15T18:10:13.278Z"
   },
   {
    "duration": 0,
    "start_time": "2024-02-15T18:10:13.279Z"
   },
   {
    "duration": 0,
    "start_time": "2024-02-15T18:10:13.280Z"
   },
   {
    "duration": 0,
    "start_time": "2024-02-15T18:10:13.281Z"
   },
   {
    "duration": 0,
    "start_time": "2024-02-15T18:10:13.282Z"
   },
   {
    "duration": 0,
    "start_time": "2024-02-15T18:10:13.283Z"
   },
   {
    "duration": 0,
    "start_time": "2024-02-15T18:10:13.284Z"
   },
   {
    "duration": 0,
    "start_time": "2024-02-15T18:10:13.285Z"
   },
   {
    "duration": 0,
    "start_time": "2024-02-15T18:10:13.286Z"
   },
   {
    "duration": 0,
    "start_time": "2024-02-15T18:10:13.287Z"
   },
   {
    "duration": 0,
    "start_time": "2024-02-15T18:10:13.288Z"
   },
   {
    "duration": 0,
    "start_time": "2024-02-15T18:10:13.323Z"
   },
   {
    "duration": 0,
    "start_time": "2024-02-15T18:10:13.324Z"
   },
   {
    "duration": 0,
    "start_time": "2024-02-15T18:10:13.325Z"
   },
   {
    "duration": 0,
    "start_time": "2024-02-15T18:10:13.327Z"
   },
   {
    "duration": 0,
    "start_time": "2024-02-15T18:10:13.328Z"
   },
   {
    "duration": 0,
    "start_time": "2024-02-15T18:10:13.329Z"
   },
   {
    "duration": 0,
    "start_time": "2024-02-15T18:10:13.330Z"
   },
   {
    "duration": 0,
    "start_time": "2024-02-15T18:10:13.331Z"
   },
   {
    "duration": 0,
    "start_time": "2024-02-15T18:10:13.333Z"
   },
   {
    "duration": 0,
    "start_time": "2024-02-15T18:10:13.334Z"
   },
   {
    "duration": 0,
    "start_time": "2024-02-15T18:10:13.335Z"
   },
   {
    "duration": 0,
    "start_time": "2024-02-15T18:10:13.336Z"
   },
   {
    "duration": 0,
    "start_time": "2024-02-15T18:10:13.337Z"
   },
   {
    "duration": 0,
    "start_time": "2024-02-15T18:10:13.338Z"
   },
   {
    "duration": 0,
    "start_time": "2024-02-15T18:10:13.339Z"
   },
   {
    "duration": 0,
    "start_time": "2024-02-15T18:10:13.340Z"
   },
   {
    "duration": 0,
    "start_time": "2024-02-15T18:10:13.341Z"
   },
   {
    "duration": 0,
    "start_time": "2024-02-15T18:10:13.342Z"
   },
   {
    "duration": 0,
    "start_time": "2024-02-15T18:10:13.343Z"
   },
   {
    "duration": 0,
    "start_time": "2024-02-15T18:10:13.344Z"
   },
   {
    "duration": 0,
    "start_time": "2024-02-15T18:10:13.345Z"
   },
   {
    "duration": 0,
    "start_time": "2024-02-15T18:10:13.346Z"
   },
   {
    "duration": 0,
    "start_time": "2024-02-15T18:10:13.347Z"
   },
   {
    "duration": 0,
    "start_time": "2024-02-15T18:10:13.349Z"
   },
   {
    "duration": 0,
    "start_time": "2024-02-15T18:10:13.350Z"
   },
   {
    "duration": 4,
    "start_time": "2024-02-15T18:11:07.003Z"
   },
   {
    "duration": 6,
    "start_time": "2024-02-15T18:11:09.343Z"
   },
   {
    "duration": 8,
    "start_time": "2024-02-15T18:11:57.634Z"
   },
   {
    "duration": 3,
    "start_time": "2024-02-15T18:11:58.914Z"
   },
   {
    "duration": 5,
    "start_time": "2024-02-15T18:11:59.803Z"
   },
   {
    "duration": 10,
    "start_time": "2024-02-15T18:12:41.364Z"
   },
   {
    "duration": 9,
    "start_time": "2024-02-15T18:13:01.234Z"
   },
   {
    "duration": 161,
    "start_time": "2024-02-15T18:13:16.654Z"
   },
   {
    "duration": 154,
    "start_time": "2024-02-15T18:14:09.573Z"
   },
   {
    "duration": 155,
    "start_time": "2024-02-15T18:14:28.944Z"
   },
   {
    "duration": 160,
    "start_time": "2024-02-15T18:14:53.764Z"
   },
   {
    "duration": 302,
    "start_time": "2024-02-15T18:15:59.154Z"
   },
   {
    "duration": 316,
    "start_time": "2024-02-15T18:16:43.595Z"
   },
   {
    "duration": 173,
    "start_time": "2024-02-15T18:17:06.444Z"
   },
   {
    "duration": 1257,
    "start_time": "2024-02-15T18:19:02.173Z"
   },
   {
    "duration": 68,
    "start_time": "2024-02-15T18:19:03.432Z"
   },
   {
    "duration": 145,
    "start_time": "2024-02-15T18:19:03.502Z"
   },
   {
    "duration": 296,
    "start_time": "2024-02-15T18:19:03.648Z"
   },
   {
    "duration": 362,
    "start_time": "2024-02-15T18:19:03.946Z"
   },
   {
    "duration": 3,
    "start_time": "2024-02-15T18:19:04.309Z"
   },
   {
    "duration": 245,
    "start_time": "2024-02-15T18:19:04.323Z"
   },
   {
    "duration": 6,
    "start_time": "2024-02-15T18:19:04.570Z"
   },
   {
    "duration": 6,
    "start_time": "2024-02-15T18:19:04.578Z"
   },
   {
    "duration": 7,
    "start_time": "2024-02-15T18:19:04.585Z"
   },
   {
    "duration": 191,
    "start_time": "2024-02-15T18:19:04.594Z"
   },
   {
    "duration": 6,
    "start_time": "2024-02-15T18:19:04.787Z"
   },
   {
    "duration": 10,
    "start_time": "2024-02-15T18:19:04.824Z"
   },
   {
    "duration": 169,
    "start_time": "2024-02-15T18:19:04.837Z"
   },
   {
    "duration": 116,
    "start_time": "2024-02-15T18:19:05.008Z"
   },
   {
    "duration": 0,
    "start_time": "2024-02-15T18:19:05.126Z"
   },
   {
    "duration": 0,
    "start_time": "2024-02-15T18:19:05.128Z"
   },
   {
    "duration": 0,
    "start_time": "2024-02-15T18:19:05.129Z"
   },
   {
    "duration": 0,
    "start_time": "2024-02-15T18:19:05.130Z"
   },
   {
    "duration": 0,
    "start_time": "2024-02-15T18:19:05.131Z"
   },
   {
    "duration": 0,
    "start_time": "2024-02-15T18:19:05.132Z"
   },
   {
    "duration": 0,
    "start_time": "2024-02-15T18:19:05.133Z"
   },
   {
    "duration": 0,
    "start_time": "2024-02-15T18:19:05.134Z"
   },
   {
    "duration": 0,
    "start_time": "2024-02-15T18:19:05.135Z"
   },
   {
    "duration": 0,
    "start_time": "2024-02-15T18:19:05.136Z"
   },
   {
    "duration": 0,
    "start_time": "2024-02-15T18:19:05.137Z"
   },
   {
    "duration": 0,
    "start_time": "2024-02-15T18:19:05.139Z"
   },
   {
    "duration": 0,
    "start_time": "2024-02-15T18:19:05.139Z"
   },
   {
    "duration": 0,
    "start_time": "2024-02-15T18:19:05.140Z"
   },
   {
    "duration": 0,
    "start_time": "2024-02-15T18:19:05.141Z"
   },
   {
    "duration": 0,
    "start_time": "2024-02-15T18:19:05.142Z"
   },
   {
    "duration": 0,
    "start_time": "2024-02-15T18:19:05.143Z"
   },
   {
    "duration": 0,
    "start_time": "2024-02-15T18:19:05.144Z"
   },
   {
    "duration": 0,
    "start_time": "2024-02-15T18:19:05.146Z"
   },
   {
    "duration": 0,
    "start_time": "2024-02-15T18:19:05.147Z"
   },
   {
    "duration": 0,
    "start_time": "2024-02-15T18:19:05.148Z"
   },
   {
    "duration": 0,
    "start_time": "2024-02-15T18:19:05.149Z"
   },
   {
    "duration": 0,
    "start_time": "2024-02-15T18:19:05.150Z"
   },
   {
    "duration": 0,
    "start_time": "2024-02-15T18:19:05.151Z"
   },
   {
    "duration": 0,
    "start_time": "2024-02-15T18:19:05.152Z"
   },
   {
    "duration": 0,
    "start_time": "2024-02-15T18:19:05.153Z"
   },
   {
    "duration": 0,
    "start_time": "2024-02-15T18:19:05.154Z"
   },
   {
    "duration": 0,
    "start_time": "2024-02-15T18:19:05.155Z"
   },
   {
    "duration": 0,
    "start_time": "2024-02-15T18:19:05.156Z"
   },
   {
    "duration": 0,
    "start_time": "2024-02-15T18:19:05.157Z"
   },
   {
    "duration": 0,
    "start_time": "2024-02-15T18:19:05.158Z"
   },
   {
    "duration": 0,
    "start_time": "2024-02-15T18:19:05.159Z"
   },
   {
    "duration": 0,
    "start_time": "2024-02-15T18:19:05.160Z"
   },
   {
    "duration": 0,
    "start_time": "2024-02-15T18:19:05.161Z"
   },
   {
    "duration": 0,
    "start_time": "2024-02-15T18:19:05.223Z"
   },
   {
    "duration": 0,
    "start_time": "2024-02-15T18:19:05.224Z"
   },
   {
    "duration": 0,
    "start_time": "2024-02-15T18:19:05.225Z"
   },
   {
    "duration": 0,
    "start_time": "2024-02-15T18:19:05.227Z"
   },
   {
    "duration": 0,
    "start_time": "2024-02-15T18:19:05.228Z"
   },
   {
    "duration": 0,
    "start_time": "2024-02-15T18:19:05.229Z"
   },
   {
    "duration": 1,
    "start_time": "2024-02-15T18:19:05.230Z"
   },
   {
    "duration": 0,
    "start_time": "2024-02-15T18:19:05.232Z"
   },
   {
    "duration": 0,
    "start_time": "2024-02-15T18:19:05.233Z"
   },
   {
    "duration": 0,
    "start_time": "2024-02-15T18:19:05.234Z"
   },
   {
    "duration": 0,
    "start_time": "2024-02-15T18:19:05.235Z"
   },
   {
    "duration": 8,
    "start_time": "2024-02-15T18:20:05.375Z"
   },
   {
    "duration": 10,
    "start_time": "2024-02-15T18:20:38.160Z"
   },
   {
    "duration": 19,
    "start_time": "2024-02-15T18:21:11.814Z"
   },
   {
    "duration": 4,
    "start_time": "2024-02-15T18:25:20.095Z"
   },
   {
    "duration": 4,
    "start_time": "2024-02-15T18:25:21.266Z"
   },
   {
    "duration": 159,
    "start_time": "2024-02-15T18:25:23.696Z"
   },
   {
    "duration": 13,
    "start_time": "2024-02-15T18:25:33.026Z"
   },
   {
    "duration": 1306,
    "start_time": "2024-02-15T18:25:59.938Z"
   },
   {
    "duration": 67,
    "start_time": "2024-02-15T18:26:01.246Z"
   },
   {
    "duration": 151,
    "start_time": "2024-02-15T18:26:01.315Z"
   },
   {
    "duration": 302,
    "start_time": "2024-02-15T18:26:01.468Z"
   },
   {
    "duration": 352,
    "start_time": "2024-02-15T18:26:01.772Z"
   },
   {
    "duration": 3,
    "start_time": "2024-02-15T18:26:02.126Z"
   },
   {
    "duration": 288,
    "start_time": "2024-02-15T18:26:02.131Z"
   },
   {
    "duration": 7,
    "start_time": "2024-02-15T18:26:02.423Z"
   },
   {
    "duration": 22,
    "start_time": "2024-02-15T18:26:02.432Z"
   },
   {
    "duration": 37,
    "start_time": "2024-02-15T18:26:02.456Z"
   },
   {
    "duration": 167,
    "start_time": "2024-02-15T18:26:02.495Z"
   },
   {
    "duration": 4,
    "start_time": "2024-02-15T18:26:02.663Z"
   },
   {
    "duration": 21,
    "start_time": "2024-02-15T18:26:02.668Z"
   },
   {
    "duration": 179,
    "start_time": "2024-02-15T18:26:02.692Z"
   },
   {
    "duration": 120,
    "start_time": "2024-02-15T18:26:02.872Z"
   },
   {
    "duration": 0,
    "start_time": "2024-02-15T18:26:02.994Z"
   },
   {
    "duration": 0,
    "start_time": "2024-02-15T18:26:02.995Z"
   },
   {
    "duration": 0,
    "start_time": "2024-02-15T18:26:02.996Z"
   },
   {
    "duration": 0,
    "start_time": "2024-02-15T18:26:02.997Z"
   },
   {
    "duration": 0,
    "start_time": "2024-02-15T18:26:02.998Z"
   },
   {
    "duration": 0,
    "start_time": "2024-02-15T18:26:02.999Z"
   },
   {
    "duration": 0,
    "start_time": "2024-02-15T18:26:03.000Z"
   },
   {
    "duration": 0,
    "start_time": "2024-02-15T18:26:03.001Z"
   },
   {
    "duration": 0,
    "start_time": "2024-02-15T18:26:03.003Z"
   },
   {
    "duration": 1,
    "start_time": "2024-02-15T18:26:03.023Z"
   },
   {
    "duration": 0,
    "start_time": "2024-02-15T18:26:03.025Z"
   },
   {
    "duration": 0,
    "start_time": "2024-02-15T18:26:03.026Z"
   },
   {
    "duration": 0,
    "start_time": "2024-02-15T18:26:03.027Z"
   },
   {
    "duration": 0,
    "start_time": "2024-02-15T18:26:03.028Z"
   },
   {
    "duration": 0,
    "start_time": "2024-02-15T18:26:03.029Z"
   },
   {
    "duration": 0,
    "start_time": "2024-02-15T18:26:03.030Z"
   },
   {
    "duration": 0,
    "start_time": "2024-02-15T18:26:03.031Z"
   },
   {
    "duration": 0,
    "start_time": "2024-02-15T18:26:03.033Z"
   },
   {
    "duration": 0,
    "start_time": "2024-02-15T18:26:03.034Z"
   },
   {
    "duration": 0,
    "start_time": "2024-02-15T18:26:03.035Z"
   },
   {
    "duration": 0,
    "start_time": "2024-02-15T18:26:03.036Z"
   },
   {
    "duration": 0,
    "start_time": "2024-02-15T18:26:03.037Z"
   },
   {
    "duration": 0,
    "start_time": "2024-02-15T18:26:03.038Z"
   },
   {
    "duration": 0,
    "start_time": "2024-02-15T18:26:03.039Z"
   },
   {
    "duration": 0,
    "start_time": "2024-02-15T18:26:03.040Z"
   },
   {
    "duration": 0,
    "start_time": "2024-02-15T18:26:03.040Z"
   },
   {
    "duration": 0,
    "start_time": "2024-02-15T18:26:03.041Z"
   },
   {
    "duration": 0,
    "start_time": "2024-02-15T18:26:03.042Z"
   },
   {
    "duration": 0,
    "start_time": "2024-02-15T18:26:03.044Z"
   },
   {
    "duration": 0,
    "start_time": "2024-02-15T18:26:03.045Z"
   },
   {
    "duration": 0,
    "start_time": "2024-02-15T18:26:03.045Z"
   },
   {
    "duration": 0,
    "start_time": "2024-02-15T18:26:03.046Z"
   },
   {
    "duration": 0,
    "start_time": "2024-02-15T18:26:03.047Z"
   },
   {
    "duration": 0,
    "start_time": "2024-02-15T18:26:03.049Z"
   },
   {
    "duration": 0,
    "start_time": "2024-02-15T18:26:03.050Z"
   },
   {
    "duration": 0,
    "start_time": "2024-02-15T18:26:03.051Z"
   },
   {
    "duration": 0,
    "start_time": "2024-02-15T18:26:03.052Z"
   },
   {
    "duration": 0,
    "start_time": "2024-02-15T18:26:03.053Z"
   },
   {
    "duration": 0,
    "start_time": "2024-02-15T18:26:03.054Z"
   },
   {
    "duration": 0,
    "start_time": "2024-02-15T18:26:03.055Z"
   },
   {
    "duration": 0,
    "start_time": "2024-02-15T18:26:03.056Z"
   },
   {
    "duration": 0,
    "start_time": "2024-02-15T18:26:03.057Z"
   },
   {
    "duration": 0,
    "start_time": "2024-02-15T18:26:03.058Z"
   },
   {
    "duration": 0,
    "start_time": "2024-02-15T18:26:03.059Z"
   },
   {
    "duration": 0,
    "start_time": "2024-02-15T18:26:03.060Z"
   },
   {
    "duration": 14,
    "start_time": "2024-02-15T18:27:00.191Z"
   },
   {
    "duration": 1326,
    "start_time": "2024-02-15T18:27:05.046Z"
   },
   {
    "duration": 173,
    "start_time": "2024-02-15T18:32:50.572Z"
   },
   {
    "duration": 170,
    "start_time": "2024-02-15T18:33:01.325Z"
   },
   {
    "duration": 175,
    "start_time": "2024-02-15T18:33:11.057Z"
   },
   {
    "duration": 161,
    "start_time": "2024-02-15T18:41:45.227Z"
   },
   {
    "duration": 13,
    "start_time": "2024-02-15T18:43:43.147Z"
   },
   {
    "duration": 144,
    "start_time": "2024-02-15T18:44:21.051Z"
   },
   {
    "duration": 148,
    "start_time": "2024-02-15T18:44:41.857Z"
   },
   {
    "duration": 9,
    "start_time": "2024-02-15T18:45:06.538Z"
   },
   {
    "duration": 68,
    "start_time": "2024-02-15T18:45:46.485Z"
   },
   {
    "duration": 67,
    "start_time": "2024-02-15T18:46:08.242Z"
   },
   {
    "duration": 3,
    "start_time": "2024-02-15T18:46:30.387Z"
   },
   {
    "duration": 3,
    "start_time": "2024-02-15T18:46:37.867Z"
   },
   {
    "duration": 4,
    "start_time": "2024-02-15T18:47:12.917Z"
   },
   {
    "duration": 80,
    "start_time": "2024-02-15T18:47:31.147Z"
   },
   {
    "duration": 89,
    "start_time": "2024-02-15T18:47:54.917Z"
   },
   {
    "duration": 91,
    "start_time": "2024-02-15T18:48:01.227Z"
   },
   {
    "duration": 177,
    "start_time": "2024-02-15T18:49:40.198Z"
   },
   {
    "duration": 99,
    "start_time": "2024-02-15T18:50:16.387Z"
   },
   {
    "duration": 12,
    "start_time": "2024-02-15T18:50:32.637Z"
   },
   {
    "duration": 13,
    "start_time": "2024-02-15T18:51:13.795Z"
   },
   {
    "duration": 12,
    "start_time": "2024-02-15T18:51:36.617Z"
   },
   {
    "duration": 151,
    "start_time": "2024-02-15T18:51:41.086Z"
   },
   {
    "duration": 9,
    "start_time": "2024-02-15T18:52:47.011Z"
   },
   {
    "duration": 94,
    "start_time": "2024-02-15T18:52:53.546Z"
   },
   {
    "duration": 12,
    "start_time": "2024-02-15T18:53:40.824Z"
   },
   {
    "duration": 12,
    "start_time": "2024-02-15T18:54:03.015Z"
   },
   {
    "duration": 11,
    "start_time": "2024-02-15T18:54:19.964Z"
   },
   {
    "duration": 98,
    "start_time": "2024-02-15T18:54:32.155Z"
   },
   {
    "duration": 67,
    "start_time": "2024-02-15T18:55:36.755Z"
   },
   {
    "duration": 11,
    "start_time": "2024-02-15T18:55:52.955Z"
   },
   {
    "duration": 94,
    "start_time": "2024-02-15T18:56:40.577Z"
   },
   {
    "duration": 70,
    "start_time": "2024-02-15T18:56:54.657Z"
   },
   {
    "duration": 100,
    "start_time": "2024-02-15T18:57:05.683Z"
   },
   {
    "duration": 109,
    "start_time": "2024-02-15T18:57:31.422Z"
   },
   {
    "duration": 159,
    "start_time": "2024-02-15T19:00:28.402Z"
   },
   {
    "duration": 160,
    "start_time": "2024-02-15T19:01:32.858Z"
   },
   {
    "duration": 90,
    "start_time": "2024-02-15T19:07:51.841Z"
   },
   {
    "duration": 9,
    "start_time": "2024-02-15T19:08:21.643Z"
   },
   {
    "duration": 10,
    "start_time": "2024-02-15T19:08:44.102Z"
   },
   {
    "duration": 76,
    "start_time": "2024-02-15T19:08:54.721Z"
   },
   {
    "duration": 93,
    "start_time": "2024-02-15T19:09:04.664Z"
   },
   {
    "duration": 72,
    "start_time": "2024-02-15T19:10:35.467Z"
   },
   {
    "duration": 78,
    "start_time": "2024-02-15T19:10:45.221Z"
   },
   {
    "duration": 101,
    "start_time": "2024-02-15T19:11:20.881Z"
   },
   {
    "duration": 81,
    "start_time": "2024-02-15T19:11:25.916Z"
   },
   {
    "duration": 73,
    "start_time": "2024-02-15T19:11:28.050Z"
   },
   {
    "duration": 68,
    "start_time": "2024-02-15T19:11:34.542Z"
   },
   {
    "duration": 86,
    "start_time": "2024-02-15T19:11:39.383Z"
   },
   {
    "duration": 107,
    "start_time": "2024-02-15T19:11:43.761Z"
   },
   {
    "duration": 91,
    "start_time": "2024-02-15T19:12:20.145Z"
   },
   {
    "duration": 93,
    "start_time": "2024-02-15T19:14:22.641Z"
   },
   {
    "duration": 221,
    "start_time": "2024-02-15T19:16:43.746Z"
   },
   {
    "duration": 5,
    "start_time": "2024-02-15T19:19:09.401Z"
   },
   {
    "duration": 7,
    "start_time": "2024-02-16T12:53:31.038Z"
   },
   {
    "duration": 5,
    "start_time": "2024-02-16T12:53:41.097Z"
   },
   {
    "duration": 7,
    "start_time": "2024-02-16T12:54:08.117Z"
   },
   {
    "duration": 159,
    "start_time": "2024-02-16T13:00:08.317Z"
   },
   {
    "duration": 1352,
    "start_time": "2024-02-16T13:00:22.559Z"
   },
   {
    "duration": 70,
    "start_time": "2024-02-16T13:00:23.914Z"
   },
   {
    "duration": 167,
    "start_time": "2024-02-16T13:00:23.986Z"
   },
   {
    "duration": 309,
    "start_time": "2024-02-16T13:00:24.155Z"
   },
   {
    "duration": 374,
    "start_time": "2024-02-16T13:00:24.467Z"
   },
   {
    "duration": 4,
    "start_time": "2024-02-16T13:00:24.843Z"
   },
   {
    "duration": 282,
    "start_time": "2024-02-16T13:00:24.848Z"
   },
   {
    "duration": 6,
    "start_time": "2024-02-16T13:00:25.132Z"
   },
   {
    "duration": 8,
    "start_time": "2024-02-16T13:00:25.140Z"
   },
   {
    "duration": 16,
    "start_time": "2024-02-16T13:00:25.149Z"
   },
   {
    "duration": 198,
    "start_time": "2024-02-16T13:00:25.166Z"
   },
   {
    "duration": 4,
    "start_time": "2024-02-16T13:00:25.366Z"
   },
   {
    "duration": 29,
    "start_time": "2024-02-16T13:00:25.371Z"
   },
   {
    "duration": 198,
    "start_time": "2024-02-16T13:00:25.403Z"
   },
   {
    "duration": 166,
    "start_time": "2024-02-16T13:00:25.603Z"
   },
   {
    "duration": 7,
    "start_time": "2024-02-16T13:00:25.770Z"
   },
   {
    "duration": 114,
    "start_time": "2024-02-16T13:00:25.778Z"
   },
   {
    "duration": 5,
    "start_time": "2024-02-16T13:00:25.894Z"
   },
   {
    "duration": 13,
    "start_time": "2024-02-16T13:00:25.901Z"
   },
   {
    "duration": 169,
    "start_time": "2024-02-16T13:00:25.915Z"
   },
   {
    "duration": 9,
    "start_time": "2024-02-16T13:00:26.085Z"
   },
   {
    "duration": 43,
    "start_time": "2024-02-16T13:00:26.095Z"
   },
   {
    "duration": 119,
    "start_time": "2024-02-16T13:00:26.140Z"
   },
   {
    "duration": 8,
    "start_time": "2024-02-16T13:00:26.261Z"
   },
   {
    "duration": 29,
    "start_time": "2024-02-16T13:00:26.270Z"
   },
   {
    "duration": 22,
    "start_time": "2024-02-16T13:00:26.300Z"
   },
   {
    "duration": 121,
    "start_time": "2024-02-16T13:00:26.324Z"
   },
   {
    "duration": 14,
    "start_time": "2024-02-16T13:00:26.447Z"
   },
   {
    "duration": 13,
    "start_time": "2024-02-16T13:00:26.463Z"
   },
   {
    "duration": 46,
    "start_time": "2024-02-16T13:00:26.479Z"
   },
   {
    "duration": 14,
    "start_time": "2024-02-16T13:00:26.528Z"
   },
   {
    "duration": 21,
    "start_time": "2024-02-16T13:00:26.544Z"
   },
   {
    "duration": 218,
    "start_time": "2024-02-16T13:00:26.566Z"
   },
   {
    "duration": 203,
    "start_time": "2024-02-16T13:00:26.786Z"
   },
   {
    "duration": 7,
    "start_time": "2024-02-16T13:00:26.991Z"
   },
   {
    "duration": 31,
    "start_time": "2024-02-16T13:00:27.000Z"
   },
   {
    "duration": 204,
    "start_time": "2024-02-16T13:00:27.033Z"
   },
   {
    "duration": 197,
    "start_time": "2024-02-16T13:00:27.239Z"
   },
   {
    "duration": 1029,
    "start_time": "2024-02-16T13:00:27.438Z"
   },
   {
    "duration": 4,
    "start_time": "2024-02-16T13:00:28.468Z"
   },
   {
    "duration": 9,
    "start_time": "2024-02-16T13:00:28.476Z"
   },
   {
    "duration": 18,
    "start_time": "2024-02-16T13:00:28.486Z"
   },
   {
    "duration": 25,
    "start_time": "2024-02-16T13:00:28.506Z"
   },
   {
    "duration": 5,
    "start_time": "2024-02-16T13:00:28.533Z"
   },
   {
    "duration": 161,
    "start_time": "2024-02-16T13:00:28.539Z"
   },
   {
    "duration": 7,
    "start_time": "2024-02-16T13:00:28.702Z"
   },
   {
    "duration": 28,
    "start_time": "2024-02-16T13:00:28.711Z"
   },
   {
    "duration": 10,
    "start_time": "2024-02-16T13:00:28.741Z"
   },
   {
    "duration": 954,
    "start_time": "2024-02-16T13:00:28.753Z"
   },
   {
    "duration": 5,
    "start_time": "2024-02-16T13:00:29.709Z"
   },
   {
    "duration": 19,
    "start_time": "2024-02-16T13:00:29.723Z"
   },
   {
    "duration": 11,
    "start_time": "2024-02-16T13:00:29.744Z"
   },
   {
    "duration": 9,
    "start_time": "2024-02-16T13:00:29.757Z"
   },
   {
    "duration": 4,
    "start_time": "2024-02-16T13:00:29.768Z"
   },
   {
    "duration": 250,
    "start_time": "2024-02-16T13:00:29.773Z"
   },
   {
    "duration": 4,
    "start_time": "2024-02-16T13:00:30.025Z"
   },
   {
    "duration": 276,
    "start_time": "2024-02-16T13:00:30.030Z"
   },
   {
    "duration": 156,
    "start_time": "2024-02-16T13:02:06.943Z"
   },
   {
    "duration": 179,
    "start_time": "2024-02-16T13:02:47.877Z"
   },
   {
    "duration": 153,
    "start_time": "2024-02-16T13:02:55.038Z"
   },
   {
    "duration": 149,
    "start_time": "2024-02-16T13:03:35.716Z"
   },
   {
    "duration": 168,
    "start_time": "2024-02-16T13:04:12.757Z"
   },
   {
    "duration": 111,
    "start_time": "2024-02-16T13:09:46.296Z"
   },
   {
    "duration": 10,
    "start_time": "2024-02-16T13:09:51.775Z"
   },
   {
    "duration": 354,
    "start_time": "2024-02-16T13:15:33.402Z"
   },
   {
    "duration": 406,
    "start_time": "2024-02-16T13:15:44.200Z"
   },
   {
    "duration": 342,
    "start_time": "2024-02-16T13:17:03.209Z"
   },
   {
    "duration": 317,
    "start_time": "2024-02-16T13:17:58.035Z"
   },
   {
    "duration": 346,
    "start_time": "2024-02-16T13:18:05.435Z"
   },
   {
    "duration": 9,
    "start_time": "2024-02-16T13:21:26.770Z"
   },
   {
    "duration": 18,
    "start_time": "2024-02-16T13:21:33.946Z"
   },
   {
    "duration": 9,
    "start_time": "2024-02-16T13:22:06.712Z"
   },
   {
    "duration": 8,
    "start_time": "2024-02-16T13:22:21.878Z"
   },
   {
    "duration": 8,
    "start_time": "2024-02-16T13:31:57.850Z"
   },
   {
    "duration": 9,
    "start_time": "2024-02-16T13:43:01.075Z"
   },
   {
    "duration": 278,
    "start_time": "2024-02-16T13:44:43.254Z"
   },
   {
    "duration": 15,
    "start_time": "2024-02-16T15:26:15.831Z"
   },
   {
    "duration": 15,
    "start_time": "2024-02-16T15:27:16.671Z"
   },
   {
    "duration": 22,
    "start_time": "2024-02-16T15:27:18.450Z"
   },
   {
    "duration": 13,
    "start_time": "2024-02-16T15:27:22.111Z"
   },
   {
    "duration": 12,
    "start_time": "2024-02-16T15:27:23.811Z"
   },
   {
    "duration": 10,
    "start_time": "2024-02-16T15:27:24.751Z"
   },
   {
    "duration": 20,
    "start_time": "2024-02-16T15:27:26.890Z"
   },
   {
    "duration": 304,
    "start_time": "2024-02-16T15:36:51.878Z"
   },
   {
    "duration": 313,
    "start_time": "2024-02-16T15:37:30.310Z"
   },
   {
    "duration": 287,
    "start_time": "2024-02-16T15:40:08.109Z"
   },
   {
    "duration": 384,
    "start_time": "2024-02-16T15:42:57.651Z"
   },
   {
    "duration": 300,
    "start_time": "2024-02-16T15:43:44.729Z"
   },
   {
    "duration": 51,
    "start_time": "2024-02-18T16:06:21.224Z"
   },
   {
    "duration": 1344,
    "start_time": "2024-02-18T16:06:26.696Z"
   },
   {
    "duration": 188,
    "start_time": "2024-02-18T16:06:28.043Z"
   },
   {
    "duration": 163,
    "start_time": "2024-02-18T16:06:28.233Z"
   },
   {
    "duration": 303,
    "start_time": "2024-02-18T16:06:28.398Z"
   },
   {
    "duration": 335,
    "start_time": "2024-02-18T16:06:28.703Z"
   },
   {
    "duration": 2,
    "start_time": "2024-02-18T16:06:29.040Z"
   },
   {
    "duration": 248,
    "start_time": "2024-02-18T16:06:29.044Z"
   },
   {
    "duration": 7,
    "start_time": "2024-02-18T16:06:29.294Z"
   },
   {
    "duration": 6,
    "start_time": "2024-02-18T16:06:29.303Z"
   },
   {
    "duration": 24,
    "start_time": "2024-02-18T16:06:29.313Z"
   },
   {
    "duration": 235,
    "start_time": "2024-02-18T16:06:29.339Z"
   },
   {
    "duration": 3,
    "start_time": "2024-02-18T16:06:29.576Z"
   },
   {
    "duration": 7,
    "start_time": "2024-02-18T16:06:29.581Z"
   },
   {
    "duration": 249,
    "start_time": "2024-02-18T16:06:29.591Z"
   },
   {
    "duration": 158,
    "start_time": "2024-02-18T16:06:29.841Z"
   },
   {
    "duration": 5,
    "start_time": "2024-02-18T16:06:30.000Z"
   },
   {
    "duration": 110,
    "start_time": "2024-02-18T16:06:30.007Z"
   },
   {
    "duration": 7,
    "start_time": "2024-02-18T16:06:30.118Z"
   },
   {
    "duration": 165,
    "start_time": "2024-02-18T16:06:30.127Z"
   },
   {
    "duration": 8,
    "start_time": "2024-02-18T16:06:30.293Z"
   },
   {
    "duration": 345,
    "start_time": "2024-02-18T16:06:30.302Z"
   },
   {
    "duration": 8,
    "start_time": "2024-02-18T16:06:30.648Z"
   },
   {
    "duration": 278,
    "start_time": "2024-02-18T16:06:30.657Z"
   },
   {
    "duration": 11,
    "start_time": "2024-02-18T16:06:30.937Z"
   },
   {
    "duration": 28,
    "start_time": "2024-02-18T16:06:30.949Z"
   },
   {
    "duration": 44,
    "start_time": "2024-02-18T16:06:30.979Z"
   },
   {
    "duration": 29,
    "start_time": "2024-02-18T16:06:31.025Z"
   },
   {
    "duration": 22,
    "start_time": "2024-02-18T16:06:31.058Z"
   },
   {
    "duration": 336,
    "start_time": "2024-02-18T16:06:31.081Z"
   },
   {
    "duration": 265,
    "start_time": "2024-02-18T16:06:31.418Z"
   },
   {
    "duration": 6,
    "start_time": "2024-02-18T16:06:31.685Z"
   },
   {
    "duration": 35,
    "start_time": "2024-02-18T16:06:31.693Z"
   },
   {
    "duration": 375,
    "start_time": "2024-02-18T16:06:31.740Z"
   },
   {
    "duration": 302,
    "start_time": "2024-02-18T16:06:32.117Z"
   },
   {
    "duration": 870,
    "start_time": "2024-02-18T16:06:32.421Z"
   },
   {
    "duration": 3,
    "start_time": "2024-02-18T16:06:33.293Z"
   },
   {
    "duration": 30,
    "start_time": "2024-02-18T16:06:33.297Z"
   },
   {
    "duration": 21,
    "start_time": "2024-02-18T16:06:33.328Z"
   },
   {
    "duration": 19,
    "start_time": "2024-02-18T16:06:33.351Z"
   },
   {
    "duration": 9,
    "start_time": "2024-02-18T16:06:33.371Z"
   },
   {
    "duration": 210,
    "start_time": "2024-02-18T16:06:33.382Z"
   },
   {
    "duration": 6,
    "start_time": "2024-02-18T16:06:33.593Z"
   },
   {
    "duration": 31,
    "start_time": "2024-02-18T16:06:33.601Z"
   },
   {
    "duration": 9,
    "start_time": "2024-02-18T16:06:33.634Z"
   },
   {
    "duration": 832,
    "start_time": "2024-02-18T16:06:33.645Z"
   },
   {
    "duration": 4,
    "start_time": "2024-02-18T16:06:34.479Z"
   },
   {
    "duration": 22,
    "start_time": "2024-02-18T16:06:34.485Z"
   },
   {
    "duration": 24,
    "start_time": "2024-02-18T16:06:34.508Z"
   },
   {
    "duration": 20,
    "start_time": "2024-02-18T16:06:34.533Z"
   },
   {
    "duration": 14,
    "start_time": "2024-02-18T16:06:34.555Z"
   },
   {
    "duration": 222,
    "start_time": "2024-02-18T16:06:34.571Z"
   },
   {
    "duration": 4,
    "start_time": "2024-02-18T16:06:34.794Z"
   },
   {
    "duration": 287,
    "start_time": "2024-02-18T16:06:34.799Z"
   },
   {
    "duration": 259,
    "start_time": "2024-02-18T16:06:48.287Z"
   },
   {
    "duration": 344,
    "start_time": "2024-02-18T16:06:57.651Z"
   },
   {
    "duration": 241,
    "start_time": "2024-02-18T16:07:10.517Z"
   },
   {
    "duration": 320,
    "start_time": "2024-02-18T16:07:27.106Z"
   },
   {
    "duration": 329,
    "start_time": "2024-02-18T16:07:35.513Z"
   },
   {
    "duration": 241,
    "start_time": "2024-02-18T16:17:36.730Z"
   },
   {
    "duration": 244,
    "start_time": "2024-02-18T16:17:48.979Z"
   },
   {
    "duration": 257,
    "start_time": "2024-02-18T16:18:27.207Z"
   },
   {
    "duration": 335,
    "start_time": "2024-02-18T16:18:29.648Z"
   },
   {
    "duration": 240,
    "start_time": "2024-02-18T16:18:33.300Z"
   },
   {
    "duration": 295,
    "start_time": "2024-02-18T16:18:35.458Z"
   },
   {
    "duration": 286,
    "start_time": "2024-02-18T16:21:34.934Z"
   },
   {
    "duration": 298,
    "start_time": "2024-02-18T16:22:36.137Z"
   },
   {
    "duration": 104,
    "start_time": "2024-02-18T16:25:26.866Z"
   },
   {
    "duration": 92,
    "start_time": "2024-02-18T16:25:47.646Z"
   },
   {
    "duration": 306,
    "start_time": "2024-02-18T16:27:26.729Z"
   },
   {
    "duration": 370,
    "start_time": "2024-02-18T16:28:01.859Z"
   },
   {
    "duration": 293,
    "start_time": "2024-02-18T16:28:39.142Z"
   },
   {
    "duration": 294,
    "start_time": "2024-02-18T16:28:45.439Z"
   },
   {
    "duration": 105,
    "start_time": "2024-02-18T16:30:37.025Z"
   },
   {
    "duration": 238,
    "start_time": "2024-02-18T16:40:29.346Z"
   },
   {
    "duration": 274,
    "start_time": "2024-02-18T16:40:59.148Z"
   },
   {
    "duration": 109,
    "start_time": "2024-02-18T16:43:11.075Z"
   },
   {
    "duration": 102,
    "start_time": "2024-02-18T16:44:01.511Z"
   },
   {
    "duration": 1110,
    "start_time": "2024-02-18T17:02:29.191Z"
   },
   {
    "duration": 67,
    "start_time": "2024-02-18T17:02:30.303Z"
   },
   {
    "duration": 117,
    "start_time": "2024-02-18T17:02:30.371Z"
   },
   {
    "duration": 263,
    "start_time": "2024-02-18T17:02:30.489Z"
   },
   {
    "duration": 322,
    "start_time": "2024-02-18T17:02:30.754Z"
   },
   {
    "duration": 2,
    "start_time": "2024-02-18T17:02:31.078Z"
   },
   {
    "duration": 335,
    "start_time": "2024-02-18T17:02:31.082Z"
   },
   {
    "duration": 6,
    "start_time": "2024-02-18T17:02:31.419Z"
   },
   {
    "duration": 45,
    "start_time": "2024-02-18T17:02:31.427Z"
   },
   {
    "duration": 45,
    "start_time": "2024-02-18T17:02:31.474Z"
   },
   {
    "duration": 152,
    "start_time": "2024-02-18T17:02:31.520Z"
   },
   {
    "duration": 3,
    "start_time": "2024-02-18T17:02:31.674Z"
   },
   {
    "duration": 28,
    "start_time": "2024-02-18T17:02:31.679Z"
   },
   {
    "duration": 167,
    "start_time": "2024-02-18T17:02:31.711Z"
   },
   {
    "duration": 136,
    "start_time": "2024-02-18T17:02:31.879Z"
   },
   {
    "duration": 5,
    "start_time": "2024-02-18T17:02:32.017Z"
   },
   {
    "duration": 86,
    "start_time": "2024-02-18T17:02:32.024Z"
   },
   {
    "duration": 8,
    "start_time": "2024-02-18T17:02:32.112Z"
   },
   {
    "duration": 155,
    "start_time": "2024-02-18T17:02:32.133Z"
   },
   {
    "duration": 8,
    "start_time": "2024-02-18T17:02:32.289Z"
   },
   {
    "duration": 335,
    "start_time": "2024-02-18T17:02:32.298Z"
   },
   {
    "duration": 9,
    "start_time": "2024-02-18T17:02:32.634Z"
   },
   {
    "duration": 292,
    "start_time": "2024-02-18T17:02:32.644Z"
   },
   {
    "duration": 11,
    "start_time": "2024-02-18T17:02:32.938Z"
   },
   {
    "duration": 8,
    "start_time": "2024-02-18T17:02:32.950Z"
   },
   {
    "duration": 17,
    "start_time": "2024-02-18T17:02:32.960Z"
   },
   {
    "duration": 9,
    "start_time": "2024-02-18T17:02:32.978Z"
   },
   {
    "duration": 46,
    "start_time": "2024-02-18T17:02:32.989Z"
   },
   {
    "duration": 247,
    "start_time": "2024-02-18T17:02:33.036Z"
   },
   {
    "duration": 339,
    "start_time": "2024-02-18T17:02:33.286Z"
   },
   {
    "duration": 338,
    "start_time": "2024-02-18T17:02:33.627Z"
   },
   {
    "duration": 275,
    "start_time": "2024-02-18T17:02:33.967Z"
   },
   {
    "duration": 7,
    "start_time": "2024-02-18T17:02:34.244Z"
   },
   {
    "duration": 44,
    "start_time": "2024-02-18T17:02:34.253Z"
   },
   {
    "duration": 250,
    "start_time": "2024-02-18T17:02:34.298Z"
   },
   {
    "duration": 108,
    "start_time": "2024-02-18T17:02:34.550Z"
   },
   {
    "duration": 259,
    "start_time": "2024-02-18T17:02:34.659Z"
   },
   {
    "duration": 107,
    "start_time": "2024-02-18T17:02:34.920Z"
   },
   {
    "duration": 816,
    "start_time": "2024-02-18T17:02:35.032Z"
   },
   {
    "duration": 3,
    "start_time": "2024-02-18T17:02:35.849Z"
   },
   {
    "duration": 19,
    "start_time": "2024-02-18T17:02:35.856Z"
   },
   {
    "duration": 34,
    "start_time": "2024-02-18T17:02:35.877Z"
   },
   {
    "duration": 15,
    "start_time": "2024-02-18T17:02:35.912Z"
   },
   {
    "duration": 21,
    "start_time": "2024-02-18T17:02:35.929Z"
   },
   {
    "duration": 169,
    "start_time": "2024-02-18T17:02:35.952Z"
   },
   {
    "duration": 6,
    "start_time": "2024-02-18T17:02:36.123Z"
   },
   {
    "duration": 36,
    "start_time": "2024-02-18T17:02:36.130Z"
   },
   {
    "duration": 14,
    "start_time": "2024-02-18T17:02:36.168Z"
   },
   {
    "duration": 815,
    "start_time": "2024-02-18T17:02:36.183Z"
   },
   {
    "duration": 4,
    "start_time": "2024-02-18T17:02:37.000Z"
   },
   {
    "duration": 53,
    "start_time": "2024-02-18T17:02:37.006Z"
   },
   {
    "duration": 38,
    "start_time": "2024-02-18T17:02:37.060Z"
   },
   {
    "duration": 35,
    "start_time": "2024-02-18T17:02:37.100Z"
   },
   {
    "duration": 21,
    "start_time": "2024-02-18T17:02:37.137Z"
   },
   {
    "duration": 314,
    "start_time": "2024-02-18T17:02:37.159Z"
   },
   {
    "duration": 4,
    "start_time": "2024-02-18T17:02:37.475Z"
   },
   {
    "duration": 260,
    "start_time": "2024-02-18T17:02:37.481Z"
   },
   {
    "duration": 78,
    "start_time": "2024-02-18T17:21:51.703Z"
   },
   {
    "duration": 182,
    "start_time": "2024-02-18T17:26:51.986Z"
   },
   {
    "duration": 107,
    "start_time": "2024-02-18T17:27:11.130Z"
   },
   {
    "duration": 116,
    "start_time": "2024-02-18T17:27:21.694Z"
   },
   {
    "duration": 99,
    "start_time": "2024-02-18T17:27:54.005Z"
   },
   {
    "duration": 103,
    "start_time": "2024-02-18T17:27:57.824Z"
   },
   {
    "duration": 93,
    "start_time": "2024-02-18T17:28:29.229Z"
   },
   {
    "duration": 98,
    "start_time": "2024-02-18T17:28:38.965Z"
   },
   {
    "duration": 95,
    "start_time": "2024-02-18T17:28:48.826Z"
   },
   {
    "duration": 114,
    "start_time": "2024-02-18T17:29:02.623Z"
   },
   {
    "duration": 96,
    "start_time": "2024-02-18T17:29:24.338Z"
   },
   {
    "duration": 97,
    "start_time": "2024-02-18T17:29:33.815Z"
   },
   {
    "duration": 94,
    "start_time": "2024-02-18T17:29:40.386Z"
   },
   {
    "duration": 91,
    "start_time": "2024-02-18T17:29:57.141Z"
   },
   {
    "duration": 183,
    "start_time": "2024-02-18T17:30:17.084Z"
   },
   {
    "duration": 117,
    "start_time": "2024-02-18T17:30:33.820Z"
   },
   {
    "duration": 109,
    "start_time": "2024-02-18T17:30:41.728Z"
   },
   {
    "duration": 102,
    "start_time": "2024-02-18T17:31:47.750Z"
   },
   {
    "duration": 93,
    "start_time": "2024-02-18T17:32:05.879Z"
   },
   {
    "duration": 90,
    "start_time": "2024-02-18T17:33:02.222Z"
   },
   {
    "duration": 12,
    "start_time": "2024-02-18T17:33:45.935Z"
   },
   {
    "duration": 93,
    "start_time": "2024-02-18T17:33:52.554Z"
   },
   {
    "duration": 96,
    "start_time": "2024-02-18T17:35:00.870Z"
   },
   {
    "duration": 9,
    "start_time": "2024-02-18T17:36:15.857Z"
   },
   {
    "duration": 8,
    "start_time": "2024-02-18T17:37:38.109Z"
   },
   {
    "duration": 9,
    "start_time": "2024-02-18T17:38:06.582Z"
   },
   {
    "duration": 81,
    "start_time": "2024-02-18T17:38:58.999Z"
   },
   {
    "duration": 81,
    "start_time": "2024-02-18T17:40:00.715Z"
   },
   {
    "duration": 12,
    "start_time": "2024-02-18T17:40:18.922Z"
   },
   {
    "duration": 14,
    "start_time": "2024-02-18T17:40:27.979Z"
   },
   {
    "duration": 13,
    "start_time": "2024-02-18T17:40:46.701Z"
   },
   {
    "duration": 12,
    "start_time": "2024-02-18T17:41:27.619Z"
   },
   {
    "duration": 12,
    "start_time": "2024-02-18T17:41:37.189Z"
   },
   {
    "duration": 75,
    "start_time": "2024-02-18T17:42:53.339Z"
   },
   {
    "duration": 12,
    "start_time": "2024-02-18T17:42:58.235Z"
   },
   {
    "duration": 12,
    "start_time": "2024-02-18T17:43:41.750Z"
   },
   {
    "duration": 16,
    "start_time": "2024-02-18T17:43:51.365Z"
   },
   {
    "duration": 14,
    "start_time": "2024-02-18T17:44:04.452Z"
   },
   {
    "duration": 9,
    "start_time": "2024-02-18T17:44:40.579Z"
   },
   {
    "duration": 9,
    "start_time": "2024-02-18T17:45:08.426Z"
   },
   {
    "duration": 11,
    "start_time": "2024-02-18T17:46:06.870Z"
   },
   {
    "duration": 12,
    "start_time": "2024-02-18T17:48:56.813Z"
   },
   {
    "duration": 12,
    "start_time": "2024-02-18T17:49:25.209Z"
   },
   {
    "duration": 12,
    "start_time": "2024-02-18T17:49:41.656Z"
   },
   {
    "duration": 14,
    "start_time": "2024-02-18T17:50:12.832Z"
   },
   {
    "duration": 10,
    "start_time": "2024-02-18T17:50:26.316Z"
   },
   {
    "duration": 10,
    "start_time": "2024-02-18T17:50:35.129Z"
   },
   {
    "duration": 104,
    "start_time": "2024-02-18T17:54:45.834Z"
   },
   {
    "duration": 80,
    "start_time": "2024-02-18T17:55:23.695Z"
   },
   {
    "duration": 105,
    "start_time": "2024-02-18T17:55:35.103Z"
   },
   {
    "duration": 127,
    "start_time": "2024-02-18T17:56:27.617Z"
   },
   {
    "duration": 317,
    "start_time": "2024-02-18T17:56:45.750Z"
   },
   {
    "duration": 124,
    "start_time": "2024-02-18T17:56:54.076Z"
   },
   {
    "duration": 241,
    "start_time": "2024-02-18T17:57:38.203Z"
   },
   {
    "duration": 132,
    "start_time": "2024-02-18T17:58:12.362Z"
   },
   {
    "duration": 157,
    "start_time": "2024-02-18T17:58:24.738Z"
   },
   {
    "duration": 95,
    "start_time": "2024-02-18T17:58:41.717Z"
   },
   {
    "duration": 140,
    "start_time": "2024-02-18T17:59:28.542Z"
   },
   {
    "duration": 169,
    "start_time": "2024-02-18T17:59:47.616Z"
   },
   {
    "duration": 183,
    "start_time": "2024-02-18T18:00:37.152Z"
   },
   {
    "duration": 124,
    "start_time": "2024-02-18T18:00:43.928Z"
   },
   {
    "duration": 119,
    "start_time": "2024-02-18T18:00:56.589Z"
   },
   {
    "duration": 115,
    "start_time": "2024-02-18T18:01:12.532Z"
   },
   {
    "duration": 163,
    "start_time": "2024-02-18T18:01:36.127Z"
   },
   {
    "duration": 246,
    "start_time": "2024-02-18T18:02:16.048Z"
   },
   {
    "duration": 160,
    "start_time": "2024-02-18T18:02:19.138Z"
   },
   {
    "duration": 173,
    "start_time": "2024-02-18T18:02:30.999Z"
   },
   {
    "duration": 162,
    "start_time": "2024-02-18T18:02:54.015Z"
   },
   {
    "duration": 124,
    "start_time": "2024-02-18T18:03:17.517Z"
   },
   {
    "duration": 222,
    "start_time": "2024-02-18T18:04:58.060Z"
   },
   {
    "duration": 225,
    "start_time": "2024-02-18T18:05:10.413Z"
   },
   {
    "duration": 129,
    "start_time": "2024-02-18T18:05:37.528Z"
   },
   {
    "duration": 103,
    "start_time": "2024-02-18T18:05:48.802Z"
   },
   {
    "duration": 116,
    "start_time": "2024-02-18T18:06:25.462Z"
   },
   {
    "duration": 115,
    "start_time": "2024-02-18T18:06:33.274Z"
   },
   {
    "duration": 215,
    "start_time": "2024-02-18T18:06:50.993Z"
   },
   {
    "duration": 252,
    "start_time": "2024-02-18T18:07:00.698Z"
   },
   {
    "duration": 134,
    "start_time": "2024-02-18T18:07:07.138Z"
   },
   {
    "duration": 120,
    "start_time": "2024-02-18T18:08:43.055Z"
   },
   {
    "duration": 127,
    "start_time": "2024-02-18T18:08:54.274Z"
   },
   {
    "duration": 137,
    "start_time": "2024-02-18T18:09:09.201Z"
   },
   {
    "duration": 129,
    "start_time": "2024-02-18T18:09:26.439Z"
   },
   {
    "duration": 131,
    "start_time": "2024-02-18T18:10:40.132Z"
   },
   {
    "duration": 12,
    "start_time": "2024-02-18T18:10:47.019Z"
   },
   {
    "duration": 227,
    "start_time": "2024-02-18T18:11:31.284Z"
   },
   {
    "duration": 124,
    "start_time": "2024-02-18T18:11:39.409Z"
   },
   {
    "duration": 121,
    "start_time": "2024-02-18T18:12:53.345Z"
   },
   {
    "duration": 212,
    "start_time": "2024-02-18T18:13:01.965Z"
   },
   {
    "duration": 8,
    "start_time": "2024-02-18T18:13:34.540Z"
   },
   {
    "duration": 9,
    "start_time": "2024-02-18T18:13:37.570Z"
   },
   {
    "duration": 1182,
    "start_time": "2024-02-18T18:13:46.326Z"
   },
   {
    "duration": 66,
    "start_time": "2024-02-18T18:13:47.509Z"
   },
   {
    "duration": 121,
    "start_time": "2024-02-18T18:13:47.577Z"
   },
   {
    "duration": 300,
    "start_time": "2024-02-18T18:13:47.699Z"
   },
   {
    "duration": 346,
    "start_time": "2024-02-18T18:13:48.002Z"
   },
   {
    "duration": 3,
    "start_time": "2024-02-18T18:13:48.350Z"
   },
   {
    "duration": 229,
    "start_time": "2024-02-18T18:13:48.355Z"
   },
   {
    "duration": 7,
    "start_time": "2024-02-18T18:13:48.586Z"
   },
   {
    "duration": 6,
    "start_time": "2024-02-18T18:13:48.594Z"
   },
   {
    "duration": 8,
    "start_time": "2024-02-18T18:13:48.601Z"
   },
   {
    "duration": 170,
    "start_time": "2024-02-18T18:13:48.611Z"
   },
   {
    "duration": 4,
    "start_time": "2024-02-18T18:13:48.782Z"
   },
   {
    "duration": 8,
    "start_time": "2024-02-18T18:13:48.787Z"
   },
   {
    "duration": 124,
    "start_time": "2024-02-18T18:13:48.797Z"
   },
   {
    "duration": 0,
    "start_time": "2024-02-18T18:13:48.923Z"
   },
   {
    "duration": 0,
    "start_time": "2024-02-18T18:13:48.924Z"
   },
   {
    "duration": 0,
    "start_time": "2024-02-18T18:13:48.925Z"
   },
   {
    "duration": 0,
    "start_time": "2024-02-18T18:13:48.932Z"
   },
   {
    "duration": 0,
    "start_time": "2024-02-18T18:13:48.933Z"
   },
   {
    "duration": 0,
    "start_time": "2024-02-18T18:13:48.934Z"
   },
   {
    "duration": 0,
    "start_time": "2024-02-18T18:13:48.935Z"
   },
   {
    "duration": 0,
    "start_time": "2024-02-18T18:13:48.936Z"
   },
   {
    "duration": 0,
    "start_time": "2024-02-18T18:13:48.937Z"
   },
   {
    "duration": 0,
    "start_time": "2024-02-18T18:13:48.938Z"
   },
   {
    "duration": 0,
    "start_time": "2024-02-18T18:13:48.939Z"
   },
   {
    "duration": 0,
    "start_time": "2024-02-18T18:13:48.940Z"
   },
   {
    "duration": 0,
    "start_time": "2024-02-18T18:13:48.941Z"
   },
   {
    "duration": 0,
    "start_time": "2024-02-18T18:13:48.942Z"
   },
   {
    "duration": 0,
    "start_time": "2024-02-18T18:13:48.943Z"
   },
   {
    "duration": 0,
    "start_time": "2024-02-18T18:13:48.944Z"
   },
   {
    "duration": 0,
    "start_time": "2024-02-18T18:13:48.945Z"
   },
   {
    "duration": 0,
    "start_time": "2024-02-18T18:13:48.946Z"
   },
   {
    "duration": 0,
    "start_time": "2024-02-18T18:13:48.947Z"
   },
   {
    "duration": 0,
    "start_time": "2024-02-18T18:13:48.948Z"
   },
   {
    "duration": 0,
    "start_time": "2024-02-18T18:13:48.949Z"
   },
   {
    "duration": 0,
    "start_time": "2024-02-18T18:13:48.950Z"
   },
   {
    "duration": 0,
    "start_time": "2024-02-18T18:13:48.951Z"
   },
   {
    "duration": 0,
    "start_time": "2024-02-18T18:13:48.952Z"
   },
   {
    "duration": 0,
    "start_time": "2024-02-18T18:13:48.953Z"
   },
   {
    "duration": 0,
    "start_time": "2024-02-18T18:13:48.954Z"
   },
   {
    "duration": 0,
    "start_time": "2024-02-18T18:13:48.955Z"
   },
   {
    "duration": 0,
    "start_time": "2024-02-18T18:13:48.956Z"
   },
   {
    "duration": 0,
    "start_time": "2024-02-18T18:13:48.957Z"
   },
   {
    "duration": 0,
    "start_time": "2024-02-18T18:13:48.958Z"
   },
   {
    "duration": 0,
    "start_time": "2024-02-18T18:13:48.959Z"
   },
   {
    "duration": 0,
    "start_time": "2024-02-18T18:13:48.960Z"
   },
   {
    "duration": 0,
    "start_time": "2024-02-18T18:13:48.961Z"
   },
   {
    "duration": 0,
    "start_time": "2024-02-18T18:13:48.962Z"
   },
   {
    "duration": 0,
    "start_time": "2024-02-18T18:13:48.964Z"
   },
   {
    "duration": 0,
    "start_time": "2024-02-18T18:13:48.965Z"
   },
   {
    "duration": 0,
    "start_time": "2024-02-18T18:13:48.966Z"
   },
   {
    "duration": 0,
    "start_time": "2024-02-18T18:13:48.967Z"
   },
   {
    "duration": 0,
    "start_time": "2024-02-18T18:13:48.967Z"
   },
   {
    "duration": 0,
    "start_time": "2024-02-18T18:13:49.033Z"
   },
   {
    "duration": 0,
    "start_time": "2024-02-18T18:13:49.034Z"
   },
   {
    "duration": 0,
    "start_time": "2024-02-18T18:13:49.035Z"
   },
   {
    "duration": 0,
    "start_time": "2024-02-18T18:13:49.036Z"
   },
   {
    "duration": 151,
    "start_time": "2024-02-18T18:14:59.234Z"
   },
   {
    "duration": 10,
    "start_time": "2024-02-18T18:15:24.983Z"
   },
   {
    "duration": 4,
    "start_time": "2024-02-18T18:15:51.584Z"
   },
   {
    "duration": 155,
    "start_time": "2024-02-18T18:16:00.062Z"
   },
   {
    "duration": 154,
    "start_time": "2024-02-18T18:16:22.384Z"
   },
   {
    "duration": 154,
    "start_time": "2024-02-18T18:16:42.364Z"
   },
   {
    "duration": 130,
    "start_time": "2024-02-18T18:16:53.647Z"
   },
   {
    "duration": 148,
    "start_time": "2024-02-18T18:17:07.266Z"
   },
   {
    "duration": 146,
    "start_time": "2024-02-18T18:17:16.793Z"
   },
   {
    "duration": 148,
    "start_time": "2024-02-18T18:20:48.021Z"
   },
   {
    "duration": 114,
    "start_time": "2024-02-18T18:21:12.040Z"
   },
   {
    "duration": 131,
    "start_time": "2024-02-18T18:21:55.760Z"
   },
   {
    "duration": 74,
    "start_time": "2024-02-18T18:22:16.413Z"
   },
   {
    "duration": 103,
    "start_time": "2024-02-18T18:22:31.625Z"
   },
   {
    "duration": 143,
    "start_time": "2024-02-18T18:22:51.260Z"
   },
   {
    "duration": 207,
    "start_time": "2024-02-18T18:22:56.397Z"
   },
   {
    "duration": 8,
    "start_time": "2024-02-18T18:27:16.741Z"
   },
   {
    "duration": 8,
    "start_time": "2024-02-18T18:30:03.488Z"
   },
   {
    "duration": 10,
    "start_time": "2024-02-18T18:30:17.158Z"
   },
   {
    "duration": 8,
    "start_time": "2024-02-18T18:30:18.076Z"
   },
   {
    "duration": 18,
    "start_time": "2024-02-18T18:30:18.888Z"
   },
   {
    "duration": 8,
    "start_time": "2024-02-18T18:30:27.118Z"
   },
   {
    "duration": 1252,
    "start_time": "2024-02-18T18:33:30.866Z"
   },
   {
    "duration": 65,
    "start_time": "2024-02-18T18:33:32.120Z"
   },
   {
    "duration": 113,
    "start_time": "2024-02-18T18:33:32.186Z"
   },
   {
    "duration": 270,
    "start_time": "2024-02-18T18:33:32.300Z"
   },
   {
    "duration": 323,
    "start_time": "2024-02-18T18:33:32.572Z"
   },
   {
    "duration": 2,
    "start_time": "2024-02-18T18:33:32.897Z"
   },
   {
    "duration": 232,
    "start_time": "2024-02-18T18:33:32.900Z"
   },
   {
    "duration": 5,
    "start_time": "2024-02-18T18:33:33.133Z"
   },
   {
    "duration": 5,
    "start_time": "2024-02-18T18:33:33.140Z"
   },
   {
    "duration": 8,
    "start_time": "2024-02-18T18:33:33.146Z"
   },
   {
    "duration": 152,
    "start_time": "2024-02-18T18:33:33.155Z"
   },
   {
    "duration": 4,
    "start_time": "2024-02-18T18:33:33.333Z"
   },
   {
    "duration": 14,
    "start_time": "2024-02-18T18:33:33.338Z"
   },
   {
    "duration": 171,
    "start_time": "2024-02-18T18:33:33.356Z"
   },
   {
    "duration": 138,
    "start_time": "2024-02-18T18:33:33.532Z"
   },
   {
    "duration": 6,
    "start_time": "2024-02-18T18:33:33.671Z"
   },
   {
    "duration": 102,
    "start_time": "2024-02-18T18:33:33.679Z"
   },
   {
    "duration": 9,
    "start_time": "2024-02-18T18:33:33.783Z"
   },
   {
    "duration": 167,
    "start_time": "2024-02-18T18:33:33.793Z"
   },
   {
    "duration": 9,
    "start_time": "2024-02-18T18:33:33.962Z"
   },
   {
    "duration": 274,
    "start_time": "2024-02-18T18:33:33.972Z"
   },
   {
    "duration": 8,
    "start_time": "2024-02-18T18:33:34.248Z"
   },
   {
    "duration": 286,
    "start_time": "2024-02-18T18:33:34.257Z"
   },
   {
    "duration": 11,
    "start_time": "2024-02-18T18:33:34.545Z"
   },
   {
    "duration": 9,
    "start_time": "2024-02-18T18:33:34.557Z"
   },
   {
    "duration": 18,
    "start_time": "2024-02-18T18:33:34.568Z"
   },
   {
    "duration": 9,
    "start_time": "2024-02-18T18:33:34.587Z"
   },
   {
    "duration": 44,
    "start_time": "2024-02-18T18:33:34.597Z"
   },
   {
    "duration": 271,
    "start_time": "2024-02-18T18:33:34.642Z"
   },
   {
    "duration": 321,
    "start_time": "2024-02-18T18:33:34.914Z"
   },
   {
    "duration": 311,
    "start_time": "2024-02-18T18:33:35.237Z"
   },
   {
    "duration": 285,
    "start_time": "2024-02-18T18:33:35.550Z"
   },
   {
    "duration": 6,
    "start_time": "2024-02-18T18:33:35.837Z"
   },
   {
    "duration": 20,
    "start_time": "2024-02-18T18:33:35.844Z"
   },
   {
    "duration": 246,
    "start_time": "2024-02-18T18:33:35.865Z"
   },
   {
    "duration": 109,
    "start_time": "2024-02-18T18:33:36.112Z"
   },
   {
    "duration": 249,
    "start_time": "2024-02-18T18:33:36.222Z"
   },
   {
    "duration": 104,
    "start_time": "2024-02-18T18:33:36.473Z"
   },
   {
    "duration": 102,
    "start_time": "2024-02-18T18:33:36.578Z"
   },
   {
    "duration": 0,
    "start_time": "2024-02-18T18:33:36.683Z"
   },
   {
    "duration": 0,
    "start_time": "2024-02-18T18:33:36.683Z"
   },
   {
    "duration": 0,
    "start_time": "2024-02-18T18:33:36.684Z"
   },
   {
    "duration": 0,
    "start_time": "2024-02-18T18:33:36.685Z"
   },
   {
    "duration": 0,
    "start_time": "2024-02-18T18:33:36.686Z"
   },
   {
    "duration": 0,
    "start_time": "2024-02-18T18:33:36.687Z"
   },
   {
    "duration": 0,
    "start_time": "2024-02-18T18:33:36.688Z"
   },
   {
    "duration": 0,
    "start_time": "2024-02-18T18:33:36.689Z"
   },
   {
    "duration": 0,
    "start_time": "2024-02-18T18:33:36.689Z"
   },
   {
    "duration": 0,
    "start_time": "2024-02-18T18:33:36.690Z"
   },
   {
    "duration": 0,
    "start_time": "2024-02-18T18:33:36.691Z"
   },
   {
    "duration": 0,
    "start_time": "2024-02-18T18:33:36.692Z"
   },
   {
    "duration": 0,
    "start_time": "2024-02-18T18:33:36.693Z"
   },
   {
    "duration": 0,
    "start_time": "2024-02-18T18:33:36.694Z"
   },
   {
    "duration": 0,
    "start_time": "2024-02-18T18:33:36.695Z"
   },
   {
    "duration": 0,
    "start_time": "2024-02-18T18:33:36.696Z"
   },
   {
    "duration": 0,
    "start_time": "2024-02-18T18:33:36.697Z"
   },
   {
    "duration": 0,
    "start_time": "2024-02-18T18:33:36.698Z"
   },
   {
    "duration": 856,
    "start_time": "2024-02-18T18:36:49.282Z"
   },
   {
    "duration": 3,
    "start_time": "2024-02-18T18:36:58.067Z"
   },
   {
    "duration": 10,
    "start_time": "2024-02-18T18:36:59.622Z"
   },
   {
    "duration": 17,
    "start_time": "2024-02-18T18:37:00.539Z"
   },
   {
    "duration": 8,
    "start_time": "2024-02-18T18:40:48.875Z"
   },
   {
    "duration": 3,
    "start_time": "2024-02-18T18:40:49.506Z"
   },
   {
    "duration": 791,
    "start_time": "2024-02-18T18:41:49.246Z"
   },
   {
    "duration": 832,
    "start_time": "2024-02-18T18:41:55.534Z"
   },
   {
    "duration": 876,
    "start_time": "2024-02-18T18:42:07.362Z"
   },
   {
    "duration": 854,
    "start_time": "2024-02-18T18:42:18.126Z"
   },
   {
    "duration": 758,
    "start_time": "2024-02-18T18:43:26.556Z"
   },
   {
    "duration": 3,
    "start_time": "2024-02-18T18:45:09.920Z"
   },
   {
    "duration": 4,
    "start_time": "2024-02-18T18:45:12.652Z"
   },
   {
    "duration": 16,
    "start_time": "2024-02-18T18:45:14.013Z"
   },
   {
    "duration": 3,
    "start_time": "2024-02-18T18:47:20.297Z"
   },
   {
    "duration": 18,
    "start_time": "2024-02-18T18:47:22.845Z"
   },
   {
    "duration": 14,
    "start_time": "2024-02-18T18:47:29.894Z"
   },
   {
    "duration": 10,
    "start_time": "2024-02-18T18:47:40.339Z"
   },
   {
    "duration": 4,
    "start_time": "2024-02-18T18:53:10.362Z"
   },
   {
    "duration": 4,
    "start_time": "2024-02-18T18:54:42.442Z"
   },
   {
    "duration": 4,
    "start_time": "2024-02-18T18:54:43.985Z"
   },
   {
    "duration": 4,
    "start_time": "2024-02-18T18:54:45.514Z"
   },
   {
    "duration": 4,
    "start_time": "2024-02-18T18:54:46.335Z"
   },
   {
    "duration": 4,
    "start_time": "2024-02-18T18:54:47.482Z"
   },
   {
    "duration": 1078,
    "start_time": "2024-02-18T18:57:46.162Z"
   },
   {
    "duration": 1074,
    "start_time": "2024-02-18T18:57:47.521Z"
   },
   {
    "duration": 97,
    "start_time": "2024-02-18T18:58:15.416Z"
   },
   {
    "duration": 1099,
    "start_time": "2024-02-18T18:58:17.673Z"
   },
   {
    "duration": 1182,
    "start_time": "2024-02-18T18:58:34.721Z"
   },
   {
    "duration": 3,
    "start_time": "2024-02-18T18:58:45.345Z"
   },
   {
    "duration": 16,
    "start_time": "2024-02-18T18:58:46.716Z"
   },
   {
    "duration": 2,
    "start_time": "2024-02-18T18:58:54.741Z"
   },
   {
    "duration": 15,
    "start_time": "2024-02-18T18:58:55.841Z"
   },
   {
    "duration": 11,
    "start_time": "2024-02-18T18:58:59.324Z"
   },
   {
    "duration": 1209,
    "start_time": "2024-02-18T18:59:01.603Z"
   },
   {
    "duration": 11,
    "start_time": "2024-02-18T19:00:05.860Z"
   },
   {
    "duration": 1233,
    "start_time": "2024-02-18T19:00:07.782Z"
   },
   {
    "duration": 8,
    "start_time": "2024-02-18T19:00:36.645Z"
   },
   {
    "duration": 4,
    "start_time": "2024-02-18T19:00:38.201Z"
   },
   {
    "duration": 15,
    "start_time": "2024-02-18T19:00:39.723Z"
   },
   {
    "duration": 1139,
    "start_time": "2024-02-18T19:00:45.965Z"
   },
   {
    "duration": 68,
    "start_time": "2024-02-18T19:00:47.106Z"
   },
   {
    "duration": 128,
    "start_time": "2024-02-18T19:00:47.176Z"
   },
   {
    "duration": 303,
    "start_time": "2024-02-18T19:00:47.307Z"
   },
   {
    "duration": 334,
    "start_time": "2024-02-18T19:00:47.612Z"
   },
   {
    "duration": 3,
    "start_time": "2024-02-18T19:00:47.948Z"
   },
   {
    "duration": 221,
    "start_time": "2024-02-18T19:00:47.953Z"
   },
   {
    "duration": 7,
    "start_time": "2024-02-18T19:00:48.175Z"
   },
   {
    "duration": 6,
    "start_time": "2024-02-18T19:00:48.183Z"
   },
   {
    "duration": 6,
    "start_time": "2024-02-18T19:00:48.192Z"
   },
   {
    "duration": 177,
    "start_time": "2024-02-18T19:00:48.200Z"
   },
   {
    "duration": 3,
    "start_time": "2024-02-18T19:00:48.379Z"
   },
   {
    "duration": 5,
    "start_time": "2024-02-18T19:00:48.384Z"
   },
   {
    "duration": 183,
    "start_time": "2024-02-18T19:00:48.391Z"
   },
   {
    "duration": 142,
    "start_time": "2024-02-18T19:00:48.576Z"
   },
   {
    "duration": 16,
    "start_time": "2024-02-18T19:00:48.720Z"
   },
   {
    "duration": 95,
    "start_time": "2024-02-18T19:00:48.738Z"
   },
   {
    "duration": 6,
    "start_time": "2024-02-18T19:00:48.835Z"
   },
   {
    "duration": 154,
    "start_time": "2024-02-18T19:00:48.842Z"
   },
   {
    "duration": 7,
    "start_time": "2024-02-18T19:00:48.998Z"
   },
   {
    "duration": 330,
    "start_time": "2024-02-18T19:00:49.006Z"
   },
   {
    "duration": 8,
    "start_time": "2024-02-18T19:00:49.337Z"
   },
   {
    "duration": 276,
    "start_time": "2024-02-18T19:00:49.346Z"
   },
   {
    "duration": 11,
    "start_time": "2024-02-18T19:00:49.632Z"
   },
   {
    "duration": 44,
    "start_time": "2024-02-18T19:00:49.644Z"
   },
   {
    "duration": 35,
    "start_time": "2024-02-18T19:00:49.689Z"
   },
   {
    "duration": 22,
    "start_time": "2024-02-18T19:00:49.725Z"
   },
   {
    "duration": 63,
    "start_time": "2024-02-18T19:00:49.750Z"
   },
   {
    "duration": 273,
    "start_time": "2024-02-18T19:00:49.815Z"
   },
   {
    "duration": 251,
    "start_time": "2024-02-18T19:00:50.090Z"
   },
   {
    "duration": 325,
    "start_time": "2024-02-18T19:00:50.343Z"
   },
   {
    "duration": 265,
    "start_time": "2024-02-18T19:00:50.670Z"
   },
   {
    "duration": 6,
    "start_time": "2024-02-18T19:00:50.937Z"
   },
   {
    "duration": 52,
    "start_time": "2024-02-18T19:00:50.944Z"
   },
   {
    "duration": 301,
    "start_time": "2024-02-18T19:00:50.998Z"
   },
   {
    "duration": 114,
    "start_time": "2024-02-18T19:00:51.300Z"
   },
   {
    "duration": 257,
    "start_time": "2024-02-18T19:00:51.415Z"
   },
   {
    "duration": 123,
    "start_time": "2024-02-18T19:00:51.673Z"
   },
   {
    "duration": 871,
    "start_time": "2024-02-18T19:00:51.797Z"
   },
   {
    "duration": 9,
    "start_time": "2024-02-18T19:00:52.669Z"
   },
   {
    "duration": 43,
    "start_time": "2024-02-18T19:00:52.680Z"
   },
   {
    "duration": 61,
    "start_time": "2024-02-18T19:00:52.724Z"
   },
   {
    "duration": 51,
    "start_time": "2024-02-18T19:00:52.786Z"
   },
   {
    "duration": 136,
    "start_time": "2024-02-18T19:00:52.839Z"
   },
   {
    "duration": 5,
    "start_time": "2024-02-18T19:00:52.976Z"
   },
   {
    "duration": 123,
    "start_time": "2024-02-18T19:00:52.982Z"
   },
   {
    "duration": 0,
    "start_time": "2024-02-18T19:00:53.107Z"
   },
   {
    "duration": 0,
    "start_time": "2024-02-18T19:00:53.108Z"
   },
   {
    "duration": 0,
    "start_time": "2024-02-18T19:00:53.109Z"
   },
   {
    "duration": 0,
    "start_time": "2024-02-18T19:00:53.110Z"
   },
   {
    "duration": 0,
    "start_time": "2024-02-18T19:00:53.111Z"
   },
   {
    "duration": 0,
    "start_time": "2024-02-18T19:00:53.112Z"
   },
   {
    "duration": 0,
    "start_time": "2024-02-18T19:00:53.113Z"
   },
   {
    "duration": 0,
    "start_time": "2024-02-18T19:00:53.114Z"
   },
   {
    "duration": 0,
    "start_time": "2024-02-18T19:00:53.115Z"
   },
   {
    "duration": 0,
    "start_time": "2024-02-18T19:00:53.116Z"
   },
   {
    "duration": 0,
    "start_time": "2024-02-18T19:00:53.133Z"
   },
   {
    "duration": 0,
    "start_time": "2024-02-18T19:00:53.134Z"
   },
   {
    "duration": 13,
    "start_time": "2024-02-18T19:01:01.161Z"
   },
   {
    "duration": 14,
    "start_time": "2024-02-18T19:01:02.324Z"
   },
   {
    "duration": 17,
    "start_time": "2024-02-18T19:02:33.495Z"
   },
   {
    "duration": 12,
    "start_time": "2024-02-18T19:02:34.446Z"
   },
   {
    "duration": 15,
    "start_time": "2024-02-18T19:04:28.163Z"
   },
   {
    "duration": 3,
    "start_time": "2024-02-18T19:04:32.298Z"
   },
   {
    "duration": 1193,
    "start_time": "2024-02-18T19:04:48.302Z"
   },
   {
    "duration": 4,
    "start_time": "2024-02-18T19:05:12.328Z"
   },
   {
    "duration": 9,
    "start_time": "2024-02-18T19:05:13.997Z"
   },
   {
    "duration": 20,
    "start_time": "2024-02-18T19:06:51.802Z"
   },
   {
    "duration": 4,
    "start_time": "2024-02-18T19:07:00.425Z"
   },
   {
    "duration": 9,
    "start_time": "2024-02-18T19:07:03.241Z"
   },
   {
    "duration": 3,
    "start_time": "2024-02-18T19:07:04.081Z"
   },
   {
    "duration": 752,
    "start_time": "2024-02-18T19:08:00.341Z"
   },
   {
    "duration": 9,
    "start_time": "2024-02-18T19:08:07.421Z"
   },
   {
    "duration": 3,
    "start_time": "2024-02-18T19:08:11.242Z"
   },
   {
    "duration": 739,
    "start_time": "2024-02-18T19:09:34.101Z"
   },
   {
    "duration": 1221,
    "start_time": "2024-02-18T19:10:18.183Z"
   },
   {
    "duration": 66,
    "start_time": "2024-02-18T19:10:19.406Z"
   },
   {
    "duration": 108,
    "start_time": "2024-02-18T19:10:19.473Z"
   },
   {
    "duration": 260,
    "start_time": "2024-02-18T19:10:19.583Z"
   },
   {
    "duration": 322,
    "start_time": "2024-02-18T19:10:19.844Z"
   },
   {
    "duration": 3,
    "start_time": "2024-02-18T19:10:20.167Z"
   },
   {
    "duration": 204,
    "start_time": "2024-02-18T19:10:20.172Z"
   },
   {
    "duration": 5,
    "start_time": "2024-02-18T19:10:20.377Z"
   },
   {
    "duration": 4,
    "start_time": "2024-02-18T19:10:20.384Z"
   },
   {
    "duration": 5,
    "start_time": "2024-02-18T19:10:20.390Z"
   },
   {
    "duration": 159,
    "start_time": "2024-02-18T19:10:20.396Z"
   },
   {
    "duration": 3,
    "start_time": "2024-02-18T19:10:20.556Z"
   },
   {
    "duration": 20,
    "start_time": "2024-02-18T19:10:20.560Z"
   },
   {
    "duration": 150,
    "start_time": "2024-02-18T19:10:20.581Z"
   },
   {
    "duration": 127,
    "start_time": "2024-02-18T19:10:20.732Z"
   },
   {
    "duration": 6,
    "start_time": "2024-02-18T19:10:20.860Z"
   },
   {
    "duration": 95,
    "start_time": "2024-02-18T19:10:20.867Z"
   },
   {
    "duration": 7,
    "start_time": "2024-02-18T19:10:20.963Z"
   },
   {
    "duration": 163,
    "start_time": "2024-02-18T19:10:20.971Z"
   },
   {
    "duration": 9,
    "start_time": "2024-02-18T19:10:21.136Z"
   },
   {
    "duration": 312,
    "start_time": "2024-02-18T19:10:21.146Z"
   },
   {
    "duration": 8,
    "start_time": "2024-02-18T19:10:21.460Z"
   },
   {
    "duration": 255,
    "start_time": "2024-02-18T19:10:21.469Z"
   },
   {
    "duration": 11,
    "start_time": "2024-02-18T19:10:21.734Z"
   },
   {
    "duration": 10,
    "start_time": "2024-02-18T19:10:21.747Z"
   },
   {
    "duration": 24,
    "start_time": "2024-02-18T19:10:21.758Z"
   },
   {
    "duration": 12,
    "start_time": "2024-02-18T19:10:21.784Z"
   },
   {
    "duration": 47,
    "start_time": "2024-02-18T19:10:21.800Z"
   },
   {
    "duration": 262,
    "start_time": "2024-02-18T19:10:21.848Z"
   },
   {
    "duration": 324,
    "start_time": "2024-02-18T19:10:22.112Z"
   },
   {
    "duration": 350,
    "start_time": "2024-02-18T19:10:22.438Z"
   },
   {
    "duration": 250,
    "start_time": "2024-02-18T19:10:22.790Z"
   },
   {
    "duration": 8,
    "start_time": "2024-02-18T19:10:23.043Z"
   },
   {
    "duration": 17,
    "start_time": "2024-02-18T19:10:23.052Z"
   },
   {
    "duration": 264,
    "start_time": "2024-02-18T19:10:23.071Z"
   },
   {
    "duration": 105,
    "start_time": "2024-02-18T19:10:23.337Z"
   },
   {
    "duration": 252,
    "start_time": "2024-02-18T19:10:23.443Z"
   },
   {
    "duration": 132,
    "start_time": "2024-02-18T19:10:23.697Z"
   },
   {
    "duration": 780,
    "start_time": "2024-02-18T19:10:23.831Z"
   },
   {
    "duration": 8,
    "start_time": "2024-02-18T19:10:24.613Z"
   },
   {
    "duration": 2,
    "start_time": "2024-02-18T19:10:24.623Z"
   },
   {
    "duration": 91,
    "start_time": "2024-02-18T19:10:24.626Z"
   },
   {
    "duration": 20,
    "start_time": "2024-02-18T19:10:24.718Z"
   },
   {
    "duration": 15,
    "start_time": "2024-02-18T19:10:24.740Z"
   },
   {
    "duration": 6,
    "start_time": "2024-02-18T19:10:24.756Z"
   },
   {
    "duration": 808,
    "start_time": "2024-02-18T19:10:24.764Z"
   },
   {
    "duration": 5,
    "start_time": "2024-02-18T19:10:25.574Z"
   },
   {
    "duration": 1413,
    "start_time": "2024-02-18T19:10:25.581Z"
   },
   {
    "duration": 0,
    "start_time": "2024-02-18T19:10:26.995Z"
   },
   {
    "duration": 0,
    "start_time": "2024-02-18T19:10:26.996Z"
   },
   {
    "duration": 0,
    "start_time": "2024-02-18T19:10:26.997Z"
   },
   {
    "duration": 0,
    "start_time": "2024-02-18T19:10:26.998Z"
   },
   {
    "duration": 0,
    "start_time": "2024-02-18T19:10:26.999Z"
   },
   {
    "duration": 0,
    "start_time": "2024-02-18T19:10:27.000Z"
   },
   {
    "duration": 8,
    "start_time": "2024-02-18T19:16:03.921Z"
   },
   {
    "duration": 7,
    "start_time": "2024-02-18T19:16:18.741Z"
   },
   {
    "duration": 7,
    "start_time": "2024-02-18T19:17:19.608Z"
   },
   {
    "duration": 12,
    "start_time": "2024-02-18T19:17:25.960Z"
   },
   {
    "duration": 15,
    "start_time": "2024-02-18T19:18:51.370Z"
   },
   {
    "duration": 16,
    "start_time": "2024-02-18T19:18:53.727Z"
   },
   {
    "duration": 8,
    "start_time": "2024-02-18T19:19:10.345Z"
   },
   {
    "duration": 14,
    "start_time": "2024-02-18T19:19:17.636Z"
   },
   {
    "duration": 741,
    "start_time": "2024-02-18T19:19:31.964Z"
   },
   {
    "duration": 8,
    "start_time": "2024-02-18T19:19:36.480Z"
   },
   {
    "duration": 4,
    "start_time": "2024-02-18T19:19:38.571Z"
   },
   {
    "duration": 20,
    "start_time": "2024-02-18T19:19:41.442Z"
   },
   {
    "duration": 74,
    "start_time": "2024-02-18T19:19:43.481Z"
   },
   {
    "duration": 850,
    "start_time": "2024-02-18T19:21:16.941Z"
   },
   {
    "duration": 8,
    "start_time": "2024-02-18T19:21:20.403Z"
   },
   {
    "duration": 3,
    "start_time": "2024-02-18T19:21:21.502Z"
   },
   {
    "duration": 1228,
    "start_time": "2024-02-18T19:21:23.024Z"
   },
   {
    "duration": 0,
    "start_time": "2024-02-18T19:21:24.253Z"
   },
   {
    "duration": 14,
    "start_time": "2024-02-18T19:21:25.861Z"
   },
   {
    "duration": 1143,
    "start_time": "2024-02-18T19:21:31.861Z"
   },
   {
    "duration": 752,
    "start_time": "2024-02-18T19:21:46.621Z"
   },
   {
    "duration": 8,
    "start_time": "2024-02-18T19:21:50.360Z"
   },
   {
    "duration": 3,
    "start_time": "2024-02-18T19:21:51.392Z"
   },
   {
    "duration": 14,
    "start_time": "2024-02-18T19:21:52.158Z"
   },
   {
    "duration": 12,
    "start_time": "2024-02-18T19:21:53.920Z"
   },
   {
    "duration": 15,
    "start_time": "2024-02-18T19:21:56.009Z"
   },
   {
    "duration": 14,
    "start_time": "2024-02-18T19:23:00.760Z"
   },
   {
    "duration": 12,
    "start_time": "2024-02-18T19:23:01.941Z"
   },
   {
    "duration": 1178,
    "start_time": "2024-02-18T19:23:25.141Z"
   },
   {
    "duration": 3,
    "start_time": "2024-02-18T19:23:26.459Z"
   },
   {
    "duration": 1388,
    "start_time": "2024-02-18T19:24:01.337Z"
   },
   {
    "duration": 7,
    "start_time": "2024-02-18T19:24:33.044Z"
   },
   {
    "duration": 750,
    "start_time": "2024-02-18T19:24:34.253Z"
   },
   {
    "duration": 3,
    "start_time": "2024-02-18T19:24:38.591Z"
   },
   {
    "duration": 74,
    "start_time": "2024-02-18T19:24:39.639Z"
   },
   {
    "duration": 11,
    "start_time": "2024-02-18T19:24:41.020Z"
   },
   {
    "duration": 17,
    "start_time": "2024-02-18T19:24:42.303Z"
   },
   {
    "duration": 783,
    "start_time": "2024-02-18T19:25:00.214Z"
   },
   {
    "duration": 3,
    "start_time": "2024-02-18T19:25:04.602Z"
   },
   {
    "duration": 14,
    "start_time": "2024-02-18T19:25:05.495Z"
   },
   {
    "duration": 12,
    "start_time": "2024-02-18T19:25:06.460Z"
   },
   {
    "duration": 14,
    "start_time": "2024-02-18T19:25:20.395Z"
   },
   {
    "duration": 75,
    "start_time": "2024-02-18T19:27:27.921Z"
   },
   {
    "duration": 16,
    "start_time": "2024-02-18T19:28:17.451Z"
   },
   {
    "duration": 8,
    "start_time": "2024-02-18T19:36:40.641Z"
   },
   {
    "duration": 12,
    "start_time": "2024-02-18T19:36:46.540Z"
   },
   {
    "duration": 14,
    "start_time": "2024-02-18T19:36:50.621Z"
   },
   {
    "duration": 8,
    "start_time": "2024-02-18T19:38:30.141Z"
   },
   {
    "duration": 16,
    "start_time": "2024-02-18T19:38:33.201Z"
   },
   {
    "duration": 3,
    "start_time": "2024-02-18T19:38:46.000Z"
   },
   {
    "duration": 14,
    "start_time": "2024-02-18T19:39:07.221Z"
   },
   {
    "duration": 1207,
    "start_time": "2024-02-18T19:39:14.812Z"
   },
   {
    "duration": 68,
    "start_time": "2024-02-18T19:39:16.021Z"
   },
   {
    "duration": 125,
    "start_time": "2024-02-18T19:39:16.090Z"
   },
   {
    "duration": 264,
    "start_time": "2024-02-18T19:39:16.234Z"
   },
   {
    "duration": 316,
    "start_time": "2024-02-18T19:39:16.499Z"
   },
   {
    "duration": 3,
    "start_time": "2024-02-18T19:39:16.816Z"
   },
   {
    "duration": 239,
    "start_time": "2024-02-18T19:39:16.820Z"
   },
   {
    "duration": 6,
    "start_time": "2024-02-18T19:39:17.061Z"
   },
   {
    "duration": 6,
    "start_time": "2024-02-18T19:39:17.069Z"
   },
   {
    "duration": 5,
    "start_time": "2024-02-18T19:39:17.077Z"
   },
   {
    "duration": 168,
    "start_time": "2024-02-18T19:39:17.085Z"
   },
   {
    "duration": 3,
    "start_time": "2024-02-18T19:39:17.255Z"
   },
   {
    "duration": 12,
    "start_time": "2024-02-18T19:39:17.259Z"
   },
   {
    "duration": 161,
    "start_time": "2024-02-18T19:39:17.272Z"
   },
   {
    "duration": 144,
    "start_time": "2024-02-18T19:39:17.434Z"
   },
   {
    "duration": 5,
    "start_time": "2024-02-18T19:39:17.579Z"
   },
   {
    "duration": 94,
    "start_time": "2024-02-18T19:39:17.586Z"
   },
   {
    "duration": 8,
    "start_time": "2024-02-18T19:39:17.682Z"
   },
   {
    "duration": 163,
    "start_time": "2024-02-18T19:39:17.691Z"
   },
   {
    "duration": 7,
    "start_time": "2024-02-18T19:39:17.856Z"
   },
   {
    "duration": 289,
    "start_time": "2024-02-18T19:39:17.865Z"
   },
   {
    "duration": 9,
    "start_time": "2024-02-18T19:39:18.156Z"
   },
   {
    "duration": 274,
    "start_time": "2024-02-18T19:39:18.166Z"
   },
   {
    "duration": 12,
    "start_time": "2024-02-18T19:39:18.441Z"
   },
   {
    "duration": 10,
    "start_time": "2024-02-18T19:39:18.454Z"
   },
   {
    "duration": 19,
    "start_time": "2024-02-18T19:39:18.466Z"
   },
   {
    "duration": 9,
    "start_time": "2024-02-18T19:39:18.486Z"
   },
   {
    "duration": 44,
    "start_time": "2024-02-18T19:39:18.498Z"
   },
   {
    "duration": 266,
    "start_time": "2024-02-18T19:39:18.543Z"
   },
   {
    "duration": 315,
    "start_time": "2024-02-18T19:39:18.810Z"
   },
   {
    "duration": 334,
    "start_time": "2024-02-18T19:39:19.127Z"
   },
   {
    "duration": 280,
    "start_time": "2024-02-18T19:39:19.462Z"
   },
   {
    "duration": 8,
    "start_time": "2024-02-18T19:39:19.744Z"
   },
   {
    "duration": 22,
    "start_time": "2024-02-18T19:39:19.754Z"
   },
   {
    "duration": 252,
    "start_time": "2024-02-18T19:39:19.777Z"
   },
   {
    "duration": 109,
    "start_time": "2024-02-18T19:39:20.032Z"
   },
   {
    "duration": 254,
    "start_time": "2024-02-18T19:39:20.143Z"
   },
   {
    "duration": 117,
    "start_time": "2024-02-18T19:39:20.399Z"
   },
   {
    "duration": 105,
    "start_time": "2024-02-18T19:39:20.517Z"
   },
   {
    "duration": 0,
    "start_time": "2024-02-18T19:39:20.623Z"
   },
   {
    "duration": 0,
    "start_time": "2024-02-18T19:39:20.624Z"
   },
   {
    "duration": 0,
    "start_time": "2024-02-18T19:39:20.625Z"
   },
   {
    "duration": 0,
    "start_time": "2024-02-18T19:39:20.626Z"
   },
   {
    "duration": 0,
    "start_time": "2024-02-18T19:39:20.627Z"
   },
   {
    "duration": 0,
    "start_time": "2024-02-18T19:39:20.633Z"
   },
   {
    "duration": 0,
    "start_time": "2024-02-18T19:39:20.634Z"
   },
   {
    "duration": 0,
    "start_time": "2024-02-18T19:39:20.635Z"
   },
   {
    "duration": 0,
    "start_time": "2024-02-18T19:39:20.636Z"
   },
   {
    "duration": 0,
    "start_time": "2024-02-18T19:39:20.638Z"
   },
   {
    "duration": 0,
    "start_time": "2024-02-18T19:39:20.639Z"
   },
   {
    "duration": 0,
    "start_time": "2024-02-18T19:39:20.640Z"
   },
   {
    "duration": 0,
    "start_time": "2024-02-18T19:39:20.641Z"
   },
   {
    "duration": 0,
    "start_time": "2024-02-18T19:39:20.643Z"
   },
   {
    "duration": 0,
    "start_time": "2024-02-18T19:39:20.644Z"
   },
   {
    "duration": 0,
    "start_time": "2024-02-18T19:39:20.645Z"
   },
   {
    "duration": 7,
    "start_time": "2024-02-18T19:39:45.168Z"
   },
   {
    "duration": 7,
    "start_time": "2024-02-18T19:39:56.741Z"
   },
   {
    "duration": 8,
    "start_time": "2024-02-18T19:40:03.061Z"
   },
   {
    "duration": 9,
    "start_time": "2024-02-18T19:40:04.582Z"
   },
   {
    "duration": 8,
    "start_time": "2024-02-18T19:40:18.973Z"
   },
   {
    "duration": 4,
    "start_time": "2024-02-18T19:40:29.720Z"
   },
   {
    "duration": 819,
    "start_time": "2024-02-18T19:40:33.101Z"
   },
   {
    "duration": 3,
    "start_time": "2024-02-18T19:40:36.695Z"
   },
   {
    "duration": 16,
    "start_time": "2024-02-18T19:40:38.281Z"
   },
   {
    "duration": 84,
    "start_time": "2024-02-18T19:40:39.744Z"
   },
   {
    "duration": 15,
    "start_time": "2024-02-18T19:40:44.660Z"
   },
   {
    "duration": 1193,
    "start_time": "2024-02-18T19:41:08.453Z"
   },
   {
    "duration": 67,
    "start_time": "2024-02-18T19:41:09.648Z"
   },
   {
    "duration": 148,
    "start_time": "2024-02-18T19:41:09.716Z"
   },
   {
    "duration": 268,
    "start_time": "2024-02-18T19:41:09.866Z"
   },
   {
    "duration": 326,
    "start_time": "2024-02-18T19:41:10.136Z"
   },
   {
    "duration": 2,
    "start_time": "2024-02-18T19:41:10.464Z"
   },
   {
    "duration": 216,
    "start_time": "2024-02-18T19:41:10.468Z"
   },
   {
    "duration": 5,
    "start_time": "2024-02-18T19:41:10.686Z"
   },
   {
    "duration": 6,
    "start_time": "2024-02-18T19:41:10.693Z"
   },
   {
    "duration": 12,
    "start_time": "2024-02-18T19:41:10.700Z"
   },
   {
    "duration": 162,
    "start_time": "2024-02-18T19:41:10.713Z"
   },
   {
    "duration": 3,
    "start_time": "2024-02-18T19:41:10.876Z"
   },
   {
    "duration": 5,
    "start_time": "2024-02-18T19:41:10.881Z"
   },
   {
    "duration": 180,
    "start_time": "2024-02-18T19:41:10.889Z"
   },
   {
    "duration": 145,
    "start_time": "2024-02-18T19:41:11.071Z"
   },
   {
    "duration": 6,
    "start_time": "2024-02-18T19:41:11.217Z"
   },
   {
    "duration": 91,
    "start_time": "2024-02-18T19:41:11.225Z"
   },
   {
    "duration": 20,
    "start_time": "2024-02-18T19:41:11.318Z"
   },
   {
    "duration": 162,
    "start_time": "2024-02-18T19:41:11.339Z"
   },
   {
    "duration": 7,
    "start_time": "2024-02-18T19:41:11.503Z"
   },
   {
    "duration": 347,
    "start_time": "2024-02-18T19:41:11.512Z"
   },
   {
    "duration": 9,
    "start_time": "2024-02-18T19:41:11.861Z"
   },
   {
    "duration": 278,
    "start_time": "2024-02-18T19:41:11.872Z"
   },
   {
    "duration": 13,
    "start_time": "2024-02-18T19:41:12.152Z"
   },
   {
    "duration": 13,
    "start_time": "2024-02-18T19:41:12.167Z"
   },
   {
    "duration": 24,
    "start_time": "2024-02-18T19:41:12.182Z"
   },
   {
    "duration": 27,
    "start_time": "2024-02-18T19:41:12.207Z"
   },
   {
    "duration": 18,
    "start_time": "2024-02-18T19:41:12.236Z"
   },
   {
    "duration": 269,
    "start_time": "2024-02-18T19:41:12.256Z"
   },
   {
    "duration": 316,
    "start_time": "2024-02-18T19:41:12.526Z"
   },
   {
    "duration": 327,
    "start_time": "2024-02-18T19:41:12.844Z"
   },
   {
    "duration": 270,
    "start_time": "2024-02-18T19:41:13.173Z"
   },
   {
    "duration": 7,
    "start_time": "2024-02-18T19:41:13.445Z"
   },
   {
    "duration": 55,
    "start_time": "2024-02-18T19:41:13.453Z"
   },
   {
    "duration": 270,
    "start_time": "2024-02-18T19:41:13.509Z"
   },
   {
    "duration": 118,
    "start_time": "2024-02-18T19:41:13.781Z"
   },
   {
    "duration": 263,
    "start_time": "2024-02-18T19:41:13.901Z"
   },
   {
    "duration": 127,
    "start_time": "2024-02-18T19:41:14.166Z"
   },
   {
    "duration": 4,
    "start_time": "2024-02-18T19:41:14.294Z"
   },
   {
    "duration": 781,
    "start_time": "2024-02-18T19:41:14.300Z"
   },
   {
    "duration": 2,
    "start_time": "2024-02-18T19:41:15.085Z"
   },
   {
    "duration": 45,
    "start_time": "2024-02-18T19:41:15.089Z"
   },
   {
    "duration": 103,
    "start_time": "2024-02-18T19:41:15.136Z"
   },
   {
    "duration": 15,
    "start_time": "2024-02-18T19:41:15.241Z"
   },
   {
    "duration": 24,
    "start_time": "2024-02-18T19:41:15.257Z"
   },
   {
    "duration": 812,
    "start_time": "2024-02-18T19:41:15.282Z"
   },
   {
    "duration": 5,
    "start_time": "2024-02-18T19:41:16.095Z"
   },
   {
    "duration": 1470,
    "start_time": "2024-02-18T19:41:16.101Z"
   },
   {
    "duration": 0,
    "start_time": "2024-02-18T19:41:17.573Z"
   },
   {
    "duration": 0,
    "start_time": "2024-02-18T19:41:17.575Z"
   },
   {
    "duration": 0,
    "start_time": "2024-02-18T19:41:17.576Z"
   },
   {
    "duration": 0,
    "start_time": "2024-02-18T19:41:17.578Z"
   },
   {
    "duration": 0,
    "start_time": "2024-02-18T19:41:17.579Z"
   },
   {
    "duration": 0,
    "start_time": "2024-02-18T19:41:17.580Z"
   },
   {
    "duration": 6,
    "start_time": "2024-02-18T20:10:43.401Z"
   },
   {
    "duration": 5,
    "start_time": "2024-02-18T20:12:11.082Z"
   },
   {
    "duration": 5,
    "start_time": "2024-02-18T20:15:34.861Z"
   },
   {
    "duration": 5,
    "start_time": "2024-02-18T20:18:26.370Z"
   },
   {
    "duration": 6,
    "start_time": "2024-02-18T20:25:50.100Z"
   },
   {
    "duration": 6,
    "start_time": "2024-02-18T20:36:46.979Z"
   },
   {
    "duration": 5,
    "start_time": "2024-02-18T20:36:48.919Z"
   },
   {
    "duration": 6,
    "start_time": "2024-02-18T20:37:12.379Z"
   },
   {
    "duration": 5,
    "start_time": "2024-02-18T20:38:03.100Z"
   },
   {
    "duration": 5,
    "start_time": "2024-02-18T20:38:30.960Z"
   },
   {
    "duration": 5,
    "start_time": "2024-02-18T20:42:13.265Z"
   },
   {
    "duration": 4,
    "start_time": "2024-02-18T20:42:19.714Z"
   },
   {
    "duration": 9,
    "start_time": "2024-02-18T20:53:57.340Z"
   },
   {
    "duration": 1158,
    "start_time": "2024-02-18T20:55:23.377Z"
   },
   {
    "duration": 1168,
    "start_time": "2024-02-18T20:55:24.585Z"
   },
   {
    "duration": 11,
    "start_time": "2024-02-18T21:05:20.317Z"
   },
   {
    "duration": 10,
    "start_time": "2024-02-18T21:06:19.727Z"
   },
   {
    "duration": 18,
    "start_time": "2024-02-18T21:12:11.871Z"
   },
   {
    "duration": 9,
    "start_time": "2024-02-18T21:13:36.825Z"
   },
   {
    "duration": 7,
    "start_time": "2024-02-18T21:13:56.014Z"
   },
   {
    "duration": 11,
    "start_time": "2024-02-18T21:14:03.785Z"
   },
   {
    "duration": 10,
    "start_time": "2024-02-18T21:23:46.897Z"
   },
   {
    "duration": 8,
    "start_time": "2024-02-18T21:24:38.097Z"
   },
   {
    "duration": 71,
    "start_time": "2024-02-18T21:24:50.377Z"
   },
   {
    "duration": 8,
    "start_time": "2024-02-18T21:25:17.823Z"
   },
   {
    "duration": 278,
    "start_time": "2024-02-18T21:50:39.858Z"
   },
   {
    "duration": 11,
    "start_time": "2024-02-18T22:32:34.056Z"
   },
   {
    "duration": 10,
    "start_time": "2024-02-18T22:33:01.240Z"
   },
   {
    "duration": 79,
    "start_time": "2024-02-19T15:50:55.141Z"
   },
   {
    "duration": 71,
    "start_time": "2024-02-19T15:51:13.147Z"
   },
   {
    "duration": 6,
    "start_time": "2024-02-19T15:51:26.633Z"
   },
   {
    "duration": 913,
    "start_time": "2024-02-19T15:51:32.428Z"
   },
   {
    "duration": 880,
    "start_time": "2024-02-19T15:51:45.777Z"
   },
   {
    "duration": 883,
    "start_time": "2024-02-19T15:51:51.608Z"
   },
   {
    "duration": 5,
    "start_time": "2024-02-19T15:59:53.955Z"
   },
   {
    "duration": 5,
    "start_time": "2024-02-19T16:00:00.187Z"
   },
   {
    "duration": 5,
    "start_time": "2024-02-19T16:00:27.507Z"
   },
   {
    "duration": 5,
    "start_time": "2024-02-19T16:00:31.347Z"
   },
   {
    "duration": 5,
    "start_time": "2024-02-19T16:00:42.817Z"
   },
   {
    "duration": 5,
    "start_time": "2024-02-19T16:00:47.762Z"
   },
   {
    "duration": 5,
    "start_time": "2024-02-19T16:02:00.387Z"
   },
   {
    "duration": 5,
    "start_time": "2024-02-19T16:02:13.024Z"
   },
   {
    "duration": 5,
    "start_time": "2024-02-19T16:02:21.467Z"
   },
   {
    "duration": 98,
    "start_time": "2024-02-19T16:02:24.928Z"
   },
   {
    "duration": 4,
    "start_time": "2024-02-19T16:02:57.088Z"
   },
   {
    "duration": 5,
    "start_time": "2024-02-19T16:03:10.122Z"
   },
   {
    "duration": 7,
    "start_time": "2024-02-19T16:03:45.640Z"
   },
   {
    "duration": 10,
    "start_time": "2024-02-19T16:04:24.793Z"
   },
   {
    "duration": 5,
    "start_time": "2024-02-19T16:04:28.367Z"
   },
   {
    "duration": 5,
    "start_time": "2024-02-19T16:04:33.267Z"
   },
   {
    "duration": 5,
    "start_time": "2024-02-19T16:04:43.155Z"
   },
   {
    "duration": 5,
    "start_time": "2024-02-19T16:04:46.492Z"
   },
   {
    "duration": 6,
    "start_time": "2024-02-19T16:05:41.947Z"
   },
   {
    "duration": 7,
    "start_time": "2024-02-19T16:05:53.927Z"
   },
   {
    "duration": 950,
    "start_time": "2024-02-19T16:06:13.502Z"
   },
   {
    "duration": 5,
    "start_time": "2024-02-19T16:07:17.257Z"
   },
   {
    "duration": 6,
    "start_time": "2024-02-19T16:47:41.018Z"
   },
   {
    "duration": 67,
    "start_time": "2024-02-19T16:53:00.926Z"
   },
   {
    "duration": 92,
    "start_time": "2024-02-19T16:56:15.731Z"
   },
   {
    "duration": 1156,
    "start_time": "2024-02-19T16:59:05.086Z"
   },
   {
    "duration": 66,
    "start_time": "2024-02-19T16:59:06.244Z"
   },
   {
    "duration": 132,
    "start_time": "2024-02-19T16:59:06.311Z"
   },
   {
    "duration": 252,
    "start_time": "2024-02-19T16:59:06.444Z"
   },
   {
    "duration": 315,
    "start_time": "2024-02-19T16:59:06.698Z"
   },
   {
    "duration": 2,
    "start_time": "2024-02-19T16:59:07.015Z"
   },
   {
    "duration": 225,
    "start_time": "2024-02-19T16:59:07.019Z"
   },
   {
    "duration": 6,
    "start_time": "2024-02-19T16:59:07.245Z"
   },
   {
    "duration": 11,
    "start_time": "2024-02-19T16:59:07.252Z"
   },
   {
    "duration": 9,
    "start_time": "2024-02-19T16:59:07.264Z"
   },
   {
    "duration": 165,
    "start_time": "2024-02-19T16:59:07.274Z"
   },
   {
    "duration": 3,
    "start_time": "2024-02-19T16:59:07.441Z"
   },
   {
    "duration": 7,
    "start_time": "2024-02-19T16:59:07.445Z"
   },
   {
    "duration": 167,
    "start_time": "2024-02-19T16:59:07.454Z"
   },
   {
    "duration": 154,
    "start_time": "2024-02-19T16:59:07.622Z"
   },
   {
    "duration": 5,
    "start_time": "2024-02-19T16:59:07.778Z"
   },
   {
    "duration": 102,
    "start_time": "2024-02-19T16:59:07.784Z"
   },
   {
    "duration": 8,
    "start_time": "2024-02-19T16:59:07.888Z"
   },
   {
    "duration": 171,
    "start_time": "2024-02-19T16:59:07.897Z"
   },
   {
    "duration": 8,
    "start_time": "2024-02-19T16:59:08.069Z"
   },
   {
    "duration": 369,
    "start_time": "2024-02-19T16:59:08.079Z"
   },
   {
    "duration": 9,
    "start_time": "2024-02-19T16:59:08.450Z"
   },
   {
    "duration": 372,
    "start_time": "2024-02-19T16:59:08.461Z"
   },
   {
    "duration": 11,
    "start_time": "2024-02-19T16:59:08.834Z"
   },
   {
    "duration": 9,
    "start_time": "2024-02-19T16:59:08.846Z"
   },
   {
    "duration": 17,
    "start_time": "2024-02-19T16:59:08.856Z"
   },
   {
    "duration": 10,
    "start_time": "2024-02-19T16:59:08.874Z"
   },
   {
    "duration": 17,
    "start_time": "2024-02-19T16:59:08.885Z"
   },
   {
    "duration": 277,
    "start_time": "2024-02-19T16:59:08.904Z"
   },
   {
    "duration": 263,
    "start_time": "2024-02-19T16:59:09.182Z"
   },
   {
    "duration": 329,
    "start_time": "2024-02-19T16:59:09.447Z"
   },
   {
    "duration": 265,
    "start_time": "2024-02-19T16:59:09.777Z"
   },
   {
    "duration": 7,
    "start_time": "2024-02-19T16:59:10.044Z"
   },
   {
    "duration": 18,
    "start_time": "2024-02-19T16:59:10.052Z"
   },
   {
    "duration": 247,
    "start_time": "2024-02-19T16:59:10.071Z"
   },
   {
    "duration": 316,
    "start_time": "2024-02-19T16:59:10.319Z"
   },
   {
    "duration": 239,
    "start_time": "2024-02-19T16:59:10.636Z"
   },
   {
    "duration": 267,
    "start_time": "2024-02-19T16:59:10.876Z"
   },
   {
    "duration": 4,
    "start_time": "2024-02-19T16:59:11.145Z"
   },
   {
    "duration": 804,
    "start_time": "2024-02-19T16:59:11.150Z"
   },
   {
    "duration": 3,
    "start_time": "2024-02-19T16:59:11.957Z"
   },
   {
    "duration": 48,
    "start_time": "2024-02-19T16:59:11.961Z"
   },
   {
    "duration": 98,
    "start_time": "2024-02-19T16:59:12.010Z"
   },
   {
    "duration": 13,
    "start_time": "2024-02-19T16:59:12.110Z"
   },
   {
    "duration": 14,
    "start_time": "2024-02-19T16:59:12.125Z"
   },
   {
    "duration": 22,
    "start_time": "2024-02-19T16:59:12.141Z"
   },
   {
    "duration": 15,
    "start_time": "2024-02-19T16:59:12.164Z"
   },
   {
    "duration": 34,
    "start_time": "2024-02-19T16:59:12.181Z"
   },
   {
    "duration": 23,
    "start_time": "2024-02-19T16:59:12.216Z"
   },
   {
    "duration": 919,
    "start_time": "2024-02-19T16:59:12.240Z"
   },
   {
    "duration": 4,
    "start_time": "2024-02-19T16:59:13.161Z"
   },
   {
    "duration": 4,
    "start_time": "2024-02-19T17:03:05.519Z"
   },
   {
    "duration": 5,
    "start_time": "2024-02-19T17:03:23.202Z"
   },
   {
    "duration": 5,
    "start_time": "2024-02-19T17:03:56.089Z"
   },
   {
    "duration": 5,
    "start_time": "2024-02-19T17:04:01.906Z"
   },
   {
    "duration": 5,
    "start_time": "2024-02-19T17:04:05.576Z"
   },
   {
    "duration": 5,
    "start_time": "2024-02-19T17:04:59.254Z"
   },
   {
    "duration": 102,
    "start_time": "2024-02-19T17:05:31.260Z"
   },
   {
    "duration": 6,
    "start_time": "2024-02-19T17:06:01.160Z"
   },
   {
    "duration": 5,
    "start_time": "2024-02-19T17:06:20.756Z"
   },
   {
    "duration": 5,
    "start_time": "2024-02-19T17:07:15.866Z"
   },
   {
    "duration": 5,
    "start_time": "2024-02-19T17:07:24.055Z"
   },
   {
    "duration": 1217,
    "start_time": "2024-02-19T17:07:32.034Z"
   },
   {
    "duration": 66,
    "start_time": "2024-02-19T17:07:33.253Z"
   },
   {
    "duration": 144,
    "start_time": "2024-02-19T17:07:33.320Z"
   },
   {
    "duration": 284,
    "start_time": "2024-02-19T17:07:33.466Z"
   },
   {
    "duration": 324,
    "start_time": "2024-02-19T17:07:33.752Z"
   },
   {
    "duration": 3,
    "start_time": "2024-02-19T17:07:34.078Z"
   },
   {
    "duration": 237,
    "start_time": "2024-02-19T17:07:34.083Z"
   },
   {
    "duration": 6,
    "start_time": "2024-02-19T17:07:34.322Z"
   },
   {
    "duration": 6,
    "start_time": "2024-02-19T17:07:34.329Z"
   },
   {
    "duration": 5,
    "start_time": "2024-02-19T17:07:34.337Z"
   },
   {
    "duration": 151,
    "start_time": "2024-02-19T17:07:34.343Z"
   },
   {
    "duration": 3,
    "start_time": "2024-02-19T17:07:34.496Z"
   },
   {
    "duration": 10,
    "start_time": "2024-02-19T17:07:34.500Z"
   },
   {
    "duration": 150,
    "start_time": "2024-02-19T17:07:34.534Z"
   },
   {
    "duration": 144,
    "start_time": "2024-02-19T17:07:34.686Z"
   },
   {
    "duration": 6,
    "start_time": "2024-02-19T17:07:34.832Z"
   },
   {
    "duration": 95,
    "start_time": "2024-02-19T17:07:34.839Z"
   },
   {
    "duration": 7,
    "start_time": "2024-02-19T17:07:34.936Z"
   },
   {
    "duration": 153,
    "start_time": "2024-02-19T17:07:34.945Z"
   },
   {
    "duration": 7,
    "start_time": "2024-02-19T17:07:35.100Z"
   },
   {
    "duration": 339,
    "start_time": "2024-02-19T17:07:35.108Z"
   },
   {
    "duration": 7,
    "start_time": "2024-02-19T17:07:35.449Z"
   },
   {
    "duration": 263,
    "start_time": "2024-02-19T17:07:35.457Z"
   },
   {
    "duration": 19,
    "start_time": "2024-02-19T17:07:35.722Z"
   },
   {
    "duration": 8,
    "start_time": "2024-02-19T17:07:35.743Z"
   },
   {
    "duration": 18,
    "start_time": "2024-02-19T17:07:35.753Z"
   },
   {
    "duration": 11,
    "start_time": "2024-02-19T17:07:35.773Z"
   },
   {
    "duration": 50,
    "start_time": "2024-02-19T17:07:35.786Z"
   },
   {
    "duration": 248,
    "start_time": "2024-02-19T17:07:35.837Z"
   },
   {
    "duration": 249,
    "start_time": "2024-02-19T17:07:36.087Z"
   },
   {
    "duration": 321,
    "start_time": "2024-02-19T17:07:36.337Z"
   },
   {
    "duration": 265,
    "start_time": "2024-02-19T17:07:36.660Z"
   },
   {
    "duration": 7,
    "start_time": "2024-02-19T17:07:36.933Z"
   },
   {
    "duration": 17,
    "start_time": "2024-02-19T17:07:36.941Z"
   },
   {
    "duration": 253,
    "start_time": "2024-02-19T17:07:36.960Z"
   },
   {
    "duration": 320,
    "start_time": "2024-02-19T17:07:37.215Z"
   },
   {
    "duration": 253,
    "start_time": "2024-02-19T17:07:37.536Z"
   },
   {
    "duration": 244,
    "start_time": "2024-02-19T17:07:37.791Z"
   },
   {
    "duration": 3,
    "start_time": "2024-02-19T17:07:38.037Z"
   },
   {
    "duration": 722,
    "start_time": "2024-02-19T17:07:38.041Z"
   },
   {
    "duration": 3,
    "start_time": "2024-02-19T17:07:38.766Z"
   },
   {
    "duration": 16,
    "start_time": "2024-02-19T17:07:38.770Z"
   },
   {
    "duration": 96,
    "start_time": "2024-02-19T17:07:38.787Z"
   },
   {
    "duration": 16,
    "start_time": "2024-02-19T17:07:38.884Z"
   },
   {
    "duration": 10,
    "start_time": "2024-02-19T17:07:38.901Z"
   },
   {
    "duration": 28,
    "start_time": "2024-02-19T17:07:38.912Z"
   },
   {
    "duration": 5,
    "start_time": "2024-02-19T17:07:38.942Z"
   },
   {
    "duration": 5,
    "start_time": "2024-02-19T17:07:38.948Z"
   },
   {
    "duration": 8,
    "start_time": "2024-02-19T17:07:38.955Z"
   },
   {
    "duration": 930,
    "start_time": "2024-02-19T17:07:38.965Z"
   },
   {
    "duration": 5,
    "start_time": "2024-02-19T17:07:39.897Z"
   },
   {
    "duration": 6,
    "start_time": "2024-02-19T17:09:58.746Z"
   },
   {
    "duration": 1199,
    "start_time": "2024-02-19T17:10:04.411Z"
   },
   {
    "duration": 66,
    "start_time": "2024-02-19T17:10:05.612Z"
   },
   {
    "duration": 122,
    "start_time": "2024-02-19T17:10:05.679Z"
   },
   {
    "duration": 270,
    "start_time": "2024-02-19T17:10:05.802Z"
   },
   {
    "duration": 323,
    "start_time": "2024-02-19T17:10:06.075Z"
   },
   {
    "duration": 3,
    "start_time": "2024-02-19T17:10:06.399Z"
   },
   {
    "duration": 226,
    "start_time": "2024-02-19T17:10:06.403Z"
   },
   {
    "duration": 6,
    "start_time": "2024-02-19T17:10:06.630Z"
   },
   {
    "duration": 6,
    "start_time": "2024-02-19T17:10:06.638Z"
   },
   {
    "duration": 5,
    "start_time": "2024-02-19T17:10:06.645Z"
   },
   {
    "duration": 150,
    "start_time": "2024-02-19T17:10:06.651Z"
   },
   {
    "duration": 3,
    "start_time": "2024-02-19T17:10:06.803Z"
   },
   {
    "duration": 27,
    "start_time": "2024-02-19T17:10:06.807Z"
   },
   {
    "duration": 153,
    "start_time": "2024-02-19T17:10:06.837Z"
   },
   {
    "duration": 129,
    "start_time": "2024-02-19T17:10:06.991Z"
   },
   {
    "duration": 12,
    "start_time": "2024-02-19T17:10:07.122Z"
   },
   {
    "duration": 80,
    "start_time": "2024-02-19T17:10:07.135Z"
   },
   {
    "duration": 21,
    "start_time": "2024-02-19T17:10:07.217Z"
   },
   {
    "duration": 157,
    "start_time": "2024-02-19T17:10:07.239Z"
   },
   {
    "duration": 8,
    "start_time": "2024-02-19T17:10:07.397Z"
   },
   {
    "duration": 352,
    "start_time": "2024-02-19T17:10:07.406Z"
   },
   {
    "duration": 9,
    "start_time": "2024-02-19T17:10:07.760Z"
   },
   {
    "duration": 266,
    "start_time": "2024-02-19T17:10:07.770Z"
   },
   {
    "duration": 11,
    "start_time": "2024-02-19T17:10:08.038Z"
   },
   {
    "duration": 11,
    "start_time": "2024-02-19T17:10:08.050Z"
   },
   {
    "duration": 27,
    "start_time": "2024-02-19T17:10:08.062Z"
   },
   {
    "duration": 10,
    "start_time": "2024-02-19T17:10:08.091Z"
   },
   {
    "duration": 38,
    "start_time": "2024-02-19T17:10:08.102Z"
   },
   {
    "duration": 265,
    "start_time": "2024-02-19T17:10:08.142Z"
   },
   {
    "duration": 332,
    "start_time": "2024-02-19T17:10:08.409Z"
   },
   {
    "duration": 348,
    "start_time": "2024-02-19T17:10:08.743Z"
   },
   {
    "duration": 248,
    "start_time": "2024-02-19T17:10:09.093Z"
   },
   {
    "duration": 6,
    "start_time": "2024-02-19T17:10:09.343Z"
   },
   {
    "duration": 17,
    "start_time": "2024-02-19T17:10:09.350Z"
   },
   {
    "duration": 250,
    "start_time": "2024-02-19T17:10:09.368Z"
   },
   {
    "duration": 105,
    "start_time": "2024-02-19T17:10:09.620Z"
   },
   {
    "duration": 269,
    "start_time": "2024-02-19T17:10:09.726Z"
   },
   {
    "duration": 104,
    "start_time": "2024-02-19T17:10:09.997Z"
   },
   {
    "duration": 4,
    "start_time": "2024-02-19T17:10:10.103Z"
   },
   {
    "duration": 767,
    "start_time": "2024-02-19T17:10:10.108Z"
   },
   {
    "duration": 3,
    "start_time": "2024-02-19T17:10:10.879Z"
   },
   {
    "duration": 17,
    "start_time": "2024-02-19T17:10:10.883Z"
   },
   {
    "duration": 101,
    "start_time": "2024-02-19T17:10:10.901Z"
   },
   {
    "duration": 16,
    "start_time": "2024-02-19T17:10:11.004Z"
   },
   {
    "duration": 19,
    "start_time": "2024-02-19T17:10:11.021Z"
   },
   {
    "duration": 8,
    "start_time": "2024-02-19T17:10:11.041Z"
   },
   {
    "duration": 5,
    "start_time": "2024-02-19T17:10:11.050Z"
   },
   {
    "duration": 4,
    "start_time": "2024-02-19T17:10:11.056Z"
   },
   {
    "duration": 9,
    "start_time": "2024-02-19T17:10:11.061Z"
   },
   {
    "duration": 970,
    "start_time": "2024-02-19T17:10:11.072Z"
   },
   {
    "duration": 4,
    "start_time": "2024-02-19T17:10:12.044Z"
   },
   {
    "duration": 51,
    "start_time": "2024-02-20T17:24:19.875Z"
   },
   {
    "duration": 9,
    "start_time": "2024-02-20T17:24:52.646Z"
   },
   {
    "duration": 7,
    "start_time": "2024-02-20T17:25:05.515Z"
   },
   {
    "duration": 7,
    "start_time": "2024-02-20T17:25:08.620Z"
   },
   {
    "duration": 1515,
    "start_time": "2024-02-20T17:25:20.460Z"
   },
   {
    "duration": 188,
    "start_time": "2024-02-20T17:25:21.979Z"
   },
   {
    "duration": 167,
    "start_time": "2024-02-20T17:25:22.169Z"
   },
   {
    "duration": 324,
    "start_time": "2024-02-20T17:25:22.338Z"
   },
   {
    "duration": 388,
    "start_time": "2024-02-20T17:25:22.664Z"
   },
   {
    "duration": 3,
    "start_time": "2024-02-20T17:25:23.057Z"
   },
   {
    "duration": 253,
    "start_time": "2024-02-20T17:25:23.062Z"
   },
   {
    "duration": 6,
    "start_time": "2024-02-20T17:25:23.317Z"
   },
   {
    "duration": 9,
    "start_time": "2024-02-20T17:25:23.324Z"
   },
   {
    "duration": 26,
    "start_time": "2024-02-20T17:25:23.335Z"
   },
   {
    "duration": 203,
    "start_time": "2024-02-20T17:25:23.363Z"
   },
   {
    "duration": 3,
    "start_time": "2024-02-20T17:25:23.568Z"
   },
   {
    "duration": 21,
    "start_time": "2024-02-20T17:25:23.572Z"
   },
   {
    "duration": 184,
    "start_time": "2024-02-20T17:25:23.596Z"
   },
   {
    "duration": 155,
    "start_time": "2024-02-20T17:25:23.782Z"
   },
   {
    "duration": 5,
    "start_time": "2024-02-20T17:25:23.939Z"
   },
   {
    "duration": 128,
    "start_time": "2024-02-20T17:25:23.946Z"
   },
   {
    "duration": 9,
    "start_time": "2024-02-20T17:25:24.076Z"
   },
   {
    "duration": 185,
    "start_time": "2024-02-20T17:25:24.087Z"
   },
   {
    "duration": 11,
    "start_time": "2024-02-20T17:25:24.274Z"
   },
   {
    "duration": 388,
    "start_time": "2024-02-20T17:25:24.287Z"
   },
   {
    "duration": 10,
    "start_time": "2024-02-20T17:25:24.677Z"
   },
   {
    "duration": 276,
    "start_time": "2024-02-20T17:25:24.689Z"
   },
   {
    "duration": 14,
    "start_time": "2024-02-20T17:25:24.966Z"
   },
   {
    "duration": 12,
    "start_time": "2024-02-20T17:25:24.981Z"
   },
   {
    "duration": 29,
    "start_time": "2024-02-20T17:25:24.995Z"
   },
   {
    "duration": 33,
    "start_time": "2024-02-20T17:25:25.025Z"
   },
   {
    "duration": 31,
    "start_time": "2024-02-20T17:25:25.060Z"
   },
   {
    "duration": 313,
    "start_time": "2024-02-20T17:25:25.093Z"
   },
   {
    "duration": 276,
    "start_time": "2024-02-20T17:25:25.408Z"
   },
   {
    "duration": 363,
    "start_time": "2024-02-20T17:25:25.686Z"
   },
   {
    "duration": 320,
    "start_time": "2024-02-20T17:25:26.050Z"
   },
   {
    "duration": 7,
    "start_time": "2024-02-20T17:25:26.371Z"
   },
   {
    "duration": 55,
    "start_time": "2024-02-20T17:25:26.379Z"
   },
   {
    "duration": 287,
    "start_time": "2024-02-20T17:25:26.436Z"
   },
   {
    "duration": 133,
    "start_time": "2024-02-20T17:25:26.725Z"
   },
   {
    "duration": 320,
    "start_time": "2024-02-20T17:25:26.860Z"
   },
   {
    "duration": 123,
    "start_time": "2024-02-20T17:25:27.182Z"
   },
   {
    "duration": 4,
    "start_time": "2024-02-20T17:25:27.306Z"
   },
   {
    "duration": 874,
    "start_time": "2024-02-20T17:25:27.312Z"
   },
   {
    "duration": 3,
    "start_time": "2024-02-20T17:25:28.190Z"
   },
   {
    "duration": 45,
    "start_time": "2024-02-20T17:25:28.195Z"
   },
   {
    "duration": 96,
    "start_time": "2024-02-20T17:25:28.242Z"
   },
   {
    "duration": 23,
    "start_time": "2024-02-20T17:25:28.340Z"
   },
   {
    "duration": 13,
    "start_time": "2024-02-20T17:25:28.365Z"
   },
   {
    "duration": 11,
    "start_time": "2024-02-20T17:25:28.380Z"
   },
   {
    "duration": 5,
    "start_time": "2024-02-20T17:25:28.393Z"
   },
   {
    "duration": 5,
    "start_time": "2024-02-20T17:25:28.400Z"
   },
   {
    "duration": 54,
    "start_time": "2024-02-20T17:25:28.407Z"
   },
   {
    "duration": 1045,
    "start_time": "2024-02-20T17:25:28.463Z"
   },
   {
    "duration": 6,
    "start_time": "2024-02-20T17:25:29.509Z"
   },
   {
    "duration": 266,
    "start_time": "2024-02-20T17:25:49.794Z"
   },
   {
    "duration": 13,
    "start_time": "2024-02-20T17:26:29.026Z"
   },
   {
    "duration": 15,
    "start_time": "2024-02-20T17:26:45.546Z"
   },
   {
    "duration": 13,
    "start_time": "2024-02-20T17:27:34.246Z"
   },
   {
    "duration": 15,
    "start_time": "2024-02-20T17:27:38.709Z"
   },
   {
    "duration": 13,
    "start_time": "2024-02-20T17:27:45.286Z"
   },
   {
    "duration": 181,
    "start_time": "2024-02-20T17:28:01.066Z"
   },
   {
    "duration": 9,
    "start_time": "2024-02-20T17:29:22.306Z"
   },
   {
    "duration": 19,
    "start_time": "2024-02-20T17:29:33.317Z"
   },
   {
    "duration": 18,
    "start_time": "2024-02-20T17:31:05.017Z"
   },
   {
    "duration": 17,
    "start_time": "2024-02-20T17:31:54.572Z"
   },
   {
    "duration": 18,
    "start_time": "2024-02-20T17:32:13.520Z"
   },
   {
    "duration": 113,
    "start_time": "2024-02-20T17:32:57.886Z"
   },
   {
    "duration": 130,
    "start_time": "2024-02-20T17:34:14.385Z"
   },
   {
    "duration": 118,
    "start_time": "2024-02-20T17:34:55.277Z"
   },
   {
    "duration": 151,
    "start_time": "2024-02-20T17:35:41.043Z"
   },
   {
    "duration": 41,
    "start_time": "2024-02-20T21:23:46.156Z"
   },
   {
    "duration": 1235,
    "start_time": "2024-02-20T21:23:57.487Z"
   },
   {
    "duration": 185,
    "start_time": "2024-02-20T21:23:58.724Z"
   },
   {
    "duration": 110,
    "start_time": "2024-02-20T21:23:58.910Z"
   },
   {
    "duration": 230,
    "start_time": "2024-02-20T21:23:59.021Z"
   },
   {
    "duration": 269,
    "start_time": "2024-02-20T21:23:59.253Z"
   },
   {
    "duration": 2,
    "start_time": "2024-02-20T21:23:59.523Z"
   },
   {
    "duration": 192,
    "start_time": "2024-02-20T21:23:59.526Z"
   },
   {
    "duration": 4,
    "start_time": "2024-02-20T21:23:59.720Z"
   },
   {
    "duration": 22,
    "start_time": "2024-02-20T21:23:59.725Z"
   },
   {
    "duration": 5,
    "start_time": "2024-02-20T21:23:59.748Z"
   },
   {
    "duration": 111,
    "start_time": "2024-02-20T21:23:59.755Z"
   },
   {
    "duration": 3,
    "start_time": "2024-02-20T21:23:59.867Z"
   },
   {
    "duration": 6,
    "start_time": "2024-02-20T21:23:59.871Z"
   },
   {
    "duration": 130,
    "start_time": "2024-02-20T21:23:59.901Z"
   },
   {
    "duration": 144,
    "start_time": "2024-02-20T21:24:00.032Z"
   },
   {
    "duration": 5,
    "start_time": "2024-02-20T21:24:00.178Z"
   },
   {
    "duration": 103,
    "start_time": "2024-02-20T21:24:00.184Z"
   },
   {
    "duration": 7,
    "start_time": "2024-02-20T21:24:00.288Z"
   },
   {
    "duration": 158,
    "start_time": "2024-02-20T21:24:00.296Z"
   },
   {
    "duration": 7,
    "start_time": "2024-02-20T21:24:00.456Z"
   },
   {
    "duration": 309,
    "start_time": "2024-02-20T21:24:00.464Z"
   },
   {
    "duration": 6,
    "start_time": "2024-02-20T21:24:00.774Z"
   },
   {
    "duration": 293,
    "start_time": "2024-02-20T21:24:00.782Z"
   },
   {
    "duration": 9,
    "start_time": "2024-02-20T21:24:01.076Z"
   },
   {
    "duration": 13,
    "start_time": "2024-02-20T21:24:01.101Z"
   },
   {
    "duration": 48,
    "start_time": "2024-02-20T21:24:01.116Z"
   },
   {
    "duration": 21,
    "start_time": "2024-02-20T21:24:01.166Z"
   },
   {
    "duration": 77,
    "start_time": "2024-02-20T21:24:01.188Z"
   },
   {
    "duration": 237,
    "start_time": "2024-02-20T21:24:01.266Z"
   },
   {
    "duration": 279,
    "start_time": "2024-02-20T21:24:01.504Z"
   },
   {
    "duration": 264,
    "start_time": "2024-02-20T21:24:01.785Z"
   },
   {
    "duration": 232,
    "start_time": "2024-02-20T21:24:02.051Z"
   },
   {
    "duration": 18,
    "start_time": "2024-02-20T21:24:02.285Z"
   },
   {
    "duration": 27,
    "start_time": "2024-02-20T21:24:02.304Z"
   },
   {
    "duration": 209,
    "start_time": "2024-02-20T21:24:02.333Z"
   },
   {
    "duration": 100,
    "start_time": "2024-02-20T21:24:02.544Z"
   },
   {
    "duration": 214,
    "start_time": "2024-02-20T21:24:02.645Z"
   },
   {
    "duration": 95,
    "start_time": "2024-02-20T21:24:02.860Z"
   },
   {
    "duration": 3,
    "start_time": "2024-02-20T21:24:02.956Z"
   },
   {
    "duration": 812,
    "start_time": "2024-02-20T21:24:02.960Z"
   },
   {
    "duration": 2,
    "start_time": "2024-02-20T21:24:03.776Z"
   },
   {
    "duration": 22,
    "start_time": "2024-02-20T21:24:03.779Z"
   },
   {
    "duration": 66,
    "start_time": "2024-02-20T21:24:03.802Z"
   },
   {
    "duration": 12,
    "start_time": "2024-02-20T21:24:03.869Z"
   },
   {
    "duration": 20,
    "start_time": "2024-02-20T21:24:03.882Z"
   },
   {
    "duration": 7,
    "start_time": "2024-02-20T21:24:03.903Z"
   },
   {
    "duration": 10,
    "start_time": "2024-02-20T21:24:03.911Z"
   },
   {
    "duration": 19,
    "start_time": "2024-02-20T21:24:03.922Z"
   },
   {
    "duration": 8,
    "start_time": "2024-02-20T21:24:03.942Z"
   },
   {
    "duration": 731,
    "start_time": "2024-02-20T21:24:03.952Z"
   },
   {
    "duration": 19,
    "start_time": "2024-02-20T21:24:04.684Z"
   },
   {
    "duration": 62,
    "start_time": "2024-02-21T14:31:50.652Z"
   },
   {
    "duration": 7,
    "start_time": "2024-02-21T14:32:11.681Z"
   },
   {
    "duration": 8,
    "start_time": "2024-02-21T14:32:32.475Z"
   },
   {
    "duration": 7,
    "start_time": "2024-02-21T14:32:47.541Z"
   },
   {
    "duration": 8,
    "start_time": "2024-02-21T14:33:08.833Z"
   },
   {
    "duration": 1426,
    "start_time": "2024-02-21T14:33:18.840Z"
   },
   {
    "duration": 280,
    "start_time": "2024-02-21T14:33:20.269Z"
   },
   {
    "duration": 124,
    "start_time": "2024-02-21T14:33:20.550Z"
   },
   {
    "duration": 265,
    "start_time": "2024-02-21T14:33:20.675Z"
   },
   {
    "duration": 334,
    "start_time": "2024-02-21T14:33:20.942Z"
   },
   {
    "duration": 3,
    "start_time": "2024-02-21T14:33:21.277Z"
   },
   {
    "duration": 266,
    "start_time": "2024-02-21T14:33:21.281Z"
   },
   {
    "duration": 6,
    "start_time": "2024-02-21T14:33:21.548Z"
   },
   {
    "duration": 30,
    "start_time": "2024-02-21T14:33:21.558Z"
   },
   {
    "duration": 5,
    "start_time": "2024-02-21T14:33:21.590Z"
   },
   {
    "duration": 125,
    "start_time": "2024-02-21T14:33:21.597Z"
   },
   {
    "duration": 3,
    "start_time": "2024-02-21T14:33:21.724Z"
   },
   {
    "duration": 32,
    "start_time": "2024-02-21T14:33:21.728Z"
   },
   {
    "duration": 138,
    "start_time": "2024-02-21T14:33:21.761Z"
   },
   {
    "duration": 160,
    "start_time": "2024-02-21T14:33:21.901Z"
   },
   {
    "duration": 6,
    "start_time": "2024-02-21T14:33:22.062Z"
   },
   {
    "duration": 99,
    "start_time": "2024-02-21T14:33:22.070Z"
   },
   {
    "duration": 7,
    "start_time": "2024-02-21T14:33:22.170Z"
   },
   {
    "duration": 154,
    "start_time": "2024-02-21T14:33:22.178Z"
   },
   {
    "duration": 7,
    "start_time": "2024-02-21T14:33:22.333Z"
   },
   {
    "duration": 333,
    "start_time": "2024-02-21T14:33:22.342Z"
   },
   {
    "duration": 8,
    "start_time": "2024-02-21T14:33:22.676Z"
   },
   {
    "duration": 264,
    "start_time": "2024-02-21T14:33:22.686Z"
   },
   {
    "duration": 16,
    "start_time": "2024-02-21T14:33:22.951Z"
   },
   {
    "duration": 9,
    "start_time": "2024-02-21T14:33:22.968Z"
   },
   {
    "duration": 22,
    "start_time": "2024-02-21T14:33:22.978Z"
   },
   {
    "duration": 10,
    "start_time": "2024-02-21T14:33:23.001Z"
   },
   {
    "duration": 17,
    "start_time": "2024-02-21T14:33:23.014Z"
   },
   {
    "duration": 265,
    "start_time": "2024-02-21T14:33:23.059Z"
   },
   {
    "duration": 244,
    "start_time": "2024-02-21T14:33:23.326Z"
   },
   {
    "duration": 256,
    "start_time": "2024-02-21T14:33:23.571Z"
   },
   {
    "duration": 331,
    "start_time": "2024-02-21T14:33:23.829Z"
   },
   {
    "duration": 7,
    "start_time": "2024-02-21T14:33:24.162Z"
   },
   {
    "duration": 22,
    "start_time": "2024-02-21T14:33:24.171Z"
   },
   {
    "duration": 246,
    "start_time": "2024-02-21T14:33:24.195Z"
   },
   {
    "duration": 122,
    "start_time": "2024-02-21T14:33:24.442Z"
   },
   {
    "duration": 259,
    "start_time": "2024-02-21T14:33:24.566Z"
   },
   {
    "duration": 109,
    "start_time": "2024-02-21T14:33:24.826Z"
   },
   {
    "duration": 4,
    "start_time": "2024-02-21T14:33:24.937Z"
   },
   {
    "duration": 790,
    "start_time": "2024-02-21T14:33:24.943Z"
   },
   {
    "duration": 3,
    "start_time": "2024-02-21T14:33:25.735Z"
   },
   {
    "duration": 45,
    "start_time": "2024-02-21T14:33:25.740Z"
   },
   {
    "duration": 24,
    "start_time": "2024-02-21T14:33:25.787Z"
   },
   {
    "duration": 44,
    "start_time": "2024-02-21T14:33:25.812Z"
   },
   {
    "duration": 22,
    "start_time": "2024-02-21T14:33:25.857Z"
   },
   {
    "duration": 24,
    "start_time": "2024-02-21T14:33:25.881Z"
   },
   {
    "duration": 21,
    "start_time": "2024-02-21T14:33:25.907Z"
   },
   {
    "duration": 7,
    "start_time": "2024-02-21T14:33:25.929Z"
   },
   {
    "duration": 12,
    "start_time": "2024-02-21T14:33:25.938Z"
   },
   {
    "duration": 1000,
    "start_time": "2024-02-21T14:33:25.951Z"
   },
   {
    "duration": 10,
    "start_time": "2024-02-21T14:33:26.953Z"
   },
   {
    "duration": 148,
    "start_time": "2024-02-21T14:36:44.758Z"
   },
   {
    "duration": 216,
    "start_time": "2024-02-21T14:38:24.142Z"
   },
   {
    "duration": 239,
    "start_time": "2024-02-21T14:39:13.761Z"
   },
   {
    "duration": 241,
    "start_time": "2024-02-21T14:39:31.382Z"
   },
   {
    "duration": 107,
    "start_time": "2024-02-21T14:40:38.446Z"
   },
   {
    "duration": 102,
    "start_time": "2024-02-21T14:41:02.201Z"
   },
   {
    "duration": 228,
    "start_time": "2024-02-21T14:42:08.143Z"
   },
   {
    "duration": 316,
    "start_time": "2024-02-21T14:42:13.349Z"
   },
   {
    "duration": 226,
    "start_time": "2024-02-21T14:42:18.421Z"
   },
   {
    "duration": 276,
    "start_time": "2024-02-21T14:42:23.001Z"
   },
   {
    "duration": 241,
    "start_time": "2024-02-21T14:42:31.165Z"
   },
   {
    "duration": 238,
    "start_time": "2024-02-21T14:42:35.981Z"
   },
   {
    "duration": 387,
    "start_time": "2024-02-21T14:48:49.302Z"
   },
   {
    "duration": 283,
    "start_time": "2024-02-21T14:49:10.721Z"
   },
   {
    "duration": 201,
    "start_time": "2024-02-21T14:49:27.389Z"
   },
   {
    "duration": 187,
    "start_time": "2024-02-21T14:50:02.602Z"
   },
   {
    "duration": 273,
    "start_time": "2024-02-21T14:51:16.281Z"
   },
   {
    "duration": 272,
    "start_time": "2024-02-21T14:51:21.389Z"
   },
   {
    "duration": 179,
    "start_time": "2024-02-21T14:51:26.741Z"
   },
   {
    "duration": 777,
    "start_time": "2024-02-21T14:51:32.248Z"
   },
   {
    "duration": 228,
    "start_time": "2024-02-21T14:51:36.961Z"
   },
   {
    "duration": 191,
    "start_time": "2024-02-21T14:55:30.381Z"
   },
   {
    "duration": 214,
    "start_time": "2024-02-21T14:55:35.821Z"
   },
   {
    "duration": 193,
    "start_time": "2024-02-21T14:56:16.788Z"
   },
   {
    "duration": 180,
    "start_time": "2024-02-21T15:00:09.609Z"
   },
   {
    "duration": 207,
    "start_time": "2024-02-21T15:18:36.382Z"
   },
   {
    "duration": 253,
    "start_time": "2024-02-21T15:35:54.637Z"
   },
   {
    "duration": 205,
    "start_time": "2024-02-21T15:36:02.223Z"
   },
   {
    "duration": 9,
    "start_time": "2024-02-21T15:37:50.884Z"
   },
   {
    "duration": 463,
    "start_time": "2024-02-21T15:38:12.883Z"
   },
   {
    "duration": 4,
    "start_time": "2024-02-21T15:40:05.984Z"
   },
   {
    "duration": 5,
    "start_time": "2024-02-21T15:40:20.723Z"
   },
   {
    "duration": 9,
    "start_time": "2024-02-21T15:40:22.983Z"
   },
   {
    "duration": 9,
    "start_time": "2024-02-21T15:41:08.203Z"
   },
   {
    "duration": 9,
    "start_time": "2024-02-21T15:41:17.643Z"
   },
   {
    "duration": 12,
    "start_time": "2024-02-21T15:41:23.389Z"
   },
   {
    "duration": 10,
    "start_time": "2024-02-21T15:41:58.384Z"
   },
   {
    "duration": 9,
    "start_time": "2024-02-21T15:42:10.283Z"
   },
   {
    "duration": 8,
    "start_time": "2024-02-21T15:44:44.324Z"
   },
   {
    "duration": 115,
    "start_time": "2024-02-21T15:44:52.723Z"
   },
   {
    "duration": 8,
    "start_time": "2024-02-21T15:45:02.843Z"
   },
   {
    "duration": 89,
    "start_time": "2024-02-21T15:45:17.649Z"
   },
   {
    "duration": 103,
    "start_time": "2024-02-21T15:50:24.671Z"
   },
   {
    "duration": 137,
    "start_time": "2024-02-21T15:50:32.671Z"
   },
   {
    "duration": 183,
    "start_time": "2024-02-21T15:50:59.530Z"
   },
   {
    "duration": 10,
    "start_time": "2024-02-21T15:51:26.543Z"
   },
   {
    "duration": 171,
    "start_time": "2024-02-21T15:52:08.244Z"
   },
   {
    "duration": 149,
    "start_time": "2024-02-21T15:56:08.244Z"
   },
   {
    "duration": 134,
    "start_time": "2024-02-21T15:56:18.705Z"
   },
   {
    "duration": 13,
    "start_time": "2024-02-21T15:57:40.364Z"
   },
   {
    "duration": 1742,
    "start_time": "2024-02-21T15:57:48.806Z"
   },
   {
    "duration": 1643,
    "start_time": "2024-02-21T15:58:11.125Z"
   },
   {
    "duration": 1682,
    "start_time": "2024-02-21T15:58:37.005Z"
   },
   {
    "duration": 1595,
    "start_time": "2024-02-21T16:03:33.845Z"
   },
   {
    "duration": 9,
    "start_time": "2024-02-21T16:05:37.205Z"
   },
   {
    "duration": 1232,
    "start_time": "2024-02-21T16:06:53.140Z"
   },
   {
    "duration": 66,
    "start_time": "2024-02-21T16:06:54.374Z"
   },
   {
    "duration": 140,
    "start_time": "2024-02-21T16:06:54.441Z"
   },
   {
    "duration": 272,
    "start_time": "2024-02-21T16:06:54.583Z"
   },
   {
    "duration": 334,
    "start_time": "2024-02-21T16:06:54.858Z"
   },
   {
    "duration": 3,
    "start_time": "2024-02-21T16:06:55.193Z"
   },
   {
    "duration": 274,
    "start_time": "2024-02-21T16:06:55.197Z"
   },
   {
    "duration": 6,
    "start_time": "2024-02-21T16:06:55.472Z"
   },
   {
    "duration": 9,
    "start_time": "2024-02-21T16:06:55.479Z"
   },
   {
    "duration": 9,
    "start_time": "2024-02-21T16:06:55.489Z"
   },
   {
    "duration": 161,
    "start_time": "2024-02-21T16:06:55.499Z"
   },
   {
    "duration": 4,
    "start_time": "2024-02-21T16:06:55.661Z"
   },
   {
    "duration": 26,
    "start_time": "2024-02-21T16:06:55.666Z"
   },
   {
    "duration": 129,
    "start_time": "2024-02-21T16:06:55.695Z"
   },
   {
    "duration": 1749,
    "start_time": "2024-02-21T16:06:55.826Z"
   },
   {
    "duration": 0,
    "start_time": "2024-02-21T16:06:57.577Z"
   },
   {
    "duration": 0,
    "start_time": "2024-02-21T16:06:57.578Z"
   },
   {
    "duration": 0,
    "start_time": "2024-02-21T16:06:57.579Z"
   },
   {
    "duration": 0,
    "start_time": "2024-02-21T16:06:57.580Z"
   },
   {
    "duration": 0,
    "start_time": "2024-02-21T16:06:57.581Z"
   },
   {
    "duration": 0,
    "start_time": "2024-02-21T16:06:57.582Z"
   },
   {
    "duration": 0,
    "start_time": "2024-02-21T16:06:57.583Z"
   },
   {
    "duration": 0,
    "start_time": "2024-02-21T16:06:57.584Z"
   },
   {
    "duration": 0,
    "start_time": "2024-02-21T16:06:57.585Z"
   },
   {
    "duration": 0,
    "start_time": "2024-02-21T16:06:57.586Z"
   },
   {
    "duration": 0,
    "start_time": "2024-02-21T16:06:57.587Z"
   },
   {
    "duration": 0,
    "start_time": "2024-02-21T16:06:57.588Z"
   },
   {
    "duration": 0,
    "start_time": "2024-02-21T16:06:57.589Z"
   },
   {
    "duration": 0,
    "start_time": "2024-02-21T16:06:57.590Z"
   },
   {
    "duration": 0,
    "start_time": "2024-02-21T16:06:57.591Z"
   },
   {
    "duration": 0,
    "start_time": "2024-02-21T16:06:57.594Z"
   },
   {
    "duration": 0,
    "start_time": "2024-02-21T16:06:57.596Z"
   },
   {
    "duration": 0,
    "start_time": "2024-02-21T16:06:57.598Z"
   },
   {
    "duration": 0,
    "start_time": "2024-02-21T16:06:57.599Z"
   },
   {
    "duration": 0,
    "start_time": "2024-02-21T16:06:57.602Z"
   },
   {
    "duration": 0,
    "start_time": "2024-02-21T16:06:57.603Z"
   },
   {
    "duration": 0,
    "start_time": "2024-02-21T16:06:57.604Z"
   },
   {
    "duration": 0,
    "start_time": "2024-02-21T16:06:57.605Z"
   },
   {
    "duration": 0,
    "start_time": "2024-02-21T16:06:57.606Z"
   },
   {
    "duration": 0,
    "start_time": "2024-02-21T16:06:57.607Z"
   },
   {
    "duration": 0,
    "start_time": "2024-02-21T16:06:57.608Z"
   },
   {
    "duration": 1,
    "start_time": "2024-02-21T16:06:57.609Z"
   },
   {
    "duration": 0,
    "start_time": "2024-02-21T16:06:57.611Z"
   },
   {
    "duration": 0,
    "start_time": "2024-02-21T16:06:57.612Z"
   },
   {
    "duration": 0,
    "start_time": "2024-02-21T16:06:57.613Z"
   },
   {
    "duration": 0,
    "start_time": "2024-02-21T16:06:57.614Z"
   },
   {
    "duration": 0,
    "start_time": "2024-02-21T16:06:57.616Z"
   },
   {
    "duration": 0,
    "start_time": "2024-02-21T16:06:57.617Z"
   },
   {
    "duration": 0,
    "start_time": "2024-02-21T16:06:57.659Z"
   },
   {
    "duration": 0,
    "start_time": "2024-02-21T16:06:57.661Z"
   },
   {
    "duration": 0,
    "start_time": "2024-02-21T16:06:57.662Z"
   },
   {
    "duration": 0,
    "start_time": "2024-02-21T16:06:57.664Z"
   },
   {
    "duration": 10,
    "start_time": "2024-02-21T16:08:58.426Z"
   },
   {
    "duration": 10,
    "start_time": "2024-02-21T16:10:03.905Z"
   },
   {
    "duration": 132,
    "start_time": "2024-02-21T16:10:11.746Z"
   },
   {
    "duration": 10,
    "start_time": "2024-02-21T16:10:17.086Z"
   },
   {
    "duration": 10,
    "start_time": "2024-02-21T16:10:54.265Z"
   },
   {
    "duration": 11,
    "start_time": "2024-02-21T16:11:01.446Z"
   },
   {
    "duration": 81,
    "start_time": "2024-02-21T16:11:12.930Z"
   },
   {
    "duration": 110,
    "start_time": "2024-02-21T16:12:10.026Z"
   },
   {
    "duration": 102,
    "start_time": "2024-02-21T16:12:17.274Z"
   },
   {
    "duration": 94,
    "start_time": "2024-02-21T16:12:33.406Z"
   },
   {
    "duration": 105,
    "start_time": "2024-02-21T16:12:58.233Z"
   },
   {
    "duration": 129,
    "start_time": "2024-02-21T16:13:30.971Z"
   },
   {
    "duration": 146,
    "start_time": "2024-02-21T16:13:39.679Z"
   },
   {
    "duration": 103,
    "start_time": "2024-02-21T16:13:49.867Z"
   },
   {
    "duration": 1274,
    "start_time": "2024-02-21T16:17:32.952Z"
   },
   {
    "duration": 69,
    "start_time": "2024-02-21T16:17:34.228Z"
   },
   {
    "duration": 121,
    "start_time": "2024-02-21T16:17:34.298Z"
   },
   {
    "duration": 300,
    "start_time": "2024-02-21T16:17:34.421Z"
   },
   {
    "duration": 363,
    "start_time": "2024-02-21T16:17:34.724Z"
   },
   {
    "duration": 3,
    "start_time": "2024-02-21T16:17:35.089Z"
   },
   {
    "duration": 241,
    "start_time": "2024-02-21T16:17:35.094Z"
   },
   {
    "duration": 7,
    "start_time": "2024-02-21T16:17:35.336Z"
   },
   {
    "duration": 17,
    "start_time": "2024-02-21T16:17:35.345Z"
   },
   {
    "duration": 7,
    "start_time": "2024-02-21T16:17:35.371Z"
   },
   {
    "duration": 184,
    "start_time": "2024-02-21T16:17:35.379Z"
   },
   {
    "duration": 4,
    "start_time": "2024-02-21T16:17:35.567Z"
   },
   {
    "duration": 11,
    "start_time": "2024-02-21T16:17:35.574Z"
   },
   {
    "duration": 150,
    "start_time": "2024-02-21T16:17:35.589Z"
   },
   {
    "duration": 5,
    "start_time": "2024-02-21T16:17:35.741Z"
   },
   {
    "duration": 131,
    "start_time": "2024-02-21T16:17:35.747Z"
   },
   {
    "duration": 8,
    "start_time": "2024-02-21T16:17:35.880Z"
   },
   {
    "duration": 296,
    "start_time": "2024-02-21T16:17:35.889Z"
   },
   {
    "duration": 126,
    "start_time": "2024-02-21T16:17:36.187Z"
   },
   {
    "duration": 9,
    "start_time": "2024-02-21T16:17:36.315Z"
   },
   {
    "duration": 349,
    "start_time": "2024-02-21T16:17:36.325Z"
   },
   {
    "duration": 10,
    "start_time": "2024-02-21T16:17:36.676Z"
   },
   {
    "duration": 265,
    "start_time": "2024-02-21T16:17:36.688Z"
   },
   {
    "duration": 18,
    "start_time": "2024-02-21T16:17:36.954Z"
   },
   {
    "duration": 19,
    "start_time": "2024-02-21T16:17:36.974Z"
   },
   {
    "duration": 23,
    "start_time": "2024-02-21T16:17:36.994Z"
   },
   {
    "duration": 24,
    "start_time": "2024-02-21T16:17:37.019Z"
   },
   {
    "duration": 26,
    "start_time": "2024-02-21T16:17:37.045Z"
   },
   {
    "duration": 213,
    "start_time": "2024-02-21T16:17:37.073Z"
   },
   {
    "duration": 309,
    "start_time": "2024-02-21T16:17:37.288Z"
   },
   {
    "duration": 222,
    "start_time": "2024-02-21T16:17:37.600Z"
   },
   {
    "duration": 322,
    "start_time": "2024-02-21T16:17:37.823Z"
   },
   {
    "duration": 20,
    "start_time": "2024-02-21T16:17:38.146Z"
   },
   {
    "duration": 22,
    "start_time": "2024-02-21T16:17:38.168Z"
   },
   {
    "duration": 203,
    "start_time": "2024-02-21T16:17:38.192Z"
   },
   {
    "duration": 120,
    "start_time": "2024-02-21T16:17:38.396Z"
   },
   {
    "duration": 230,
    "start_time": "2024-02-21T16:17:38.517Z"
   },
   {
    "duration": 130,
    "start_time": "2024-02-21T16:17:38.748Z"
   },
   {
    "duration": 4,
    "start_time": "2024-02-21T16:17:38.880Z"
   },
   {
    "duration": 820,
    "start_time": "2024-02-21T16:17:38.886Z"
   },
   {
    "duration": 3,
    "start_time": "2024-02-21T16:17:39.709Z"
   },
   {
    "duration": 28,
    "start_time": "2024-02-21T16:17:39.714Z"
   },
   {
    "duration": 34,
    "start_time": "2024-02-21T16:17:39.744Z"
   },
   {
    "duration": 35,
    "start_time": "2024-02-21T16:17:39.780Z"
   },
   {
    "duration": 21,
    "start_time": "2024-02-21T16:17:39.817Z"
   },
   {
    "duration": 11,
    "start_time": "2024-02-21T16:17:39.839Z"
   },
   {
    "duration": 5,
    "start_time": "2024-02-21T16:17:39.851Z"
   },
   {
    "duration": 14,
    "start_time": "2024-02-21T16:17:39.858Z"
   },
   {
    "duration": 10,
    "start_time": "2024-02-21T16:17:39.876Z"
   },
   {
    "duration": 996,
    "start_time": "2024-02-21T16:17:39.887Z"
   },
   {
    "duration": 5,
    "start_time": "2024-02-21T16:17:40.884Z"
   },
   {
    "duration": 11,
    "start_time": "2024-02-21T16:20:27.457Z"
   },
   {
    "duration": 10,
    "start_time": "2024-02-21T16:20:36.046Z"
   },
   {
    "duration": 105,
    "start_time": "2024-02-21T16:25:48.293Z"
   },
   {
    "duration": 26,
    "start_time": "2024-02-21T16:26:34.892Z"
   },
   {
    "duration": 18,
    "start_time": "2024-02-21T16:27:06.956Z"
   },
   {
    "duration": 17,
    "start_time": "2024-02-21T16:27:28.543Z"
   },
   {
    "duration": 18,
    "start_time": "2024-02-21T16:27:57.293Z"
   },
   {
    "duration": 148,
    "start_time": "2024-02-21T16:28:41.632Z"
   },
   {
    "duration": 141,
    "start_time": "2024-02-21T16:28:53.039Z"
   },
   {
    "duration": 9,
    "start_time": "2024-02-21T16:29:05.383Z"
   },
   {
    "duration": 14,
    "start_time": "2024-02-21T16:30:08.086Z"
   },
   {
    "duration": 1639,
    "start_time": "2024-02-21T16:33:12.463Z"
   },
   {
    "duration": 1661,
    "start_time": "2024-02-21T16:33:44.083Z"
   },
   {
    "duration": 11,
    "start_time": "2024-02-21T16:33:50.741Z"
   },
   {
    "duration": 11,
    "start_time": "2024-02-21T16:35:20.874Z"
   },
   {
    "duration": 8,
    "start_time": "2024-02-21T16:35:46.193Z"
   },
   {
    "duration": 3,
    "start_time": "2024-02-21T16:41:37.973Z"
   },
   {
    "duration": 1622,
    "start_time": "2024-02-21T16:43:48.162Z"
   },
   {
    "duration": 10,
    "start_time": "2024-02-21T16:44:22.133Z"
   },
   {
    "duration": 11,
    "start_time": "2024-02-21T16:44:30.854Z"
   },
   {
    "duration": 7,
    "start_time": "2024-02-21T16:44:45.273Z"
   },
   {
    "duration": 1656,
    "start_time": "2024-02-21T16:45:10.263Z"
   },
   {
    "duration": 11,
    "start_time": "2024-02-21T16:46:17.939Z"
   },
   {
    "duration": 1733,
    "start_time": "2024-02-21T16:46:41.083Z"
   },
   {
    "duration": 1577,
    "start_time": "2024-02-21T16:46:55.257Z"
   },
   {
    "duration": 1747,
    "start_time": "2024-02-21T16:47:00.683Z"
   },
   {
    "duration": 11,
    "start_time": "2024-02-21T16:47:25.073Z"
   },
   {
    "duration": 7,
    "start_time": "2024-02-21T16:47:29.825Z"
   },
   {
    "duration": 6,
    "start_time": "2024-02-21T16:47:49.442Z"
   },
   {
    "duration": 7,
    "start_time": "2024-02-21T16:48:00.983Z"
   },
   {
    "duration": 6,
    "start_time": "2024-02-21T16:48:05.373Z"
   },
   {
    "duration": 8,
    "start_time": "2024-02-21T16:49:10.879Z"
   },
   {
    "duration": 8,
    "start_time": "2024-02-21T16:49:23.583Z"
   },
   {
    "duration": 8,
    "start_time": "2024-02-21T16:49:47.013Z"
   },
   {
    "duration": 17,
    "start_time": "2024-02-21T16:50:00.154Z"
   },
   {
    "duration": 1718,
    "start_time": "2024-02-21T16:54:50.813Z"
   },
   {
    "duration": 22,
    "start_time": "2024-02-21T16:55:05.353Z"
   },
   {
    "duration": 6,
    "start_time": "2024-02-21T16:55:14.975Z"
   },
   {
    "duration": 1567,
    "start_time": "2024-02-21T16:55:59.374Z"
   },
   {
    "duration": 1638,
    "start_time": "2024-02-21T16:56:07.102Z"
   },
   {
    "duration": 7,
    "start_time": "2024-02-21T16:57:30.234Z"
   },
   {
    "duration": 10,
    "start_time": "2024-02-21T16:58:06.883Z"
   },
   {
    "duration": 11,
    "start_time": "2024-02-21T16:58:13.483Z"
   },
   {
    "duration": 11,
    "start_time": "2024-02-21T16:58:18.093Z"
   },
   {
    "duration": 1672,
    "start_time": "2024-02-21T16:58:29.314Z"
   },
   {
    "duration": 1574,
    "start_time": "2024-02-21T16:58:46.983Z"
   },
   {
    "duration": 1713,
    "start_time": "2024-02-21T16:59:58.934Z"
   },
   {
    "duration": 1641,
    "start_time": "2024-02-21T17:00:14.001Z"
   },
   {
    "duration": 1661,
    "start_time": "2024-02-21T17:00:39.989Z"
   },
   {
    "duration": 1655,
    "start_time": "2024-02-21T17:00:46.173Z"
   },
   {
    "duration": 1658,
    "start_time": "2024-02-21T17:01:02.158Z"
   },
   {
    "duration": 1596,
    "start_time": "2024-02-21T17:04:26.923Z"
   },
   {
    "duration": 1648,
    "start_time": "2024-02-21T17:04:51.024Z"
   },
   {
    "duration": 4,
    "start_time": "2024-02-21T17:05:14.773Z"
   },
   {
    "duration": 4,
    "start_time": "2024-02-21T17:05:42.214Z"
   },
   {
    "duration": 3,
    "start_time": "2024-02-21T17:06:00.634Z"
   },
   {
    "duration": 3,
    "start_time": "2024-02-21T17:06:11.783Z"
   },
   {
    "duration": 4,
    "start_time": "2024-02-21T17:06:22.423Z"
   },
   {
    "duration": 15,
    "start_time": "2024-02-21T17:10:38.012Z"
   },
   {
    "duration": 797,
    "start_time": "2024-02-21T17:11:04.043Z"
   },
   {
    "duration": 17,
    "start_time": "2024-02-21T17:11:18.973Z"
   },
   {
    "duration": 15,
    "start_time": "2024-02-21T17:12:17.178Z"
   },
   {
    "duration": 15,
    "start_time": "2024-02-21T17:12:33.033Z"
   },
   {
    "duration": 15,
    "start_time": "2024-02-21T17:12:43.314Z"
   },
   {
    "duration": 15,
    "start_time": "2024-02-21T17:13:08.069Z"
   },
   {
    "duration": 14,
    "start_time": "2024-02-21T17:13:26.843Z"
   },
   {
    "duration": 14,
    "start_time": "2024-02-21T17:13:43.634Z"
   },
   {
    "duration": 135,
    "start_time": "2024-02-21T17:14:05.415Z"
   },
   {
    "duration": 14,
    "start_time": "2024-02-21T17:14:17.183Z"
   },
   {
    "duration": 13,
    "start_time": "2024-02-21T17:14:38.426Z"
   },
   {
    "duration": 13,
    "start_time": "2024-02-21T17:14:52.323Z"
   },
   {
    "duration": 15,
    "start_time": "2024-02-21T17:15:00.693Z"
   },
   {
    "duration": 15,
    "start_time": "2024-02-21T17:16:38.273Z"
   },
   {
    "duration": 19,
    "start_time": "2024-02-21T17:17:02.312Z"
   },
   {
    "duration": 22,
    "start_time": "2024-02-21T17:17:27.953Z"
   },
   {
    "duration": 9,
    "start_time": "2024-02-21T17:19:53.194Z"
   },
   {
    "duration": 19,
    "start_time": "2024-02-21T17:20:04.692Z"
   },
   {
    "duration": 12,
    "start_time": "2024-02-21T17:20:11.011Z"
   },
   {
    "duration": 14,
    "start_time": "2024-02-21T17:20:37.253Z"
   },
   {
    "duration": 12,
    "start_time": "2024-02-21T17:22:21.313Z"
   },
   {
    "duration": 11,
    "start_time": "2024-02-21T17:22:30.234Z"
   },
   {
    "duration": 11,
    "start_time": "2024-02-21T17:23:14.034Z"
   },
   {
    "duration": 14,
    "start_time": "2024-02-21T17:23:34.406Z"
   },
   {
    "duration": 5,
    "start_time": "2024-02-21T17:24:22.934Z"
   },
   {
    "duration": 3,
    "start_time": "2024-02-21T17:24:42.434Z"
   },
   {
    "duration": 1746,
    "start_time": "2024-02-21T17:24:55.055Z"
   },
   {
    "duration": 4,
    "start_time": "2024-02-21T17:25:11.424Z"
   },
   {
    "duration": 4,
    "start_time": "2024-02-21T17:25:19.913Z"
   },
   {
    "duration": 9,
    "start_time": "2024-02-21T17:27:49.793Z"
   },
   {
    "duration": 7,
    "start_time": "2024-02-21T17:28:04.243Z"
   },
   {
    "duration": 22,
    "start_time": "2024-02-21T17:28:33.103Z"
   },
   {
    "duration": 22,
    "start_time": "2024-02-21T17:29:04.833Z"
   },
   {
    "duration": 9,
    "start_time": "2024-02-21T17:33:26.953Z"
   },
   {
    "duration": 3,
    "start_time": "2024-02-21T17:33:54.003Z"
   },
   {
    "duration": 1650,
    "start_time": "2024-02-21T17:39:59.433Z"
   },
   {
    "duration": 1763,
    "start_time": "2024-02-21T17:40:28.623Z"
   },
   {
    "duration": 12,
    "start_time": "2024-02-21T17:41:45.847Z"
   },
   {
    "duration": 94,
    "start_time": "2024-02-21T17:50:36.704Z"
   },
   {
    "duration": 91,
    "start_time": "2024-02-21T17:50:43.304Z"
   },
   {
    "duration": 100,
    "start_time": "2024-02-21T17:51:20.194Z"
   },
   {
    "duration": 10,
    "start_time": "2024-02-21T17:52:39.411Z"
   },
   {
    "duration": 12,
    "start_time": "2024-02-21T17:52:45.384Z"
   },
   {
    "duration": 9,
    "start_time": "2024-02-21T17:53:22.914Z"
   },
   {
    "duration": 157,
    "start_time": "2024-02-21T17:53:41.714Z"
   },
   {
    "duration": 99,
    "start_time": "2024-02-21T17:53:56.493Z"
   },
   {
    "duration": 78,
    "start_time": "2024-02-21T17:54:04.364Z"
   },
   {
    "duration": 9,
    "start_time": "2024-02-21T17:54:49.445Z"
   },
   {
    "duration": 84,
    "start_time": "2024-02-21T17:54:56.573Z"
   },
   {
    "duration": 5,
    "start_time": "2024-02-21T17:55:50.394Z"
   },
   {
    "duration": 91,
    "start_time": "2024-02-21T17:57:38.390Z"
   },
   {
    "duration": 4,
    "start_time": "2024-02-21T17:57:50.063Z"
   },
   {
    "duration": 91,
    "start_time": "2024-02-21T17:58:13.933Z"
   },
   {
    "duration": 11,
    "start_time": "2024-02-21T18:08:59.533Z"
   },
   {
    "duration": 421,
    "start_time": "2024-02-21T18:09:06.312Z"
   },
   {
    "duration": 9,
    "start_time": "2024-02-21T18:09:57.077Z"
   },
   {
    "duration": 79,
    "start_time": "2024-02-21T18:10:01.364Z"
   },
   {
    "duration": 5,
    "start_time": "2024-02-21T18:10:19.472Z"
   },
   {
    "duration": 1204,
    "start_time": "2024-02-21T18:10:45.334Z"
   },
   {
    "duration": 63,
    "start_time": "2024-02-21T18:10:46.541Z"
   },
   {
    "duration": 118,
    "start_time": "2024-02-21T18:10:46.606Z"
   },
   {
    "duration": 269,
    "start_time": "2024-02-21T18:10:46.725Z"
   },
   {
    "duration": 319,
    "start_time": "2024-02-21T18:10:46.997Z"
   },
   {
    "duration": 3,
    "start_time": "2024-02-21T18:10:47.318Z"
   },
   {
    "duration": 245,
    "start_time": "2024-02-21T18:10:47.322Z"
   },
   {
    "duration": 7,
    "start_time": "2024-02-21T18:10:47.568Z"
   },
   {
    "duration": 6,
    "start_time": "2024-02-21T18:10:47.577Z"
   },
   {
    "duration": 13,
    "start_time": "2024-02-21T18:10:47.585Z"
   },
   {
    "duration": 180,
    "start_time": "2024-02-21T18:10:47.600Z"
   },
   {
    "duration": 4,
    "start_time": "2024-02-21T18:10:47.782Z"
   },
   {
    "duration": 8,
    "start_time": "2024-02-21T18:10:47.787Z"
   },
   {
    "duration": 150,
    "start_time": "2024-02-21T18:10:47.798Z"
   },
   {
    "duration": 11,
    "start_time": "2024-02-21T18:10:47.950Z"
   },
   {
    "duration": 95,
    "start_time": "2024-02-21T18:10:47.963Z"
   },
   {
    "duration": 8,
    "start_time": "2024-02-21T18:10:48.060Z"
   },
   {
    "duration": 249,
    "start_time": "2024-02-21T18:10:48.070Z"
   },
   {
    "duration": 116,
    "start_time": "2024-02-21T18:10:48.321Z"
   },
   {
    "duration": 8,
    "start_time": "2024-02-21T18:10:48.438Z"
   },
   {
    "duration": 326,
    "start_time": "2024-02-21T18:10:48.447Z"
   },
   {
    "duration": 8,
    "start_time": "2024-02-21T18:10:48.774Z"
   },
   {
    "duration": 279,
    "start_time": "2024-02-21T18:10:48.783Z"
   },
   {
    "duration": 10,
    "start_time": "2024-02-21T18:10:49.064Z"
   },
   {
    "duration": 26,
    "start_time": "2024-02-21T18:10:49.076Z"
   },
   {
    "duration": 26,
    "start_time": "2024-02-21T18:10:49.103Z"
   },
   {
    "duration": 28,
    "start_time": "2024-02-21T18:10:49.131Z"
   },
   {
    "duration": 44,
    "start_time": "2024-02-21T18:10:49.161Z"
   },
   {
    "duration": 213,
    "start_time": "2024-02-21T18:10:49.206Z"
   },
   {
    "duration": 241,
    "start_time": "2024-02-21T18:10:49.421Z"
   },
   {
    "duration": 188,
    "start_time": "2024-02-21T18:10:49.663Z"
   },
   {
    "duration": 371,
    "start_time": "2024-02-21T18:10:49.858Z"
   },
   {
    "duration": 6,
    "start_time": "2024-02-21T18:10:50.231Z"
   },
   {
    "duration": 29,
    "start_time": "2024-02-21T18:10:50.238Z"
   },
   {
    "duration": 178,
    "start_time": "2024-02-21T18:10:50.269Z"
   },
   {
    "duration": 115,
    "start_time": "2024-02-21T18:10:50.448Z"
   },
   {
    "duration": 202,
    "start_time": "2024-02-21T18:10:50.564Z"
   },
   {
    "duration": 100,
    "start_time": "2024-02-21T18:10:50.767Z"
   },
   {
    "duration": 4,
    "start_time": "2024-02-21T18:10:50.868Z"
   },
   {
    "duration": 824,
    "start_time": "2024-02-21T18:10:50.873Z"
   },
   {
    "duration": 3,
    "start_time": "2024-02-21T18:10:51.701Z"
   },
   {
    "duration": 15,
    "start_time": "2024-02-21T18:10:51.705Z"
   },
   {
    "duration": 11,
    "start_time": "2024-02-21T18:10:51.721Z"
   },
   {
    "duration": 32,
    "start_time": "2024-02-21T18:10:51.733Z"
   },
   {
    "duration": 9,
    "start_time": "2024-02-21T18:10:51.767Z"
   },
   {
    "duration": 14,
    "start_time": "2024-02-21T18:10:51.777Z"
   },
   {
    "duration": 5,
    "start_time": "2024-02-21T18:10:51.793Z"
   },
   {
    "duration": 16,
    "start_time": "2024-02-21T18:10:51.799Z"
   },
   {
    "duration": 9,
    "start_time": "2024-02-21T18:10:51.816Z"
   },
   {
    "duration": 912,
    "start_time": "2024-02-21T18:10:51.826Z"
   },
   {
    "duration": 4,
    "start_time": "2024-02-21T18:10:52.740Z"
   },
   {
    "duration": 1195,
    "start_time": "2024-02-21T18:13:29.477Z"
   },
   {
    "duration": 66,
    "start_time": "2024-02-21T18:13:30.674Z"
   },
   {
    "duration": 168,
    "start_time": "2024-02-21T18:13:30.743Z"
   },
   {
    "duration": 284,
    "start_time": "2024-02-21T18:13:30.913Z"
   },
   {
    "duration": 343,
    "start_time": "2024-02-21T18:13:31.198Z"
   },
   {
    "duration": 3,
    "start_time": "2024-02-21T18:13:31.543Z"
   },
   {
    "duration": 265,
    "start_time": "2024-02-21T18:13:31.547Z"
   },
   {
    "duration": 7,
    "start_time": "2024-02-21T18:13:31.813Z"
   },
   {
    "duration": 14,
    "start_time": "2024-02-21T18:13:31.822Z"
   },
   {
    "duration": 24,
    "start_time": "2024-02-21T18:13:31.838Z"
   },
   {
    "duration": 209,
    "start_time": "2024-02-21T18:13:31.864Z"
   },
   {
    "duration": 3,
    "start_time": "2024-02-21T18:13:32.075Z"
   },
   {
    "duration": 26,
    "start_time": "2024-02-21T18:13:32.082Z"
   },
   {
    "duration": 157,
    "start_time": "2024-02-21T18:13:32.110Z"
   },
   {
    "duration": 5,
    "start_time": "2024-02-21T18:13:32.268Z"
   },
   {
    "duration": 95,
    "start_time": "2024-02-21T18:13:32.275Z"
   },
   {
    "duration": 7,
    "start_time": "2024-02-21T18:13:32.372Z"
   },
   {
    "duration": 264,
    "start_time": "2024-02-21T18:13:32.380Z"
   },
   {
    "duration": 104,
    "start_time": "2024-02-21T18:13:32.646Z"
   },
   {
    "duration": 12,
    "start_time": "2024-02-21T18:13:32.751Z"
   },
   {
    "duration": 302,
    "start_time": "2024-02-21T18:13:32.765Z"
   },
   {
    "duration": 7,
    "start_time": "2024-02-21T18:13:33.069Z"
   },
   {
    "duration": 307,
    "start_time": "2024-02-21T18:13:33.078Z"
   },
   {
    "duration": 11,
    "start_time": "2024-02-21T18:13:33.386Z"
   },
   {
    "duration": 9,
    "start_time": "2024-02-21T18:13:33.398Z"
   },
   {
    "duration": 18,
    "start_time": "2024-02-21T18:13:33.409Z"
   },
   {
    "duration": 9,
    "start_time": "2024-02-21T18:13:33.428Z"
   },
   {
    "duration": 25,
    "start_time": "2024-02-21T18:13:33.458Z"
   },
   {
    "duration": 208,
    "start_time": "2024-02-21T18:13:33.485Z"
   },
   {
    "duration": 272,
    "start_time": "2024-02-21T18:13:33.695Z"
   },
   {
    "duration": 197,
    "start_time": "2024-02-21T18:13:33.969Z"
   },
   {
    "duration": 378,
    "start_time": "2024-02-21T18:13:34.167Z"
   },
   {
    "duration": 14,
    "start_time": "2024-02-21T18:13:34.546Z"
   },
   {
    "duration": 18,
    "start_time": "2024-02-21T18:13:34.562Z"
   },
   {
    "duration": 191,
    "start_time": "2024-02-21T18:13:34.582Z"
   },
   {
    "duration": 111,
    "start_time": "2024-02-21T18:13:34.774Z"
   },
   {
    "duration": 201,
    "start_time": "2024-02-21T18:13:34.886Z"
   },
   {
    "duration": 108,
    "start_time": "2024-02-21T18:13:35.089Z"
   },
   {
    "duration": 4,
    "start_time": "2024-02-21T18:13:35.198Z"
   },
   {
    "duration": 784,
    "start_time": "2024-02-21T18:13:35.205Z"
   },
   {
    "duration": 3,
    "start_time": "2024-02-21T18:13:35.990Z"
   },
   {
    "duration": 28,
    "start_time": "2024-02-21T18:13:35.994Z"
   },
   {
    "duration": 11,
    "start_time": "2024-02-21T18:13:36.023Z"
   },
   {
    "duration": 22,
    "start_time": "2024-02-21T18:13:36.036Z"
   },
   {
    "duration": 13,
    "start_time": "2024-02-21T18:13:36.059Z"
   },
   {
    "duration": 8,
    "start_time": "2024-02-21T18:13:36.074Z"
   },
   {
    "duration": 5,
    "start_time": "2024-02-21T18:13:36.083Z"
   },
   {
    "duration": 4,
    "start_time": "2024-02-21T18:13:36.089Z"
   },
   {
    "duration": 12,
    "start_time": "2024-02-21T18:13:36.094Z"
   },
   {
    "duration": 874,
    "start_time": "2024-02-21T18:13:36.108Z"
   },
   {
    "duration": 5,
    "start_time": "2024-02-21T18:13:36.983Z"
   },
   {
    "duration": 1281,
    "start_time": "2024-02-22T01:07:06.457Z"
   },
   {
    "duration": 68,
    "start_time": "2024-02-22T01:07:07.740Z"
   },
   {
    "duration": 144,
    "start_time": "2024-02-22T01:07:07.809Z"
   },
   {
    "duration": 310,
    "start_time": "2024-02-22T01:07:07.955Z"
   },
   {
    "duration": 372,
    "start_time": "2024-02-22T01:07:08.267Z"
   },
   {
    "duration": 3,
    "start_time": "2024-02-22T01:07:08.641Z"
   },
   {
    "duration": 262,
    "start_time": "2024-02-22T01:07:08.646Z"
   },
   {
    "duration": 6,
    "start_time": "2024-02-22T01:07:08.910Z"
   },
   {
    "duration": 17,
    "start_time": "2024-02-22T01:07:08.917Z"
   },
   {
    "duration": 6,
    "start_time": "2024-02-22T01:07:08.936Z"
   },
   {
    "duration": 161,
    "start_time": "2024-02-22T01:07:08.943Z"
   },
   {
    "duration": 4,
    "start_time": "2024-02-22T01:07:09.123Z"
   },
   {
    "duration": 75,
    "start_time": "2024-02-22T01:07:09.129Z"
   },
   {
    "duration": 199,
    "start_time": "2024-02-22T01:07:09.207Z"
   },
   {
    "duration": 5,
    "start_time": "2024-02-22T01:07:09.408Z"
   },
   {
    "duration": 113,
    "start_time": "2024-02-22T01:07:09.415Z"
   },
   {
    "duration": 8,
    "start_time": "2024-02-22T01:07:09.530Z"
   },
   {
    "duration": 268,
    "start_time": "2024-02-22T01:07:09.539Z"
   },
   {
    "duration": 123,
    "start_time": "2024-02-22T01:07:09.809Z"
   },
   {
    "duration": 11,
    "start_time": "2024-02-22T01:07:09.934Z"
   },
   {
    "duration": 363,
    "start_time": "2024-02-22T01:07:09.947Z"
   },
   {
    "duration": 14,
    "start_time": "2024-02-22T01:07:10.312Z"
   },
   {
    "duration": 301,
    "start_time": "2024-02-22T01:07:10.327Z"
   },
   {
    "duration": 11,
    "start_time": "2024-02-22T01:07:10.630Z"
   },
   {
    "duration": 33,
    "start_time": "2024-02-22T01:07:10.643Z"
   },
   {
    "duration": 26,
    "start_time": "2024-02-22T01:07:10.678Z"
   },
   {
    "duration": 11,
    "start_time": "2024-02-22T01:07:10.706Z"
   },
   {
    "duration": 23,
    "start_time": "2024-02-22T01:07:10.723Z"
   },
   {
    "duration": 229,
    "start_time": "2024-02-22T01:07:10.748Z"
   },
   {
    "duration": 379,
    "start_time": "2024-02-22T01:07:10.979Z"
   },
   {
    "duration": 229,
    "start_time": "2024-02-22T01:07:11.360Z"
   },
   {
    "duration": 351,
    "start_time": "2024-02-22T01:07:11.590Z"
   },
   {
    "duration": 7,
    "start_time": "2024-02-22T01:07:11.942Z"
   },
   {
    "duration": 21,
    "start_time": "2024-02-22T01:07:11.950Z"
   },
   {
    "duration": 207,
    "start_time": "2024-02-22T01:07:11.972Z"
   },
   {
    "duration": 121,
    "start_time": "2024-02-22T01:07:12.181Z"
   },
   {
    "duration": 235,
    "start_time": "2024-02-22T01:07:12.304Z"
   },
   {
    "duration": 121,
    "start_time": "2024-02-22T01:07:12.540Z"
   },
   {
    "duration": 4,
    "start_time": "2024-02-22T01:07:12.662Z"
   },
   {
    "duration": 923,
    "start_time": "2024-02-22T01:07:12.668Z"
   },
   {
    "duration": 3,
    "start_time": "2024-02-22T01:07:13.595Z"
   },
   {
    "duration": 87,
    "start_time": "2024-02-22T01:07:13.599Z"
   },
   {
    "duration": 11,
    "start_time": "2024-02-22T01:07:13.687Z"
   },
   {
    "duration": 32,
    "start_time": "2024-02-22T01:07:13.700Z"
   },
   {
    "duration": 25,
    "start_time": "2024-02-22T01:07:13.734Z"
   },
   {
    "duration": 20,
    "start_time": "2024-02-22T01:07:13.760Z"
   },
   {
    "duration": 5,
    "start_time": "2024-02-22T01:07:13.782Z"
   },
   {
    "duration": 9,
    "start_time": "2024-02-22T01:07:13.789Z"
   },
   {
    "duration": 85,
    "start_time": "2024-02-22T01:07:13.800Z"
   },
   {
    "duration": 1064,
    "start_time": "2024-02-22T01:07:13.887Z"
   },
   {
    "duration": 5,
    "start_time": "2024-02-22T01:07:14.952Z"
   },
   {
    "duration": 1033,
    "start_time": "2024-02-22T01:15:19.521Z"
   },
   {
    "duration": 142,
    "start_time": "2024-02-22T01:15:41.710Z"
   },
   {
    "duration": 1346,
    "start_time": "2024-02-22T01:16:28.213Z"
   },
   {
    "duration": 67,
    "start_time": "2024-02-22T01:16:29.561Z"
   },
   {
    "duration": 153,
    "start_time": "2024-02-22T01:16:29.630Z"
   },
   {
    "duration": 314,
    "start_time": "2024-02-22T01:16:29.785Z"
   },
   {
    "duration": 375,
    "start_time": "2024-02-22T01:16:30.102Z"
   },
   {
    "duration": 3,
    "start_time": "2024-02-22T01:16:30.480Z"
   },
   {
    "duration": 858,
    "start_time": "2024-02-22T01:16:30.485Z"
   },
   {
    "duration": 6,
    "start_time": "2024-02-22T01:16:31.345Z"
   },
   {
    "duration": 49,
    "start_time": "2024-02-22T01:16:31.352Z"
   },
   {
    "duration": 34,
    "start_time": "2024-02-22T01:16:31.403Z"
   },
   {
    "duration": 187,
    "start_time": "2024-02-22T01:16:31.439Z"
   },
   {
    "duration": 4,
    "start_time": "2024-02-22T01:16:31.628Z"
   },
   {
    "duration": 36,
    "start_time": "2024-02-22T01:16:31.634Z"
   },
   {
    "duration": 183,
    "start_time": "2024-02-22T01:16:31.673Z"
   },
   {
    "duration": 6,
    "start_time": "2024-02-22T01:16:31.857Z"
   },
   {
    "duration": 126,
    "start_time": "2024-02-22T01:16:31.865Z"
   },
   {
    "duration": 9,
    "start_time": "2024-02-22T01:16:31.993Z"
   },
   {
    "duration": 302,
    "start_time": "2024-02-22T01:16:32.004Z"
   },
   {
    "duration": 131,
    "start_time": "2024-02-22T01:16:32.308Z"
   },
   {
    "duration": 9,
    "start_time": "2024-02-22T01:16:32.440Z"
   },
   {
    "duration": 292,
    "start_time": "2024-02-22T01:16:32.451Z"
   },
   {
    "duration": 8,
    "start_time": "2024-02-22T01:16:32.745Z"
   },
   {
    "duration": 291,
    "start_time": "2024-02-22T01:16:32.755Z"
   },
   {
    "duration": 12,
    "start_time": "2024-02-22T01:16:33.047Z"
   },
   {
    "duration": 54,
    "start_time": "2024-02-22T01:16:33.061Z"
   },
   {
    "duration": 30,
    "start_time": "2024-02-22T01:16:33.117Z"
   },
   {
    "duration": 21,
    "start_time": "2024-02-22T01:16:33.148Z"
   },
   {
    "duration": 27,
    "start_time": "2024-02-22T01:16:33.170Z"
   },
   {
    "duration": 225,
    "start_time": "2024-02-22T01:16:33.198Z"
   },
   {
    "duration": 320,
    "start_time": "2024-02-22T01:16:33.425Z"
   },
   {
    "duration": 230,
    "start_time": "2024-02-22T01:16:33.747Z"
   },
   {
    "duration": 445,
    "start_time": "2024-02-22T01:16:33.979Z"
   },
   {
    "duration": 7,
    "start_time": "2024-02-22T01:16:34.426Z"
   },
   {
    "duration": 51,
    "start_time": "2024-02-22T01:16:34.434Z"
   },
   {
    "duration": 204,
    "start_time": "2024-02-22T01:16:34.487Z"
   },
   {
    "duration": 124,
    "start_time": "2024-02-22T01:16:34.693Z"
   },
   {
    "duration": 236,
    "start_time": "2024-02-22T01:16:34.822Z"
   },
   {
    "duration": 131,
    "start_time": "2024-02-22T01:16:35.060Z"
   },
   {
    "duration": 3,
    "start_time": "2024-02-22T01:16:35.193Z"
   },
   {
    "duration": 963,
    "start_time": "2024-02-22T01:16:35.198Z"
   },
   {
    "duration": 3,
    "start_time": "2024-02-22T01:16:36.165Z"
   },
   {
    "duration": 44,
    "start_time": "2024-02-22T01:16:36.170Z"
   },
   {
    "duration": 27,
    "start_time": "2024-02-22T01:16:36.216Z"
   },
   {
    "duration": 38,
    "start_time": "2024-02-22T01:16:36.245Z"
   },
   {
    "duration": 41,
    "start_time": "2024-02-22T01:16:36.285Z"
   },
   {
    "duration": 38,
    "start_time": "2024-02-22T01:16:36.328Z"
   },
   {
    "duration": 20,
    "start_time": "2024-02-22T01:16:36.367Z"
   },
   {
    "duration": 30,
    "start_time": "2024-02-22T01:16:36.389Z"
   },
   {
    "duration": 32,
    "start_time": "2024-02-22T01:16:36.421Z"
   },
   {
    "duration": 1027,
    "start_time": "2024-02-22T01:16:36.454Z"
   },
   {
    "duration": 162,
    "start_time": "2024-02-22T01:16:37.483Z"
   },
   {
    "duration": 5,
    "start_time": "2024-02-22T01:16:37.646Z"
   },
   {
    "duration": 54,
    "start_time": "2024-02-24T17:22:15.085Z"
   },
   {
    "duration": 1368,
    "start_time": "2024-02-24T17:22:41.510Z"
   },
   {
    "duration": 293,
    "start_time": "2024-02-24T17:22:42.880Z"
   },
   {
    "duration": 139,
    "start_time": "2024-02-24T17:22:43.175Z"
   },
   {
    "duration": 287,
    "start_time": "2024-02-24T17:22:43.315Z"
   },
   {
    "duration": 340,
    "start_time": "2024-02-24T17:22:43.604Z"
   },
   {
    "duration": 3,
    "start_time": "2024-02-24T17:22:43.946Z"
   },
   {
    "duration": 241,
    "start_time": "2024-02-24T17:22:43.951Z"
   },
   {
    "duration": 7,
    "start_time": "2024-02-24T17:22:44.193Z"
   },
   {
    "duration": 10,
    "start_time": "2024-02-24T17:22:44.202Z"
   },
   {
    "duration": 10,
    "start_time": "2024-02-24T17:22:44.214Z"
   },
   {
    "duration": 175,
    "start_time": "2024-02-24T17:22:44.226Z"
   },
   {
    "duration": 4,
    "start_time": "2024-02-24T17:22:44.403Z"
   },
   {
    "duration": 14,
    "start_time": "2024-02-24T17:22:44.408Z"
   },
   {
    "duration": 160,
    "start_time": "2024-02-24T17:22:44.427Z"
   },
   {
    "duration": 5,
    "start_time": "2024-02-24T17:22:44.589Z"
   },
   {
    "duration": 103,
    "start_time": "2024-02-24T17:22:44.596Z"
   },
   {
    "duration": 8,
    "start_time": "2024-02-24T17:22:44.702Z"
   },
   {
    "duration": 240,
    "start_time": "2024-02-24T17:22:44.712Z"
   },
   {
    "duration": 119,
    "start_time": "2024-02-24T17:22:44.954Z"
   },
   {
    "duration": 13,
    "start_time": "2024-02-24T17:22:45.075Z"
   },
   {
    "duration": 317,
    "start_time": "2024-02-24T17:22:45.090Z"
   },
   {
    "duration": 8,
    "start_time": "2024-02-24T17:22:45.409Z"
   },
   {
    "duration": 276,
    "start_time": "2024-02-24T17:22:45.418Z"
   },
   {
    "duration": 11,
    "start_time": "2024-02-24T17:22:45.696Z"
   },
   {
    "duration": 12,
    "start_time": "2024-02-24T17:22:45.708Z"
   },
   {
    "duration": 28,
    "start_time": "2024-02-24T17:22:45.722Z"
   },
   {
    "duration": 10,
    "start_time": "2024-02-24T17:22:45.752Z"
   },
   {
    "duration": 39,
    "start_time": "2024-02-24T17:22:45.764Z"
   },
   {
    "duration": 214,
    "start_time": "2024-02-24T17:22:45.805Z"
   },
   {
    "duration": 283,
    "start_time": "2024-02-24T17:22:46.020Z"
   },
   {
    "duration": 200,
    "start_time": "2024-02-24T17:22:46.304Z"
   },
   {
    "duration": 363,
    "start_time": "2024-02-24T17:22:46.505Z"
   },
   {
    "duration": 7,
    "start_time": "2024-02-24T17:22:46.870Z"
   },
   {
    "duration": 30,
    "start_time": "2024-02-24T17:22:46.879Z"
   },
   {
    "duration": 196,
    "start_time": "2024-02-24T17:22:46.911Z"
   },
   {
    "duration": 119,
    "start_time": "2024-02-24T17:22:47.109Z"
   },
   {
    "duration": 217,
    "start_time": "2024-02-24T17:22:47.230Z"
   },
   {
    "duration": 116,
    "start_time": "2024-02-24T17:22:47.448Z"
   },
   {
    "duration": 4,
    "start_time": "2024-02-24T17:22:47.566Z"
   },
   {
    "duration": 795,
    "start_time": "2024-02-24T17:22:47.572Z"
   },
   {
    "duration": 3,
    "start_time": "2024-02-24T17:22:48.370Z"
   },
   {
    "duration": 23,
    "start_time": "2024-02-24T17:22:48.375Z"
   },
   {
    "duration": 11,
    "start_time": "2024-02-24T17:22:48.400Z"
   },
   {
    "duration": 16,
    "start_time": "2024-02-24T17:22:48.412Z"
   },
   {
    "duration": 9,
    "start_time": "2024-02-24T17:22:48.429Z"
   },
   {
    "duration": 8,
    "start_time": "2024-02-24T17:22:48.439Z"
   },
   {
    "duration": 5,
    "start_time": "2024-02-24T17:22:48.448Z"
   },
   {
    "duration": 34,
    "start_time": "2024-02-24T17:22:48.454Z"
   },
   {
    "duration": 8,
    "start_time": "2024-02-24T17:22:48.490Z"
   },
   {
    "duration": 994,
    "start_time": "2024-02-24T17:22:48.500Z"
   },
   {
    "duration": 135,
    "start_time": "2024-02-24T17:22:49.496Z"
   },
   {
    "duration": 4,
    "start_time": "2024-02-24T17:22:49.633Z"
   },
   {
    "duration": 228,
    "start_time": "2024-02-24T17:42:15.983Z"
   },
   {
    "duration": 305,
    "start_time": "2024-02-24T17:42:25.484Z"
   },
   {
    "duration": 230,
    "start_time": "2024-02-24T17:42:30.815Z"
   },
   {
    "duration": 236,
    "start_time": "2024-02-24T17:42:44.904Z"
   },
   {
    "duration": 222,
    "start_time": "2024-02-24T17:43:08.344Z"
   },
   {
    "duration": 216,
    "start_time": "2024-02-24T17:43:13.978Z"
   },
   {
    "duration": 224,
    "start_time": "2024-02-24T17:45:46.603Z"
   },
   {
    "duration": 289,
    "start_time": "2024-02-24T17:45:52.947Z"
   },
   {
    "duration": 235,
    "start_time": "2024-02-24T17:45:57.763Z"
   },
   {
    "duration": 191,
    "start_time": "2024-02-24T17:46:06.175Z"
   },
   {
    "duration": 243,
    "start_time": "2024-02-24T17:47:31.211Z"
   },
   {
    "duration": 242,
    "start_time": "2024-02-24T17:47:40.243Z"
   },
   {
    "duration": 225,
    "start_time": "2024-02-24T17:47:52.863Z"
   },
   {
    "duration": 226,
    "start_time": "2024-02-24T17:49:08.363Z"
   },
   {
    "duration": 379,
    "start_time": "2024-02-24T17:50:01.822Z"
   },
   {
    "duration": 276,
    "start_time": "2024-02-24T17:50:09.462Z"
   },
   {
    "duration": 258,
    "start_time": "2024-02-24T17:50:20.962Z"
   },
   {
    "duration": 236,
    "start_time": "2024-02-24T17:50:26.881Z"
   },
   {
    "duration": 235,
    "start_time": "2024-02-24T17:50:35.222Z"
   },
   {
    "duration": 182,
    "start_time": "2024-02-24T19:01:45.642Z"
   },
   {
    "duration": 200,
    "start_time": "2024-02-24T19:05:24.044Z"
   },
   {
    "duration": 311,
    "start_time": "2024-02-24T19:06:04.278Z"
   },
   {
    "duration": 180,
    "start_time": "2024-02-24T19:06:34.795Z"
   },
   {
    "duration": 184,
    "start_time": "2024-02-24T19:10:11.292Z"
   },
   {
    "duration": 276,
    "start_time": "2024-02-24T19:10:54.913Z"
   },
   {
    "duration": 14,
    "start_time": "2024-02-24T19:24:37.175Z"
   },
   {
    "duration": 6,
    "start_time": "2024-02-24T19:43:19.744Z"
   },
   {
    "duration": 5,
    "start_time": "2024-02-24T19:44:24.984Z"
   },
   {
    "duration": 5,
    "start_time": "2024-02-24T19:50:26.765Z"
   },
   {
    "duration": 807,
    "start_time": "2024-02-24T21:14:30.464Z"
   },
   {
    "duration": 8,
    "start_time": "2024-02-24T21:52:43.857Z"
   },
   {
    "duration": 11,
    "start_time": "2024-02-24T21:57:41.556Z"
   },
   {
    "duration": 9,
    "start_time": "2024-02-24T21:59:57.455Z"
   },
   {
    "duration": 8,
    "start_time": "2024-02-24T22:00:13.727Z"
   },
   {
    "duration": 9,
    "start_time": "2024-02-24T22:12:03.456Z"
   },
   {
    "duration": 9,
    "start_time": "2024-02-24T22:12:23.202Z"
   },
   {
    "duration": 9,
    "start_time": "2024-02-24T22:12:37.420Z"
   },
   {
    "duration": 8,
    "start_time": "2024-02-24T22:12:57.795Z"
   },
   {
    "duration": 8,
    "start_time": "2024-02-24T22:13:02.034Z"
   },
   {
    "duration": 10,
    "start_time": "2024-02-24T22:13:08.675Z"
   },
   {
    "duration": 8,
    "start_time": "2024-02-24T22:13:35.847Z"
   },
   {
    "duration": 10,
    "start_time": "2024-02-24T22:13:40.013Z"
   },
   {
    "duration": 23,
    "start_time": "2024-02-24T22:14:51.043Z"
   },
   {
    "duration": 17,
    "start_time": "2024-02-24T22:16:05.884Z"
   },
   {
    "duration": 9,
    "start_time": "2024-02-24T22:16:23.772Z"
   },
   {
    "duration": 3,
    "start_time": "2024-02-24T22:17:28.245Z"
   },
   {
    "duration": 7,
    "start_time": "2024-02-24T22:17:34.545Z"
   },
   {
    "duration": 8,
    "start_time": "2024-02-24T22:17:37.654Z"
   },
   {
    "duration": 3,
    "start_time": "2024-02-24T22:17:40.855Z"
   },
   {
    "duration": 8,
    "start_time": "2024-02-24T22:34:21.044Z"
   },
   {
    "duration": 8,
    "start_time": "2024-02-24T22:34:27.405Z"
   },
   {
    "duration": 9,
    "start_time": "2024-02-24T22:34:31.316Z"
   },
   {
    "duration": 8,
    "start_time": "2024-02-24T22:34:36.400Z"
   },
   {
    "duration": 8,
    "start_time": "2024-02-24T22:34:40.355Z"
   },
   {
    "duration": 8,
    "start_time": "2024-02-24T22:34:53.362Z"
   },
   {
    "duration": 17,
    "start_time": "2024-02-24T22:36:02.822Z"
   },
   {
    "duration": 8,
    "start_time": "2024-02-24T22:38:18.188Z"
   },
   {
    "duration": 49,
    "start_time": "2024-02-25T14:12:11.022Z"
   },
   {
    "duration": 1500,
    "start_time": "2024-02-25T14:12:42.464Z"
   },
   {
    "duration": 192,
    "start_time": "2024-02-25T14:12:43.966Z"
   },
   {
    "duration": 150,
    "start_time": "2024-02-25T14:12:44.160Z"
   },
   {
    "duration": 312,
    "start_time": "2024-02-25T14:12:44.313Z"
   },
   {
    "duration": 346,
    "start_time": "2024-02-25T14:12:44.626Z"
   },
   {
    "duration": 2,
    "start_time": "2024-02-25T14:12:44.974Z"
   },
   {
    "duration": 228,
    "start_time": "2024-02-25T14:12:44.978Z"
   },
   {
    "duration": 6,
    "start_time": "2024-02-25T14:12:45.208Z"
   },
   {
    "duration": 44,
    "start_time": "2024-02-25T14:12:45.215Z"
   },
   {
    "duration": 114,
    "start_time": "2024-02-25T14:12:45.262Z"
   },
   {
    "duration": 159,
    "start_time": "2024-02-25T14:12:45.378Z"
   },
   {
    "duration": 3,
    "start_time": "2024-02-25T14:12:45.539Z"
   },
   {
    "duration": 8,
    "start_time": "2024-02-25T14:12:45.566Z"
   },
   {
    "duration": 171,
    "start_time": "2024-02-25T14:12:45.576Z"
   },
   {
    "duration": 7,
    "start_time": "2024-02-25T14:12:45.749Z"
   },
   {
    "duration": 103,
    "start_time": "2024-02-25T14:12:45.765Z"
   },
   {
    "duration": 11,
    "start_time": "2024-02-25T14:12:45.870Z"
   },
   {
    "duration": 305,
    "start_time": "2024-02-25T14:12:45.883Z"
   },
   {
    "duration": 116,
    "start_time": "2024-02-25T14:12:46.190Z"
   },
   {
    "duration": 7,
    "start_time": "2024-02-25T14:12:46.307Z"
   },
   {
    "duration": 227,
    "start_time": "2024-02-25T14:12:46.316Z"
   },
   {
    "duration": 340,
    "start_time": "2024-02-25T14:12:46.545Z"
   },
   {
    "duration": 9,
    "start_time": "2024-02-25T14:12:46.886Z"
   },
   {
    "duration": 224,
    "start_time": "2024-02-25T14:12:46.896Z"
   },
   {
    "duration": 332,
    "start_time": "2024-02-25T14:12:47.121Z"
   },
   {
    "duration": 21,
    "start_time": "2024-02-25T14:12:47.454Z"
   },
   {
    "duration": 9,
    "start_time": "2024-02-25T14:12:47.478Z"
   },
   {
    "duration": 19,
    "start_time": "2024-02-25T14:12:47.490Z"
   },
   {
    "duration": 4,
    "start_time": "2024-02-25T14:12:47.510Z"
   },
   {
    "duration": 14,
    "start_time": "2024-02-25T14:12:47.515Z"
   },
   {
    "duration": 44,
    "start_time": "2024-02-25T14:12:47.530Z"
   },
   {
    "duration": 213,
    "start_time": "2024-02-25T14:12:47.576Z"
   },
   {
    "duration": 356,
    "start_time": "2024-02-25T14:12:47.790Z"
   },
   {
    "duration": 221,
    "start_time": "2024-02-25T14:12:48.148Z"
   },
   {
    "duration": 9,
    "start_time": "2024-02-25T14:12:48.371Z"
   },
   {
    "duration": 308,
    "start_time": "2024-02-25T14:12:48.382Z"
   },
   {
    "duration": 7,
    "start_time": "2024-02-25T14:12:48.691Z"
   },
   {
    "duration": 23,
    "start_time": "2024-02-25T14:12:48.700Z"
   },
   {
    "duration": 205,
    "start_time": "2024-02-25T14:12:48.724Z"
   },
   {
    "duration": 118,
    "start_time": "2024-02-25T14:12:48.930Z"
   },
   {
    "duration": 216,
    "start_time": "2024-02-25T14:12:49.050Z"
   },
   {
    "duration": 113,
    "start_time": "2024-02-25T14:12:49.268Z"
   },
   {
    "duration": 3,
    "start_time": "2024-02-25T14:12:49.383Z"
   },
   {
    "duration": 897,
    "start_time": "2024-02-25T14:12:49.388Z"
   },
   {
    "duration": 3,
    "start_time": "2024-02-25T14:12:50.286Z"
   },
   {
    "duration": 17,
    "start_time": "2024-02-25T14:12:50.290Z"
   },
   {
    "duration": 97,
    "start_time": "2024-02-25T14:12:50.309Z"
   },
   {
    "duration": 15,
    "start_time": "2024-02-25T14:12:50.407Z"
   },
   {
    "duration": 15,
    "start_time": "2024-02-25T14:12:50.423Z"
   },
   {
    "duration": 8,
    "start_time": "2024-02-25T14:12:50.440Z"
   },
   {
    "duration": 19,
    "start_time": "2024-02-25T14:12:50.449Z"
   },
   {
    "duration": 5,
    "start_time": "2024-02-25T14:12:50.471Z"
   },
   {
    "duration": 6,
    "start_time": "2024-02-25T14:12:50.478Z"
   },
   {
    "duration": 13,
    "start_time": "2024-02-25T14:12:50.485Z"
   },
   {
    "duration": 979,
    "start_time": "2024-02-25T14:12:50.500Z"
   },
   {
    "duration": 142,
    "start_time": "2024-02-25T14:12:51.481Z"
   },
   {
    "duration": 4,
    "start_time": "2024-02-25T14:12:51.625Z"
   },
   {
    "duration": 6,
    "start_time": "2024-02-25T14:16:03.609Z"
   },
   {
    "duration": 1226,
    "start_time": "2024-02-25T14:34:13.566Z"
   },
   {
    "duration": 7,
    "start_time": "2024-02-25T14:34:33.747Z"
   },
   {
    "duration": 15,
    "start_time": "2024-02-25T14:34:37.899Z"
   },
   {
    "duration": 18,
    "start_time": "2024-02-25T14:34:56.463Z"
   },
   {
    "duration": 16,
    "start_time": "2024-02-25T14:35:12.699Z"
   },
   {
    "duration": 6,
    "start_time": "2024-02-25T14:35:33.182Z"
   },
   {
    "duration": 17,
    "start_time": "2024-02-25T14:35:34.871Z"
   },
   {
    "duration": 1213,
    "start_time": "2024-02-25T14:47:27.466Z"
   },
   {
    "duration": 75,
    "start_time": "2024-02-25T14:47:28.681Z"
   },
   {
    "duration": 153,
    "start_time": "2024-02-25T14:47:28.757Z"
   },
   {
    "duration": 290,
    "start_time": "2024-02-25T14:47:28.912Z"
   },
   {
    "duration": 343,
    "start_time": "2024-02-25T14:47:29.203Z"
   },
   {
    "duration": 3,
    "start_time": "2024-02-25T14:47:29.547Z"
   },
   {
    "duration": 229,
    "start_time": "2024-02-25T14:47:29.551Z"
   },
   {
    "duration": 5,
    "start_time": "2024-02-25T14:47:29.782Z"
   },
   {
    "duration": 6,
    "start_time": "2024-02-25T14:47:29.789Z"
   },
   {
    "duration": 34,
    "start_time": "2024-02-25T14:47:29.796Z"
   },
   {
    "duration": 154,
    "start_time": "2024-02-25T14:47:29.831Z"
   },
   {
    "duration": 3,
    "start_time": "2024-02-25T14:47:29.987Z"
   },
   {
    "duration": 28,
    "start_time": "2024-02-25T14:47:29.992Z"
   },
   {
    "duration": 200,
    "start_time": "2024-02-25T14:47:30.023Z"
   },
   {
    "duration": 6,
    "start_time": "2024-02-25T14:47:30.224Z"
   },
   {
    "duration": 117,
    "start_time": "2024-02-25T14:47:30.231Z"
   },
   {
    "duration": 7,
    "start_time": "2024-02-25T14:47:30.350Z"
   },
   {
    "duration": 302,
    "start_time": "2024-02-25T14:47:30.358Z"
   },
   {
    "duration": 118,
    "start_time": "2024-02-25T14:47:30.667Z"
   },
   {
    "duration": 9,
    "start_time": "2024-02-25T14:47:30.786Z"
   },
   {
    "duration": 279,
    "start_time": "2024-02-25T14:47:30.796Z"
   },
   {
    "duration": 292,
    "start_time": "2024-02-25T14:47:31.077Z"
   },
   {
    "duration": 8,
    "start_time": "2024-02-25T14:47:31.370Z"
   },
   {
    "duration": 224,
    "start_time": "2024-02-25T14:47:31.380Z"
   },
   {
    "duration": 245,
    "start_time": "2024-02-25T14:47:31.605Z"
   },
   {
    "duration": 22,
    "start_time": "2024-02-25T14:47:31.852Z"
   },
   {
    "duration": 30,
    "start_time": "2024-02-25T14:47:31.875Z"
   },
   {
    "duration": 19,
    "start_time": "2024-02-25T14:47:31.906Z"
   },
   {
    "duration": 4,
    "start_time": "2024-02-25T14:47:31.926Z"
   },
   {
    "duration": 19,
    "start_time": "2024-02-25T14:47:31.931Z"
   },
   {
    "duration": 17,
    "start_time": "2024-02-25T14:47:31.951Z"
   },
   {
    "duration": 199,
    "start_time": "2024-02-25T14:47:31.970Z"
   },
   {
    "duration": 382,
    "start_time": "2024-02-25T14:47:32.171Z"
   },
   {
    "duration": 234,
    "start_time": "2024-02-25T14:47:32.555Z"
   },
   {
    "duration": 10,
    "start_time": "2024-02-25T14:47:32.790Z"
   },
   {
    "duration": 272,
    "start_time": "2024-02-25T14:47:32.801Z"
   },
   {
    "duration": 6,
    "start_time": "2024-02-25T14:47:33.075Z"
   },
   {
    "duration": 33,
    "start_time": "2024-02-25T14:47:33.083Z"
   },
   {
    "duration": 180,
    "start_time": "2024-02-25T14:47:33.117Z"
   },
   {
    "duration": 114,
    "start_time": "2024-02-25T14:47:33.298Z"
   },
   {
    "duration": 208,
    "start_time": "2024-02-25T14:47:33.416Z"
   },
   {
    "duration": 113,
    "start_time": "2024-02-25T14:47:33.625Z"
   },
   {
    "duration": 3,
    "start_time": "2024-02-25T14:47:33.740Z"
   },
   {
    "duration": 837,
    "start_time": "2024-02-25T14:47:33.744Z"
   },
   {
    "duration": 3,
    "start_time": "2024-02-25T14:47:34.583Z"
   },
   {
    "duration": 33,
    "start_time": "2024-02-25T14:47:34.587Z"
   },
   {
    "duration": 96,
    "start_time": "2024-02-25T14:47:34.622Z"
   },
   {
    "duration": 15,
    "start_time": "2024-02-25T14:47:34.720Z"
   },
   {
    "duration": 32,
    "start_time": "2024-02-25T14:47:34.737Z"
   },
   {
    "duration": 10,
    "start_time": "2024-02-25T14:47:34.771Z"
   },
   {
    "duration": 21,
    "start_time": "2024-02-25T14:47:34.782Z"
   },
   {
    "duration": 46,
    "start_time": "2024-02-25T14:47:34.805Z"
   },
   {
    "duration": 18,
    "start_time": "2024-02-25T14:47:34.853Z"
   },
   {
    "duration": 36,
    "start_time": "2024-02-25T14:47:34.873Z"
   },
   {
    "duration": 927,
    "start_time": "2024-02-25T14:47:34.911Z"
   },
   {
    "duration": 159,
    "start_time": "2024-02-25T14:47:35.840Z"
   },
   {
    "duration": 5,
    "start_time": "2024-02-25T14:47:36.000Z"
   },
   {
    "duration": 96,
    "start_time": "2024-02-25T14:50:59.150Z"
   },
   {
    "duration": 10,
    "start_time": "2024-02-25T14:51:25.751Z"
   },
   {
    "duration": 11,
    "start_time": "2024-02-25T14:52:12.778Z"
   },
   {
    "duration": 11,
    "start_time": "2024-02-25T14:52:33.147Z"
   },
   {
    "duration": 1197,
    "start_time": "2024-02-25T14:56:31.653Z"
   },
   {
    "duration": 1129,
    "start_time": "2024-02-25T14:56:49.548Z"
   },
   {
    "duration": 10,
    "start_time": "2024-02-25T14:58:31.005Z"
   },
   {
    "duration": 9,
    "start_time": "2024-02-25T14:58:47.727Z"
   },
   {
    "duration": 10,
    "start_time": "2024-02-25T14:59:13.590Z"
   },
   {
    "duration": 15,
    "start_time": "2024-02-25T14:59:41.606Z"
   },
   {
    "duration": 11,
    "start_time": "2024-02-25T14:59:57.100Z"
   },
   {
    "duration": 41,
    "start_time": "2024-02-25T15:08:20.451Z"
   },
   {
    "duration": 7,
    "start_time": "2024-02-25T15:09:09.769Z"
   },
   {
    "duration": 18,
    "start_time": "2024-02-25T15:09:13.795Z"
   },
   {
    "duration": 15,
    "start_time": "2024-02-25T15:09:35.078Z"
   },
   {
    "duration": 9,
    "start_time": "2024-02-25T15:09:39.529Z"
   },
   {
    "duration": 21,
    "start_time": "2024-02-25T15:11:26.667Z"
   },
   {
    "duration": 15,
    "start_time": "2024-02-25T15:12:10.244Z"
   },
   {
    "duration": 16,
    "start_time": "2024-02-25T15:12:12.547Z"
   },
   {
    "duration": 3,
    "start_time": "2024-02-25T15:12:18.485Z"
   },
   {
    "duration": 3,
    "start_time": "2024-02-25T15:12:19.754Z"
   },
   {
    "duration": 21,
    "start_time": "2024-02-25T15:12:21.391Z"
   },
   {
    "duration": 20,
    "start_time": "2024-02-25T15:12:32.531Z"
   },
   {
    "duration": 40,
    "start_time": "2024-02-25T15:13:10.270Z"
   },
   {
    "duration": 7,
    "start_time": "2024-02-25T15:13:11.505Z"
   },
   {
    "duration": 15,
    "start_time": "2024-02-25T15:13:13.217Z"
   },
   {
    "duration": 25,
    "start_time": "2024-02-25T17:09:34.009Z"
   },
   {
    "duration": 14,
    "start_time": "2024-02-25T17:09:39.701Z"
   },
   {
    "duration": 1147,
    "start_time": "2024-02-25T17:09:43.506Z"
   },
   {
    "duration": 57,
    "start_time": "2024-02-25T17:10:42.555Z"
   },
   {
    "duration": 1169,
    "start_time": "2024-02-25T17:10:45.408Z"
   },
   {
    "duration": 1439,
    "start_time": "2024-02-25T17:10:52.591Z"
   },
   {
    "duration": 79,
    "start_time": "2024-02-25T17:10:54.032Z"
   },
   {
    "duration": 135,
    "start_time": "2024-02-25T17:10:54.113Z"
   },
   {
    "duration": 352,
    "start_time": "2024-02-25T17:10:54.249Z"
   },
   {
    "duration": 432,
    "start_time": "2024-02-25T17:10:54.604Z"
   },
   {
    "duration": 3,
    "start_time": "2024-02-25T17:10:55.037Z"
   },
   {
    "duration": 291,
    "start_time": "2024-02-25T17:10:55.042Z"
   },
   {
    "duration": 6,
    "start_time": "2024-02-25T17:10:55.334Z"
   },
   {
    "duration": 8,
    "start_time": "2024-02-25T17:10:55.342Z"
   },
   {
    "duration": 18,
    "start_time": "2024-02-25T17:10:55.352Z"
   },
   {
    "duration": 200,
    "start_time": "2024-02-25T17:10:55.372Z"
   },
   {
    "duration": 6,
    "start_time": "2024-02-25T17:10:55.574Z"
   },
   {
    "duration": 15,
    "start_time": "2024-02-25T17:10:55.582Z"
   },
   {
    "duration": 184,
    "start_time": "2024-02-25T17:10:55.600Z"
   },
   {
    "duration": 7,
    "start_time": "2024-02-25T17:10:55.787Z"
   },
   {
    "duration": 117,
    "start_time": "2024-02-25T17:10:55.796Z"
   },
   {
    "duration": 10,
    "start_time": "2024-02-25T17:10:55.915Z"
   },
   {
    "duration": 335,
    "start_time": "2024-02-25T17:10:55.927Z"
   },
   {
    "duration": 145,
    "start_time": "2024-02-25T17:10:56.264Z"
   },
   {
    "duration": 8,
    "start_time": "2024-02-25T17:10:56.410Z"
   },
   {
    "duration": 288,
    "start_time": "2024-02-25T17:10:56.420Z"
   },
   {
    "duration": 293,
    "start_time": "2024-02-25T17:10:56.710Z"
   },
   {
    "duration": 10,
    "start_time": "2024-02-25T17:10:57.006Z"
   },
   {
    "duration": 235,
    "start_time": "2024-02-25T17:10:57.017Z"
   },
   {
    "duration": 326,
    "start_time": "2024-02-25T17:10:57.254Z"
   },
   {
    "duration": 16,
    "start_time": "2024-02-25T17:10:57.582Z"
   },
   {
    "duration": 14,
    "start_time": "2024-02-25T17:10:57.600Z"
   },
   {
    "duration": 23,
    "start_time": "2024-02-25T17:10:57.616Z"
   },
   {
    "duration": 4,
    "start_time": "2024-02-25T17:10:57.641Z"
   },
   {
    "duration": 37,
    "start_time": "2024-02-25T17:10:57.646Z"
   },
   {
    "duration": 25,
    "start_time": "2024-02-25T17:10:57.685Z"
   },
   {
    "duration": 282,
    "start_time": "2024-02-25T17:10:57.712Z"
   },
   {
    "duration": 390,
    "start_time": "2024-02-25T17:10:57.996Z"
   },
   {
    "duration": 237,
    "start_time": "2024-02-25T17:10:58.388Z"
   },
   {
    "duration": 11,
    "start_time": "2024-02-25T17:10:58.627Z"
   },
   {
    "duration": 368,
    "start_time": "2024-02-25T17:10:58.639Z"
   },
   {
    "duration": 7,
    "start_time": "2024-02-25T17:10:59.010Z"
   },
   {
    "duration": 29,
    "start_time": "2024-02-25T17:10:59.018Z"
   },
   {
    "duration": 257,
    "start_time": "2024-02-25T17:10:59.049Z"
   },
   {
    "duration": 143,
    "start_time": "2024-02-25T17:10:59.308Z"
   },
   {
    "duration": 262,
    "start_time": "2024-02-25T17:10:59.457Z"
   },
   {
    "duration": 127,
    "start_time": "2024-02-25T17:10:59.720Z"
   },
   {
    "duration": 4,
    "start_time": "2024-02-25T17:10:59.849Z"
   },
   {
    "duration": 1059,
    "start_time": "2024-02-25T17:10:59.854Z"
   },
   {
    "duration": 3,
    "start_time": "2024-02-25T17:11:00.916Z"
   },
   {
    "duration": 39,
    "start_time": "2024-02-25T17:11:00.921Z"
   },
   {
    "duration": 74,
    "start_time": "2024-02-25T17:11:00.962Z"
   },
   {
    "duration": 56,
    "start_time": "2024-02-25T17:11:01.037Z"
   },
   {
    "duration": 82,
    "start_time": "2024-02-25T17:11:01.095Z"
   },
   {
    "duration": 1279,
    "start_time": "2024-02-25T17:11:01.180Z"
   },
   {
    "duration": 0,
    "start_time": "2024-02-25T17:11:02.461Z"
   },
   {
    "duration": 0,
    "start_time": "2024-02-25T17:11:02.462Z"
   },
   {
    "duration": 0,
    "start_time": "2024-02-25T17:11:02.463Z"
   },
   {
    "duration": 0,
    "start_time": "2024-02-25T17:11:02.464Z"
   },
   {
    "duration": 0,
    "start_time": "2024-02-25T17:11:02.466Z"
   },
   {
    "duration": 0,
    "start_time": "2024-02-25T17:11:02.467Z"
   },
   {
    "duration": 0,
    "start_time": "2024-02-25T17:11:02.469Z"
   },
   {
    "duration": 0,
    "start_time": "2024-02-25T17:11:02.473Z"
   },
   {
    "duration": 0,
    "start_time": "2024-02-25T17:11:02.476Z"
   },
   {
    "duration": 0,
    "start_time": "2024-02-25T17:11:02.479Z"
   },
   {
    "duration": 6,
    "start_time": "2024-02-25T17:11:14.721Z"
   },
   {
    "duration": 16,
    "start_time": "2024-02-25T17:11:16.435Z"
   },
   {
    "duration": 1328,
    "start_time": "2024-02-25T17:11:22.792Z"
   },
   {
    "duration": 75,
    "start_time": "2024-02-25T17:11:24.121Z"
   },
   {
    "duration": 170,
    "start_time": "2024-02-25T17:11:24.198Z"
   },
   {
    "duration": 339,
    "start_time": "2024-02-25T17:11:24.371Z"
   },
   {
    "duration": 362,
    "start_time": "2024-02-25T17:11:24.714Z"
   },
   {
    "duration": 3,
    "start_time": "2024-02-25T17:11:25.078Z"
   },
   {
    "duration": 246,
    "start_time": "2024-02-25T17:11:25.083Z"
   },
   {
    "duration": 7,
    "start_time": "2024-02-25T17:11:25.331Z"
   },
   {
    "duration": 26,
    "start_time": "2024-02-25T17:11:25.340Z"
   },
   {
    "duration": 27,
    "start_time": "2024-02-25T17:11:25.369Z"
   },
   {
    "duration": 170,
    "start_time": "2024-02-25T17:11:25.398Z"
   },
   {
    "duration": 5,
    "start_time": "2024-02-25T17:11:25.570Z"
   },
   {
    "duration": 34,
    "start_time": "2024-02-25T17:11:25.577Z"
   },
   {
    "duration": 169,
    "start_time": "2024-02-25T17:11:25.613Z"
   },
   {
    "duration": 8,
    "start_time": "2024-02-25T17:11:25.784Z"
   },
   {
    "duration": 116,
    "start_time": "2024-02-25T17:11:25.793Z"
   },
   {
    "duration": 8,
    "start_time": "2024-02-25T17:11:25.911Z"
   },
   {
    "duration": 328,
    "start_time": "2024-02-25T17:11:25.921Z"
   },
   {
    "duration": 136,
    "start_time": "2024-02-25T17:11:26.251Z"
   },
   {
    "duration": 11,
    "start_time": "2024-02-25T17:11:26.389Z"
   },
   {
    "duration": 275,
    "start_time": "2024-02-25T17:11:26.402Z"
   },
   {
    "duration": 342,
    "start_time": "2024-02-25T17:11:26.679Z"
   },
   {
    "duration": 8,
    "start_time": "2024-02-25T17:11:27.023Z"
   },
   {
    "duration": 236,
    "start_time": "2024-02-25T17:11:27.033Z"
   },
   {
    "duration": 315,
    "start_time": "2024-02-25T17:11:27.272Z"
   },
   {
    "duration": 17,
    "start_time": "2024-02-25T17:11:27.589Z"
   },
   {
    "duration": 45,
    "start_time": "2024-02-25T17:11:27.608Z"
   },
   {
    "duration": 39,
    "start_time": "2024-02-25T17:11:27.656Z"
   },
   {
    "duration": 8,
    "start_time": "2024-02-25T17:11:27.696Z"
   },
   {
    "duration": 14,
    "start_time": "2024-02-25T17:11:27.707Z"
   },
   {
    "duration": 44,
    "start_time": "2024-02-25T17:11:27.723Z"
   },
   {
    "duration": 250,
    "start_time": "2024-02-25T17:11:27.770Z"
   },
   {
    "duration": 407,
    "start_time": "2024-02-25T17:11:28.022Z"
   },
   {
    "duration": 237,
    "start_time": "2024-02-25T17:11:28.431Z"
   },
   {
    "duration": 14,
    "start_time": "2024-02-25T17:11:28.670Z"
   },
   {
    "duration": 309,
    "start_time": "2024-02-25T17:11:28.686Z"
   },
   {
    "duration": 8,
    "start_time": "2024-02-25T17:11:28.997Z"
   },
   {
    "duration": 33,
    "start_time": "2024-02-25T17:11:29.008Z"
   },
   {
    "duration": 268,
    "start_time": "2024-02-25T17:11:29.043Z"
   },
   {
    "duration": 135,
    "start_time": "2024-02-25T17:11:29.314Z"
   },
   {
    "duration": 273,
    "start_time": "2024-02-25T17:11:29.452Z"
   },
   {
    "duration": 129,
    "start_time": "2024-02-25T17:11:29.727Z"
   },
   {
    "duration": 11,
    "start_time": "2024-02-25T17:11:29.857Z"
   },
   {
    "duration": 906,
    "start_time": "2024-02-25T17:11:29.870Z"
   },
   {
    "duration": 4,
    "start_time": "2024-02-25T17:11:30.779Z"
   },
   {
    "duration": 75,
    "start_time": "2024-02-25T17:11:30.785Z"
   },
   {
    "duration": 48,
    "start_time": "2024-02-25T17:11:30.863Z"
   },
   {
    "duration": 40,
    "start_time": "2024-02-25T17:11:30.913Z"
   },
   {
    "duration": 68,
    "start_time": "2024-02-25T17:11:30.955Z"
   },
   {
    "duration": 50,
    "start_time": "2024-02-25T17:11:31.025Z"
   },
   {
    "duration": 51,
    "start_time": "2024-02-25T17:11:31.077Z"
   },
   {
    "duration": 23,
    "start_time": "2024-02-25T17:11:31.130Z"
   },
   {
    "duration": 31,
    "start_time": "2024-02-25T17:11:31.154Z"
   },
   {
    "duration": 24,
    "start_time": "2024-02-25T17:11:31.187Z"
   },
   {
    "duration": 23,
    "start_time": "2024-02-25T17:11:31.213Z"
   },
   {
    "duration": 61,
    "start_time": "2024-02-25T17:11:31.238Z"
   },
   {
    "duration": 18,
    "start_time": "2024-02-25T17:11:31.301Z"
   },
   {
    "duration": 1056,
    "start_time": "2024-02-25T17:11:31.321Z"
   },
   {
    "duration": 184,
    "start_time": "2024-02-25T17:11:32.379Z"
   },
   {
    "duration": 6,
    "start_time": "2024-02-25T17:11:32.565Z"
   },
   {
    "duration": 1239,
    "start_time": "2024-02-26T07:32:22.203Z"
   },
   {
    "duration": 64,
    "start_time": "2024-02-26T07:32:23.444Z"
   },
   {
    "duration": 156,
    "start_time": "2024-02-26T07:32:23.510Z"
   },
   {
    "duration": 273,
    "start_time": "2024-02-26T07:32:23.668Z"
   },
   {
    "duration": 316,
    "start_time": "2024-02-26T07:32:23.942Z"
   },
   {
    "duration": 6,
    "start_time": "2024-02-26T07:32:24.259Z"
   },
   {
    "duration": 221,
    "start_time": "2024-02-26T07:32:24.267Z"
   },
   {
    "duration": 5,
    "start_time": "2024-02-26T07:32:24.489Z"
   },
   {
    "duration": 4,
    "start_time": "2024-02-26T07:32:24.496Z"
   },
   {
    "duration": 5,
    "start_time": "2024-02-26T07:32:24.503Z"
   },
   {
    "duration": 176,
    "start_time": "2024-02-26T07:32:24.509Z"
   },
   {
    "duration": 3,
    "start_time": "2024-02-26T07:32:24.687Z"
   },
   {
    "duration": 5,
    "start_time": "2024-02-26T07:32:24.692Z"
   },
   {
    "duration": 161,
    "start_time": "2024-02-26T07:32:24.699Z"
   },
   {
    "duration": 6,
    "start_time": "2024-02-26T07:32:24.861Z"
   },
   {
    "duration": 77,
    "start_time": "2024-02-26T07:32:24.869Z"
   },
   {
    "duration": 21,
    "start_time": "2024-02-26T07:32:24.948Z"
   },
   {
    "duration": 234,
    "start_time": "2024-02-26T07:32:24.971Z"
   },
   {
    "duration": 108,
    "start_time": "2024-02-26T07:32:25.207Z"
   },
   {
    "duration": 8,
    "start_time": "2024-02-26T07:32:25.316Z"
   },
   {
    "duration": 187,
    "start_time": "2024-02-26T07:32:25.326Z"
   },
   {
    "duration": 267,
    "start_time": "2024-02-26T07:32:25.514Z"
   },
   {
    "duration": 9,
    "start_time": "2024-02-26T07:32:25.783Z"
   },
   {
    "duration": 211,
    "start_time": "2024-02-26T07:32:25.794Z"
   },
   {
    "duration": 261,
    "start_time": "2024-02-26T07:32:26.007Z"
   },
   {
    "duration": 12,
    "start_time": "2024-02-26T07:32:26.269Z"
   },
   {
    "duration": 10,
    "start_time": "2024-02-26T07:32:26.282Z"
   },
   {
    "duration": 19,
    "start_time": "2024-02-26T07:32:26.295Z"
   },
   {
    "duration": 3,
    "start_time": "2024-02-26T07:32:26.316Z"
   },
   {
    "duration": 19,
    "start_time": "2024-02-26T07:32:26.320Z"
   },
   {
    "duration": 41,
    "start_time": "2024-02-26T07:32:26.340Z"
   },
   {
    "duration": 215,
    "start_time": "2024-02-26T07:32:26.383Z"
   },
   {
    "duration": 343,
    "start_time": "2024-02-26T07:32:26.599Z"
   },
   {
    "duration": 195,
    "start_time": "2024-02-26T07:32:26.943Z"
   },
   {
    "duration": 9,
    "start_time": "2024-02-26T07:32:27.140Z"
   },
   {
    "duration": 317,
    "start_time": "2024-02-26T07:32:27.151Z"
   },
   {
    "duration": 6,
    "start_time": "2024-02-26T07:32:27.469Z"
   },
   {
    "duration": 17,
    "start_time": "2024-02-26T07:32:27.477Z"
   },
   {
    "duration": 211,
    "start_time": "2024-02-26T07:32:27.495Z"
   },
   {
    "duration": 107,
    "start_time": "2024-02-26T07:32:27.708Z"
   },
   {
    "duration": 187,
    "start_time": "2024-02-26T07:32:27.817Z"
   },
   {
    "duration": 102,
    "start_time": "2024-02-26T07:32:28.005Z"
   },
   {
    "duration": 2,
    "start_time": "2024-02-26T07:32:28.109Z"
   },
   {
    "duration": 914,
    "start_time": "2024-02-26T07:32:28.113Z"
   },
   {
    "duration": 2,
    "start_time": "2024-02-26T07:32:29.029Z"
   },
   {
    "duration": 6,
    "start_time": "2024-02-26T07:32:29.033Z"
   },
   {
    "duration": 10,
    "start_time": "2024-02-26T07:32:29.040Z"
   },
   {
    "duration": 4,
    "start_time": "2024-02-26T07:32:29.051Z"
   },
   {
    "duration": 36,
    "start_time": "2024-02-26T07:32:29.056Z"
   },
   {
    "duration": 4,
    "start_time": "2024-02-26T07:32:29.094Z"
   },
   {
    "duration": 19,
    "start_time": "2024-02-26T07:32:29.099Z"
   },
   {
    "duration": 8,
    "start_time": "2024-02-26T07:32:29.120Z"
   },
   {
    "duration": 8,
    "start_time": "2024-02-26T07:32:29.129Z"
   },
   {
    "duration": 27,
    "start_time": "2024-02-26T07:32:29.138Z"
   },
   {
    "duration": 4,
    "start_time": "2024-02-26T07:32:29.166Z"
   },
   {
    "duration": 9,
    "start_time": "2024-02-26T07:32:29.171Z"
   },
   {
    "duration": 8,
    "start_time": "2024-02-26T07:32:29.181Z"
   },
   {
    "duration": 900,
    "start_time": "2024-02-26T07:32:29.190Z"
   },
   {
    "duration": 139,
    "start_time": "2024-02-26T07:32:30.091Z"
   },
   {
    "duration": 5,
    "start_time": "2024-02-26T07:32:30.232Z"
   },
   {
    "duration": 69,
    "start_time": "2024-02-27T20:18:19.080Z"
   },
   {
    "duration": 1387,
    "start_time": "2024-02-27T20:18:46.762Z"
   },
   {
    "duration": 86,
    "start_time": "2024-02-27T20:18:48.151Z"
   },
   {
    "duration": 194,
    "start_time": "2024-02-27T20:18:48.239Z"
   },
   {
    "duration": 132,
    "start_time": "2024-02-27T20:18:48.435Z"
   },
   {
    "duration": 293,
    "start_time": "2024-02-27T20:18:48.569Z"
   },
   {
    "duration": 365,
    "start_time": "2024-02-27T20:18:48.863Z"
   },
   {
    "duration": 3,
    "start_time": "2024-02-27T20:18:49.229Z"
   },
   {
    "duration": 236,
    "start_time": "2024-02-27T20:18:49.233Z"
   },
   {
    "duration": 6,
    "start_time": "2024-02-27T20:18:49.470Z"
   },
   {
    "duration": 8,
    "start_time": "2024-02-27T20:18:49.478Z"
   },
   {
    "duration": 15,
    "start_time": "2024-02-27T20:18:49.488Z"
   },
   {
    "duration": 157,
    "start_time": "2024-02-27T20:18:49.505Z"
   },
   {
    "duration": 3,
    "start_time": "2024-02-27T20:18:49.664Z"
   },
   {
    "duration": 6,
    "start_time": "2024-02-27T20:18:49.668Z"
   },
   {
    "duration": 170,
    "start_time": "2024-02-27T20:18:49.675Z"
   },
   {
    "duration": 6,
    "start_time": "2024-02-27T20:18:49.846Z"
   },
   {
    "duration": 92,
    "start_time": "2024-02-27T20:18:49.853Z"
   },
   {
    "duration": 8,
    "start_time": "2024-02-27T20:18:49.946Z"
   },
   {
    "duration": 261,
    "start_time": "2024-02-27T20:18:49.955Z"
   },
   {
    "duration": 114,
    "start_time": "2024-02-27T20:18:50.218Z"
   },
   {
    "duration": 8,
    "start_time": "2024-02-27T20:18:50.333Z"
   },
   {
    "duration": 207,
    "start_time": "2024-02-27T20:18:50.343Z"
   },
   {
    "duration": 295,
    "start_time": "2024-02-27T20:18:50.552Z"
   },
   {
    "duration": 8,
    "start_time": "2024-02-27T20:18:50.849Z"
   },
   {
    "duration": 214,
    "start_time": "2024-02-27T20:18:50.859Z"
   },
   {
    "duration": 254,
    "start_time": "2024-02-27T20:18:51.074Z"
   },
   {
    "duration": 11,
    "start_time": "2024-02-27T20:18:51.330Z"
   },
   {
    "duration": 13,
    "start_time": "2024-02-27T20:18:51.345Z"
   },
   {
    "duration": 24,
    "start_time": "2024-02-27T20:18:51.359Z"
   },
   {
    "duration": 4,
    "start_time": "2024-02-27T20:18:51.385Z"
   },
   {
    "duration": 11,
    "start_time": "2024-02-27T20:18:51.415Z"
   },
   {
    "duration": 18,
    "start_time": "2024-02-27T20:18:51.428Z"
   },
   {
    "duration": 223,
    "start_time": "2024-02-27T20:18:51.447Z"
   },
   {
    "duration": 349,
    "start_time": "2024-02-27T20:18:51.671Z"
   },
   {
    "duration": 207,
    "start_time": "2024-02-27T20:18:52.022Z"
   },
   {
    "duration": 10,
    "start_time": "2024-02-27T20:18:52.230Z"
   },
   {
    "duration": 349,
    "start_time": "2024-02-27T20:18:52.242Z"
   },
   {
    "duration": 6,
    "start_time": "2024-02-27T20:18:52.593Z"
   },
   {
    "duration": 27,
    "start_time": "2024-02-27T20:18:52.601Z"
   },
   {
    "duration": 198,
    "start_time": "2024-02-27T20:18:52.630Z"
   },
   {
    "duration": 124,
    "start_time": "2024-02-27T20:18:52.829Z"
   },
   {
    "duration": 211,
    "start_time": "2024-02-27T20:18:52.955Z"
   },
   {
    "duration": 138,
    "start_time": "2024-02-27T20:18:53.168Z"
   },
   {
    "duration": 8,
    "start_time": "2024-02-27T20:18:53.308Z"
   },
   {
    "duration": 806,
    "start_time": "2024-02-27T20:18:53.317Z"
   },
   {
    "duration": 2,
    "start_time": "2024-02-27T20:18:54.125Z"
   },
   {
    "duration": 4,
    "start_time": "2024-02-27T20:18:54.129Z"
   },
   {
    "duration": 4,
    "start_time": "2024-02-27T20:18:54.134Z"
   },
   {
    "duration": 3,
    "start_time": "2024-02-27T20:18:54.140Z"
   },
   {
    "duration": 42,
    "start_time": "2024-02-27T20:18:54.145Z"
   },
   {
    "duration": 26,
    "start_time": "2024-02-27T20:18:54.189Z"
   },
   {
    "duration": 18,
    "start_time": "2024-02-27T20:18:54.217Z"
   },
   {
    "duration": 13,
    "start_time": "2024-02-27T20:18:54.237Z"
   },
   {
    "duration": 27,
    "start_time": "2024-02-27T20:18:54.251Z"
   },
   {
    "duration": 6,
    "start_time": "2024-02-27T20:18:54.280Z"
   },
   {
    "duration": 8,
    "start_time": "2024-02-27T20:18:54.288Z"
   },
   {
    "duration": 5,
    "start_time": "2024-02-27T20:18:54.318Z"
   },
   {
    "duration": 11,
    "start_time": "2024-02-27T20:18:54.325Z"
   },
   {
    "duration": 993,
    "start_time": "2024-02-27T20:18:54.338Z"
   },
   {
    "duration": 161,
    "start_time": "2024-02-27T20:18:55.333Z"
   },
   {
    "duration": 5,
    "start_time": "2024-02-27T20:18:55.495Z"
   }
  ],
  "kernelspec": {
   "display_name": "Python 3 (ipykernel)",
   "language": "python",
   "name": "python3"
  },
  "language_info": {
   "codemirror_mode": {
    "name": "ipython",
    "version": 3
   },
   "file_extension": ".py",
   "mimetype": "text/x-python",
   "name": "python",
   "nbconvert_exporter": "python",
   "pygments_lexer": "ipython3",
   "version": "3.10.13"
  },
  "toc": {
   "base_numbering": 1,
   "nav_menu": {},
   "number_sections": true,
   "sideBar": true,
   "skip_h1_title": true,
   "title_cell": "Table of Contents",
   "title_sidebar": "Contents",
   "toc_cell": false,
   "toc_position": {},
   "toc_section_display": true,
   "toc_window_display": false
  }
 },
 "nbformat": 4,
 "nbformat_minor": 5
}
