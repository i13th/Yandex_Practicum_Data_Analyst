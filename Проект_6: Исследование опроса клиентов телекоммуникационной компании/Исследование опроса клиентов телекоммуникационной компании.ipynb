{
 "cells": [
  {
   "cell_type": "markdown",
   "id": "3fd7dccd",
   "metadata": {},
   "source": [
    "## Исследование опроса клиентов телекоммуникационной компании."
   ]
  },
  {
   "cell_type": "markdown",
   "id": "1111c643",
   "metadata": {},
   "source": [
    "## Описание проекта"
   ]
  },
  {
   "cell_type": "markdown",
   "id": "24c95e4a",
   "metadata": {},
   "source": [
    "Заказчик этого исследования — большая телекоммуникационная компания, которая оказывает услуги на территории всего СНГ. Перед компанией стоит задача определить текущий уровень потребительской лояльности, или NPS (от англ. Net Promoter Score), среди клиентов из России. \n",
    "Чтобы определить уровень лояльности, клиентам задавали классический вопрос: «Оцените по шкале от 1 до 10 вероятность того, что вы порекомендуете компанию друзьям и знакомым».\n",
    "Компания провела опрос и попросила вас подготовить дашборд с его итогами. Большую базу данных для такой задачи разворачивать не стали и выгрузили данные в SQLite.\n",
    "\n",
    "Чтобы оценить результаты опроса, оценки обычно делят на три группы:\n",
    "*  9-10 баллов — «cторонники» (англ. promoters);\n",
    "*  7-8 баллов — «нейтралы» (англ. passives);\n",
    "*  0-6 баллов — «критики» (англ. detractors).\n",
    "\n",
    "Итоговое значение NPS рассчитывается по формуле: % «сторонников» - % «критиков».\n",
    "Таким образом, значение этого показателя варьируется от -100% (когда все клиенты «критики») до 100% (когда все клиенты лояльны к сервису). Но это крайние случаи, которые редко встретишь на практике. \n",
    "Интерпретируя результаты NPS-опросов, следует также помнить, что само значение мало о чём говорит. Однако исследования показывают, что клиенты-сторонники полезны любому бизнесу. Они чаще других повторно совершают покупки, активнее тестируют обновления и приводят в сервис своих друзей и знакомых. Поэтому NPS остаётся одной из важнейших метрик бизнеса.\n"
   ]
  },
  {
   "cell_type": "markdown",
   "id": "0f349d6d",
   "metadata": {},
   "source": [
    "## Основная задача"
   ]
  },
  {
   "cell_type": "markdown",
   "id": "f11ab20a",
   "metadata": {},
   "source": [
    "Опубликуйте дашборд на сайте Tableau Public.\n",
    "\n",
    "Используя дашборд, ответьте на вопросы:\n",
    "*  Как распределены участники опроса по возрасту и полу? Каких пользователей больше: новых или старых? Пользователи из каких городов активнее участвовали в опросе?\n",
    "*  Какие группы пользователей наиболее лояльны к сервису? Какие менее?\n",
    "*  Какой общий NPS среди всех опрошенных?\n",
    "*  Как можно описать клиентов, которые относятся к группе cторонников (англ. promoters)?\n",
    "\n",
    "Ответы на вопросы оформите в виде презентации.\n"
   ]
  },
  {
   "cell_type": "markdown",
   "id": "9cb56607",
   "metadata": {},
   "source": [
    "## Используемые инструменты"
   ]
  },
  {
   "cell_type": "markdown",
   "id": "75a28b26",
   "metadata": {},
   "source": [
    "* Pandas\n",
    "* Python\n",
    "* SQLite\n",
    "* Tableau"
   ]
  },
  {
   "cell_type": "markdown",
   "id": "e1dec9bf",
   "metadata": {},
   "source": [
    "## Подключаемся к базе данных и сохраняем данные в датафрейм в pandas."
   ]
  },
  {
   "cell_type": "markdown",
   "id": "fe2f86d7",
   "metadata": {},
   "source": [
    "Загружаем библиотеки."
   ]
  },
  {
   "cell_type": "code",
   "execution_count": 1,
   "id": "fc7efa54",
   "metadata": {},
   "outputs": [],
   "source": [
    "import os\n",
    "import pandas as pd\n",
    "import numpy as np\n",
    "\n",
    "from sqlalchemy import create_engine"
   ]
  },
  {
   "cell_type": "code",
   "execution_count": 2,
   "id": "0017f8e7",
   "metadata": {},
   "outputs": [],
   "source": [
    "#Путь к БД на компьютере.\n",
    "path_to_db_local = 'telecomm_csi.db'\n",
    "#Путь к БД на платформе.\n",
    "path_to_db_platform = '/datasets/telecomm_csi.db'\n",
    "#Итоговый путь к БД.\n",
    "path_to_db = None\n",
    "\n",
    "#Если путь на компьютере ведет к БД, то он становится итоговым.\n",
    "if os.path.exists(path_to_db_local):\n",
    "    path_to_db = path_to_db_local\n",
    "#Иначе: если путь на платформе ведет к БД, то он становится итоговым.\n",
    "elif os.path.exists(path_to_db_platform):\n",
    "    path_to_db = path_to_db_platform\n",
    "#Иначе выводится сообщение о том, что файл не найден.\n",
    "else:\n",
    "    raise Exception('Файл с базой данных SQLite не найден!')\n",
    "#Если итоговый путь не пустой,\n",
    "if path_to_db:\n",
    "    #то создаем подключение к базе.\n",
    "    engine = create_engine(f'sqlite:///{path_to_db}', echo=False)"
   ]
  },
  {
   "cell_type": "code",
   "execution_count": 3,
   "id": "84ebad43",
   "metadata": {},
   "outputs": [],
   "source": [
    "#Делаем запрос.\n",
    "query = \"\"\"\n",
    "SELECT u.user_id,\n",
    "       u.lt_day,\n",
    "       CASE \n",
    "           WHEN u.lt_day <= 365 THEN 'Новый'\n",
    "           ELSE 'Старый'\n",
    "           END AS is_new,\n",
    "       u.age,\n",
    "       CASE \n",
    "           WHEN u.gender_segment == 1 THEN 'Женщина'\n",
    "           WHEN u.gender_segment == 0 THEN 'Мужчина'\n",
    "           ELSE 'z'\n",
    "           END AS gender_segment,\n",
    "       u.os_name,\n",
    "       u.cpe_type_name,\n",
    "       location.country,\n",
    "       location.city,\n",
    "       SUBSTR(age_segment.title, 4) AS age_segment,\n",
    "       SUBSTR(traffic_segment.title, 4) AS traffic_segment,\n",
    "       SUBSTR(lifetime_segment.title, 4) AS lifetime_segment,\n",
    "       u.nps_score,\n",
    "       CASE \n",
    "           WHEN u.nps_score >= 9 THEN 'Cторонник'\n",
    "           WHEN u.nps_score >= 7 THEN 'Нейтрал'\n",
    "           ELSE 'Критик'\n",
    "           END AS nps_group\n",
    "FROM user AS u\n",
    "JOIN location ON u.location_id = location.location_id\n",
    "JOIN age_segment ON u.age_gr_id = age_segment.age_gr_id\n",
    "JOIN traffic_segment ON u.tr_gr_id = traffic_segment.tr_gr_id\n",
    "JOIN lifetime_segment ON u.lt_gr_id = lifetime_segment.lt_gr_id;\n",
    "\"\"\""
   ]
  },
  {
   "cell_type": "code",
   "execution_count": 4,
   "id": "3965faf2",
   "metadata": {},
   "outputs": [
    {
     "data": {
      "text/html": [
       "<div>\n",
       "<style scoped>\n",
       "    .dataframe tbody tr th:only-of-type {\n",
       "        vertical-align: middle;\n",
       "    }\n",
       "\n",
       "    .dataframe tbody tr th {\n",
       "        vertical-align: top;\n",
       "    }\n",
       "\n",
       "    .dataframe thead th {\n",
       "        text-align: right;\n",
       "    }\n",
       "</style>\n",
       "<table border=\"1\" class=\"dataframe\">\n",
       "  <thead>\n",
       "    <tr style=\"text-align: right;\">\n",
       "      <th></th>\n",
       "      <th>user_id</th>\n",
       "      <th>lt_day</th>\n",
       "      <th>is_new</th>\n",
       "      <th>age</th>\n",
       "      <th>gender_segment</th>\n",
       "      <th>os_name</th>\n",
       "      <th>cpe_type_name</th>\n",
       "      <th>country</th>\n",
       "      <th>city</th>\n",
       "      <th>age_segment</th>\n",
       "      <th>traffic_segment</th>\n",
       "      <th>lifetime_segment</th>\n",
       "      <th>nps_score</th>\n",
       "      <th>nps_group</th>\n",
       "    </tr>\n",
       "  </thead>\n",
       "  <tbody>\n",
       "    <tr>\n",
       "      <th>0</th>\n",
       "      <td>A001A2</td>\n",
       "      <td>2320</td>\n",
       "      <td>Старый</td>\n",
       "      <td>45.0</td>\n",
       "      <td>Женщина</td>\n",
       "      <td>ANDROID</td>\n",
       "      <td>SMARTPHONE</td>\n",
       "      <td>Россия</td>\n",
       "      <td>Уфа</td>\n",
       "      <td>45-54</td>\n",
       "      <td>1-5</td>\n",
       "      <td>36+</td>\n",
       "      <td>10</td>\n",
       "      <td>Cторонник</td>\n",
       "    </tr>\n",
       "    <tr>\n",
       "      <th>1</th>\n",
       "      <td>A001WF</td>\n",
       "      <td>2344</td>\n",
       "      <td>Старый</td>\n",
       "      <td>53.0</td>\n",
       "      <td>Мужчина</td>\n",
       "      <td>ANDROID</td>\n",
       "      <td>SMARTPHONE</td>\n",
       "      <td>Россия</td>\n",
       "      <td>Киров</td>\n",
       "      <td>45-54</td>\n",
       "      <td>1-5</td>\n",
       "      <td>36+</td>\n",
       "      <td>10</td>\n",
       "      <td>Cторонник</td>\n",
       "    </tr>\n",
       "    <tr>\n",
       "      <th>2</th>\n",
       "      <td>A003Q7</td>\n",
       "      <td>467</td>\n",
       "      <td>Старый</td>\n",
       "      <td>57.0</td>\n",
       "      <td>Мужчина</td>\n",
       "      <td>ANDROID</td>\n",
       "      <td>SMARTPHONE</td>\n",
       "      <td>Россия</td>\n",
       "      <td>Москва</td>\n",
       "      <td>55-64</td>\n",
       "      <td>20-25</td>\n",
       "      <td>13-24</td>\n",
       "      <td>10</td>\n",
       "      <td>Cторонник</td>\n",
       "    </tr>\n",
       "  </tbody>\n",
       "</table>\n",
       "</div>"
      ],
      "text/plain": [
       "  user_id  lt_day  is_new   age gender_segment  os_name cpe_type_name country  \\\n",
       "0  A001A2    2320  Старый  45.0        Женщина  ANDROID    SMARTPHONE  Россия   \n",
       "1  A001WF    2344  Старый  53.0        Мужчина  ANDROID    SMARTPHONE  Россия   \n",
       "2  A003Q7     467  Старый  57.0        Мужчина  ANDROID    SMARTPHONE  Россия   \n",
       "\n",
       "     city age_segment traffic_segment lifetime_segment  nps_score  nps_group  \n",
       "0     Уфа       45-54             1-5              36+         10  Cторонник  \n",
       "1   Киров       45-54             1-5              36+         10  Cторонник  \n",
       "2  Москва       55-64           20-25            13-24         10  Cторонник  "
      ]
     },
     "execution_count": 4,
     "metadata": {},
     "output_type": "execute_result"
    }
   ],
   "source": [
    "#Создаем датафрейм по данным запроса.\n",
    "df = pd.read_sql(query, engine)\n",
    "df.head(3)"
   ]
  },
  {
   "cell_type": "markdown",
   "id": "789a0eb5",
   "metadata": {},
   "source": [
    "В таблице 14 столбцов:\n",
    "\n",
    "* user_id — идентификатор клиента\n",
    "* lt_day — количество дней «жизни» клиента\n",
    "* is_new — поле хранит информацию о том, является ли клиент новым\n",
    "* age — возраст\n",
    "* gender_segment — пол\n",
    "* os_name — тип операционной системы\n",
    "* cpe_type_name — тип устройства\n",
    "* country — страна проживания\n",
    "* city — город проживания\n",
    "* age_segment — возрастной сегмент\n",
    "* traffic_segment — сегмент по объёму потребляемого трафика\n",
    "* lifetime_segment — сегмент по количеству дней «жизни»\n",
    "* nps_score — оценка клиента в NPS-опросе\n",
    "* nps_group — поле хранит информацию о том, к какой группе относится оценка клиента в опросе"
   ]
  },
  {
   "cell_type": "code",
   "execution_count": 5,
   "id": "f05de3d5",
   "metadata": {},
   "outputs": [
    {
     "name": "stdout",
     "output_type": "stream",
     "text": [
      "<class 'pandas.core.frame.DataFrame'>\n",
      "RangeIndex: 502493 entries, 0 to 502492\n",
      "Data columns (total 14 columns):\n",
      " #   Column            Non-Null Count   Dtype  \n",
      "---  ------            --------------   -----  \n",
      " 0   user_id           502493 non-null  object \n",
      " 1   lt_day            502493 non-null  int64  \n",
      " 2   is_new            502493 non-null  object \n",
      " 3   age               501939 non-null  float64\n",
      " 4   gender_segment    502493 non-null  object \n",
      " 5   os_name           502493 non-null  object \n",
      " 6   cpe_type_name     502493 non-null  object \n",
      " 7   country           502493 non-null  object \n",
      " 8   city              502493 non-null  object \n",
      " 9   age_segment       502493 non-null  object \n",
      " 10  traffic_segment   502493 non-null  object \n",
      " 11  lifetime_segment  502493 non-null  object \n",
      " 12  nps_score         502493 non-null  int64  \n",
      " 13  nps_group         502493 non-null  object \n",
      "dtypes: float64(1), int64(2), object(11)\n",
      "memory usage: 53.7+ MB\n"
     ]
    }
   ],
   "source": [
    "df.info()"
   ]
  },
  {
   "cell_type": "code",
   "execution_count": 6,
   "id": "9db04858",
   "metadata": {},
   "outputs": [],
   "source": [
    "df.to_csv('telecomm_csi_tableau.csv', index=False)"
   ]
  },
  {
   "cell_type": "markdown",
   "id": "acd18ae9",
   "metadata": {},
   "source": [
    "## Вывод"
   ]
  },
  {
   "cell_type": "markdown",
   "id": "52f2468c",
   "metadata": {},
   "source": [
    "* Больше всего пользователей в возрасте от 35 - 44 лет (33%), далее идет возрастная категория 25-34 года (30,8%). Замыкает рейтинг от 45 - 54 лет (18,8%).\n",
    "* По половому признаку в возрасте от 35 - 44 лет пользователей женщин (17,5%), это чуть больше чем мужчин (15,4%). В категории от 25 - 34 практически равное количество - женщин 15,5%, мужчин 15,2%. А вот в категории 45 - 54 лет  разрыв между мужчинами и женщинами увеличивается - женщин снова больше (10,9%), мужчин (7,8%).\n",
    "* Если смотреть соотношение пользователей между новыми и старыми, то старых пользователей ожидаемо больше - это 82,9%. Новых пользователей всего 17,1%.\n",
    "* Если смотреть на то, из каких городов пользователи активнее участвовали в опросе, то картина следующая:  активнее всего принимали участие пользователи из Москвы (13,2%). Далее идет Санкт-Петербург  (5,9%). За ними Новосибирск - 5,3% и Екатеринбург - 4,6%\n",
    "\n",
    "Всего в опросе поучаствовало 502 493 человека. Общий уровень NPS среди всех опрошенных составил 21,9%. Из графика видно, что опрашиваемые разделились на 3 группы.\n",
    "Сторонники - 264 081 человек (52,6%), Критики -  154 044 человека (30,7%), Нейтралы - 84 368 человек (16,8%).\n",
    "\n",
    "Описание сторонников:\n",
    "* Возрастная группа от 66 и выше, пол: женщина. «Возраст» клиента «новый».\n",
    "\n",
    "Описани критиков:\n",
    "* Возрастная группа до 16 лет, пол: мужчина. «Возраст» клиента «старый».\n",
    "\n",
    "Cамый низкий NPS среди сторонников в  Твери(45%), Рязани(44%), Воронеже(44%) и Тольятти(44%).\n",
    "\n",
    "Среди критиков в Иваново(19%), Саранске(20%), Череповце(21%), Курске(21%), Новокузнецке(22%), Волжском (23%) и Архангельске(24%).\n",
    "\n",
    "\n",
    "Некоторая связь между количеством участников в городах и NPS прослеживается. Например среди сторонников количество участников в этих городах не превышало 2,1%.\n",
    "Среди критиков - 1%."
   ]
  },
  {
   "cell_type": "markdown",
   "id": "1ebb9eca",
   "metadata": {},
   "source": [
    "## Дашборды"
   ]
  },
  {
   "cell_type": "markdown",
   "id": "f6151d1f",
   "metadata": {},
   "source": [
    "https://public.tableau.com/app/profile/roman.ivashov/viz/NPS21/sheet14?publish=yes"
   ]
  },
  {
   "cell_type": "markdown",
   "id": "60a0024c",
   "metadata": {},
   "source": [
    "## Презентация"
   ]
  },
  {
   "cell_type": "markdown",
   "id": "ee9970ee",
   "metadata": {},
   "source": [
    "https://cloud.mail.ru/public/VoeV/BpqCRn5Px"
   ]
  }
 ],
 "metadata": {
  "ExecuteTimeLog": [
   {
    "duration": 549,
    "start_time": "2023-10-23T14:12:56.115Z"
   },
   {
    "duration": 83,
    "start_time": "2023-10-23T14:12:57.198Z"
   },
   {
    "duration": 3,
    "start_time": "2023-10-23T14:12:58.285Z"
   },
   {
    "duration": 508,
    "start_time": "2023-10-23T14:12:59.230Z"
   },
   {
    "duration": 8,
    "start_time": "2023-10-23T14:13:09.078Z"
   },
   {
    "duration": 2,
    "start_time": "2023-10-23T19:43:28.903Z"
   },
   {
    "duration": 3,
    "start_time": "2023-10-23T19:48:35.228Z"
   },
   {
    "duration": 5321,
    "start_time": "2023-10-23T19:48:39.612Z"
   },
   {
    "duration": 4495,
    "start_time": "2023-10-23T19:48:44.935Z"
   },
   {
    "duration": 4891,
    "start_time": "2023-10-23T19:49:12.065Z"
   },
   {
    "duration": 4595,
    "start_time": "2023-10-23T19:49:16.957Z"
   },
   {
    "duration": 511,
    "start_time": "2023-10-23T19:51:36.173Z"
   },
   {
    "duration": 5225,
    "start_time": "2023-10-23T19:52:10.752Z"
   },
   {
    "duration": 5093,
    "start_time": "2023-10-23T19:52:37.544Z"
   },
   {
    "duration": 5157,
    "start_time": "2023-10-23T19:53:32.742Z"
   },
   {
    "duration": 491,
    "start_time": "2023-10-23T19:55:11.172Z"
   },
   {
    "duration": 68,
    "start_time": "2023-10-23T19:55:11.665Z"
   },
   {
    "duration": 3,
    "start_time": "2023-10-23T19:55:11.735Z"
   },
   {
    "duration": 5082,
    "start_time": "2023-10-23T19:55:11.740Z"
   },
   {
    "duration": 502,
    "start_time": "2023-10-23T19:55:16.823Z"
   },
   {
    "duration": 4668,
    "start_time": "2023-10-23T19:55:17.326Z"
   },
   {
    "duration": 4171,
    "start_time": "2023-10-23T20:21:08.587Z"
   },
   {
    "duration": 132,
    "start_time": "2023-10-23T20:27:49.564Z"
   },
   {
    "duration": 470,
    "start_time": "2023-10-23T20:28:23.300Z"
   },
   {
    "duration": 84,
    "start_time": "2023-10-23T20:28:23.772Z"
   },
   {
    "duration": 4,
    "start_time": "2023-10-23T20:28:23.857Z"
   },
   {
    "duration": 4852,
    "start_time": "2023-10-23T20:28:23.863Z"
   },
   {
    "duration": 524,
    "start_time": "2023-10-23T20:28:28.716Z"
   },
   {
    "duration": 103,
    "start_time": "2023-10-23T20:28:29.241Z"
   },
   {
    "duration": 42,
    "start_time": "2023-10-23T20:28:35.396Z"
   },
   {
    "duration": 74,
    "start_time": "2023-10-23T20:30:13.331Z"
   },
   {
    "duration": 57,
    "start_time": "2023-10-23T20:30:18.814Z"
   },
   {
    "duration": 4603,
    "start_time": "2023-10-23T20:30:41.247Z"
   },
   {
    "duration": 86,
    "start_time": "2023-10-23T20:41:10.766Z"
   },
   {
    "duration": 45,
    "start_time": "2023-10-23T20:41:23.160Z"
   },
   {
    "duration": 62,
    "start_time": "2023-10-23T20:42:29.151Z"
   },
   {
    "duration": 68,
    "start_time": "2023-10-23T20:42:34.565Z"
   },
   {
    "duration": 43,
    "start_time": "2023-10-23T20:43:29.119Z"
   },
   {
    "duration": 62,
    "start_time": "2023-10-23T20:54:41.601Z"
   },
   {
    "duration": 28,
    "start_time": "2023-10-23T20:54:53.032Z"
   },
   {
    "duration": 59,
    "start_time": "2023-10-23T20:55:00.529Z"
   },
   {
    "duration": 49,
    "start_time": "2023-10-23T20:55:07.215Z"
   },
   {
    "duration": 72,
    "start_time": "2023-10-23T20:56:02.265Z"
   },
   {
    "duration": 60,
    "start_time": "2023-10-23T20:56:23.514Z"
   },
   {
    "duration": 449,
    "start_time": "2023-10-23T20:56:35.107Z"
   },
   {
    "duration": 71,
    "start_time": "2023-10-23T20:56:35.566Z"
   },
   {
    "duration": 14,
    "start_time": "2023-10-23T20:56:35.639Z"
   },
   {
    "duration": 5268,
    "start_time": "2023-10-23T20:56:35.655Z"
   },
   {
    "duration": 550,
    "start_time": "2023-10-23T20:56:40.926Z"
   },
   {
    "duration": 109,
    "start_time": "2023-10-23T20:56:41.477Z"
   },
   {
    "duration": 66,
    "start_time": "2023-10-23T20:59:32.378Z"
   },
   {
    "duration": 54,
    "start_time": "2023-10-23T21:01:28.102Z"
   },
   {
    "duration": 4082,
    "start_time": "2023-10-23T21:02:31.351Z"
   },
   {
    "duration": 78,
    "start_time": "2023-10-23T21:04:17.185Z"
   },
   {
    "duration": 3,
    "start_time": "2023-10-23T21:04:19.386Z"
   },
   {
    "duration": 5207,
    "start_time": "2023-10-23T21:04:26.317Z"
   },
   {
    "duration": 523,
    "start_time": "2023-10-23T21:04:31.526Z"
   },
   {
    "duration": 5320,
    "start_time": "2023-10-23T21:04:35.500Z"
   },
   {
    "duration": 49,
    "start_time": "2023-10-23T21:04:45.738Z"
   },
   {
    "duration": 258,
    "start_time": "2023-10-23T21:05:07.371Z"
   },
   {
    "duration": 467,
    "start_time": "2023-10-23T21:05:14.390Z"
   },
   {
    "duration": 114,
    "start_time": "2023-10-23T21:05:14.859Z"
   },
   {
    "duration": 3,
    "start_time": "2023-10-23T21:05:14.974Z"
   },
   {
    "duration": 5184,
    "start_time": "2023-10-23T21:05:14.978Z"
   },
   {
    "duration": 534,
    "start_time": "2023-10-23T21:05:20.165Z"
   },
   {
    "duration": 115,
    "start_time": "2023-10-23T21:05:20.700Z"
   },
   {
    "duration": 83,
    "start_time": "2023-10-23T21:06:59.452Z"
   },
   {
    "duration": 3977,
    "start_time": "2023-10-23T21:07:08.049Z"
   },
   {
    "duration": 65,
    "start_time": "2023-10-23T21:07:24.051Z"
   },
   {
    "duration": 10,
    "start_time": "2023-10-23T21:07:42.019Z"
   },
   {
    "duration": 4860,
    "start_time": "2023-10-23T21:07:49.611Z"
   },
   {
    "duration": 25,
    "start_time": "2023-10-23T21:07:54.473Z"
   },
   {
    "duration": 63,
    "start_time": "2023-10-23T21:07:57.938Z"
   },
   {
    "duration": 464,
    "start_time": "2023-10-23T21:08:10.362Z"
   },
   {
    "duration": 64,
    "start_time": "2023-10-23T21:08:10.827Z"
   },
   {
    "duration": 3,
    "start_time": "2023-10-23T21:08:10.892Z"
   },
   {
    "duration": 4758,
    "start_time": "2023-10-23T21:08:10.897Z"
   },
   {
    "duration": 500,
    "start_time": "2023-10-23T21:08:15.657Z"
   },
   {
    "duration": 5133,
    "start_time": "2023-10-23T21:08:16.159Z"
   },
   {
    "duration": 4221,
    "start_time": "2023-10-23T21:11:47.363Z"
   },
   {
    "duration": 4471,
    "start_time": "2023-10-23T21:18:21.868Z"
   },
   {
    "duration": 5335,
    "start_time": "2023-10-23T21:19:16.646Z"
   },
   {
    "duration": 175,
    "start_time": "2023-10-23T21:20:18.941Z"
   },
   {
    "duration": 4957,
    "start_time": "2023-10-23T21:20:39.374Z"
   },
   {
    "duration": 3599,
    "start_time": "2023-10-23T21:41:51.155Z"
   },
   {
    "duration": 46,
    "start_time": "2023-10-23T22:08:52.021Z"
   },
   {
    "duration": 508,
    "start_time": "2023-10-23T22:09:05.129Z"
   },
   {
    "duration": 81,
    "start_time": "2023-10-23T22:09:05.639Z"
   },
   {
    "duration": 3,
    "start_time": "2023-10-23T22:09:05.721Z"
   },
   {
    "duration": 4867,
    "start_time": "2023-10-23T22:09:05.725Z"
   },
   {
    "duration": 496,
    "start_time": "2023-10-23T22:09:10.593Z"
   },
   {
    "duration": 5075,
    "start_time": "2023-10-23T22:09:11.090Z"
   },
   {
    "duration": 3886,
    "start_time": "2023-10-23T22:09:17.263Z"
   },
   {
    "duration": 104,
    "start_time": "2023-10-23T22:09:54.216Z"
   },
   {
    "duration": 3844,
    "start_time": "2023-10-23T22:10:09.305Z"
   },
   {
    "duration": 45,
    "start_time": "2023-10-23T22:10:56.431Z"
   },
   {
    "duration": 46,
    "start_time": "2023-10-23T22:11:19.384Z"
   },
   {
    "duration": 48,
    "start_time": "2023-10-23T22:11:31.929Z"
   },
   {
    "duration": 46,
    "start_time": "2023-10-23T22:11:37.933Z"
   },
   {
    "duration": 10,
    "start_time": "2023-10-23T22:20:44.957Z"
   },
   {
    "duration": 15,
    "start_time": "2023-10-23T22:20:46.416Z"
   },
   {
    "duration": 513,
    "start_time": "2023-10-23T22:21:03.749Z"
   },
   {
    "duration": 85,
    "start_time": "2023-10-23T22:21:04.263Z"
   },
   {
    "duration": 4,
    "start_time": "2023-10-23T22:21:04.353Z"
   },
   {
    "duration": 4772,
    "start_time": "2023-10-23T22:21:04.358Z"
   },
   {
    "duration": 496,
    "start_time": "2023-10-23T22:21:09.132Z"
   },
   {
    "duration": 79,
    "start_time": "2023-10-23T22:21:09.629Z"
   },
   {
    "duration": 3859,
    "start_time": "2023-10-23T22:21:26.949Z"
   },
   {
    "duration": 4662,
    "start_time": "2023-10-23T22:21:31.306Z"
   },
   {
    "duration": 5267,
    "start_time": "2023-10-23T22:22:05.096Z"
   },
   {
    "duration": 11,
    "start_time": "2023-10-23T22:22:15.202Z"
   },
   {
    "duration": 1872,
    "start_time": "2023-10-23T22:23:36.065Z"
   },
   {
    "duration": 3543,
    "start_time": "2023-10-23T22:24:02.617Z"
   },
   {
    "duration": 10,
    "start_time": "2023-10-23T22:25:47.626Z"
   },
   {
    "duration": 9,
    "start_time": "2023-10-23T22:26:03.352Z"
   },
   {
    "duration": 11,
    "start_time": "2023-10-23T22:26:14.455Z"
   },
   {
    "duration": 2422,
    "start_time": "2023-10-23T22:26:32.084Z"
   },
   {
    "duration": 80,
    "start_time": "2023-10-23T22:27:09.762Z"
   },
   {
    "duration": 10,
    "start_time": "2023-10-23T22:27:17.617Z"
   },
   {
    "duration": 50,
    "start_time": "2023-10-23T22:28:53.859Z"
   },
   {
    "duration": 3895,
    "start_time": "2023-10-23T22:29:05.322Z"
   },
   {
    "duration": 4103,
    "start_time": "2023-10-23T22:30:32.185Z"
   },
   {
    "duration": 41,
    "start_time": "2023-10-23T22:30:52.322Z"
   },
   {
    "duration": 9,
    "start_time": "2023-10-23T22:31:54.601Z"
   },
   {
    "duration": 6,
    "start_time": "2023-10-23T22:32:34.989Z"
   },
   {
    "duration": 3,
    "start_time": "2023-10-23T22:32:43.972Z"
   },
   {
    "duration": 5,
    "start_time": "2023-10-23T22:33:06.533Z"
   },
   {
    "duration": 6,
    "start_time": "2023-10-23T22:34:40.878Z"
   },
   {
    "duration": 7,
    "start_time": "2023-10-23T22:34:57.964Z"
   },
   {
    "duration": 6,
    "start_time": "2023-10-23T22:35:04.493Z"
   },
   {
    "duration": 3,
    "start_time": "2023-10-23T22:35:13.638Z"
   },
   {
    "duration": 45,
    "start_time": "2023-10-23T22:35:21.069Z"
   },
   {
    "duration": 3,
    "start_time": "2023-10-23T22:36:54.306Z"
   },
   {
    "duration": 8,
    "start_time": "2023-10-23T22:37:06.257Z"
   },
   {
    "duration": 37,
    "start_time": "2023-10-23T22:37:25.324Z"
   },
   {
    "duration": 10,
    "start_time": "2023-10-23T22:49:49.673Z"
   },
   {
    "duration": 10,
    "start_time": "2023-10-23T22:49:53.490Z"
   },
   {
    "duration": 57,
    "start_time": "2023-10-23T22:50:10.217Z"
   },
   {
    "duration": 10,
    "start_time": "2023-10-23T22:56:37.791Z"
   },
   {
    "duration": 46,
    "start_time": "2023-10-23T22:56:47.065Z"
   },
   {
    "duration": 3839,
    "start_time": "2023-10-23T22:57:46.327Z"
   },
   {
    "duration": 48,
    "start_time": "2023-10-23T22:57:59.161Z"
   },
   {
    "duration": 3850,
    "start_time": "2023-10-23T23:02:53.826Z"
   },
   {
    "duration": 3799,
    "start_time": "2023-10-23T23:04:36.103Z"
   },
   {
    "duration": 3761,
    "start_time": "2023-10-23T23:04:45.097Z"
   },
   {
    "duration": 43,
    "start_time": "2023-10-24T19:23:24.996Z"
   },
   {
    "duration": 496,
    "start_time": "2023-10-24T19:23:32.531Z"
   },
   {
    "duration": 81,
    "start_time": "2023-10-24T19:23:33.028Z"
   },
   {
    "duration": 3,
    "start_time": "2023-10-24T19:23:33.110Z"
   },
   {
    "duration": 4790,
    "start_time": "2023-10-24T19:23:33.115Z"
   },
   {
    "duration": 483,
    "start_time": "2023-10-24T19:23:37.906Z"
   },
   {
    "duration": 4634,
    "start_time": "2023-10-24T19:23:42.322Z"
   },
   {
    "duration": 2,
    "start_time": "2023-10-24T19:35:22.922Z"
   },
   {
    "duration": 639,
    "start_time": "2023-10-24T19:35:25.311Z"
   },
   {
    "duration": 3,
    "start_time": "2023-10-24T19:35:53.223Z"
   },
   {
    "duration": 4358,
    "start_time": "2023-10-24T19:35:56.471Z"
   },
   {
    "duration": 3,
    "start_time": "2023-10-24T19:37:45.626Z"
   },
   {
    "duration": 608,
    "start_time": "2023-10-24T19:37:47.080Z"
   },
   {
    "duration": 2,
    "start_time": "2023-10-24T19:37:55.635Z"
   },
   {
    "duration": 595,
    "start_time": "2023-10-24T19:37:57.266Z"
   },
   {
    "duration": 2,
    "start_time": "2023-10-24T19:38:58.957Z"
   },
   {
    "duration": 596,
    "start_time": "2023-10-24T19:39:00.341Z"
   },
   {
    "duration": 2,
    "start_time": "2023-10-24T19:40:10.911Z"
   },
   {
    "duration": 3688,
    "start_time": "2023-10-24T19:40:13.142Z"
   },
   {
    "duration": 3750,
    "start_time": "2023-10-24T19:41:13.950Z"
   },
   {
    "duration": 494,
    "start_time": "2023-10-24T19:41:31.225Z"
   },
   {
    "duration": 63,
    "start_time": "2023-10-24T19:41:31.720Z"
   },
   {
    "duration": 2,
    "start_time": "2023-10-24T19:41:31.784Z"
   },
   {
    "duration": 3848,
    "start_time": "2023-10-24T19:41:31.787Z"
   },
   {
    "duration": 169,
    "start_time": "2023-10-24T19:41:35.637Z"
   },
   {
    "duration": 2763,
    "start_time": "2023-10-24T19:41:35.808Z"
   },
   {
    "duration": 2894,
    "start_time": "2023-10-24T19:41:40.579Z"
   },
   {
    "duration": 72,
    "start_time": "2023-10-24T19:49:43.206Z"
   },
   {
    "duration": 3,
    "start_time": "2023-10-24T19:49:52.397Z"
   },
   {
    "duration": 4501,
    "start_time": "2023-10-24T19:49:53.811Z"
   },
   {
    "duration": 4571,
    "start_time": "2023-10-24T19:50:14.181Z"
   },
   {
    "duration": 4628,
    "start_time": "2023-10-24T19:50:37.443Z"
   },
   {
    "duration": 468,
    "start_time": "2023-10-24T20:25:05.806Z"
   },
   {
    "duration": 96,
    "start_time": "2023-10-24T20:25:06.276Z"
   },
   {
    "duration": 2,
    "start_time": "2023-10-24T20:25:06.374Z"
   },
   {
    "duration": 4578,
    "start_time": "2023-10-24T20:25:06.378Z"
   },
   {
    "duration": 481,
    "start_time": "2023-10-24T20:25:10.959Z"
   },
   {
    "duration": 3495,
    "start_time": "2023-10-24T20:25:11.442Z"
   },
   {
    "duration": 2,
    "start_time": "2023-10-24T20:25:51.618Z"
   },
   {
    "duration": 4515,
    "start_time": "2023-10-24T20:25:52.682Z"
   },
   {
    "duration": 110,
    "start_time": "2023-11-02T21:04:03.575Z"
   },
   {
    "duration": 535,
    "start_time": "2023-11-02T22:49:04.797Z"
   },
   {
    "duration": 85,
    "start_time": "2023-11-02T22:49:05.335Z"
   },
   {
    "duration": 3,
    "start_time": "2023-11-02T22:49:05.422Z"
   },
   {
    "duration": 6083,
    "start_time": "2023-11-02T22:49:05.426Z"
   },
   {
    "duration": 618,
    "start_time": "2023-11-02T22:49:11.512Z"
   },
   {
    "duration": 4532,
    "start_time": "2023-11-02T22:49:12.132Z"
   },
   {
    "duration": 215,
    "start_time": "2023-11-02T22:49:30.939Z"
   },
   {
    "duration": 375,
    "start_time": "2023-11-02T22:52:30.368Z"
   },
   {
    "duration": 344,
    "start_time": "2023-11-02T22:52:43.026Z"
   },
   {
    "duration": 355,
    "start_time": "2023-11-02T22:53:02.881Z"
   },
   {
    "duration": 352,
    "start_time": "2023-11-02T22:53:20.367Z"
   },
   {
    "duration": 361,
    "start_time": "2023-11-02T22:53:26.720Z"
   },
   {
    "duration": 349,
    "start_time": "2023-11-02T22:53:37.809Z"
   },
   {
    "duration": 362,
    "start_time": "2023-11-02T22:53:43.242Z"
   },
   {
    "duration": 349,
    "start_time": "2023-11-02T22:53:49.089Z"
   },
   {
    "duration": 347,
    "start_time": "2023-11-02T22:54:17.018Z"
   },
   {
    "duration": 358,
    "start_time": "2023-11-02T22:54:21.457Z"
   },
   {
    "duration": 381,
    "start_time": "2023-11-02T22:54:54.280Z"
   },
   {
    "duration": 345,
    "start_time": "2023-11-02T22:55:10.320Z"
   },
   {
    "duration": 369,
    "start_time": "2023-11-02T22:55:14.536Z"
   },
   {
    "duration": 83,
    "start_time": "2023-11-09T20:48:42.169Z"
   },
   {
    "duration": 492,
    "start_time": "2023-11-09T22:50:16.836Z"
   },
   {
    "duration": 69,
    "start_time": "2023-11-09T22:50:17.330Z"
   },
   {
    "duration": 3,
    "start_time": "2023-11-09T22:50:17.401Z"
   },
   {
    "duration": 5774,
    "start_time": "2023-11-09T22:50:17.406Z"
   },
   {
    "duration": 636,
    "start_time": "2023-11-09T22:50:23.182Z"
   },
   {
    "duration": 4609,
    "start_time": "2023-11-09T22:50:23.820Z"
   },
   {
    "duration": 86,
    "start_time": "2023-11-10T20:38:49.177Z"
   },
   {
    "duration": 117,
    "start_time": "2023-11-11T21:17:53.481Z"
   }
  ],
  "kernelspec": {
   "display_name": "Python 3 (ipykernel)",
   "language": "python",
   "name": "python3"
  },
  "language_info": {
   "codemirror_mode": {
    "name": "ipython",
    "version": 3
   },
   "file_extension": ".py",
   "mimetype": "text/x-python",
   "name": "python",
   "nbconvert_exporter": "python",
   "pygments_lexer": "ipython3",
   "version": "3.10.13"
  },
  "toc": {
   "base_numbering": 1,
   "nav_menu": {},
   "number_sections": true,
   "sideBar": true,
   "skip_h1_title": true,
   "title_cell": "Table of Contents",
   "title_sidebar": "Contents",
   "toc_cell": false,
   "toc_position": {},
   "toc_section_display": true,
   "toc_window_display": false
  }
 },
 "nbformat": 4,
 "nbformat_minor": 5
}
