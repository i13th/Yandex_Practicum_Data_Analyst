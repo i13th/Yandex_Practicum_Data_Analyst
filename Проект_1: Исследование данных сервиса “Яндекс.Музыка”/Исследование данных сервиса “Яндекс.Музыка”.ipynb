{
 "cells": [
  {
   "cell_type": "markdown",
   "metadata": {
    "deletable": false,
    "editable": false,
    "id": "E0vqbgi9ay0H"
   },
   "source": [
    "# Яндекс Музыка"
   ]
  },
  {
   "cell_type": "markdown",
   "metadata": {
    "deletable": false,
    "editable": false,
    "id": "VUC88oWjTJw2"
   },
   "source": [
    "Сравнение Москвы и Петербурга окружено мифами. Например:\n",
    " * Москва — мегаполис, подчинённый жёсткому ритму рабочей недели;\n",
    " * Петербург — культурная столица, со своими вкусами.\n",
    "\n",
    "На данных Яндекс Музыки вы сравните поведение пользователей двух столиц.\n",
    "\n",
    "**Цель исследования** — проверьте три гипотезы:\n",
    "1. Активность пользователей зависит от дня недели. Причём в Москве и Петербурге это проявляется по-разному.\n",
    "2. В понедельник утром в Москве преобладают одни жанры, а в Петербурге — другие. Так же и вечером пятницы преобладают разные жанры — в зависимости от города. \n",
    "3. Москва и Петербург предпочитают разные жанры музыки. В Москве чаще слушают поп-музыку, в Петербурге — русский рэп.\n",
    "\n",
    "**Ход исследования**\n",
    "\n",
    "Данные о поведении пользователей вы получите из файла `yandex_music_project.csv`. О качестве данных ничего не известно. Поэтому перед проверкой гипотез понадобится обзор данных. \n",
    "\n",
    "Вы проверите данные на ошибки и оцените их влияние на исследование. Затем, на этапе предобработки вы поищете возможность исправить самые критичные ошибки данных.\n",
    " \n",
    "Таким образом, исследование пройдёт в три этапа:\n",
    " 1. Обзор данных.\n",
    " 2. Предобработка данных.\n",
    " 3. Проверка гипотез.\n",
    "\n"
   ]
  },
  {
   "cell_type": "markdown",
   "metadata": {
    "deletable": false,
    "editable": false,
    "id": "Ml1hmfXC_Zcs"
   },
   "source": [
    "## Обзор данных\n",
    "\n",
    "Составьте первое представление о данных Яндекс Музыки.\n",
    "\n",
    "\n"
   ]
  },
  {
   "cell_type": "markdown",
   "metadata": {
    "deletable": false,
    "editable": false,
    "id": "57eAOGIz_Zcs",
    "tags": [
     "start_task"
    ]
   },
   "source": [
    "**Задание 1**\n",
    "\n",
    "Основной инструмент аналитика — `pandas`. Импортируйте эту библиотеку."
   ]
  },
  {
   "cell_type": "code",
   "execution_count": 84,
   "metadata": {
    "deletable": false,
    "id": "AXN7PHPN_Zcs"
   },
   "outputs": [],
   "source": [
    "import pandas as pd # импорт библиотеки pandas"
   ]
  },
  {
   "cell_type": "markdown",
   "metadata": {
    "deletable": false,
    "editable": false,
    "id": "SG23P8tt_Zcs",
    "tags": [
     "start_task"
    ]
   },
   "source": [
    "**Задание 2**\n",
    "\n",
    "Прочитайте файл `yandex_music_project.csv` из папки `/datasets` и сохраните его в переменной `df`:"
   ]
  },
  {
   "cell_type": "code",
   "execution_count": 85,
   "metadata": {
    "deletable": false,
    "id": "fFVu7vqh_Zct"
   },
   "outputs": [],
   "source": [
    "df = pd.read_csv('/datasets/yandex_music_project.csv')# чтение файла с данными и сохранение в df"
   ]
  },
  {
   "cell_type": "markdown",
   "metadata": {
    "deletable": false,
    "editable": false,
    "id": "rDoOMd3uTqnZ",
    "tags": [
     "start_task"
    ]
   },
   "source": [
    "**Задание 3**\n",
    "\n",
    "\n",
    "Выведите на экран первые десять строк таблицы:"
   ]
  },
  {
   "cell_type": "code",
   "execution_count": 86,
   "metadata": {
    "deletable": false,
    "id": "oWTVX3gW_Zct"
   },
   "outputs": [
    {
     "data": {
      "text/html": [
       "<div>\n",
       "<style scoped>\n",
       "    .dataframe tbody tr th:only-of-type {\n",
       "        vertical-align: middle;\n",
       "    }\n",
       "\n",
       "    .dataframe tbody tr th {\n",
       "        vertical-align: top;\n",
       "    }\n",
       "\n",
       "    .dataframe thead th {\n",
       "        text-align: right;\n",
       "    }\n",
       "</style>\n",
       "<table border=\"1\" class=\"dataframe\">\n",
       "  <thead>\n",
       "    <tr style=\"text-align: right;\">\n",
       "      <th></th>\n",
       "      <th>userID</th>\n",
       "      <th>Track</th>\n",
       "      <th>artist</th>\n",
       "      <th>genre</th>\n",
       "      <th>City</th>\n",
       "      <th>time</th>\n",
       "      <th>Day</th>\n",
       "    </tr>\n",
       "  </thead>\n",
       "  <tbody>\n",
       "    <tr>\n",
       "      <th>0</th>\n",
       "      <td>FFB692EC</td>\n",
       "      <td>Kamigata To Boots</td>\n",
       "      <td>The Mass Missile</td>\n",
       "      <td>rock</td>\n",
       "      <td>Saint-Petersburg</td>\n",
       "      <td>20:28:33</td>\n",
       "      <td>Wednesday</td>\n",
       "    </tr>\n",
       "    <tr>\n",
       "      <th>1</th>\n",
       "      <td>55204538</td>\n",
       "      <td>Delayed Because of Accident</td>\n",
       "      <td>Andreas Rönnberg</td>\n",
       "      <td>rock</td>\n",
       "      <td>Moscow</td>\n",
       "      <td>14:07:09</td>\n",
       "      <td>Friday</td>\n",
       "    </tr>\n",
       "    <tr>\n",
       "      <th>2</th>\n",
       "      <td>20EC38</td>\n",
       "      <td>Funiculì funiculà</td>\n",
       "      <td>Mario Lanza</td>\n",
       "      <td>pop</td>\n",
       "      <td>Saint-Petersburg</td>\n",
       "      <td>20:58:07</td>\n",
       "      <td>Wednesday</td>\n",
       "    </tr>\n",
       "    <tr>\n",
       "      <th>3</th>\n",
       "      <td>A3DD03C9</td>\n",
       "      <td>Dragons in the Sunset</td>\n",
       "      <td>Fire + Ice</td>\n",
       "      <td>folk</td>\n",
       "      <td>Saint-Petersburg</td>\n",
       "      <td>08:37:09</td>\n",
       "      <td>Monday</td>\n",
       "    </tr>\n",
       "    <tr>\n",
       "      <th>4</th>\n",
       "      <td>E2DC1FAE</td>\n",
       "      <td>Soul People</td>\n",
       "      <td>Space Echo</td>\n",
       "      <td>dance</td>\n",
       "      <td>Moscow</td>\n",
       "      <td>08:34:34</td>\n",
       "      <td>Monday</td>\n",
       "    </tr>\n",
       "    <tr>\n",
       "      <th>5</th>\n",
       "      <td>842029A1</td>\n",
       "      <td>Преданная</td>\n",
       "      <td>IMPERVTOR</td>\n",
       "      <td>rusrap</td>\n",
       "      <td>Saint-Petersburg</td>\n",
       "      <td>13:09:41</td>\n",
       "      <td>Friday</td>\n",
       "    </tr>\n",
       "    <tr>\n",
       "      <th>6</th>\n",
       "      <td>4CB90AA5</td>\n",
       "      <td>True</td>\n",
       "      <td>Roman Messer</td>\n",
       "      <td>dance</td>\n",
       "      <td>Moscow</td>\n",
       "      <td>13:00:07</td>\n",
       "      <td>Wednesday</td>\n",
       "    </tr>\n",
       "    <tr>\n",
       "      <th>7</th>\n",
       "      <td>F03E1C1F</td>\n",
       "      <td>Feeling This Way</td>\n",
       "      <td>Polina Griffith</td>\n",
       "      <td>dance</td>\n",
       "      <td>Moscow</td>\n",
       "      <td>20:47:49</td>\n",
       "      <td>Wednesday</td>\n",
       "    </tr>\n",
       "    <tr>\n",
       "      <th>8</th>\n",
       "      <td>8FA1D3BE</td>\n",
       "      <td>И вновь продолжается бой</td>\n",
       "      <td>NaN</td>\n",
       "      <td>ruspop</td>\n",
       "      <td>Moscow</td>\n",
       "      <td>09:17:40</td>\n",
       "      <td>Friday</td>\n",
       "    </tr>\n",
       "    <tr>\n",
       "      <th>9</th>\n",
       "      <td>E772D5C0</td>\n",
       "      <td>Pessimist</td>\n",
       "      <td>NaN</td>\n",
       "      <td>dance</td>\n",
       "      <td>Saint-Petersburg</td>\n",
       "      <td>21:20:49</td>\n",
       "      <td>Wednesday</td>\n",
       "    </tr>\n",
       "  </tbody>\n",
       "</table>\n",
       "</div>"
      ],
      "text/plain": [
       "     userID                        Track            artist   genre  \\\n",
       "0  FFB692EC            Kamigata To Boots  The Mass Missile    rock   \n",
       "1  55204538  Delayed Because of Accident  Andreas Rönnberg    rock   \n",
       "2    20EC38            Funiculì funiculà       Mario Lanza     pop   \n",
       "3  A3DD03C9        Dragons in the Sunset        Fire + Ice    folk   \n",
       "4  E2DC1FAE                  Soul People        Space Echo   dance   \n",
       "5  842029A1                    Преданная         IMPERVTOR  rusrap   \n",
       "6  4CB90AA5                         True      Roman Messer   dance   \n",
       "7  F03E1C1F             Feeling This Way   Polina Griffith   dance   \n",
       "8  8FA1D3BE     И вновь продолжается бой               NaN  ruspop   \n",
       "9  E772D5C0                    Pessimist               NaN   dance   \n",
       "\n",
       "             City        time        Day  \n",
       "0  Saint-Petersburg  20:28:33  Wednesday  \n",
       "1            Moscow  14:07:09     Friday  \n",
       "2  Saint-Petersburg  20:58:07  Wednesday  \n",
       "3  Saint-Petersburg  08:37:09     Monday  \n",
       "4            Moscow  08:34:34     Monday  \n",
       "5  Saint-Petersburg  13:09:41     Friday  \n",
       "6            Moscow  13:00:07  Wednesday  \n",
       "7            Moscow  20:47:49  Wednesday  \n",
       "8            Moscow  09:17:40     Friday  \n",
       "9  Saint-Petersburg  21:20:49  Wednesday  "
      ]
     },
     "execution_count": 86,
     "metadata": {},
     "output_type": "execute_result"
    }
   ],
   "source": [
    "df.head(10)# получение первых 10 строк таблицы df"
   ]
  },
  {
   "cell_type": "markdown",
   "metadata": {
    "deletable": false,
    "editable": false,
    "id": "EO73Kwic_Zct",
    "tags": [
     "start_task"
    ]
   },
   "source": [
    "**Задание 4**\n",
    "\n",
    "\n",
    "Одной командой получить общую информацию о таблице c помощью метода `info()`:"
   ]
  },
  {
   "cell_type": "code",
   "execution_count": 87,
   "metadata": {
    "deletable": false,
    "id": "DSf2kIb-_Zct"
   },
   "outputs": [
    {
     "name": "stdout",
     "output_type": "stream",
     "text": [
      "<class 'pandas.core.frame.DataFrame'>\n",
      "RangeIndex: 65079 entries, 0 to 65078\n",
      "Data columns (total 7 columns):\n",
      " #   Column    Non-Null Count  Dtype \n",
      "---  ------    --------------  ----- \n",
      " 0     userID  65079 non-null  object\n",
      " 1   Track     63848 non-null  object\n",
      " 2   artist    57876 non-null  object\n",
      " 3   genre     63881 non-null  object\n",
      " 4     City    65079 non-null  object\n",
      " 5   time      65079 non-null  object\n",
      " 6   Day       65079 non-null  object\n",
      "dtypes: object(7)\n",
      "memory usage: 3.5+ MB\n"
     ]
    }
   ],
   "source": [
    "df.info()# получение общей информации о данных в таблице df"
   ]
  },
  {
   "cell_type": "markdown",
   "metadata": {
    "deletable": false,
    "editable": false,
    "id": "TaQ2Iwbr_Zct"
   },
   "source": [
    "Итак, в таблице семь столбцов. Тип данных во всех столбцах — `object`.\n",
    "\n",
    "Согласно документации к данным:\n",
    "* `userID` — идентификатор пользователя;\n",
    "* `Track` — название трека;  \n",
    "* `artist` — имя исполнителя;\n",
    "* `genre` — название жанра;\n",
    "* `City` — город пользователя;\n",
    "* `time` — время начала прослушивания;\n",
    "* `Day` — день недели.\n",
    "\n",
    "Количество значений в столбцах различается. Значит, в данных есть пропущенные значения."
   ]
  },
  {
   "cell_type": "markdown",
   "metadata": {
    "deletable": false,
    "editable": false,
    "id": "4P0UCWzswgEm",
    "tags": [
     "start_task"
    ]
   },
   "source": [
    "**Задание 5**\n",
    "\n",
    "**Вопрос со свободной формой ответа**\n",
    "\n",
    "В названиях колонок видны три нарушения стиля:\n",
    "1. Строчные буквы сочетаются с прописными.\n",
    "2. Встречаются пробелы."
   ]
  },
  {
   "cell_type": "code",
   "execution_count": 88,
   "metadata": {
    "id": "c137-ZstwgEm"
   },
   "outputs": [],
   "source": [
    "#3.Не использован \"змеиный_регистр\":# Напишите ваш ответ здесь комментарием. Не удаляйте символ #. Не меняйте тип этой ячейки на Markdown.\n",
    "\n"
   ]
  },
  {
   "cell_type": "markdown",
   "metadata": {
    "deletable": false,
    "editable": false,
    "id": "MCB6-dXG_Zct"
   },
   "source": [
    "**Выводы**\n",
    "\n",
    "В каждой строке таблицы — данные о прослушанном треке. Часть колонок описывает саму композицию: название, исполнителя и жанр. Остальные данные рассказывают о пользователе: из какого он города, когда он слушал музыку. \n",
    "\n",
    "Предварительно можно утверждать, что, данных достаточно для проверки гипотез. Но встречаются пропуски в данных, а в названиях колонок — расхождения с хорошим стилем.\n",
    "\n",
    "Чтобы двигаться дальше, нужно устранить проблемы в данных."
   ]
  },
  {
   "cell_type": "markdown",
   "metadata": {
    "deletable": false,
    "editable": false,
    "id": "SjYF6Ub9_Zct"
   },
   "source": [
    "## Предобработка данных\n",
    "Исправьте стиль в заголовках столбцов, исключите пропуски. Затем проверьте данные на дубликаты."
   ]
  },
  {
   "cell_type": "markdown",
   "metadata": {
    "deletable": false,
    "editable": false,
    "id": "dIaKXr29_Zct",
    "tags": [
     "start_task"
    ]
   },
   "source": [
    "### Стиль заголовков\n",
    "\n",
    "**Задание 6**\n",
    "\n",
    "Выведите на экран названия столбцов:"
   ]
  },
  {
   "cell_type": "code",
   "execution_count": 89,
   "metadata": {
    "deletable": false,
    "id": "oKOTdF_Q_Zct"
   },
   "outputs": [
    {
     "data": {
      "text/plain": [
       "Index(['  userID', 'Track', 'artist', 'genre', '  City  ', 'time', 'Day'], dtype='object')"
      ]
     },
     "execution_count": 89,
     "metadata": {},
     "output_type": "execute_result"
    }
   ],
   "source": [
    "df.columns# перечень названий столбцов таблицы df"
   ]
  },
  {
   "cell_type": "markdown",
   "metadata": {
    "deletable": false,
    "editable": false,
    "id": "zj5534cv_Zct",
    "tags": [
     "start_task"
    ]
   },
   "source": [
    "**Задание 7**\n",
    "\n",
    "\n",
    "Приведите названия в соответствие с хорошим стилем:\n",
    "* несколько слов в названии запишите в «змеином_регистре»,\n",
    "* все символы сделайте строчными,\n",
    "* устраните пробелы.\n",
    "\n",
    "Для этого переименуйте колонки так:\n",
    "* `'  userID'` → `'user_id'`;\n",
    "* `'Track'` → `'track'`;\n",
    "* `'  City  '` → `'city'`;\n",
    "* `'Day'` → `'day'`."
   ]
  },
  {
   "cell_type": "code",
   "execution_count": 92,
   "metadata": {
    "deletable": false,
    "id": "ISlFqs5y_Zct"
   },
   "outputs": [],
   "source": [
    "df = df.rename(columns={'  userID': 'user_id', 'Track': 'track', '  City  ': 'city', 'Day': 'day'})# переименование столбцов"
   ]
  },
  {
   "cell_type": "markdown",
   "metadata": {
    "deletable": false,
    "editable": false,
    "id": "1dqbh00J_Zct",
    "tags": [
     "start_task"
    ]
   },
   "source": [
    "**Задание 8**\n",
    "\n",
    "\n",
    "Проверьте результат. Для этого ещё раз выведите на экран названия столбцов:"
   ]
  },
  {
   "cell_type": "code",
   "execution_count": 93,
   "metadata": {
    "deletable": false,
    "id": "d4NOAmTW_Zct"
   },
   "outputs": [
    {
     "data": {
      "text/plain": [
       "Index(['user_id', 'track', 'artist', 'genre', 'city', 'time', 'day'], dtype='object')"
      ]
     },
     "execution_count": 93,
     "metadata": {},
     "output_type": "execute_result"
    }
   ],
   "source": [
    "df.columns # проверка результатов - перечень названий столбцов"
   ]
  },
  {
   "cell_type": "markdown",
   "metadata": {
    "deletable": false,
    "editable": false,
    "id": "5ISfbcfY_Zct",
    "tags": [
     "start_task"
    ]
   },
   "source": [
    "### Пропуски значений\n",
    "\n",
    "**Задание 9**\n",
    "\n",
    "Сначала посчитайте, сколько в таблице пропущенных значений. Для этого достаточно двух методов `pandas`:"
   ]
  },
  {
   "cell_type": "code",
   "execution_count": 94,
   "metadata": {
    "deletable": false,
    "id": "RskX29qr_Zct"
   },
   "outputs": [
    {
     "data": {
      "text/plain": [
       "user_id       0\n",
       "track      1231\n",
       "artist     7203\n",
       "genre      1198\n",
       "city          0\n",
       "time          0\n",
       "day           0\n",
       "dtype: int64"
      ]
     },
     "execution_count": 94,
     "metadata": {},
     "output_type": "execute_result"
    }
   ],
   "source": [
    "df.isna().sum()# подсчёт пропусков\n"
   ]
  },
  {
   "cell_type": "markdown",
   "metadata": {
    "deletable": false,
    "editable": false,
    "id": "qubhgnlO_Zct"
   },
   "source": [
    "Не все пропущенные значения влияют на исследование. Так в `track` и `artist` пропуски не важны для вашей работы. Достаточно заменить их явными обозначениями.\n",
    "\n",
    "Но пропуски в `genre` могут помешать сравнению музыкальных вкусов в Москве и Санкт-Петербурге. На практике было бы правильно установить причину пропусков и восстановить данные. Такой возможности нет в учебном проекте. Придётся:\n",
    "* заполнить и эти пропуски явными обозначениями,\n",
    "* оценить, насколько они повредят расчётам. "
   ]
  },
  {
   "cell_type": "markdown",
   "metadata": {
    "deletable": false,
    "editable": false,
    "id": "fSv2laPA_Zct",
    "tags": [
     "start_task"
    ]
   },
   "source": [
    "**Задание 10**\n",
    "\n",
    "Замените пропущенные значения в столбцах `track`, `artist` и `genre` на строку `'unknown'`. Для этого создайте список `columns_to_replace`, переберите его элементы циклом `for` и для каждого столбца выполните замену пропущенных значений:"
   ]
  },
  {
   "cell_type": "code",
   "execution_count": 96,
   "metadata": {
    "deletable": false,
    "id": "KplB5qWs_Zct"
   },
   "outputs": [],
   "source": [
    "columns_to_replace = ['track', 'artist', 'genre']\n",
    "for columns in columns_to_replace:\n",
    "    df[columns] = df[columns].fillna('unknown')"
   ]
  },
  {
   "cell_type": "markdown",
   "metadata": {
    "deletable": false,
    "editable": false,
    "id": "Ilsm-MZo_Zct",
    "tags": [
     "start_task"
    ]
   },
   "source": [
    "**Задание 11**\n",
    "\n",
    "Убедитесь, что в таблице не осталось пропусков. Для этого ещё раз посчитайте пропущенные значения."
   ]
  },
  {
   "cell_type": "code",
   "execution_count": 97,
   "metadata": {
    "deletable": false,
    "id": "Tq4nYRX4_Zct"
   },
   "outputs": [
    {
     "data": {
      "text/plain": [
       "user_id    0\n",
       "track      0\n",
       "artist     0\n",
       "genre      0\n",
       "city       0\n",
       "time       0\n",
       "day        0\n",
       "dtype: int64"
      ]
     },
     "execution_count": 97,
     "metadata": {},
     "output_type": "execute_result"
    }
   ],
   "source": [
    "df.isna().sum()# подсчёт пропусков"
   ]
  },
  {
   "cell_type": "markdown",
   "metadata": {
    "deletable": false,
    "editable": false,
    "id": "BWKRtBJ3_Zct",
    "tags": [
     "start_task"
    ]
   },
   "source": [
    "### Дубликаты\n",
    "\n",
    "**Задание 12**\n",
    "\n",
    "Посчитайте явные дубликаты в таблице одной командой:"
   ]
  },
  {
   "cell_type": "code",
   "execution_count": 99,
   "metadata": {
    "deletable": false,
    "id": "36eES_S0_Zct"
   },
   "outputs": [
    {
     "data": {
      "text/plain": [
       "3826"
      ]
     },
     "execution_count": 99,
     "metadata": {},
     "output_type": "execute_result"
    }
   ],
   "source": [
    "df.duplicated().sum()# подсчёт явных дубликатов"
   ]
  },
  {
   "cell_type": "markdown",
   "metadata": {
    "deletable": false,
    "editable": false,
    "id": "Ot25h6XR_Zct",
    "tags": [
     "start_task"
    ]
   },
   "source": [
    "**Задание 13**\n",
    "\n",
    "Вызовите специальный метод `pandas`, чтобы удалить явные дубликаты:"
   ]
  },
  {
   "cell_type": "code",
   "execution_count": 302,
   "metadata": {
    "deletable": false,
    "id": "exFHq6tt_Zct"
   },
   "outputs": [],
   "source": [
    "df = df.drop_duplicates()# удаление явных дубликатов (с удалением старых индексов и формированием новых)"
   ]
  },
  {
   "cell_type": "markdown",
   "metadata": {
    "deletable": false,
    "editable": false,
    "id": "Im2YwBEG_Zct",
    "tags": [
     "start_task"
    ]
   },
   "source": [
    "**Задание 14**\n",
    "\n",
    "Ещё раз посчитайте явные дубликаты в таблице — убедитесь, что полностью от них избавились:"
   ]
  },
  {
   "cell_type": "code",
   "execution_count": 284,
   "metadata": {
    "deletable": false,
    "id": "-8PuNWQ0_Zct"
   },
   "outputs": [
    {
     "data": {
      "text/plain": [
       "0"
      ]
     },
     "execution_count": 284,
     "metadata": {},
     "output_type": "execute_result"
    }
   ],
   "source": [
    "df.duplicated().sum()# проверка на отсутствие дубликатов"
   ]
  },
  {
   "cell_type": "markdown",
   "metadata": {
    "deletable": false,
    "editable": false,
    "id": "QlFBsxAr_Zct"
   },
   "source": [
    "Теперь избавьтесь от неявных дубликатов в колонке `genre`. Например, название одного и того же жанра может быть записано немного по-разному. Такие ошибки тоже повлияют на результат исследования."
   ]
  },
  {
   "cell_type": "markdown",
   "metadata": {
    "deletable": false,
    "editable": false,
    "id": "eSjWwsOh_Zct",
    "tags": [
     "start_task"
    ]
   },
   "source": [
    "**Задание 15**\n",
    "\n",
    "Выведите на экран список уникальных названий жанров, отсортированный в алфавитном порядке. Для этого:\n",
    "* извлеките нужный столбец датафрейма, \n",
    "* примените к нему метод сортировки,\n",
    "* для отсортированного столбца вызовите метод, который вернёт уникальные значения из столбца."
   ]
  },
  {
   "cell_type": "code",
   "execution_count": 309,
   "metadata": {
    "deletable": false,
    "id": "JIUcqzZN_Zct"
   },
   "outputs": [
    {
     "name": "stdout",
     "output_type": "stream",
     "text": [
      "['acid' 'acoustic' 'action' 'adult' 'africa' 'afrikaans' 'alternative'\n",
      " 'alternativepunk' 'ambient' 'americana' 'animated' 'anime' 'arabesk'\n",
      " 'arabic' 'arena' 'argentinetango' 'art' 'audiobook' 'author' 'avantgarde'\n",
      " 'axé' 'baile' 'balkan' 'beats' 'bigroom' 'black' 'bluegrass' 'blues'\n",
      " 'bollywood' 'bossa' 'brazilian' 'breakbeat' 'breaks' 'broadway'\n",
      " 'cantautori' 'cantopop' 'canzone' 'caribbean' 'caucasian' 'celtic'\n",
      " 'chamber' 'chanson' 'children' 'chill' 'chinese' 'choral' 'christian'\n",
      " 'christmas' 'classical' 'classicmetal' 'club' 'colombian' 'comedy'\n",
      " 'conjazz' 'contemporary' 'country' 'cuban' 'dance' 'dancehall' 'dancepop'\n",
      " 'dark' 'death' 'deep' 'deutschrock' 'deutschspr' 'dirty' 'disco' 'dnb'\n",
      " 'documentary' 'downbeat' 'downtempo' 'drum' 'dub' 'dubstep' 'eastern'\n",
      " 'easy' 'electronic' 'electropop' 'emo' 'entehno' 'epicmetal' 'estrada'\n",
      " 'ethnic' 'eurofolk' 'european' 'experimental' 'extrememetal' 'fado'\n",
      " 'fairytail' 'film' 'fitness' 'flamenco' 'folk' 'folklore' 'folkmetal'\n",
      " 'folkrock' 'folktronica' 'forró' 'frankreich' 'französisch' 'french'\n",
      " 'funk' 'future' 'gangsta' 'garage' 'german' 'ghazal' 'gitarre' 'glitch'\n",
      " 'gospel' 'gothic' 'grime' 'grunge' 'gypsy' 'handsup' \"hard'n'heavy\"\n",
      " 'hardcore' 'hardstyle' 'hardtechno' 'hiphop' 'historisch' 'holiday'\n",
      " 'horror' 'house' 'hymn' 'idm' 'independent' 'indian' 'indie' 'indipop'\n",
      " 'industrial' 'inspirational' 'instrumental' 'international' 'irish' 'jam'\n",
      " 'japanese' 'jazz' 'jewish' 'jpop' 'jungle' 'k-pop' 'karadeniz' 'karaoke'\n",
      " 'kayokyoku' 'korean' 'laiko' 'latin' 'latino' 'leftfield' 'local'\n",
      " 'lounge' 'loungeelectronic' 'lovers' 'malaysian' 'mandopop' 'marschmusik'\n",
      " 'meditative' 'mediterranean' 'melodic' 'metal' 'metalcore' 'mexican'\n",
      " 'middle' 'minimal' 'miscellaneous' 'modern' 'mood' 'mpb' 'muslim'\n",
      " 'native' 'neoklassik' 'neue' 'new' 'newage' 'newwave' 'nu' 'nujazz'\n",
      " 'numetal' 'oceania' 'old' 'opera' 'orchestral' 'other' 'piano' 'podcasts'\n",
      " 'pop' 'popdance' 'popelectronic' 'popeurodance' 'poprussian' 'post'\n",
      " 'posthardcore' 'postrock' 'power' 'progmetal' 'progressive' 'psychedelic'\n",
      " 'punjabi' 'punk' 'quebecois' 'ragga' 'ram' 'rancheras' 'rap' 'rave'\n",
      " 'reggae' 'reggaeton' 'regional' 'relax' 'religious' 'retro' 'rhythm'\n",
      " 'rnb' 'rnr' 'rock' 'rockabilly' 'rockalternative' 'rockindie' 'rockother'\n",
      " 'romance' 'roots' 'ruspop' 'rusrap' 'rusrock' 'russian' 'salsa' 'samba'\n",
      " 'scenic' 'schlager' 'self' 'sertanejo' 'shanson' 'shoegazing' 'showtunes'\n",
      " 'singer' 'ska' 'skarock' 'slow' 'smooth' 'soft' 'soul' 'soulful' 'sound'\n",
      " 'soundtrack' 'southern' 'specialty' 'speech' 'spiritual' 'sport'\n",
      " 'stonerrock' 'surf' 'swing' 'synthpop' 'synthrock' 'sängerportrait'\n",
      " 'tango' 'tanzorchester' 'taraftar' 'tatar' 'tech' 'techno' 'teen'\n",
      " 'thrash' 'top' 'traditional' 'tradjazz' 'trance' 'tribal' 'trip'\n",
      " 'triphop' 'tropical' 'türk' 'türkçe' 'ukrrock' 'unknown' 'urban' 'uzbek'\n",
      " 'variété' 'vi' 'videogame' 'vocal' 'western' 'world' 'worldbeat' 'ïîï'\n",
      " 'электроника']\n"
     ]
    }
   ],
   "source": [
    "df_genre = df['genre'].sort_values().unique()\n",
    "print(df['genre'].sort_values().unique())# Просмотр уникальных названий жанров"
   ]
  },
  {
   "cell_type": "markdown",
   "metadata": {
    "deletable": false,
    "editable": false,
    "id": "qej-Qmuo_Zct",
    "tags": [
     "start_task"
    ]
   },
   "source": [
    "**Задание 16**\n",
    "\n",
    "Просмотрите список и найдите неявные дубликаты названия `hiphop`. Это могут быть названия с ошибками или альтернативные названия того же жанра.\n",
    "\n",
    "Вы увидите следующие неявные дубликаты:\n",
    "* *hip*,\n",
    "* *hop*,\n",
    "* *hip-hop*.\n",
    "\n",
    "Чтобы очистить от них таблицу используйте метод `replace()` с двумя аргументами: списком строк-дубликатов (включащий *hip*, *hop* и *hip-hop*) и строкой с правильным значением. Вам нужно исправить колонку `genre` в таблице `df`: заменить каждое значение из списка дубликатов на верное. Вместо `hip`, `hop` и `hip-hop` в таблице должно быть значение `hiphop`:"
   ]
  },
  {
   "cell_type": "code",
   "execution_count": 46,
   "metadata": {
    "deletable": false,
    "id": "ErNDkmns_Zct"
   },
   "outputs": [],
   "source": [
    "df['genre'] = df['genre'].replace('hip', 'hiphop')\n",
    "df['genre'] = df['genre'].replace('hop', 'hiphop')\n",
    "df['genre'] = df['genre'].replace('hip-hop', 'hiphop')# Устранение неявных дубликатов"
   ]
  },
  {
   "cell_type": "markdown",
   "metadata": {
    "deletable": false,
    "editable": false,
    "id": "zQKF16_RG15m",
    "tags": [
     "start_task"
    ]
   },
   "source": [
    "**Задание 17**\n",
    "\n",
    "Проверьте, что заменили неправильные названия:\n",
    "\n",
    "*   hip\n",
    "*   hop\n",
    "*   hip-hop\n",
    "\n",
    "Выведите отсортированный список уникальных значений столбца `genre`:"
   ]
  },
  {
   "cell_type": "code",
   "execution_count": 177,
   "metadata": {
    "deletable": false,
    "id": "wvixALnFG15m"
   },
   "outputs": [
    {
     "data": {
      "text/plain": [
       "['acid',\n",
       " 'acoustic',\n",
       " 'action',\n",
       " 'adult',\n",
       " 'africa',\n",
       " 'afrikaans',\n",
       " 'alternative',\n",
       " 'alternativepunk',\n",
       " 'ambient',\n",
       " 'americana',\n",
       " 'animated',\n",
       " 'anime',\n",
       " 'arabesk',\n",
       " 'arabic',\n",
       " 'arena',\n",
       " 'argentinetango',\n",
       " 'art',\n",
       " 'audiobook',\n",
       " 'author',\n",
       " 'avantgarde',\n",
       " 'axé',\n",
       " 'baile',\n",
       " 'balkan',\n",
       " 'beats',\n",
       " 'bigroom',\n",
       " 'black',\n",
       " 'bluegrass',\n",
       " 'blues',\n",
       " 'bollywood',\n",
       " 'bossa',\n",
       " 'brazilian',\n",
       " 'breakbeat',\n",
       " 'breaks',\n",
       " 'broadway',\n",
       " 'cantautori',\n",
       " 'cantopop',\n",
       " 'canzone',\n",
       " 'caribbean',\n",
       " 'caucasian',\n",
       " 'celtic',\n",
       " 'chamber',\n",
       " 'chanson',\n",
       " 'children',\n",
       " 'chill',\n",
       " 'chinese',\n",
       " 'choral',\n",
       " 'christian',\n",
       " 'christmas',\n",
       " 'classical',\n",
       " 'classicmetal',\n",
       " 'club',\n",
       " 'colombian',\n",
       " 'comedy',\n",
       " 'conjazz',\n",
       " 'contemporary',\n",
       " 'country',\n",
       " 'cuban',\n",
       " 'dance',\n",
       " 'dancehall',\n",
       " 'dancepop',\n",
       " 'dark',\n",
       " 'death',\n",
       " 'deep',\n",
       " 'deutschrock',\n",
       " 'deutschspr',\n",
       " 'dirty',\n",
       " 'disco',\n",
       " 'dnb',\n",
       " 'documentary',\n",
       " 'downbeat',\n",
       " 'downtempo',\n",
       " 'drum',\n",
       " 'dub',\n",
       " 'dubstep',\n",
       " 'eastern',\n",
       " 'easy',\n",
       " 'electronic',\n",
       " 'electropop',\n",
       " 'emo',\n",
       " 'entehno',\n",
       " 'epicmetal',\n",
       " 'estrada',\n",
       " 'ethnic',\n",
       " 'eurofolk',\n",
       " 'european',\n",
       " 'experimental',\n",
       " 'extrememetal',\n",
       " 'fado',\n",
       " 'fairytail',\n",
       " 'film',\n",
       " 'fitness',\n",
       " 'flamenco',\n",
       " 'folk',\n",
       " 'folklore',\n",
       " 'folkmetal',\n",
       " 'folkrock',\n",
       " 'folktronica',\n",
       " 'forró',\n",
       " 'frankreich',\n",
       " 'französisch',\n",
       " 'french',\n",
       " 'funk',\n",
       " 'future',\n",
       " 'gangsta',\n",
       " 'garage',\n",
       " 'german',\n",
       " 'ghazal',\n",
       " 'gitarre',\n",
       " 'glitch',\n",
       " 'gospel',\n",
       " 'gothic',\n",
       " 'grime',\n",
       " 'grunge',\n",
       " 'gypsy',\n",
       " 'handsup',\n",
       " \"hard'n'heavy\",\n",
       " 'hardcore',\n",
       " 'hardstyle',\n",
       " 'hardtechno',\n",
       " 'hiphop',\n",
       " 'historisch',\n",
       " 'holiday',\n",
       " 'horror',\n",
       " 'house',\n",
       " 'hymn',\n",
       " 'idm',\n",
       " 'independent',\n",
       " 'indian',\n",
       " 'indie',\n",
       " 'indipop',\n",
       " 'industrial',\n",
       " 'inspirational',\n",
       " 'instrumental',\n",
       " 'international',\n",
       " 'irish',\n",
       " 'jam',\n",
       " 'japanese',\n",
       " 'jazz',\n",
       " 'jewish',\n",
       " 'jpop',\n",
       " 'jungle',\n",
       " 'k-pop',\n",
       " 'karadeniz',\n",
       " 'karaoke',\n",
       " 'kayokyoku',\n",
       " 'korean',\n",
       " 'laiko',\n",
       " 'latin',\n",
       " 'latino',\n",
       " 'leftfield',\n",
       " 'local',\n",
       " 'lounge',\n",
       " 'loungeelectronic',\n",
       " 'lovers',\n",
       " 'malaysian',\n",
       " 'mandopop',\n",
       " 'marschmusik',\n",
       " 'meditative',\n",
       " 'mediterranean',\n",
       " 'melodic',\n",
       " 'metal',\n",
       " 'metalcore',\n",
       " 'mexican',\n",
       " 'middle',\n",
       " 'minimal',\n",
       " 'miscellaneous',\n",
       " 'modern',\n",
       " 'mood',\n",
       " 'mpb',\n",
       " 'muslim',\n",
       " 'native',\n",
       " 'neoklassik',\n",
       " 'neue',\n",
       " 'new',\n",
       " 'newage',\n",
       " 'newwave',\n",
       " 'nu',\n",
       " 'nujazz',\n",
       " 'numetal',\n",
       " 'oceania',\n",
       " 'old',\n",
       " 'opera',\n",
       " 'orchestral',\n",
       " 'other',\n",
       " 'piano',\n",
       " 'podcasts',\n",
       " 'pop',\n",
       " 'popdance',\n",
       " 'popelectronic',\n",
       " 'popeurodance',\n",
       " 'poprussian',\n",
       " 'post',\n",
       " 'posthardcore',\n",
       " 'postrock',\n",
       " 'power',\n",
       " 'progmetal',\n",
       " 'progressive',\n",
       " 'psychedelic',\n",
       " 'punjabi',\n",
       " 'punk',\n",
       " 'quebecois',\n",
       " 'ragga',\n",
       " 'ram',\n",
       " 'rancheras',\n",
       " 'rap',\n",
       " 'rave',\n",
       " 'reggae',\n",
       " 'reggaeton',\n",
       " 'regional',\n",
       " 'relax',\n",
       " 'religious',\n",
       " 'retro',\n",
       " 'rhythm',\n",
       " 'rnb',\n",
       " 'rnr',\n",
       " 'rock',\n",
       " 'rockabilly',\n",
       " 'rockalternative',\n",
       " 'rockindie',\n",
       " 'rockother',\n",
       " 'romance',\n",
       " 'roots',\n",
       " 'ruspop',\n",
       " 'rusrap',\n",
       " 'rusrock',\n",
       " 'russian',\n",
       " 'salsa',\n",
       " 'samba',\n",
       " 'scenic',\n",
       " 'schlager',\n",
       " 'self',\n",
       " 'sertanejo',\n",
       " 'shanson',\n",
       " 'shoegazing',\n",
       " 'showtunes',\n",
       " 'singer',\n",
       " 'ska',\n",
       " 'skarock',\n",
       " 'slow',\n",
       " 'smooth',\n",
       " 'soft',\n",
       " 'soul',\n",
       " 'soulful',\n",
       " 'sound',\n",
       " 'soundtrack',\n",
       " 'southern',\n",
       " 'specialty',\n",
       " 'speech',\n",
       " 'spiritual',\n",
       " 'sport',\n",
       " 'stonerrock',\n",
       " 'surf',\n",
       " 'swing',\n",
       " 'synthpop',\n",
       " 'synthrock',\n",
       " 'sängerportrait',\n",
       " 'tango',\n",
       " 'tanzorchester',\n",
       " 'taraftar',\n",
       " 'tatar',\n",
       " 'tech',\n",
       " 'techno',\n",
       " 'teen',\n",
       " 'thrash',\n",
       " 'top',\n",
       " 'traditional',\n",
       " 'tradjazz',\n",
       " 'trance',\n",
       " 'tribal',\n",
       " 'trip',\n",
       " 'triphop',\n",
       " 'tropical',\n",
       " 'türk',\n",
       " 'türkçe',\n",
       " 'ukrrock',\n",
       " 'unknown',\n",
       " 'urban',\n",
       " 'uzbek',\n",
       " 'variété',\n",
       " 'vi',\n",
       " 'videogame',\n",
       " 'vocal',\n",
       " 'western',\n",
       " 'world',\n",
       " 'worldbeat',\n",
       " 'ïîï',\n",
       " 'электроника']"
      ]
     },
     "execution_count": 177,
     "metadata": {},
     "output_type": "execute_result"
    }
   ],
   "source": [
    "print(df['genre'].sort_values().unique())# Проверка на неявные дубликаты"
   ]
  },
  {
   "cell_type": "markdown",
   "metadata": {
    "deletable": false,
    "editable": false,
    "id": "jz6a9-7HQUDd"
   },
   "source": [
    "**Выводы**\n",
    "\n",
    "Предобработка обнаружила три проблемы в данных:\n",
    "\n",
    "- нарушения в стиле заголовков,\n",
    "- пропущенные значения,\n",
    "- дубликаты — явные и неявные.\n",
    "\n",
    "Вы исправили заголовки, чтобы упростить работу с таблицей. Без дубликатов исследование станет более точным.\n",
    "\n",
    "Пропущенные значения вы заменили на `'unknown'`. Ещё предстоит увидеть, не повредят ли исследованию пропуски в колонке `genre`.\n",
    "\n",
    "Теперь можно перейти к проверке гипотез. "
   ]
  },
  {
   "cell_type": "markdown",
   "metadata": {
    "deletable": false,
    "editable": false,
    "id": "WttZHXH0SqKk"
   },
   "source": [
    "## Проверка гипотез"
   ]
  },
  {
   "cell_type": "markdown",
   "metadata": {
    "deletable": false,
    "editable": false,
    "id": "Im936VVi_Zcu"
   },
   "source": [
    "### Сравнение поведения пользователей двух столиц"
   ]
  },
  {
   "cell_type": "markdown",
   "metadata": {
    "deletable": false,
    "editable": false,
    "id": "nwt_MuaL_Zcu"
   },
   "source": [
    "Первая гипотеза утверждает, что пользователи по-разному слушают музыку в Москве и Санкт-Петербурге. Проверьте это предположение по данным о трёх днях недели — понедельнике, среде и пятнице. Для этого:\n",
    "\n",
    "* Разделите пользователей Москвы и Санкт-Петербурга\n",
    "* Сравните, сколько треков послушала каждая группа пользователей в понедельник, среду и пятницу.\n"
   ]
  },
  {
   "cell_type": "markdown",
   "metadata": {
    "deletable": false,
    "editable": false,
    "id": "8Dw_YMmT_Zcu",
    "tags": [
     "start_task"
    ]
   },
   "source": [
    "**Задание 18**\n",
    "\n",
    "Для тренировки сначала выполните каждый из расчётов по отдельности. \n",
    "\n",
    "Оцените активность пользователей в каждом городе. Сгруппируйте данные по городу и посчитайте прослушивания в каждой группе.\n",
    "\n"
   ]
  },
  {
   "cell_type": "code",
   "execution_count": 178,
   "metadata": {
    "deletable": false,
    "id": "0_Qs96oh_Zcu"
   },
   "outputs": [
    {
     "data": {
      "text/plain": [
       "city\n",
       "Moscow              42741\n",
       "Saint-Petersburg    18512\n",
       "Name: track, dtype: int64"
      ]
     },
     "execution_count": 178,
     "metadata": {},
     "output_type": "execute_result"
    }
   ],
   "source": [
    "df.groupby('city')['track'].count()# Подсчёт прослушиваний в каждом городе"
   ]
  },
  {
   "cell_type": "markdown",
   "metadata": {
    "deletable": false,
    "editable": false,
    "id": "dzli3w8o_Zcu",
    "tags": [
     "start_task"
    ]
   },
   "source": [
    "В Москве прослушиваний больше, чем в Петербурге. Из этого не следует, что московские пользователи чаще слушают музыку. Просто самих пользователей в Москве больше.\n",
    "\n",
    "**Задание 19**\n",
    "\n",
    "Теперь сгруппируйте данные по дню недели и подсчитайте прослушивания в понедельник, среду и пятницу. Учтите, что в данных есть информация только о прослушиваниях только за эти дни.\n"
   ]
  },
  {
   "cell_type": "code",
   "execution_count": 180,
   "metadata": {
    "deletable": false,
    "id": "uZMKjiJz_Zcu"
   },
   "outputs": [
    {
     "data": {
      "text/plain": [
       "day\n",
       "Friday       21840\n",
       "Monday       21354\n",
       "Wednesday    18059\n",
       "Name: track, dtype: int64"
      ]
     },
     "execution_count": 180,
     "metadata": {},
     "output_type": "execute_result"
    }
   ],
   "source": [
    "df.groupby('day')['track'].count()# Подсчёт прослушиваний в каждый из трёх дней"
   ]
  },
  {
   "cell_type": "markdown",
   "metadata": {
    "deletable": false,
    "editable": false,
    "id": "cC2tNrlL_Zcu"
   },
   "source": [
    "В среднем пользователи из двух городов менее активны по средам. Но картина может измениться, если рассмотреть каждый город в отдельности."
   ]
  },
  {
   "cell_type": "markdown",
   "metadata": {
    "deletable": false,
    "editable": false,
    "id": "POzs8bGa_Zcu",
    "tags": [
     "start_task"
    ]
   },
   "source": [
    "**Задание 20**\n",
    "\n",
    "\n",
    "Вы видели, как работает группировка по городу и по дням недели. Теперь напишите функцию, которая объединит два эти расчёта.\n",
    "\n",
    "Создайте функцию `number_tracks()`, которая посчитает прослушивания для заданного дня и города. Ей понадобятся два параметра:\n",
    "* день недели,\n",
    "* название города.\n",
    "\n",
    "В функции сохраните в переменную строки исходной таблицы, у которых значение:\n",
    "  * в колонке `day` равно параметру `day`,\n",
    "  * в колонке `city` равно параметру `city`.\n",
    "\n",
    "Для этого примените последовательную фильтрацию с логической индексацией (или сложные логические выражения в одну строку, если вы уже знакомы с ними).\n",
    "\n",
    "Затем посчитайте значения в столбце `user_id` получившейся таблицы. Результат сохраните в новую переменную. Верните эту переменную из функции."
   ]
  },
  {
   "cell_type": "code",
   "execution_count": 242,
   "metadata": {
    "deletable": false,
    "id": "Nz3GdQB1_Zcu"
   },
   "outputs": [],
   "source": [
    "def number_tracks(day, city):# <создание функции number_tracks()>\n",
    "# Объявляется функция с двумя параметрами: day, city.\n",
    "    track_list = df[df['day'] == day]\n",
    "# В переменной track_list сохраняются те строки таблицы df, для которых \n",
    "# значение в столбце 'day' равно параметру day и одновременно значение\n",
    "    track_list = track_list[track_list['city'] == city]\n",
    "# в столбце 'city' равно параметру city (используйте последовательную фильтрацию\n",
    "# с помощью логической индексации или сложные логические выражения в одну строку, если вы уже знакомы с ними).\n",
    "    track_list_count = track_list['user_id'].count()# В переменной track_list_count сохраняется число значений столбца 'user_id',\n",
    "# рассчитанное методом count() для таблицы track_list.\n",
    "    return track_list_count# Функция возвращает число - значение track_list_count.\n",
    "\n",
    "# Функция для подсчёта прослушиваний для конкретного города и дня.\n",
    "# С помощью последовательной фильтрации с логической индексацией она \n",
    "# сначала получит из исходной таблицы строки с нужным днём,\n",
    "# затем из результата отфильтрует строки с нужным городом,\n",
    "# методом count() посчитает количество значений в колонке user_id. \n",
    "# Это количество функция вернёт в качестве результата"
   ]
  },
  {
   "cell_type": "markdown",
   "metadata": {
    "deletable": false,
    "editable": false,
    "id": "ytf7xFrFJQ2r",
    "tags": [
     "start_task"
    ]
   },
   "source": [
    "**Задание 21**\n",
    "\n",
    "Вызовите `number_tracks()` шесть раз, меняя значение параметров — так, чтобы получить данные для каждого города в каждый из трёх дней."
   ]
  },
  {
   "cell_type": "code",
   "execution_count": 188,
   "metadata": {
    "deletable": false,
    "id": "rJcRATNQ_Zcu"
   },
   "outputs": [
    {
     "data": {
      "text/plain": [
       "15740"
      ]
     },
     "execution_count": 188,
     "metadata": {},
     "output_type": "execute_result"
    }
   ],
   "source": [
    "number_tracks('Monday', 'Moscow')# количество прослушиваний в Москве по понедельникам"
   ]
  },
  {
   "cell_type": "code",
   "execution_count": 189,
   "metadata": {
    "deletable": false,
    "id": "hq_ncZ5T_Zcu"
   },
   "outputs": [
    {
     "data": {
      "text/plain": [
       "5614"
      ]
     },
     "execution_count": 189,
     "metadata": {},
     "output_type": "execute_result"
    }
   ],
   "source": [
    "number_tracks('Monday', 'Saint-Petersburg')# количество прослушиваний в Санкт-Петербурге по понедельникам"
   ]
  },
  {
   "cell_type": "code",
   "execution_count": 190,
   "metadata": {
    "deletable": false,
    "id": "_NTy2VPU_Zcu"
   },
   "outputs": [
    {
     "data": {
      "text/plain": [
       "11056"
      ]
     },
     "execution_count": 190,
     "metadata": {},
     "output_type": "execute_result"
    }
   ],
   "source": [
    "number_tracks('Wednesday', 'Moscow')# количество прослушиваний в Москве по средам"
   ]
  },
  {
   "cell_type": "code",
   "execution_count": 191,
   "metadata": {
    "deletable": false,
    "id": "j2y3TAwo_Zcu"
   },
   "outputs": [
    {
     "data": {
      "text/plain": [
       "7003"
      ]
     },
     "execution_count": 191,
     "metadata": {},
     "output_type": "execute_result"
    }
   ],
   "source": [
    "number_tracks('Wednesday', 'Saint-Petersburg')# количество прослушиваний в Санкт-Петербурге по средам"
   ]
  },
  {
   "cell_type": "code",
   "execution_count": 192,
   "metadata": {
    "deletable": false,
    "id": "vYDw5u_K_Zcu"
   },
   "outputs": [
    {
     "data": {
      "text/plain": [
       "15945"
      ]
     },
     "execution_count": 192,
     "metadata": {},
     "output_type": "execute_result"
    }
   ],
   "source": [
    "number_tracks('Friday', 'Moscow')# количество прослушиваний в Москве по пятницам"
   ]
  },
  {
   "cell_type": "code",
   "execution_count": 193,
   "metadata": {
    "deletable": false,
    "id": "8_yzFtW3_Zcu"
   },
   "outputs": [
    {
     "data": {
      "text/plain": [
       "5895"
      ]
     },
     "execution_count": 193,
     "metadata": {},
     "output_type": "execute_result"
    }
   ],
   "source": [
    "number_tracks('Friday', 'Saint-Petersburg')# количество прослушиваний в Санкт-Петербурге по пятницам"
   ]
  },
  {
   "cell_type": "markdown",
   "metadata": {
    "deletable": false,
    "editable": false,
    "id": "7QXffbO-_Zcu",
    "tags": [
     "start_task"
    ]
   },
   "source": [
    "**Задание 22**\n",
    "\n",
    "Создайте c помощью конструктора `pd.DataFrame` таблицу, где\n",
    "* названия колонок — `['city', 'monday', 'wednesday', 'friday']`;\n",
    "* данные — результаты, которые вы получили с помощью `number_tracks`."
   ]
  },
  {
   "cell_type": "code",
   "execution_count": 220,
   "metadata": {
    "deletable": false,
    "id": "APAcLpOr_Zcu"
   },
   "outputs": [
    {
     "data": {
      "text/html": [
       "<div>\n",
       "<style scoped>\n",
       "    .dataframe tbody tr th:only-of-type {\n",
       "        vertical-align: middle;\n",
       "    }\n",
       "\n",
       "    .dataframe tbody tr th {\n",
       "        vertical-align: top;\n",
       "    }\n",
       "\n",
       "    .dataframe thead th {\n",
       "        text-align: right;\n",
       "    }\n",
       "</style>\n",
       "<table border=\"1\" class=\"dataframe\">\n",
       "  <thead>\n",
       "    <tr style=\"text-align: right;\">\n",
       "      <th></th>\n",
       "      <th>city</th>\n",
       "      <th>monday</th>\n",
       "      <th>wednesday</th>\n",
       "      <th>friday</th>\n",
       "    </tr>\n",
       "  </thead>\n",
       "  <tbody>\n",
       "    <tr>\n",
       "      <th>0</th>\n",
       "      <td>Moscow</td>\n",
       "      <td>15740</td>\n",
       "      <td>11056</td>\n",
       "      <td>15945</td>\n",
       "    </tr>\n",
       "    <tr>\n",
       "      <th>1</th>\n",
       "      <td>Saint-Petersburg</td>\n",
       "      <td>5614</td>\n",
       "      <td>7003</td>\n",
       "      <td>5895</td>\n",
       "    </tr>\n",
       "  </tbody>\n",
       "</table>\n",
       "</div>"
      ],
      "text/plain": [
       "               city  monday  wednesday  friday\n",
       "0            Moscow   15740      11056   15945\n",
       "1  Saint-Petersburg    5614       7003    5895"
      ]
     },
     "execution_count": 220,
     "metadata": {},
     "output_type": "execute_result"
    }
   ],
   "source": [
    "data = [['Moscow', 15740, 11056, 15945], ['Saint-Petersburg', 5614, 7003, 5895]]# Таблица с результатами\n",
    "pd.DataFrame(data=data, columns = ['city', 'monday', 'wednesday', 'friday'])"
   ]
  },
  {
   "cell_type": "markdown",
   "metadata": {
    "deletable": false,
    "editable": false,
    "id": "-EgPIHYu_Zcu"
   },
   "source": [
    "**Выводы**\n",
    "\n",
    "Данные показывают разницу поведения пользователей:\n",
    "\n",
    "- В Москве пик прослушиваний приходится на понедельник и пятницу, а в среду заметен спад.\n",
    "- В Петербурге, наоборот, больше слушают музыку по средам. Активность в понедельник и пятницу здесь почти в равной мере уступает среде.\n",
    "\n",
    "Значит, данные говорят в пользу первой гипотезы."
   ]
  },
  {
   "cell_type": "markdown",
   "metadata": {
    "deletable": false,
    "editable": false,
    "id": "atZAxtq4_Zcu"
   },
   "source": [
    "### Музыка в начале и в конце недели"
   ]
  },
  {
   "cell_type": "markdown",
   "metadata": {
    "deletable": false,
    "editable": false,
    "id": "eXrQqXFH_Zcu"
   },
   "source": [
    "Согласно второй гипотезе, утром в понедельник в Москве преобладают одни жанры, а в Петербурге — другие. Так же и вечером пятницы преобладают разные жанры — в зависимости от города."
   ]
  },
  {
   "cell_type": "markdown",
   "metadata": {
    "deletable": false,
    "editable": false,
    "id": "S8UcW6Hw_Zcu",
    "tags": [
     "start_task"
    ]
   },
   "source": [
    "**Задание 23**\n",
    "\n",
    "Сохраните таблицы с данными в две переменные:\n",
    "* по Москве — в `moscow_general`;\n",
    "* по Санкт-Петербургу — в `spb_general`."
   ]
  },
  {
   "cell_type": "code",
   "execution_count": 239,
   "metadata": {
    "deletable": false,
    "id": "qeaFfM_P_Zcu"
   },
   "outputs": [],
   "source": [
    "moscow_general = df[df['city'] == 'Moscow']# получение таблицы moscow_general из тех строк таблицы df, \n",
    "# для которых значение в столбце 'city' равно 'Moscow'\n"
   ]
  },
  {
   "cell_type": "code",
   "execution_count": 240,
   "metadata": {
    "deletable": false,
    "id": "ORaVRKto_Zcu"
   },
   "outputs": [],
   "source": [
    "spb_general = df[df['city'] == 'Saint-Petersburg']# получение таблицы spb_general из тех строк таблицы df,\n",
    "# для которых значение в столбце 'city' равно 'Saint-Petersburg'\n"
   ]
  },
  {
   "cell_type": "markdown",
   "metadata": {
    "deletable": false,
    "id": "MEJV-CX2_Zcu",
    "tags": [
     "start_task"
    ]
   },
   "source": [
    "**Задание 24**\n",
    "\n",
    "Создайте функцию `genre_weekday()` с четырьмя параметрами:\n",
    "* таблица (датафрейм) с данными,\n",
    "* день недели,\n",
    "* начальная временная метка в формате 'hh:mm', \n",
    "* последняя временная метка в формате 'hh:mm'.\n",
    "\n",
    "Функция должна вернуть информацию о топ-10 жанров тех треков, которые прослушивали в указанный день, в промежутке между двумя отметками времени."
   ]
  },
  {
   "cell_type": "code",
   "execution_count": 273,
   "metadata": {
    "deletable": false,
    "id": "laJT9BYl_Zcu"
   },
   "outputs": [],
   "source": [
    "def genre_weekday(df, day, time1, time2):# Объявление функции genre_weekday() с параметрами df, day, time1, time2,\n",
    "    genre_df = df[df['day'] == day]\n",
    "    genre_df = genre_df[genre_df['time'] > time1]\n",
    "    genre_df = genre_df[genre_df['time'] < time2]\n",
    "    genre_df_grouped = genre_df.groupby('genre')['time'].count()\n",
    "    genre_df_sorted = genre_df_grouped.sort_values(ascending=False)\n",
    "    return genre_df_sorted[:10]\n",
    "\n",
    "# которая возвращает информацию о самых популярных жанрах в указанный день в\n",
    "# заданное время:\n",
    "# 1) в переменную genre_df сохраняются те строки переданного датафрейма df, для\n",
    "#    которых одновременно:\n",
    "#    - значение в столбце day равно значению аргумента day\n",
    "#    - значение в столбце time больше значения аргумента time1\n",
    "#    - значение в столбце time меньше значения аргумента time2\n",
    "#    Используйте последовательную фильтрацию с помощью логической индексации.\n",
    "# 2) сгруппировать датафрейм genre_df по столбцу genre, взять один из его\n",
    "#    столбцов и посчитать методом count() количество записей для каждого из\n",
    "#    присутствующих жанров, получившийся Series записать в переменную\n",
    "#    genre_df_grouped\n",
    "# 3) отсортировать genre_df_grouped по убыванию встречаемости и сохранить\n",
    "#    в переменную genre_df_sorted\n",
    "# 4) вернуть Series из 10 первых значений genre_df_sorted, это будут топ-10\n",
    "#    популярных жанров (в указанный день, в заданное время)"
   ]
  },
  {
   "cell_type": "markdown",
   "metadata": {
    "deletable": false,
    "editable": false,
    "id": "la2s2_PF_Zcu",
    "tags": [
     "start_task"
    ]
   },
   "source": [
    "**Задание 25**\n",
    "\n",
    "\n",
    "Cравните результаты функции `genre_weekday()` для Москвы и Санкт-Петербурга в понедельник утром (с 7:00 до 11:00) и в пятницу вечером (с 17:00 до 23:00):"
   ]
  },
  {
   "cell_type": "code",
   "execution_count": 286,
   "metadata": {
    "deletable": false,
    "id": "yz7itPUQ_Zcu"
   },
   "outputs": [
    {
     "data": {
      "text/plain": [
       "Series([], Name: time, dtype: int64)"
      ]
     },
     "execution_count": 286,
     "metadata": {},
     "output_type": "execute_result"
    }
   ],
   "source": [
    "genre_weekday(moscow_general, 'Monday', '07:00', '11:00')# вызов функции для утра понедельника в Москве (вместо df — таблица moscow_general)\n",
    "# объекты, хранящие время, являются строками и сравниваются как строки\n",
    "# пример вызова: genre_weekday(moscow_general, 'Monday', '07:00', '11:00')"
   ]
  },
  {
   "cell_type": "code",
   "execution_count": 292,
   "metadata": {
    "deletable": false,
    "id": "kwUcHPdy_Zcu"
   },
   "outputs": [
    {
     "data": {
      "text/plain": [
       "Series([], Name: time, dtype: int64)"
      ]
     },
     "execution_count": 292,
     "metadata": {},
     "output_type": "execute_result"
    }
   ],
   "source": [
    "genre_weekday(spb_general, 'Monday', '07:00', '11:00')# вызов функции для утра понедельника в Петербурге (вместо df — таблица spb_general)"
   ]
  },
  {
   "cell_type": "code",
   "execution_count": 288,
   "metadata": {
    "deletable": false,
    "id": "EzXVRE1o_Zcu"
   },
   "outputs": [
    {
     "data": {
      "text/plain": [
       "Series([], Name: time, dtype: int64)"
      ]
     },
     "execution_count": 288,
     "metadata": {},
     "output_type": "execute_result"
    }
   ],
   "source": [
    "genre_weekday(moscow_general, 'Friday', '17:00', '23:00')# вызов функции для вечера пятницы в Москве"
   ]
  },
  {
   "cell_type": "code",
   "execution_count": 289,
   "metadata": {
    "deletable": false,
    "id": "JZaEKu5v_Zcu"
   },
   "outputs": [
    {
     "data": {
      "text/plain": [
       "Series([], Name: time, dtype: int64)"
      ]
     },
     "execution_count": 289,
     "metadata": {},
     "output_type": "execute_result"
    }
   ],
   "source": [
    "genre_weekday(spb_general, 'Friday', '17:00', '23:00')# вызов функции для вечера пятницы в Петербурге"
   ]
  },
  {
   "cell_type": "markdown",
   "metadata": {
    "deletable": false,
    "editable": false,
    "id": "wrCe4MNX_Zcu"
   },
   "source": [
    "**Выводы**\n",
    "\n",
    "Если сравнить топ-10 жанров в понедельник утром, можно сделать такие выводы:\n",
    "\n",
    "1. В Москве и Петербурге слушают похожую музыку. Единственное отличие — в московский рейтинг вошёл жанр “world”, а в петербургский — джаз и классика.\n",
    "\n",
    "2. В Москве пропущенных значений оказалось так много, что значение `'unknown'` заняло десятое место среди самых популярных жанров. Значит, пропущенные значения занимают существенную долю в данных и угрожают достоверности исследования.\n",
    "\n",
    "Вечер пятницы не меняет эту картину. Некоторые жанры поднимаются немного выше, другие спускаются, но в целом топ-10 остаётся тем же самым.\n",
    "\n",
    "Таким образом, вторая гипотеза подтвердилась лишь частично:\n",
    "* Пользователи слушают похожую музыку в начале недели и в конце.\n",
    "* Разница между Москвой и Петербургом не слишком выражена. В Москве чаще слушают русскую популярную музыку, в Петербурге — джаз.\n",
    "\n",
    "Однако пропуски в данных ставят под сомнение этот результат. В Москве их так много, что рейтинг топ-10 мог бы выглядеть иначе, если бы не утерянные  данные о жанрах."
   ]
  },
  {
   "cell_type": "markdown",
   "metadata": {
    "deletable": false,
    "editable": false,
    "id": "JolODAqr_Zcu"
   },
   "source": [
    "### Жанровые предпочтения в Москве и Петербурге\n",
    "\n",
    "Гипотеза: Петербург — столица рэпа, музыку этого жанра там слушают чаще, чем в Москве.  А Москва — город контрастов, в котором, тем не менее, преобладает поп-музыка."
   ]
  },
  {
   "cell_type": "markdown",
   "metadata": {
    "deletable": false,
    "editable": false,
    "id": "DlegSvaT_Zcu",
    "tags": [
     "start_task"
    ]
   },
   "source": [
    "**Задание 26**\n",
    "\n",
    "Сгруппируйте таблицу `moscow_general` по жанру и посчитайте прослушивания треков каждого жанра методом `count()`. Затем отсортируйте результат в порядке убывания и сохраните его в таблице `moscow_genres`."
   ]
  },
  {
   "cell_type": "code",
   "execution_count": 295,
   "metadata": {
    "deletable": false,
    "id": "r19lIPke_Zcu"
   },
   "outputs": [],
   "source": [
    "moscow_genres = moscow_general.groupby('genre')['genre'].count().sort_values(ascending=False)# одной строкой: группировка таблицы moscow_general по столбцу 'genre', \n",
    "# подсчёт числа значений 'genre' в этой группировке методом count(), \n",
    "# сортировка получившегося Series в порядке убывания и сохранение в moscow_genres"
   ]
  },
  {
   "cell_type": "markdown",
   "metadata": {
    "deletable": false,
    "editable": false,
    "id": "6kMuomxTiIr8",
    "tags": [
     "start_task"
    ]
   },
   "source": [
    "**Задание 27**\n",
    "\n",
    "Выведите на экран первые десять строк `moscow_genres`:"
   ]
  },
  {
   "cell_type": "code",
   "execution_count": 296,
   "metadata": {
    "deletable": false,
    "id": "WhCSooF8_Zcv"
   },
   "outputs": [
    {
     "data": {
      "text/plain": [
       "genre\n",
       "pop            5892\n",
       "dance          4435\n",
       "rock           3965\n",
       "electronic     3786\n",
       "hiphop         2096\n",
       "classical      1616\n",
       "world          1432\n",
       "alternative    1379\n",
       "ruspop         1372\n",
       "rusrap         1161\n",
       "Name: genre, dtype: int64"
      ]
     },
     "execution_count": 296,
     "metadata": {},
     "output_type": "execute_result"
    }
   ],
   "source": [
    "moscow_genres.head(10)# просмотр первых 10 строк moscow_genres"
   ]
  },
  {
   "cell_type": "markdown",
   "metadata": {
    "deletable": false,
    "editable": false,
    "id": "cnPG2vnN_Zcv",
    "tags": [
     "start_task"
    ]
   },
   "source": [
    "**Задание 28**\n",
    "\n",
    "\n",
    "Теперь повторите то же и для Петербурга.\n",
    "\n",
    "Сгруппируйте таблицу `spb_general` по жанру. Посчитайте прослушивания треков каждого жанра. Результат отсортируйте в порядке убывания и сохраните в таблице `spb_genres`:\n"
   ]
  },
  {
   "cell_type": "code",
   "execution_count": 297,
   "metadata": {
    "deletable": false,
    "id": "gluLIpE7_Zcv"
   },
   "outputs": [],
   "source": [
    "spb_genres = spb_general.groupby('genre')['genre'].count().sort_values(ascending=False)# одной строкой: группировка таблицы spb_general по столбцу 'genre', \n",
    "# подсчёт числа значений 'genre' в этой группировке методом count(), \n",
    "# сортировка получившегося Series в порядке убывания и сохранение в spb_genres"
   ]
  },
  {
   "cell_type": "markdown",
   "metadata": {
    "deletable": false,
    "editable": false,
    "id": "5Doha_ODgyQ8",
    "tags": [
     "start_task"
    ]
   },
   "source": [
    "**Задание 29**\n",
    "\n",
    "Выведите на экран первые десять строк `spb_genres`:"
   ]
  },
  {
   "cell_type": "code",
   "execution_count": 299,
   "metadata": {
    "deletable": false,
    "id": "uaGJHjVU_Zcv"
   },
   "outputs": [
    {
     "data": {
      "text/plain": [
       "genre\n",
       "pop            2431\n",
       "dance          1932\n",
       "rock           1879\n",
       "electronic     1736\n",
       "hiphop          960\n",
       "alternative     649\n",
       "classical       646\n",
       "rusrap          564\n",
       "ruspop          538\n",
       "world           515\n",
       "Name: genre, dtype: int64"
      ]
     },
     "execution_count": 299,
     "metadata": {},
     "output_type": "execute_result"
    }
   ],
   "source": [
    "spb_genres.head(10)# просмотр первых 10 строк spb_genres"
   ]
  },
  {
   "cell_type": "markdown",
   "metadata": {
    "deletable": false,
    "editable": false,
    "id": "RY51YJYu_Zcv"
   },
   "source": [
    "**Выводы**"
   ]
  },
  {
   "cell_type": "markdown",
   "metadata": {
    "deletable": false,
    "editable": false,
    "id": "nVhnJEm__Zcv"
   },
   "source": [
    "Гипотеза частично подтвердилась:\n",
    "* Поп-музыка — самый популярный жанр в Москве, как и предполагала гипотеза. Более того, в топ-10 жанров встречается близкий жанр — русская популярная музыка.\n",
    "* Вопреки ожиданиям, рэп одинаково популярен в Москве и Петербурге. \n"
   ]
  },
  {
   "cell_type": "markdown",
   "metadata": {
    "deletable": false,
    "editable": false,
    "id": "ykKQ0N65_Zcv"
   },
   "source": [
    "## Итоги исследования"
   ]
  },
  {
   "cell_type": "markdown",
   "metadata": {
    "deletable": false,
    "editable": false,
    "id": "tjUwbHb3_Zcv"
   },
   "source": [
    "Вы проверили три гипотезы и установили:\n",
    "\n",
    "1. День недели по-разному влияет на активность пользователей в Москве и Петербурге. \n",
    "\n",
    "Первая гипотеза полностью подтвердилась.\n",
    "\n",
    "2. Музыкальные предпочтения не сильно меняются в течение недели — будь то Москва или Петербург. Небольшие различия заметны в начале недели, по понедельникам:\n",
    "* в Москве слушают музыку жанра “world”,\n",
    "* в Петербурге — джаз и классику.\n",
    "\n",
    "Таким образом, вторая гипотеза подтвердилась лишь отчасти. Этот результат мог оказаться иным, если бы не пропуски в данных.\n",
    "\n",
    "3. Во вкусах пользователей Москвы и Петербурга больше общего чем различий. Вопреки ожиданиям, предпочтения жанров в Петербурге напоминают московские.\n",
    "\n",
    "Третья гипотеза не подтвердилась. Если различия в предпочтениях и существуют, на основной массе пользователей они незаметны.\n",
    "\n",
    "**На практике исследования содержат проверки статистических гипотез.**\n",
    "Из данных одного сервиса не всегда можно сделать вывод о всех жителях города.\n",
    "Проверки статистических гипотез покажут, насколько они достоверны, исходя из имеющихся данных. \n",
    "С методами проверок гипотез вы ещё познакомитесь в следующих темах."
   ]
  }
 ],
 "metadata": {
  "ExecuteTimeLog": [
   {
    "duration": 59,
    "start_time": "2023-06-09T19:51:02.607Z"
   },
   {
    "duration": 5,
    "start_time": "2023-06-09T19:51:28.571Z"
   },
   {
    "duration": 9,
    "start_time": "2023-06-09T19:51:42.709Z"
   },
   {
    "duration": 6,
    "start_time": "2023-06-09T19:51:50.976Z"
   },
   {
    "duration": 359,
    "start_time": "2023-06-09T19:52:01.452Z"
   },
   {
    "duration": 3,
    "start_time": "2023-06-09T19:52:06.067Z"
   },
   {
    "duration": 100,
    "start_time": "2023-06-09T19:52:18.604Z"
   },
   {
    "duration": 68,
    "start_time": "2023-06-09T19:52:34.624Z"
   },
   {
    "duration": 499,
    "start_time": "2023-06-09T19:54:10.900Z"
   },
   {
    "duration": 157,
    "start_time": "2023-06-09T19:54:17.229Z"
   },
   {
    "duration": 8,
    "start_time": "2023-06-09T19:54:20.644Z"
   },
   {
    "duration": 17,
    "start_time": "2023-06-09T19:54:37.000Z"
   },
   {
    "duration": 127,
    "start_time": "2023-06-09T19:55:55.885Z"
   },
   {
    "duration": 6,
    "start_time": "2023-06-09T19:56:08.435Z"
   },
   {
    "duration": 24,
    "start_time": "2023-06-09T19:56:22.283Z"
   },
   {
    "duration": 66,
    "start_time": "2023-06-10T09:16:36.755Z"
   },
   {
    "duration": 6,
    "start_time": "2023-06-10T09:16:49.602Z"
   },
   {
    "duration": 7,
    "start_time": "2023-06-10T09:17:49.697Z"
   },
   {
    "duration": 113,
    "start_time": "2023-06-10T09:20:06.826Z"
   },
   {
    "duration": 114,
    "start_time": "2023-06-10T09:20:32.787Z"
   },
   {
    "duration": 226,
    "start_time": "2023-06-10T09:21:06.301Z"
   },
   {
    "duration": 15,
    "start_time": "2023-06-10T09:21:24.975Z"
   },
   {
    "duration": 128,
    "start_time": "2023-06-10T09:21:48.705Z"
   },
   {
    "duration": 11,
    "start_time": "2023-06-10T09:21:59.753Z"
   },
   {
    "duration": 131,
    "start_time": "2023-06-10T09:22:06.898Z"
   },
   {
    "duration": 7,
    "start_time": "2023-06-10T09:25:39.688Z"
   },
   {
    "duration": 2,
    "start_time": "2023-06-10T09:25:43.020Z"
   },
   {
    "duration": 133,
    "start_time": "2023-06-10T09:25:48.298Z"
   },
   {
    "duration": 4,
    "start_time": "2023-06-10T09:25:55.082Z"
   },
   {
    "duration": 131,
    "start_time": "2023-06-10T09:29:25.016Z"
   },
   {
    "duration": 137,
    "start_time": "2023-06-10T09:29:41.810Z"
   },
   {
    "duration": 133,
    "start_time": "2023-06-10T09:29:45.580Z"
   },
   {
    "duration": 151,
    "start_time": "2023-06-10T09:30:15.527Z"
   },
   {
    "duration": 127,
    "start_time": "2023-06-10T09:30:21.712Z"
   },
   {
    "duration": 126,
    "start_time": "2023-06-10T09:30:25.202Z"
   },
   {
    "duration": 10,
    "start_time": "2023-06-10T09:30:31.954Z"
   },
   {
    "duration": 4,
    "start_time": "2023-06-10T09:30:37.349Z"
   },
   {
    "duration": 7,
    "start_time": "2023-06-10T09:30:39.296Z"
   },
   {
    "duration": 4,
    "start_time": "2023-06-10T09:30:40.527Z"
   },
   {
    "duration": 10,
    "start_time": "2023-06-10T09:30:41.763Z"
   },
   {
    "duration": 4,
    "start_time": "2023-06-10T09:30:46.225Z"
   },
   {
    "duration": 3,
    "start_time": "2023-06-10T09:30:56.110Z"
   },
   {
    "duration": 11,
    "start_time": "2023-06-10T09:31:03.190Z"
   },
   {
    "duration": 12,
    "start_time": "2023-06-10T09:31:07.673Z"
   },
   {
    "duration": 8,
    "start_time": "2023-06-10T09:31:18.001Z"
   },
   {
    "duration": 13,
    "start_time": "2023-06-10T09:31:25.752Z"
   },
   {
    "duration": 3115,
    "start_time": "2023-06-10T09:31:31.321Z"
   },
   {
    "duration": 604,
    "start_time": "2023-06-10T09:31:37.079Z"
   },
   {
    "duration": 35,
    "start_time": "2023-06-10T09:31:40.552Z"
   },
   {
    "duration": 40,
    "start_time": "2023-06-10T09:31:44.087Z"
   },
   {
    "duration": 9,
    "start_time": "2023-06-10T09:31:51.797Z"
   },
   {
    "duration": 4,
    "start_time": "2023-06-10T09:31:55.425Z"
   },
   {
    "duration": 9,
    "start_time": "2023-06-10T09:32:21.477Z"
   },
   {
    "duration": 9,
    "start_time": "2023-06-10T09:32:48.753Z"
   },
   {
    "duration": 8,
    "start_time": "2023-06-10T09:33:00.194Z"
   },
   {
    "duration": 8,
    "start_time": "2023-06-10T09:34:30.076Z"
   },
   {
    "duration": 10,
    "start_time": "2023-06-10T09:34:32.256Z"
   },
   {
    "duration": 119,
    "start_time": "2023-06-10T09:37:27.578Z"
   },
   {
    "duration": 131,
    "start_time": "2023-06-10T09:37:44.114Z"
   },
   {
    "duration": 138,
    "start_time": "2023-06-10T09:38:11.501Z"
   },
   {
    "duration": 122,
    "start_time": "2023-06-10T09:38:17.502Z"
   },
   {
    "duration": 132,
    "start_time": "2023-06-10T10:57:48.414Z"
   },
   {
    "duration": 4,
    "start_time": "2023-06-10T10:58:13.573Z"
   },
   {
    "duration": 3,
    "start_time": "2023-06-10T10:58:20.548Z"
   },
   {
    "duration": 29,
    "start_time": "2023-06-10T13:03:40.644Z"
   },
   {
    "duration": 11,
    "start_time": "2023-06-10T13:04:39.276Z"
   },
   {
    "duration": 9,
    "start_time": "2023-06-10T13:04:41.348Z"
   },
   {
    "duration": 8,
    "start_time": "2023-06-10T13:04:48.707Z"
   },
   {
    "duration": 9,
    "start_time": "2023-06-10T13:05:01.648Z"
   },
   {
    "duration": 9,
    "start_time": "2023-06-10T13:05:07.819Z"
   },
   {
    "duration": 8,
    "start_time": "2023-06-10T13:05:23.874Z"
   },
   {
    "duration": 8,
    "start_time": "2023-06-10T13:05:33.764Z"
   },
   {
    "duration": 9,
    "start_time": "2023-06-10T13:05:54.221Z"
   },
   {
    "duration": 7,
    "start_time": "2023-06-10T13:06:05.148Z"
   },
   {
    "duration": 8,
    "start_time": "2023-06-10T13:06:16.012Z"
   },
   {
    "duration": 105,
    "start_time": "2023-06-10T13:06:59.812Z"
   },
   {
    "duration": 9,
    "start_time": "2023-06-10T13:07:09.438Z"
   },
   {
    "duration": 9,
    "start_time": "2023-06-10T13:07:20.154Z"
   },
   {
    "duration": 10,
    "start_time": "2023-06-10T13:07:25.864Z"
   },
   {
    "duration": 8,
    "start_time": "2023-06-10T13:08:44.522Z"
   },
   {
    "duration": 9,
    "start_time": "2023-06-10T13:09:01.496Z"
   },
   {
    "duration": 4,
    "start_time": "2023-06-10T13:10:42.987Z"
   },
   {
    "duration": 4,
    "start_time": "2023-06-10T13:10:55.827Z"
   },
   {
    "duration": 8,
    "start_time": "2023-06-10T13:11:01.499Z"
   },
   {
    "duration": 10,
    "start_time": "2023-06-10T13:11:05.628Z"
   },
   {
    "duration": 8,
    "start_time": "2023-06-10T13:11:13.404Z"
   },
   {
    "duration": 8,
    "start_time": "2023-06-10T13:12:47.522Z"
   },
   {
    "duration": 7,
    "start_time": "2023-06-10T13:12:56.187Z"
   },
   {
    "duration": 10,
    "start_time": "2023-06-10T13:13:05.081Z"
   },
   {
    "duration": 7,
    "start_time": "2023-06-10T13:14:37.827Z"
   },
   {
    "duration": 7,
    "start_time": "2023-06-10T13:14:44.127Z"
   },
   {
    "duration": 8,
    "start_time": "2023-06-10T13:15:24.444Z"
   },
   {
    "duration": 8,
    "start_time": "2023-06-10T13:15:29.918Z"
   },
   {
    "duration": 11,
    "start_time": "2023-06-10T13:15:59.235Z"
   },
   {
    "duration": 7,
    "start_time": "2023-06-10T13:16:09.753Z"
   },
   {
    "duration": 9,
    "start_time": "2023-06-10T13:16:31.736Z"
   },
   {
    "duration": 107,
    "start_time": "2023-06-10T13:24:48.590Z"
   },
   {
    "duration": 105,
    "start_time": "2023-06-10T13:25:27.675Z"
   },
   {
    "duration": 10,
    "start_time": "2023-06-10T13:27:26.962Z"
   },
   {
    "duration": 10,
    "start_time": "2023-06-10T13:27:58.933Z"
   },
   {
    "duration": 150,
    "start_time": "2023-06-10T13:29:13.705Z"
   },
   {
    "duration": 11,
    "start_time": "2023-06-10T13:29:27.005Z"
   },
   {
    "duration": 12,
    "start_time": "2023-06-10T13:31:52.843Z"
   },
   {
    "duration": 11,
    "start_time": "2023-06-10T13:32:51.218Z"
   },
   {
    "duration": 8,
    "start_time": "2023-06-10T13:32:54.940Z"
   },
   {
    "duration": 8,
    "start_time": "2023-06-10T13:33:08.131Z"
   },
   {
    "duration": 7,
    "start_time": "2023-06-10T13:35:28.157Z"
   },
   {
    "duration": 8,
    "start_time": "2023-06-10T13:37:01.278Z"
   },
   {
    "duration": 9,
    "start_time": "2023-06-10T13:37:27.287Z"
   },
   {
    "duration": 75,
    "start_time": "2023-06-10T13:38:59.096Z"
   },
   {
    "duration": 8,
    "start_time": "2023-06-10T13:43:18.106Z"
   },
   {
    "duration": 7,
    "start_time": "2023-06-10T13:43:29.658Z"
   },
   {
    "duration": 7,
    "start_time": "2023-06-10T13:44:01.426Z"
   },
   {
    "duration": 7,
    "start_time": "2023-06-10T13:48:21.592Z"
   },
   {
    "duration": 8,
    "start_time": "2023-06-10T13:48:27.467Z"
   },
   {
    "duration": 8,
    "start_time": "2023-06-10T13:48:59.719Z"
   },
   {
    "duration": 7,
    "start_time": "2023-06-10T13:49:05.824Z"
   },
   {
    "duration": 8,
    "start_time": "2023-06-10T13:49:47.106Z"
   },
   {
    "duration": 7,
    "start_time": "2023-06-10T13:50:00.673Z"
   },
   {
    "duration": 8,
    "start_time": "2023-06-10T13:53:51.442Z"
   },
   {
    "duration": 7,
    "start_time": "2023-06-10T13:54:12.178Z"
   },
   {
    "duration": 111,
    "start_time": "2023-06-10T13:54:18.962Z"
   },
   {
    "duration": 7,
    "start_time": "2023-06-10T13:54:22.655Z"
   },
   {
    "duration": 7,
    "start_time": "2023-06-10T13:54:33.565Z"
   },
   {
    "duration": 98,
    "start_time": "2023-06-10T13:54:41.340Z"
   },
   {
    "duration": 8,
    "start_time": "2023-06-10T13:54:52.803Z"
   },
   {
    "duration": 6,
    "start_time": "2023-06-10T13:55:19.524Z"
   },
   {
    "duration": 10,
    "start_time": "2023-06-10T14:00:13.728Z"
   },
   {
    "duration": 10,
    "start_time": "2023-06-10T14:00:52.810Z"
   },
   {
    "duration": 7,
    "start_time": "2023-06-10T14:01:06.626Z"
   },
   {
    "duration": 8,
    "start_time": "2023-06-10T14:01:12.441Z"
   },
   {
    "duration": 8,
    "start_time": "2023-06-10T14:01:17.297Z"
   },
   {
    "duration": 9,
    "start_time": "2023-06-10T14:03:39.922Z"
   },
   {
    "duration": 113,
    "start_time": "2023-06-10T14:03:43.941Z"
   },
   {
    "duration": 7,
    "start_time": "2023-06-10T14:03:55.418Z"
   },
   {
    "duration": 7,
    "start_time": "2023-06-10T14:04:03.194Z"
   },
   {
    "duration": 8,
    "start_time": "2023-06-10T14:04:12.811Z"
   },
   {
    "duration": 101,
    "start_time": "2023-06-10T14:07:11.338Z"
   },
   {
    "duration": 10,
    "start_time": "2023-06-10T14:07:28.453Z"
   },
   {
    "duration": 7,
    "start_time": "2023-06-10T14:08:49.299Z"
   },
   {
    "duration": 6,
    "start_time": "2023-06-10T14:09:02.336Z"
   },
   {
    "duration": 7,
    "start_time": "2023-06-10T14:09:20.714Z"
   },
   {
    "duration": 7,
    "start_time": "2023-06-10T14:09:54.082Z"
   },
   {
    "duration": 9,
    "start_time": "2023-06-10T14:10:06.263Z"
   },
   {
    "duration": 7,
    "start_time": "2023-06-10T14:10:34.987Z"
   },
   {
    "duration": 9,
    "start_time": "2023-06-10T14:10:49.395Z"
   },
   {
    "duration": 8,
    "start_time": "2023-06-10T14:10:56.715Z"
   },
   {
    "duration": 7,
    "start_time": "2023-06-10T14:11:04.192Z"
   },
   {
    "duration": 8,
    "start_time": "2023-06-10T14:12:59.764Z"
   },
   {
    "duration": 7,
    "start_time": "2023-06-10T14:13:03.674Z"
   },
   {
    "duration": 7,
    "start_time": "2023-06-10T14:13:16.027Z"
   },
   {
    "duration": 6,
    "start_time": "2023-06-10T14:13:48.259Z"
   },
   {
    "duration": 8,
    "start_time": "2023-06-10T14:13:55.167Z"
   },
   {
    "duration": 8,
    "start_time": "2023-06-10T14:17:01.037Z"
   },
   {
    "duration": 5,
    "start_time": "2023-06-10T14:22:00.582Z"
   },
   {
    "duration": 3,
    "start_time": "2023-06-10T14:22:03.833Z"
   },
   {
    "duration": 9,
    "start_time": "2023-06-10T14:22:09.087Z"
   },
   {
    "duration": 7,
    "start_time": "2023-06-10T14:22:48.682Z"
   },
   {
    "duration": 4,
    "start_time": "2023-06-10T14:23:15.690Z"
   },
   {
    "duration": 5,
    "start_time": "2023-06-10T14:23:57.220Z"
   },
   {
    "duration": 3,
    "start_time": "2023-06-10T14:24:01.385Z"
   },
   {
    "duration": 4,
    "start_time": "2023-06-10T14:24:06.546Z"
   },
   {
    "duration": 7,
    "start_time": "2023-06-10T14:24:13.603Z"
   },
   {
    "duration": 8,
    "start_time": "2023-06-10T14:24:21.596Z"
   },
   {
    "duration": 150,
    "start_time": "2023-06-10T14:34:26.425Z"
   },
   {
    "duration": 197,
    "start_time": "2023-06-10T14:34:39.578Z"
   },
   {
    "duration": 96,
    "start_time": "2023-06-10T14:34:55.658Z"
   },
   {
    "duration": 108,
    "start_time": "2023-06-10T14:35:44.073Z"
   },
   {
    "duration": 100,
    "start_time": "2023-06-10T14:36:11.369Z"
   },
   {
    "duration": 2,
    "start_time": "2023-06-10T14:36:55.972Z"
   },
   {
    "duration": 3,
    "start_time": "2023-06-10T14:36:58.995Z"
   },
   {
    "duration": 8,
    "start_time": "2023-06-10T14:37:22.154Z"
   },
   {
    "duration": 10,
    "start_time": "2023-06-10T14:38:03.439Z"
   },
   {
    "duration": 7,
    "start_time": "2023-06-10T14:38:16.918Z"
   },
   {
    "duration": 6,
    "start_time": "2023-06-10T14:38:18.741Z"
   },
   {
    "duration": 8,
    "start_time": "2023-06-10T14:38:28.714Z"
   },
   {
    "duration": 3,
    "start_time": "2023-06-10T14:38:32.031Z"
   },
   {
    "duration": 7,
    "start_time": "2023-06-10T14:40:34.194Z"
   },
   {
    "duration": 8,
    "start_time": "2023-06-10T14:40:39.515Z"
   },
   {
    "duration": 8,
    "start_time": "2023-06-10T14:40:54.773Z"
   },
   {
    "duration": 6,
    "start_time": "2023-06-10T14:41:35.520Z"
   },
   {
    "duration": 7,
    "start_time": "2023-06-10T14:41:48.764Z"
   },
   {
    "duration": 8,
    "start_time": "2023-06-10T14:42:15.807Z"
   },
   {
    "duration": 9,
    "start_time": "2023-06-10T14:42:20.266Z"
   },
   {
    "duration": 9,
    "start_time": "2023-06-10T14:42:23.599Z"
   },
   {
    "duration": 7,
    "start_time": "2023-06-10T14:42:50.195Z"
   },
   {
    "duration": 7,
    "start_time": "2023-06-10T14:43:04.924Z"
   },
   {
    "duration": 6,
    "start_time": "2023-06-10T14:43:21.637Z"
   },
   {
    "duration": 7,
    "start_time": "2023-06-10T14:43:23.529Z"
   },
   {
    "duration": 6,
    "start_time": "2023-06-10T14:43:26.223Z"
   },
   {
    "duration": 8,
    "start_time": "2023-06-10T14:43:27.470Z"
   },
   {
    "duration": 439,
    "start_time": "2023-06-10T14:43:30.145Z"
   },
   {
    "duration": 6,
    "start_time": "2023-06-10T14:43:31.857Z"
   },
   {
    "duration": 463,
    "start_time": "2023-06-10T14:43:36.872Z"
   },
   {
    "duration": 19,
    "start_time": "2023-06-10T14:43:39.765Z"
   },
   {
    "duration": 33,
    "start_time": "2023-06-10T14:43:42.697Z"
   },
   {
    "duration": 2,
    "start_time": "2023-06-10T14:43:47.776Z"
   },
   {
    "duration": 5,
    "start_time": "2023-06-10T14:43:50.537Z"
   },
   {
    "duration": 12,
    "start_time": "2023-06-10T14:44:04.289Z"
   },
   {
    "duration": 15,
    "start_time": "2023-06-10T14:44:07.985Z"
   },
   {
    "duration": 14,
    "start_time": "2023-06-10T14:44:12.652Z"
   },
   {
    "duration": 4,
    "start_time": "2023-06-10T14:44:14.400Z"
   },
   {
    "duration": 28,
    "start_time": "2023-06-10T14:44:18.610Z"
   },
   {
    "duration": 50,
    "start_time": "2023-06-10T14:44:27.185Z"
   },
   {
    "duration": 21,
    "start_time": "2023-06-10T14:45:28.303Z"
   },
   {
    "duration": 23,
    "start_time": "2023-06-10T14:45:48.285Z"
   },
   {
    "duration": 11,
    "start_time": "2023-06-10T14:50:01.601Z"
   },
   {
    "duration": 71,
    "start_time": "2023-06-10T14:50:17.871Z"
   },
   {
    "duration": 9,
    "start_time": "2023-06-10T14:50:59.514Z"
   },
   {
    "duration": 11,
    "start_time": "2023-06-10T14:51:52.554Z"
   },
   {
    "duration": 10,
    "start_time": "2023-06-10T14:52:01.539Z"
   },
   {
    "duration": 13,
    "start_time": "2023-06-10T14:52:34.215Z"
   },
   {
    "duration": 153,
    "start_time": "2023-06-10T14:52:58.371Z"
   },
   {
    "duration": 81,
    "start_time": "2023-06-10T14:53:34.091Z"
   },
   {
    "duration": 54,
    "start_time": "2023-06-10T14:54:51.762Z"
   },
   {
    "duration": 3,
    "start_time": "2023-06-10T14:57:51.760Z"
   },
   {
    "duration": 3,
    "start_time": "2023-06-10T14:58:11.033Z"
   },
   {
    "duration": 40,
    "start_time": "2023-06-10T14:59:05.501Z"
   },
   {
    "duration": 78,
    "start_time": "2023-06-10T14:59:15.953Z"
   },
   {
    "duration": 3,
    "start_time": "2023-06-10T15:00:15.865Z"
   },
   {
    "duration": 10,
    "start_time": "2023-06-10T15:01:37.611Z"
   },
   {
    "duration": 4,
    "start_time": "2023-06-10T15:04:00.419Z"
   },
   {
    "duration": 4,
    "start_time": "2023-06-10T15:04:02.537Z"
   },
   {
    "duration": 3,
    "start_time": "2023-06-10T15:04:03.760Z"
   },
   {
    "duration": 9,
    "start_time": "2023-06-10T15:04:08.024Z"
   },
   {
    "duration": 3,
    "start_time": "2023-06-10T15:04:57.872Z"
   },
   {
    "duration": 3,
    "start_time": "2023-06-10T15:05:00.922Z"
   },
   {
    "duration": 9,
    "start_time": "2023-06-10T15:05:03.425Z"
   },
   {
    "duration": 112,
    "start_time": "2023-06-10T15:06:01.529Z"
   },
   {
    "duration": 109,
    "start_time": "2023-06-10T15:06:05.057Z"
   },
   {
    "duration": 0,
    "start_time": "2023-06-10T15:06:55.184Z"
   },
   {
    "duration": 0,
    "start_time": "2023-06-10T15:06:55.186Z"
   },
   {
    "duration": 0,
    "start_time": "2023-06-10T15:07:33.639Z"
   },
   {
    "duration": 112,
    "start_time": "2023-06-10T15:08:09.732Z"
   },
   {
    "duration": 12,
    "start_time": "2023-06-10T15:08:16.810Z"
   },
   {
    "duration": 13,
    "start_time": "2023-06-10T15:08:17.926Z"
   },
   {
    "duration": 15,
    "start_time": "2023-06-10T15:08:18.983Z"
   },
   {
    "duration": 14,
    "start_time": "2023-06-10T15:08:24.314Z"
   },
   {
    "duration": 10,
    "start_time": "2023-06-10T15:09:43.486Z"
   },
   {
    "duration": 4,
    "start_time": "2023-06-10T15:10:35.633Z"
   },
   {
    "duration": 9,
    "start_time": "2023-06-10T15:10:37.986Z"
   },
   {
    "duration": 3,
    "start_time": "2023-06-10T15:10:51.010Z"
   },
   {
    "duration": 18,
    "start_time": "2023-06-10T15:10:53.255Z"
   },
   {
    "duration": 3,
    "start_time": "2023-06-10T15:11:08.677Z"
   },
   {
    "duration": 10,
    "start_time": "2023-06-10T15:11:54.634Z"
   },
   {
    "duration": 12,
    "start_time": "2023-06-10T15:11:56.506Z"
   },
   {
    "duration": 125,
    "start_time": "2023-06-10T15:12:32.395Z"
   },
   {
    "duration": 12,
    "start_time": "2023-06-10T15:13:56.691Z"
   },
   {
    "duration": 20,
    "start_time": "2023-06-10T15:14:01.080Z"
   },
   {
    "duration": 11,
    "start_time": "2023-06-10T15:14:03.242Z"
   },
   {
    "duration": 15,
    "start_time": "2023-06-10T15:14:08.083Z"
   },
   {
    "duration": 11,
    "start_time": "2023-06-10T15:14:13.601Z"
   },
   {
    "duration": 11,
    "start_time": "2023-06-10T15:16:34.873Z"
   },
   {
    "duration": 14,
    "start_time": "2023-06-10T15:16:37.353Z"
   },
   {
    "duration": 11,
    "start_time": "2023-06-10T15:16:58.514Z"
   },
   {
    "duration": 10,
    "start_time": "2023-06-10T15:17:00.985Z"
   },
   {
    "duration": 20,
    "start_time": "2023-06-10T15:26:52.065Z"
   },
   {
    "duration": 10,
    "start_time": "2023-06-10T15:26:54.567Z"
   },
   {
    "duration": 15,
    "start_time": "2023-06-10T15:27:44.011Z"
   },
   {
    "duration": 6,
    "start_time": "2023-06-10T15:27:48.532Z"
   },
   {
    "duration": 19,
    "start_time": "2023-06-10T15:27:50.970Z"
   },
   {
    "duration": 16,
    "start_time": "2023-06-10T15:28:06.179Z"
   },
   {
    "duration": 115,
    "start_time": "2023-06-10T15:30:33.660Z"
   },
   {
    "duration": 111,
    "start_time": "2023-06-10T15:30:53.358Z"
   },
   {
    "duration": 107,
    "start_time": "2023-06-10T15:31:01.575Z"
   },
   {
    "duration": 102,
    "start_time": "2023-06-10T15:31:08.995Z"
   },
   {
    "duration": 11,
    "start_time": "2023-06-10T15:32:00.003Z"
   },
   {
    "duration": 10,
    "start_time": "2023-06-10T15:32:02.301Z"
   },
   {
    "duration": 15,
    "start_time": "2023-06-10T15:33:51.459Z"
   },
   {
    "duration": 10,
    "start_time": "2023-06-10T15:33:54.407Z"
   },
   {
    "duration": 21,
    "start_time": "2023-06-10T15:34:09.254Z"
   },
   {
    "duration": 6,
    "start_time": "2023-06-10T15:34:47.426Z"
   },
   {
    "duration": 21,
    "start_time": "2023-06-10T15:35:25.746Z"
   },
   {
    "duration": 10,
    "start_time": "2023-06-10T15:35:44.717Z"
   },
   {
    "duration": 148,
    "start_time": "2023-06-10T15:39:17.043Z"
   },
   {
    "duration": 6,
    "start_time": "2023-06-10T15:39:22.890Z"
   },
   {
    "duration": 10,
    "start_time": "2023-06-10T15:39:24.978Z"
   },
   {
    "duration": 10,
    "start_time": "2023-06-10T15:40:30.154Z"
   },
   {
    "duration": 11,
    "start_time": "2023-06-10T15:40:31.945Z"
   },
   {
    "duration": 12,
    "start_time": "2023-06-10T15:40:33.802Z"
   },
   {
    "duration": 11,
    "start_time": "2023-06-10T15:40:36.297Z"
   },
   {
    "duration": 42,
    "start_time": "2023-06-10T15:40:49.346Z"
   },
   {
    "duration": 70,
    "start_time": "2023-06-10T15:40:53.558Z"
   },
   {
    "duration": 41,
    "start_time": "2023-06-10T15:40:55.803Z"
   },
   {
    "duration": 12,
    "start_time": "2023-06-10T15:40:59.302Z"
   },
   {
    "duration": 11,
    "start_time": "2023-06-10T15:41:01.022Z"
   },
   {
    "duration": 10,
    "start_time": "2023-06-10T15:41:04.385Z"
   },
   {
    "duration": 14,
    "start_time": "2023-06-10T15:45:14.306Z"
   },
   {
    "duration": 18,
    "start_time": "2023-06-10T15:47:55.752Z"
   },
   {
    "duration": 12,
    "start_time": "2023-06-10T15:49:12.930Z"
   },
   {
    "duration": 180,
    "start_time": "2023-06-10T16:45:04.751Z"
   },
   {
    "duration": 104,
    "start_time": "2023-06-10T16:45:11.998Z"
   },
   {
    "duration": 108,
    "start_time": "2023-06-10T16:45:24.020Z"
   },
   {
    "duration": 176,
    "start_time": "2023-06-10T17:00:43.512Z"
   },
   {
    "duration": 4,
    "start_time": "2023-06-10T17:01:04.800Z"
   },
   {
    "duration": 4,
    "start_time": "2023-06-10T17:01:07.992Z"
   },
   {
    "duration": 4,
    "start_time": "2023-06-10T17:05:03.702Z"
   },
   {
    "duration": 33,
    "start_time": "2023-06-10T17:07:13.455Z"
   },
   {
    "duration": 18,
    "start_time": "2023-06-10T17:07:14.926Z"
   },
   {
    "duration": 18,
    "start_time": "2023-06-10T17:07:16.023Z"
   },
   {
    "duration": 19,
    "start_time": "2023-06-10T17:07:16.983Z"
   },
   {
    "duration": 32,
    "start_time": "2023-06-10T17:07:18.686Z"
   },
   {
    "duration": 18,
    "start_time": "2023-06-10T17:07:20.216Z"
   },
   {
    "duration": 9,
    "start_time": "2023-06-10T17:13:34.516Z"
   },
   {
    "duration": 10,
    "start_time": "2023-06-10T17:14:00.402Z"
   },
   {
    "duration": 13,
    "start_time": "2023-06-10T17:21:35.070Z"
   },
   {
    "duration": 18,
    "start_time": "2023-06-10T17:21:37.392Z"
   },
   {
    "duration": 16,
    "start_time": "2023-06-10T17:21:42.476Z"
   },
   {
    "duration": 15,
    "start_time": "2023-06-10T17:21:43.527Z"
   },
   {
    "duration": 18,
    "start_time": "2023-06-10T17:22:06.408Z"
   },
   {
    "duration": 14,
    "start_time": "2023-06-10T17:22:07.416Z"
   },
   {
    "duration": 21,
    "start_time": "2023-06-10T17:22:27.044Z"
   },
   {
    "duration": 19,
    "start_time": "2023-06-10T17:22:28.455Z"
   },
   {
    "duration": 155,
    "start_time": "2023-06-10T17:31:53.810Z"
   },
   {
    "duration": 142,
    "start_time": "2023-06-10T17:32:54.685Z"
   },
   {
    "duration": 158,
    "start_time": "2023-06-10T17:33:08.171Z"
   },
   {
    "duration": 141,
    "start_time": "2023-06-10T17:33:37.440Z"
   },
   {
    "duration": 11,
    "start_time": "2023-06-10T17:34:19.776Z"
   },
   {
    "duration": 10,
    "start_time": "2023-06-10T17:34:38.792Z"
   },
   {
    "duration": 8,
    "start_time": "2023-06-10T17:35:04.759Z"
   },
   {
    "duration": 5,
    "start_time": "2023-06-10T17:35:07.883Z"
   },
   {
    "duration": 11,
    "start_time": "2023-06-10T17:35:32.763Z"
   },
   {
    "duration": 5,
    "start_time": "2023-06-10T17:35:47.034Z"
   },
   {
    "duration": 5,
    "start_time": "2023-06-10T17:37:24.144Z"
   },
   {
    "duration": 4,
    "start_time": "2023-06-10T17:37:45.422Z"
   },
   {
    "duration": 5,
    "start_time": "2023-06-10T17:38:44.733Z"
   },
   {
    "duration": 15,
    "start_time": "2023-06-10T17:38:47.719Z"
   },
   {
    "duration": 14,
    "start_time": "2023-06-10T17:38:48.906Z"
   },
   {
    "duration": 4,
    "start_time": "2023-06-10T17:38:50.039Z"
   },
   {
    "duration": 10,
    "start_time": "2023-06-10T17:38:56.829Z"
   },
   {
    "duration": 17,
    "start_time": "2023-06-10T17:38:58.594Z"
   },
   {
    "duration": 26,
    "start_time": "2023-06-10T17:38:59.559Z"
   },
   {
    "duration": 5,
    "start_time": "2023-06-10T17:39:01.008Z"
   },
   {
    "duration": 5,
    "start_time": "2023-06-10T17:39:54.434Z"
   },
   {
    "duration": 10,
    "start_time": "2023-06-10T17:40:29.977Z"
   },
   {
    "duration": 5,
    "start_time": "2023-06-10T17:41:31.536Z"
   },
   {
    "duration": 18,
    "start_time": "2023-06-10T17:41:33.986Z"
   },
   {
    "duration": 11,
    "start_time": "2023-06-10T17:41:35.126Z"
   },
   {
    "duration": 9,
    "start_time": "2023-06-10T17:41:36.656Z"
   },
   {
    "duration": 4,
    "start_time": "2023-06-10T17:41:42.629Z"
   },
   {
    "duration": 14,
    "start_time": "2023-06-10T17:48:02.891Z"
   },
   {
    "duration": 10,
    "start_time": "2023-06-10T17:49:04.044Z"
   },
   {
    "duration": 9,
    "start_time": "2023-06-10T17:49:40.116Z"
   },
   {
    "duration": 16,
    "start_time": "2023-06-10T17:49:41.976Z"
   },
   {
    "duration": 14,
    "start_time": "2023-06-10T17:49:54.762Z"
   },
   {
    "duration": 17,
    "start_time": "2023-06-10T17:50:53.053Z"
   },
   {
    "duration": 12,
    "start_time": "2023-06-10T17:50:54.647Z"
   },
   {
    "duration": 5,
    "start_time": "2023-06-10T17:51:22.016Z"
   },
   {
    "duration": 16,
    "start_time": "2023-06-10T17:51:28.814Z"
   },
   {
    "duration": 13,
    "start_time": "2023-06-10T17:51:30.582Z"
   },
   {
    "duration": 4,
    "start_time": "2023-06-10T17:51:43.683Z"
   },
   {
    "duration": 6,
    "start_time": "2023-06-10T17:51:55.273Z"
   },
   {
    "duration": 3,
    "start_time": "2023-06-10T17:53:32.433Z"
   },
   {
    "duration": 6,
    "start_time": "2023-06-10T17:53:38.354Z"
   },
   {
    "duration": 8,
    "start_time": "2023-06-10T17:53:50.221Z"
   },
   {
    "duration": 11,
    "start_time": "2023-06-10T17:54:03.349Z"
   },
   {
    "duration": 10,
    "start_time": "2023-06-10T17:54:05.249Z"
   },
   {
    "duration": 4,
    "start_time": "2023-06-10T17:54:07.808Z"
   },
   {
    "duration": 10,
    "start_time": "2023-06-10T17:54:09.424Z"
   },
   {
    "duration": 16,
    "start_time": "2023-06-10T17:54:11.748Z"
   },
   {
    "duration": 13,
    "start_time": "2023-06-10T17:54:34.854Z"
   },
   {
    "duration": 11,
    "start_time": "2023-06-10T17:54:37.608Z"
   },
   {
    "duration": 10,
    "start_time": "2023-06-10T17:54:46.545Z"
   },
   {
    "duration": 17,
    "start_time": "2023-06-10T17:54:51.681Z"
   },
   {
    "duration": 16,
    "start_time": "2023-06-10T17:54:52.881Z"
   },
   {
    "duration": 5,
    "start_time": "2023-06-10T17:54:54.420Z"
   },
   {
    "duration": 25,
    "start_time": "2023-06-10T17:54:55.652Z"
   },
   {
    "duration": 27,
    "start_time": "2023-06-10T17:54:57.454Z"
   },
   {
    "duration": 15,
    "start_time": "2023-06-10T17:54:58.952Z"
   },
   {
    "duration": 9,
    "start_time": "2023-06-10T17:55:00.290Z"
   },
   {
    "duration": 10,
    "start_time": "2023-06-10T17:55:12.672Z"
   },
   {
    "duration": 3,
    "start_time": "2023-06-10T17:55:14.216Z"
   },
   {
    "duration": 3,
    "start_time": "2023-06-10T17:55:15.608Z"
   },
   {
    "duration": 3,
    "start_time": "2023-06-10T17:55:29.352Z"
   },
   {
    "duration": 8,
    "start_time": "2023-06-10T17:55:30.910Z"
   },
   {
    "duration": 3,
    "start_time": "2023-06-10T17:55:35.910Z"
   },
   {
    "duration": 2,
    "start_time": "2023-06-10T17:55:42.728Z"
   },
   {
    "duration": 4,
    "start_time": "2023-06-10T17:55:49.409Z"
   },
   {
    "duration": 150,
    "start_time": "2023-06-10T17:55:59.584Z"
   },
   {
    "duration": 11,
    "start_time": "2023-06-10T17:56:05.093Z"
   },
   {
    "duration": 22,
    "start_time": "2023-06-10T17:56:07.753Z"
   },
   {
    "duration": 9,
    "start_time": "2023-06-10T17:56:11.189Z"
   },
   {
    "duration": 4,
    "start_time": "2023-06-10T17:56:13.321Z"
   },
   {
    "duration": 16,
    "start_time": "2023-06-10T17:56:14.490Z"
   },
   {
    "duration": 15,
    "start_time": "2023-06-10T17:56:17.181Z"
   },
   {
    "duration": 16,
    "start_time": "2023-06-10T17:56:22.155Z"
   },
   {
    "duration": 14,
    "start_time": "2023-06-10T17:56:27.682Z"
   },
   {
    "duration": 10,
    "start_time": "2023-06-10T17:56:30.316Z"
   },
   {
    "duration": 11,
    "start_time": "2023-06-10T17:56:50.039Z"
   },
   {
    "duration": 12,
    "start_time": "2023-06-10T17:56:51.599Z"
   },
   {
    "duration": 12,
    "start_time": "2023-06-10T17:56:53.012Z"
   },
   {
    "duration": 9,
    "start_time": "2023-06-10T17:56:53.952Z"
   },
   {
    "duration": 90,
    "start_time": "2023-06-10T18:00:08.799Z"
   },
   {
    "duration": 80,
    "start_time": "2023-06-10T18:00:15.522Z"
   },
   {
    "duration": 9,
    "start_time": "2023-06-11T10:31:22.943Z"
   },
   {
    "duration": 11,
    "start_time": "2023-06-11T10:31:44.836Z"
   },
   {
    "duration": 9,
    "start_time": "2023-06-11T10:31:46.126Z"
   },
   {
    "duration": 9,
    "start_time": "2023-06-11T10:31:47.310Z"
   },
   {
    "duration": 9,
    "start_time": "2023-06-11T10:31:48.570Z"
   },
   {
    "duration": 10,
    "start_time": "2023-06-11T10:32:12.418Z"
   },
   {
    "duration": 12,
    "start_time": "2023-06-11T10:32:27.588Z"
   },
   {
    "duration": 9,
    "start_time": "2023-06-11T10:32:35.509Z"
   },
   {
    "duration": 8,
    "start_time": "2023-06-11T14:50:21.184Z"
   },
   {
    "duration": 8,
    "start_time": "2023-06-11T14:50:32.283Z"
   },
   {
    "duration": 13,
    "start_time": "2023-06-11T14:51:25.070Z"
   },
   {
    "duration": 6,
    "start_time": "2023-06-11T14:52:01.079Z"
   },
   {
    "duration": 7,
    "start_time": "2023-06-11T14:53:39.395Z"
   },
   {
    "duration": 9,
    "start_time": "2023-06-11T14:53:56.970Z"
   },
   {
    "duration": 6,
    "start_time": "2023-06-11T14:54:01.017Z"
   },
   {
    "duration": 81,
    "start_time": "2023-06-11T15:03:05.354Z"
   },
   {
    "duration": 82,
    "start_time": "2023-06-11T15:04:10.458Z"
   },
   {
    "duration": 82,
    "start_time": "2023-06-11T15:05:30.094Z"
   },
   {
    "duration": 54,
    "start_time": "2023-06-11T15:23:43.399Z"
   },
   {
    "duration": 58,
    "start_time": "2023-06-11T15:23:56.110Z"
   },
   {
    "duration": 8,
    "start_time": "2023-06-11T15:28:21.915Z"
   },
   {
    "duration": 8,
    "start_time": "2023-06-11T15:28:36.509Z"
   },
   {
    "duration": 8,
    "start_time": "2023-06-11T15:29:36.285Z"
   },
   {
    "duration": 12,
    "start_time": "2023-06-11T15:31:15.214Z"
   },
   {
    "duration": 77,
    "start_time": "2023-06-11T15:31:39.705Z"
   },
   {
    "duration": 14,
    "start_time": "2023-06-12T15:58:00.435Z"
   }
  ],
  "colab": {
   "collapsed_sections": [
    "E0vqbgi9ay0H",
    "VUC88oWjTJw2"
   ],
   "provenance": []
  },
  "kernelspec": {
   "display_name": "Python 3 (ipykernel)",
   "language": "python",
   "name": "python3"
  },
  "language_info": {
   "codemirror_mode": {
    "name": "ipython",
    "version": 3
   },
   "file_extension": ".py",
   "mimetype": "text/x-python",
   "name": "python",
   "nbconvert_exporter": "python",
   "pygments_lexer": "ipython3",
   "version": "3.9.5"
  },
  "toc": {
   "base_numbering": 1,
   "nav_menu": {
    "height": "215px",
    "width": "403px"
   },
   "number_sections": true,
   "sideBar": true,
   "skip_h1_title": true,
   "title_cell": "Table of Contents",
   "title_sidebar": "Contents",
   "toc_cell": false,
   "toc_position": {
    "height": "calc(100% - 180px)",
    "left": "10px",
    "top": "150px",
    "width": "285.825px"
   },
   "toc_section_display": true,
   "toc_window_display": false
  }
 },
 "nbformat": 4,
 "nbformat_minor": 1
}
