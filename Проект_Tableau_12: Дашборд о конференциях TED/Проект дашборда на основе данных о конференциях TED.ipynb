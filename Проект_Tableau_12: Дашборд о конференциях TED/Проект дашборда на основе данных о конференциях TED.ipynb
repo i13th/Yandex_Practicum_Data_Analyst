{
 "cells": [
  {
   "cell_type": "markdown",
   "id": "d84888d4",
   "metadata": {},
   "source": [
    "# Проект дашборда на основе данных о конференциях TED"
   ]
  },
  {
   "cell_type": "markdown",
   "id": "67efb42d",
   "metadata": {},
   "source": [
    "## Описание проекта"
   ]
  },
  {
   "cell_type": "markdown",
   "id": "11b73423",
   "metadata": {},
   "source": [
    "TED (от англ. technology, education, design — «технологии, образование, дизайн») — некоммерческий фонд, который проводит популярные конференции. На них выступают специалисты из разных областей и читают лекции на актуальные социальные, культурные и научные темы. В разное время на TED-конференциях выступали математик Бенуа Мандельброт, теоретик искусственного интеллекта Марвин Минский, спортсменка Дана Ньяд и основатель Google Ларри Пейдж. В истории TED также были неоднозначные и даже скандальные выступления. Например, в 2010 году на конференции выступил Рэнди Пауэлл с рассказом о псевдонаучной «вихревой математике», а в 2014 году в конференции TEDMED участвовала Элизабет Холмс — основательница печально известного стартапа Theranos.\n",
    "\n",
    "В этом проекте вы исследуете историю TED-конференций с помощью Tableau."
   ]
  },
  {
   "cell_type": "markdown",
   "id": "457d903f",
   "metadata": {},
   "source": [
    "## Описание данных"
   ]
  },
  {
   "cell_type": "markdown",
   "id": "8fa1104f",
   "metadata": {},
   "source": [
    "*   tableau_project_data_1.csv\n",
    "*   tableau_project_data_2.csv\n",
    "*   tableau_project_data_3.csv\n",
    "*   tableau_project_event_dict.csv\n",
    "*   tableau_project_speakers_dict.csv\n",
    "*   Файлы tableau_project_data_1.csv, tableau_project_data_2.csv, tableau_project_data_3.csv хранят данные выступлений.\n",
    "\n",
    "У них одинаковая структура:\n",
    "* talk_id — идентификатор выступления;\n",
    "* url — ссылка на запись выступления;\n",
    "* title — название выступления;\n",
    "* description — краткое описание;\n",
    "* film_date — дата записи выступления;\n",
    "* duration — длительность в секундах;\n",
    "* views — количество просмотров;\n",
    "* main_tag — основная категория, к которой относится выступление;\n",
    "* speaker_id — уникальный идентификатор автора выступления;\n",
    "* laughter_count — количество раз, когда аудитория смеялась в ходе выступления;\n",
    "* applause_count — количество раз, когда аудитория аплодировала в ходе выступления;\n",
    "* language — язык, на котором велось выступление;\n",
    "* event_id — уникальный идентификатор конференции.\n",
    "\n",
    "Файл tableau_project_event_dict.csv — справочник конференций. Описание таблицы:\n",
    "\n",
    "* conf_id — уникальный идентификатор конференции;\n",
    "* event — название конференции;\n",
    "* country — страна проведения конференции.\n",
    "\n",
    "Файл tableau_project_speakers_dict.csv — справочник авторов выступления. Описание таблицы:\n",
    "\n",
    "* author_id — уникальный идентификатор автора выступления;\n",
    "* speaker_name — имя автора;\n",
    "* speaker_occupation — профессиональная область автора;\n",
    "* speaker_description — описание профессиональной деятельности автора.\n"
   ]
  },
  {
   "cell_type": "markdown",
   "id": "363781d6",
   "metadata": {},
   "source": [
    "## Основная задача"
   ]
  },
  {
   "cell_type": "markdown",
   "id": "3cbac22f",
   "metadata": {},
   "source": [
    "Построение Дашбордов в Tableau pubic.\n",
    "\n",
    "*   История выступлений;\n",
    "*   Тематики выступлений;\n",
    "*   Авторы выступлений;\n",
    "*   Дашборд на свободную тему;\n",
    "*   Презентация дашборда."
   ]
  },
  {
   "cell_type": "markdown",
   "id": "6381ee1e",
   "metadata": {},
   "source": [
    "Презентация и дашборды по ссылке: https://public.tableau.com/app/profile/roman.ivashov/viz/TED_tableau/sheet22?publish=yes"
   ]
  },
  {
   "cell_type": "markdown",
   "id": "287ed830",
   "metadata": {},
   "source": [
    "# Дашборд \"История выступлений\""
   ]
  },
  {
   "cell_type": "markdown",
   "id": "9d267994",
   "metadata": {},
   "source": [
    "# Дашборд \"Тематики выступлений\""
   ]
  },
  {
   "cell_type": "markdown",
   "id": "2fd95870",
   "metadata": {},
   "source": [
    "# Дашборд \"Авторы выступлений\""
   ]
  },
  {
   "cell_type": "markdown",
   "id": "ca78497d",
   "metadata": {},
   "source": [
    "# Дашборд на свободную тему"
   ]
  },
  {
   "cell_type": "markdown",
   "id": "e6576fce",
   "metadata": {},
   "source": [
    "## Вывод"
   ]
  },
  {
   "cell_type": "markdown",
   "id": "248bc095",
   "metadata": {},
   "source": [
    "По данным из дашбордов сделаны следующие вывод:\n",
    "\n",
    "* Почти 63,47% всех выступлений проходили в США.\n",
    "\n",
    "\n",
    "* Самые популярные категории выступлений за все года: Sciene, Technology, Culture, Society, Global issues. В последние года наблюдений 2020 и 2021 можно наблюдать равитие и рост только 3 категорий Society, Global issues, Technology. Прекратили своё развитие Culture и Science.\n",
    "\n",
    "\n",
    "* Самые популярные темы выступлений в мире: science(21,09%), technology(17,61%) и culture(13,37%), society(7,95%). В США: education. В Канаде: social change. В Англии: global issues.\n",
    "\n",
    "\n",
    "* Чаще всего вызывали смех категории Entertaiment. Реже global issues и social change. Самое смешное выступление было у When people are \"suspiciously kind\"(entertainment).\n",
    "\n",
    "\n",
    "*  Чаще всего вызывают аплодисменты категории - entertainment. Реже всего - science и global issues. Также апладировали больше всего выступлению - The political progress women have made (social change).\n",
    "\n",
    "\n",
    "* Чаще всего смотрят выступления, которые идут не более 40 минут. Больше всего просмотров у Do shools kill creativiti? больше 70 млн. просмотров.  Дольше всего шло выступление: 3 secrets to Netflixs success на 62,58 мин.\n",
    "\n",
    "\n",
    "* Преобладающими областями деятельности авторов являются Writer, Journalist, Artist, Designer, Entrepreneur и Author.\n",
    "\n",
    "\n",
    "* Чаще всего на одного автора приходится одно выступление. Но есть авторы которые выступали и не один раз, напрмер Hans Rosling выступал 10 раз и Juan Enriquez он выступал 8 раз.\n",
    "\n",
    "\n",
    "* Среди Designer(дизайнеров) больше всего выступал Tom Wujec, который провел 4 выступления. Среди всех его выступлений, речь на тему Learn to use the 13-th centery astrolabe посмотрели меньше всего человек(940542)."
   ]
  }
 ],
 "metadata": {
  "ExecuteTimeLog": [
   {
    "duration": 85,
    "start_time": "2023-10-19T16:27:21.237Z"
   },
   {
    "duration": 90,
    "start_time": "2023-10-19T17:01:39.788Z"
   }
  ],
  "kernelspec": {
   "display_name": "Python 3 (ipykernel)",
   "language": "python",
   "name": "python3"
  },
  "language_info": {
   "codemirror_mode": {
    "name": "ipython",
    "version": 3
   },
   "file_extension": ".py",
   "mimetype": "text/x-python",
   "name": "python",
   "nbconvert_exporter": "python",
   "pygments_lexer": "ipython3",
   "version": "3.10.13"
  },
  "toc": {
   "base_numbering": 1,
   "nav_menu": {},
   "number_sections": true,
   "sideBar": true,
   "skip_h1_title": true,
   "title_cell": "Table of Contents",
   "title_sidebar": "Contents",
   "toc_cell": false,
   "toc_position": {},
   "toc_section_display": true,
   "toc_window_display": false
  }
 },
 "nbformat": 4,
 "nbformat_minor": 5
}
