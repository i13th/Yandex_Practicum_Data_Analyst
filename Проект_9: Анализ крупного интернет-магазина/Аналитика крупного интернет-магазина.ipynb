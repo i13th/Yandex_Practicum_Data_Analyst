{
 "cells": [
  {
   "cell_type": "markdown",
   "metadata": {},
   "source": [
    "# Проект: Аналитика крупного интернет-магазина"
   ]
  },
  {
   "cell_type": "markdown",
   "metadata": {},
   "source": [
    "***Описание проекта***"
   ]
  },
  {
   "cell_type": "markdown",
   "metadata": {},
   "source": [
    "Вы — аналитик крупного интернет-магазина. Вместе с отделом маркетинга вы подготовили список гипотез для увеличения выручки.\n",
    "Приоритизируйте гипотезы, запустите A/B-тест и проанализируйте результаты."
   ]
  },
  {
   "cell_type": "markdown",
   "metadata": {},
   "source": [
    "***Описание данных***"
   ]
  },
  {
   "cell_type": "markdown",
   "metadata": {},
   "source": [
    "Файл /datasets/hypothesis.csv.\n",
    "\n",
    "* Hypothesis — краткое описание гипотезы;\n",
    "* Reach — охват пользователей по 10-балльной шкале;\n",
    "* Impact — влияние на пользователей по 10-балльной шкале;\n",
    "* Confidence — уверенность в гипотезе по 10-балльной шкале;\n",
    "* Efforts — затраты ресурсов на проверку гипотезы по 10-балльной шкале. Чем больше значение Efforts, тем дороже проверка гипотезы.\n",
    "\n",
    "Файл /datasets/orders.csv.\n",
    "\n",
    "* transactionId — идентификатор заказа;\n",
    "* visitorId — идентификатор пользователя, совершившего заказ;\n",
    "* date — дата, когда был совершён заказ;\n",
    "* revenue — выручка заказа;\n",
    "* group — группа A/B-теста, в которую попал заказ.\n",
    "\n",
    "Файл /datasets/visitors.csv.\n",
    "* date — дата;\n",
    "* group — группа A/B-теста;\n",
    "* visitors — количество пользователей в указанную дату в указанной группе A/B-тест."
   ]
  },
  {
   "cell_type": "markdown",
   "metadata": {},
   "source": [
    "**Цели исследования:**\n",
    "\n",
    "* Приоритизация гипотез;\n",
    "* Запуск А/В-теста;\n",
    "* Анализ результатов А/В-теста.\n",
    "\n",
    "**Приоритизация гипотез.**\n",
    "    \n",
    "В файле /datasets/hypothesis.csv 9 гипотез по увеличению выручки интернет-магазина с указанными параметрами Reach, Impact, Confidence, Effort.\n",
    "    \n",
    "Задача:\n",
    "    \n",
    "•\tПримените фреймворк ICE для приоритизации гипотез. Отсортируйте их по убыванию приоритета.\n",
    "•\tПримените фреймворк RICE для приоритизации гипотез. Отсортируйте их по убыванию приоритета.\n",
    "•\tУкажите, как изменилась приоритизация гипотез при применении RICE вместо ICE. Объясните, почему так произошло.\n",
    "    \n",
    "**Анализ A/B-теста**\n",
    "    \n",
    "Вы провели A/B-тест и получили результаты, которые описаны в файлах /datasets/orders.csv и /datasets/visitors.csv.\n",
    "    \n",
    "    \n",
    "**Проанализируйте A/B-тест:**\n",
    "    \n",
    "* 1.Постройте график кумулятивной выручки по группам. Сделайте выводы и предположения.\n",
    "* 2.Постройте график кумулятивного среднего чека по группам. Сделайте выводы и предположения.\n",
    "* 3.Постройте график относительного изменения кумулятивного среднего чека группы B к группе A. Сделайте выводы и предположения.\n",
    "* 4.Постройте график кумулятивного среднего количества заказов на посетителя по группам. Сделайте выводы и предположения.\n",
    "* 5.Постройте график относительного изменения кумулятивного среднего количества заказов на посетителя группы B к группе A. Сделайте выводы и предположения.\n",
    "* 6.Постройте точечный график количества заказов по пользователям. Сделайте выводы и предположения.\n",
    "* 7.Посчитайте 95-й и 99-й перцентили количества заказов на пользователя. Выберите границу для определения аномальных пользователей.\n",
    "* 8.Постройте точечный график стоимостей заказов. Сделайте выводы и предположения.\n",
    "* 9.Посчитайте 95-й и 99-й перцентили стоимости заказов. Выберите границу для определения аномальных заказов.\n",
    "* 10.Посчитайте статистическую значимость различий в среднем количестве заказов на посетителя между группами по «сырым» данным. Сделайте выводы и предположения.\n",
    "* 11.Посчитайте статистическую значимость различий в среднем чеке заказа между группами по «сырым» данным. Сделайте выводы и предположения.\n",
    "* 12.Посчитайте статистическую значимость различий в среднем количестве заказов на посетителя между группами по «очищенным» данным. Сделайте выводы и предположения.\n",
    "* 13.Посчитайте статистическую значимость различий в среднем чеке заказа между группами по «очищенным» данным. Сделайте выводы и предположения.\n",
    "* 14.Примите решение по результатам теста и объясните его. \n",
    "\n",
    "Варианты решений:\n",
    "\n",
    "* 1. Остановить тест, зафиксировать победу одной из групп. \n",
    "* 2. Остановить тест, зафиксировать отсутствие различий между группами. \n",
    "* 3. Продолжить тест."
   ]
  },
  {
   "cell_type": "markdown",
   "metadata": {},
   "source": [
    "#### Шаг 1. Загрузка данных"
   ]
  },
  {
   "cell_type": "markdown",
   "metadata": {},
   "source": [
    "***Импортируем библиотеки***"
   ]
  },
  {
   "cell_type": "code",
   "execution_count": 1,
   "metadata": {},
   "outputs": [],
   "source": [
    "import pandas as pd\n",
    "import matplotlib.pyplot as plt\n",
    "%matplotlib inline\n",
    "import seaborn as sns\n",
    "import plotly.express as px\n",
    "import numpy as np\n",
    "import math\n",
    "from scipy import stats as st\n",
    "import scipy.stats as stats\n",
    "from datetime import datetime, timedelta\n",
    "from math import sqrt\n",
    "from math import factorial\n",
    "from scipy.stats import binom, norm\n",
    "from matplotlib import rcParams, rcParamsDefault\n",
    "\n",
    "import warnings\n",
    "warnings.filterwarnings('ignore')"
   ]
  },
  {
   "cell_type": "markdown",
   "metadata": {},
   "source": [
    "***Импортируем данные в датасет***"
   ]
  },
  {
   "cell_type": "code",
   "execution_count": 2,
   "metadata": {},
   "outputs": [],
   "source": [
    "try:\n",
    "    hypothesis = pd.read_csv('/datasets/hypothesis.csv')\n",
    "    orders = pd.read_csv('/datasets/orders.csv')\n",
    "    visitors = pd.read_csv('/datasets/visitors.csv')\n",
    "except:\n",
    "    hypothesis = pd.read_csv('https://code.s3.yandex.net/datasets/hypothesis.csv')\n",
    "    orders = pd.read_csv('https://code.s3.yandex.net/datasets/datasets/orders.csv')\n",
    "    visitors = pd.read_csv('https://code.s3.yandex.net/datasets/datasets/visitors.csv')"
   ]
  },
  {
   "cell_type": "markdown",
   "metadata": {},
   "source": [
    "***Проверяем данные***"
   ]
  },
  {
   "cell_type": "code",
   "execution_count": 3,
   "metadata": {},
   "outputs": [
    {
     "data": {
      "text/html": [
       "<div>\n",
       "<style scoped>\n",
       "    .dataframe tbody tr th:only-of-type {\n",
       "        vertical-align: middle;\n",
       "    }\n",
       "\n",
       "    .dataframe tbody tr th {\n",
       "        vertical-align: top;\n",
       "    }\n",
       "\n",
       "    .dataframe thead th {\n",
       "        text-align: right;\n",
       "    }\n",
       "</style>\n",
       "<table border=\"1\" class=\"dataframe\">\n",
       "  <thead>\n",
       "    <tr style=\"text-align: right;\">\n",
       "      <th></th>\n",
       "      <th>Hypothesis</th>\n",
       "      <th>Reach</th>\n",
       "      <th>Impact</th>\n",
       "      <th>Confidence</th>\n",
       "      <th>Efforts</th>\n",
       "    </tr>\n",
       "  </thead>\n",
       "  <tbody>\n",
       "    <tr>\n",
       "      <th>0</th>\n",
       "      <td>Добавить два новых канала привлечения трафика, что позволит привлекать на 30% больше пользователей</td>\n",
       "      <td>3</td>\n",
       "      <td>10</td>\n",
       "      <td>8</td>\n",
       "      <td>6</td>\n",
       "    </tr>\n",
       "    <tr>\n",
       "      <th>1</th>\n",
       "      <td>Запустить собственную службу доставки, что сократит срок доставки заказов</td>\n",
       "      <td>2</td>\n",
       "      <td>5</td>\n",
       "      <td>4</td>\n",
       "      <td>10</td>\n",
       "    </tr>\n",
       "    <tr>\n",
       "      <th>2</th>\n",
       "      <td>Добавить блоки рекомендаций товаров на сайт интернет магазина, чтобы повысить конверсию и средний чек заказа</td>\n",
       "      <td>8</td>\n",
       "      <td>3</td>\n",
       "      <td>7</td>\n",
       "      <td>3</td>\n",
       "    </tr>\n",
       "    <tr>\n",
       "      <th>3</th>\n",
       "      <td>Изменить структура категорий, что увеличит конверсию, т.к. пользователи быстрее найдут нужный товар</td>\n",
       "      <td>8</td>\n",
       "      <td>3</td>\n",
       "      <td>3</td>\n",
       "      <td>8</td>\n",
       "    </tr>\n",
       "    <tr>\n",
       "      <th>4</th>\n",
       "      <td>Изменить цвет фона главной страницы, чтобы увеличить вовлеченность пользователей</td>\n",
       "      <td>3</td>\n",
       "      <td>1</td>\n",
       "      <td>1</td>\n",
       "      <td>1</td>\n",
       "    </tr>\n",
       "    <tr>\n",
       "      <th>5</th>\n",
       "      <td>Добавить страницу отзывов клиентов о магазине, что позволит увеличить количество заказов</td>\n",
       "      <td>3</td>\n",
       "      <td>2</td>\n",
       "      <td>2</td>\n",
       "      <td>3</td>\n",
       "    </tr>\n",
       "    <tr>\n",
       "      <th>6</th>\n",
       "      <td>Показать на главной странице баннеры с актуальными акциями и распродажами, чтобы увеличить конверсию</td>\n",
       "      <td>5</td>\n",
       "      <td>3</td>\n",
       "      <td>8</td>\n",
       "      <td>3</td>\n",
       "    </tr>\n",
       "    <tr>\n",
       "      <th>7</th>\n",
       "      <td>Добавить форму подписки на все основные страницы, чтобы собрать базу клиентов для email-рассылок</td>\n",
       "      <td>10</td>\n",
       "      <td>7</td>\n",
       "      <td>8</td>\n",
       "      <td>5</td>\n",
       "    </tr>\n",
       "    <tr>\n",
       "      <th>8</th>\n",
       "      <td>Запустить акцию, дающую скидку на товар в день рождения</td>\n",
       "      <td>1</td>\n",
       "      <td>9</td>\n",
       "      <td>9</td>\n",
       "      <td>5</td>\n",
       "    </tr>\n",
       "  </tbody>\n",
       "</table>\n",
       "</div>"
      ],
      "text/plain": [
       "                                                                                                     Hypothesis  \\\n",
       "0            Добавить два новых канала привлечения трафика, что позволит привлекать на 30% больше пользователей   \n",
       "1                                     Запустить собственную службу доставки, что сократит срок доставки заказов   \n",
       "2  Добавить блоки рекомендаций товаров на сайт интернет магазина, чтобы повысить конверсию и средний чек заказа   \n",
       "3           Изменить структура категорий, что увеличит конверсию, т.к. пользователи быстрее найдут нужный товар   \n",
       "4                              Изменить цвет фона главной страницы, чтобы увеличить вовлеченность пользователей   \n",
       "5                      Добавить страницу отзывов клиентов о магазине, что позволит увеличить количество заказов   \n",
       "6          Показать на главной странице баннеры с актуальными акциями и распродажами, чтобы увеличить конверсию   \n",
       "7              Добавить форму подписки на все основные страницы, чтобы собрать базу клиентов для email-рассылок   \n",
       "8                                                       Запустить акцию, дающую скидку на товар в день рождения   \n",
       "\n",
       "   Reach  Impact  Confidence  Efforts  \n",
       "0      3      10           8        6  \n",
       "1      2       5           4       10  \n",
       "2      8       3           7        3  \n",
       "3      8       3           3        8  \n",
       "4      3       1           1        1  \n",
       "5      3       2           2        3  \n",
       "6      5       3           8        3  \n",
       "7     10       7           8        5  \n",
       "8      1       9           9        5  "
      ]
     },
     "metadata": {},
     "output_type": "display_data"
    },
    {
     "name": "stdout",
     "output_type": "stream",
     "text": [
      "<class 'pandas.core.frame.DataFrame'>\n",
      "RangeIndex: 9 entries, 0 to 8\n",
      "Data columns (total 5 columns):\n",
      " #   Column      Non-Null Count  Dtype \n",
      "---  ------      --------------  ----- \n",
      " 0   Hypothesis  9 non-null      object\n",
      " 1   Reach       9 non-null      int64 \n",
      " 2   Impact      9 non-null      int64 \n",
      " 3   Confidence  9 non-null      int64 \n",
      " 4   Efforts     9 non-null      int64 \n",
      "dtypes: int64(4), object(1)\n",
      "memory usage: 488.0+ bytes\n",
      "Количество дубликатов - 0\n"
     ]
    },
    {
     "data": {
      "text/html": [
       "<div>\n",
       "<style scoped>\n",
       "    .dataframe tbody tr th:only-of-type {\n",
       "        vertical-align: middle;\n",
       "    }\n",
       "\n",
       "    .dataframe tbody tr th {\n",
       "        vertical-align: top;\n",
       "    }\n",
       "\n",
       "    .dataframe thead th {\n",
       "        text-align: right;\n",
       "    }\n",
       "</style>\n",
       "<table border=\"1\" class=\"dataframe\">\n",
       "  <thead>\n",
       "    <tr style=\"text-align: right;\">\n",
       "      <th></th>\n",
       "      <th>Reach</th>\n",
       "      <th>Impact</th>\n",
       "      <th>Confidence</th>\n",
       "      <th>Efforts</th>\n",
       "    </tr>\n",
       "  </thead>\n",
       "  <tbody>\n",
       "    <tr>\n",
       "      <th>count</th>\n",
       "      <td>9.000000</td>\n",
       "      <td>9.000000</td>\n",
       "      <td>9.000000</td>\n",
       "      <td>9.000000</td>\n",
       "    </tr>\n",
       "    <tr>\n",
       "      <th>mean</th>\n",
       "      <td>4.777778</td>\n",
       "      <td>4.777778</td>\n",
       "      <td>5.555556</td>\n",
       "      <td>4.888889</td>\n",
       "    </tr>\n",
       "    <tr>\n",
       "      <th>std</th>\n",
       "      <td>3.153481</td>\n",
       "      <td>3.192874</td>\n",
       "      <td>3.045944</td>\n",
       "      <td>2.803767</td>\n",
       "    </tr>\n",
       "    <tr>\n",
       "      <th>min</th>\n",
       "      <td>1.000000</td>\n",
       "      <td>1.000000</td>\n",
       "      <td>1.000000</td>\n",
       "      <td>1.000000</td>\n",
       "    </tr>\n",
       "    <tr>\n",
       "      <th>25%</th>\n",
       "      <td>3.000000</td>\n",
       "      <td>3.000000</td>\n",
       "      <td>3.000000</td>\n",
       "      <td>3.000000</td>\n",
       "    </tr>\n",
       "    <tr>\n",
       "      <th>50%</th>\n",
       "      <td>3.000000</td>\n",
       "      <td>3.000000</td>\n",
       "      <td>7.000000</td>\n",
       "      <td>5.000000</td>\n",
       "    </tr>\n",
       "    <tr>\n",
       "      <th>75%</th>\n",
       "      <td>8.000000</td>\n",
       "      <td>7.000000</td>\n",
       "      <td>8.000000</td>\n",
       "      <td>6.000000</td>\n",
       "    </tr>\n",
       "    <tr>\n",
       "      <th>max</th>\n",
       "      <td>10.000000</td>\n",
       "      <td>10.000000</td>\n",
       "      <td>9.000000</td>\n",
       "      <td>10.000000</td>\n",
       "    </tr>\n",
       "  </tbody>\n",
       "</table>\n",
       "</div>"
      ],
      "text/plain": [
       "           Reach     Impact  Confidence    Efforts\n",
       "count   9.000000   9.000000    9.000000   9.000000\n",
       "mean    4.777778   4.777778    5.555556   4.888889\n",
       "std     3.153481   3.192874    3.045944   2.803767\n",
       "min     1.000000   1.000000    1.000000   1.000000\n",
       "25%     3.000000   3.000000    3.000000   3.000000\n",
       "50%     3.000000   3.000000    7.000000   5.000000\n",
       "75%     8.000000   7.000000    8.000000   6.000000\n",
       "max    10.000000  10.000000    9.000000  10.000000"
      ]
     },
     "metadata": {},
     "output_type": "display_data"
    },
    {
     "data": {
      "text/plain": [
       "Добавить блоки рекомендаций товаров на сайт интернет магазина, чтобы повысить конверсию и средний чек заказа    1\n",
       "Добавить страницу отзывов клиентов о магазине, что позволит увеличить количество заказов                        1\n",
       "Запустить собственную службу доставки, что сократит срок доставки заказов                                       1\n",
       "Добавить форму подписки на все основные страницы, чтобы собрать базу клиентов для email-рассылок                1\n",
       "Изменить цвет фона главной страницы, чтобы увеличить вовлеченность пользователей                                1\n",
       "Добавить два новых канала привлечения трафика, что позволит привлекать на 30% больше пользователей              1\n",
       "Показать на главной странице баннеры с актуальными акциями и распродажами, чтобы увеличить конверсию            1\n",
       "Изменить структура категорий, что увеличит конверсию, т.к. пользователи быстрее найдут нужный товар             1\n",
       "Запустить акцию, дающую скидку на товар в день рождения                                                         1\n",
       "Name: hypothesis, dtype: int64"
      ]
     },
     "metadata": {},
     "output_type": "display_data"
    },
    {
     "name": "stdout",
     "output_type": "stream",
     "text": [
      "**************************************************\n"
     ]
    },
    {
     "data": {
      "text/plain": [
       "3     3\n",
       "8     2\n",
       "1     1\n",
       "2     1\n",
       "5     1\n",
       "10    1\n",
       "Name: reach, dtype: int64"
      ]
     },
     "metadata": {},
     "output_type": "display_data"
    },
    {
     "name": "stdout",
     "output_type": "stream",
     "text": [
      "**************************************************\n"
     ]
    },
    {
     "data": {
      "text/plain": [
       "3     3\n",
       "1     1\n",
       "2     1\n",
       "5     1\n",
       "7     1\n",
       "9     1\n",
       "10    1\n",
       "Name: impact, dtype: int64"
      ]
     },
     "metadata": {},
     "output_type": "display_data"
    },
    {
     "name": "stdout",
     "output_type": "stream",
     "text": [
      "**************************************************\n"
     ]
    },
    {
     "data": {
      "text/plain": [
       "8    3\n",
       "1    1\n",
       "2    1\n",
       "3    1\n",
       "4    1\n",
       "7    1\n",
       "9    1\n",
       "Name: confidence, dtype: int64"
      ]
     },
     "metadata": {},
     "output_type": "display_data"
    },
    {
     "name": "stdout",
     "output_type": "stream",
     "text": [
      "**************************************************\n"
     ]
    },
    {
     "data": {
      "text/plain": [
       "3     3\n",
       "5     2\n",
       "1     1\n",
       "6     1\n",
       "8     1\n",
       "10    1\n",
       "Name: efforts, dtype: int64"
      ]
     },
     "metadata": {},
     "output_type": "display_data"
    },
    {
     "name": "stdout",
     "output_type": "stream",
     "text": [
      "**************************************************\n"
     ]
    },
    {
     "data": {
      "text/html": [
       "<div>\n",
       "<style scoped>\n",
       "    .dataframe tbody tr th:only-of-type {\n",
       "        vertical-align: middle;\n",
       "    }\n",
       "\n",
       "    .dataframe tbody tr th {\n",
       "        vertical-align: top;\n",
       "    }\n",
       "\n",
       "    .dataframe thead th {\n",
       "        text-align: right;\n",
       "    }\n",
       "</style>\n",
       "<table border=\"1\" class=\"dataframe\">\n",
       "  <thead>\n",
       "    <tr style=\"text-align: right;\">\n",
       "      <th></th>\n",
       "      <th>transactionId</th>\n",
       "      <th>visitorId</th>\n",
       "      <th>date</th>\n",
       "      <th>revenue</th>\n",
       "      <th>group</th>\n",
       "    </tr>\n",
       "  </thead>\n",
       "  <tbody>\n",
       "    <tr>\n",
       "      <th>0</th>\n",
       "      <td>3667963787</td>\n",
       "      <td>3312258926</td>\n",
       "      <td>2019-08-15</td>\n",
       "      <td>1650</td>\n",
       "      <td>B</td>\n",
       "    </tr>\n",
       "    <tr>\n",
       "      <th>1</th>\n",
       "      <td>2804400009</td>\n",
       "      <td>3642806036</td>\n",
       "      <td>2019-08-15</td>\n",
       "      <td>730</td>\n",
       "      <td>B</td>\n",
       "    </tr>\n",
       "    <tr>\n",
       "      <th>2</th>\n",
       "      <td>2961555356</td>\n",
       "      <td>4069496402</td>\n",
       "      <td>2019-08-15</td>\n",
       "      <td>400</td>\n",
       "      <td>A</td>\n",
       "    </tr>\n",
       "    <tr>\n",
       "      <th>3</th>\n",
       "      <td>3797467345</td>\n",
       "      <td>1196621759</td>\n",
       "      <td>2019-08-15</td>\n",
       "      <td>9759</td>\n",
       "      <td>B</td>\n",
       "    </tr>\n",
       "    <tr>\n",
       "      <th>4</th>\n",
       "      <td>2282983706</td>\n",
       "      <td>2322279887</td>\n",
       "      <td>2019-08-15</td>\n",
       "      <td>2308</td>\n",
       "      <td>B</td>\n",
       "    </tr>\n",
       "    <tr>\n",
       "      <th>5</th>\n",
       "      <td>182168103</td>\n",
       "      <td>935554773</td>\n",
       "      <td>2019-08-15</td>\n",
       "      <td>2210</td>\n",
       "      <td>B</td>\n",
       "    </tr>\n",
       "    <tr>\n",
       "      <th>6</th>\n",
       "      <td>398296753</td>\n",
       "      <td>2900797465</td>\n",
       "      <td>2019-08-15</td>\n",
       "      <td>1860</td>\n",
       "      <td>B</td>\n",
       "    </tr>\n",
       "    <tr>\n",
       "      <th>7</th>\n",
       "      <td>2626614568</td>\n",
       "      <td>78758296</td>\n",
       "      <td>2019-08-15</td>\n",
       "      <td>1044</td>\n",
       "      <td>A</td>\n",
       "    </tr>\n",
       "    <tr>\n",
       "      <th>8</th>\n",
       "      <td>1576988021</td>\n",
       "      <td>295230930</td>\n",
       "      <td>2019-08-15</td>\n",
       "      <td>13710</td>\n",
       "      <td>A</td>\n",
       "    </tr>\n",
       "    <tr>\n",
       "      <th>9</th>\n",
       "      <td>1506739906</td>\n",
       "      <td>1882260405</td>\n",
       "      <td>2019-08-15</td>\n",
       "      <td>1855</td>\n",
       "      <td>B</td>\n",
       "    </tr>\n",
       "  </tbody>\n",
       "</table>\n",
       "</div>"
      ],
      "text/plain": [
       "   transactionId   visitorId        date  revenue group\n",
       "0     3667963787  3312258926  2019-08-15     1650     B\n",
       "1     2804400009  3642806036  2019-08-15      730     B\n",
       "2     2961555356  4069496402  2019-08-15      400     A\n",
       "3     3797467345  1196621759  2019-08-15     9759     B\n",
       "4     2282983706  2322279887  2019-08-15     2308     B\n",
       "5      182168103   935554773  2019-08-15     2210     B\n",
       "6      398296753  2900797465  2019-08-15     1860     B\n",
       "7     2626614568    78758296  2019-08-15     1044     A\n",
       "8     1576988021   295230930  2019-08-15    13710     A\n",
       "9     1506739906  1882260405  2019-08-15     1855     B"
      ]
     },
     "metadata": {},
     "output_type": "display_data"
    },
    {
     "name": "stdout",
     "output_type": "stream",
     "text": [
      "<class 'pandas.core.frame.DataFrame'>\n",
      "RangeIndex: 1197 entries, 0 to 1196\n",
      "Data columns (total 5 columns):\n",
      " #   Column         Non-Null Count  Dtype \n",
      "---  ------         --------------  ----- \n",
      " 0   transactionId  1197 non-null   int64 \n",
      " 1   visitorId      1197 non-null   int64 \n",
      " 2   date           1197 non-null   object\n",
      " 3   revenue        1197 non-null   int64 \n",
      " 4   group          1197 non-null   object\n",
      "dtypes: int64(3), object(2)\n",
      "memory usage: 46.9+ KB\n",
      "Количество дубликатов - 0\n"
     ]
    },
    {
     "data": {
      "text/html": [
       "<div>\n",
       "<style scoped>\n",
       "    .dataframe tbody tr th:only-of-type {\n",
       "        vertical-align: middle;\n",
       "    }\n",
       "\n",
       "    .dataframe tbody tr th {\n",
       "        vertical-align: top;\n",
       "    }\n",
       "\n",
       "    .dataframe thead th {\n",
       "        text-align: right;\n",
       "    }\n",
       "</style>\n",
       "<table border=\"1\" class=\"dataframe\">\n",
       "  <thead>\n",
       "    <tr style=\"text-align: right;\">\n",
       "      <th></th>\n",
       "      <th>transactionId</th>\n",
       "      <th>visitorId</th>\n",
       "      <th>revenue</th>\n",
       "    </tr>\n",
       "  </thead>\n",
       "  <tbody>\n",
       "    <tr>\n",
       "      <th>count</th>\n",
       "      <td>1.197000e+03</td>\n",
       "      <td>1.197000e+03</td>\n",
       "      <td>1.197000e+03</td>\n",
       "    </tr>\n",
       "    <tr>\n",
       "      <th>mean</th>\n",
       "      <td>2.155621e+09</td>\n",
       "      <td>2.165960e+09</td>\n",
       "      <td>8.348006e+03</td>\n",
       "    </tr>\n",
       "    <tr>\n",
       "      <th>std</th>\n",
       "      <td>1.229085e+09</td>\n",
       "      <td>1.236014e+09</td>\n",
       "      <td>3.919113e+04</td>\n",
       "    </tr>\n",
       "    <tr>\n",
       "      <th>min</th>\n",
       "      <td>1.062393e+06</td>\n",
       "      <td>5.114589e+06</td>\n",
       "      <td>5.000000e+01</td>\n",
       "    </tr>\n",
       "    <tr>\n",
       "      <th>25%</th>\n",
       "      <td>1.166776e+09</td>\n",
       "      <td>1.111826e+09</td>\n",
       "      <td>1.220000e+03</td>\n",
       "    </tr>\n",
       "    <tr>\n",
       "      <th>50%</th>\n",
       "      <td>2.145194e+09</td>\n",
       "      <td>2.217985e+09</td>\n",
       "      <td>2.978000e+03</td>\n",
       "    </tr>\n",
       "    <tr>\n",
       "      <th>75%</th>\n",
       "      <td>3.237740e+09</td>\n",
       "      <td>3.177606e+09</td>\n",
       "      <td>8.290000e+03</td>\n",
       "    </tr>\n",
       "    <tr>\n",
       "      <th>max</th>\n",
       "      <td>4.293856e+09</td>\n",
       "      <td>4.283872e+09</td>\n",
       "      <td>1.294500e+06</td>\n",
       "    </tr>\n",
       "  </tbody>\n",
       "</table>\n",
       "</div>"
      ],
      "text/plain": [
       "       transactionId     visitorId       revenue\n",
       "count   1.197000e+03  1.197000e+03  1.197000e+03\n",
       "mean    2.155621e+09  2.165960e+09  8.348006e+03\n",
       "std     1.229085e+09  1.236014e+09  3.919113e+04\n",
       "min     1.062393e+06  5.114589e+06  5.000000e+01\n",
       "25%     1.166776e+09  1.111826e+09  1.220000e+03\n",
       "50%     2.145194e+09  2.217985e+09  2.978000e+03\n",
       "75%     3.237740e+09  3.177606e+09  8.290000e+03\n",
       "max     4.293856e+09  4.283872e+09  1.294500e+06"
      ]
     },
     "metadata": {},
     "output_type": "display_data"
    },
    {
     "data": {
      "text/plain": [
       "1658608862    1\n",
       "2211880073    1\n",
       "3913205113    1\n",
       "437656952     1\n",
       "3592105335    1\n",
       "             ..\n",
       "2872509092    1\n",
       "2013919907    1\n",
       "3154167297    1\n",
       "2960804513    1\n",
       "4281129020    1\n",
       "Name: transactionid, Length: 1197, dtype: int64"
      ]
     },
     "metadata": {},
     "output_type": "display_data"
    },
    {
     "name": "stdout",
     "output_type": "stream",
     "text": [
      "**************************************************\n"
     ]
    },
    {
     "data": {
      "text/plain": [
       "4256040402    11\n",
       "2458001652    11\n",
       "2378935119     9\n",
       "2038680547     8\n",
       "199603092      5\n",
       "              ..\n",
       "2406916810     1\n",
       "1255412427     1\n",
       "3866069709     1\n",
       "54447517       1\n",
       "3013339133     1\n",
       "Name: visitorid, Length: 1031, dtype: int64"
      ]
     },
     "metadata": {},
     "output_type": "display_data"
    },
    {
     "name": "stdout",
     "output_type": "stream",
     "text": [
      "**************************************************\n"
     ]
    },
    {
     "data": {
      "text/plain": [
       "2019-08-05    48\n",
       "2019-08-12    47\n",
       "2019-08-14    47\n",
       "2019-08-15    46\n",
       "2019-08-06    46\n",
       "2019-08-28    45\n",
       "2019-08-01    45\n",
       "2019-08-02    44\n",
       "2019-08-27    44\n",
       "2019-08-08    43\n",
       "2019-08-19    43\n",
       "2019-08-07    42\n",
       "2019-08-29    42\n",
       "2019-08-22    41\n",
       "2019-08-09    41\n",
       "2019-08-26    41\n",
       "2019-08-03    40\n",
       "2019-08-23    40\n",
       "2019-08-10    39\n",
       "2019-08-16    38\n",
       "2019-08-21    37\n",
       "2019-08-13    35\n",
       "2019-08-30    35\n",
       "2019-08-04    33\n",
       "2019-08-31    32\n",
       "2019-08-20    32\n",
       "2019-08-24    31\n",
       "2019-08-18    26\n",
       "2019-08-11    26\n",
       "2019-08-17    24\n",
       "2019-08-25    24\n",
       "Name: date, dtype: int64"
      ]
     },
     "metadata": {},
     "output_type": "display_data"
    },
    {
     "name": "stdout",
     "output_type": "stream",
     "text": [
      "**************************************************\n"
     ]
    },
    {
     "data": {
      "text/plain": [
       "B    640\n",
       "A    557\n",
       "Name: group, dtype: int64"
      ]
     },
     "metadata": {},
     "output_type": "display_data"
    },
    {
     "name": "stdout",
     "output_type": "stream",
     "text": [
      "**************************************************\n"
     ]
    },
    {
     "data": {
      "text/html": [
       "<div>\n",
       "<style scoped>\n",
       "    .dataframe tbody tr th:only-of-type {\n",
       "        vertical-align: middle;\n",
       "    }\n",
       "\n",
       "    .dataframe tbody tr th {\n",
       "        vertical-align: top;\n",
       "    }\n",
       "\n",
       "    .dataframe thead th {\n",
       "        text-align: right;\n",
       "    }\n",
       "</style>\n",
       "<table border=\"1\" class=\"dataframe\">\n",
       "  <thead>\n",
       "    <tr style=\"text-align: right;\">\n",
       "      <th></th>\n",
       "      <th>date</th>\n",
       "      <th>group</th>\n",
       "      <th>visitors</th>\n",
       "    </tr>\n",
       "  </thead>\n",
       "  <tbody>\n",
       "    <tr>\n",
       "      <th>0</th>\n",
       "      <td>2019-08-01</td>\n",
       "      <td>A</td>\n",
       "      <td>719</td>\n",
       "    </tr>\n",
       "    <tr>\n",
       "      <th>1</th>\n",
       "      <td>2019-08-02</td>\n",
       "      <td>A</td>\n",
       "      <td>619</td>\n",
       "    </tr>\n",
       "    <tr>\n",
       "      <th>2</th>\n",
       "      <td>2019-08-03</td>\n",
       "      <td>A</td>\n",
       "      <td>507</td>\n",
       "    </tr>\n",
       "    <tr>\n",
       "      <th>3</th>\n",
       "      <td>2019-08-04</td>\n",
       "      <td>A</td>\n",
       "      <td>717</td>\n",
       "    </tr>\n",
       "    <tr>\n",
       "      <th>4</th>\n",
       "      <td>2019-08-05</td>\n",
       "      <td>A</td>\n",
       "      <td>756</td>\n",
       "    </tr>\n",
       "    <tr>\n",
       "      <th>5</th>\n",
       "      <td>2019-08-06</td>\n",
       "      <td>A</td>\n",
       "      <td>667</td>\n",
       "    </tr>\n",
       "    <tr>\n",
       "      <th>6</th>\n",
       "      <td>2019-08-07</td>\n",
       "      <td>A</td>\n",
       "      <td>644</td>\n",
       "    </tr>\n",
       "    <tr>\n",
       "      <th>7</th>\n",
       "      <td>2019-08-08</td>\n",
       "      <td>A</td>\n",
       "      <td>610</td>\n",
       "    </tr>\n",
       "    <tr>\n",
       "      <th>8</th>\n",
       "      <td>2019-08-09</td>\n",
       "      <td>A</td>\n",
       "      <td>617</td>\n",
       "    </tr>\n",
       "    <tr>\n",
       "      <th>9</th>\n",
       "      <td>2019-08-10</td>\n",
       "      <td>A</td>\n",
       "      <td>406</td>\n",
       "    </tr>\n",
       "  </tbody>\n",
       "</table>\n",
       "</div>"
      ],
      "text/plain": [
       "         date group  visitors\n",
       "0  2019-08-01     A       719\n",
       "1  2019-08-02     A       619\n",
       "2  2019-08-03     A       507\n",
       "3  2019-08-04     A       717\n",
       "4  2019-08-05     A       756\n",
       "5  2019-08-06     A       667\n",
       "6  2019-08-07     A       644\n",
       "7  2019-08-08     A       610\n",
       "8  2019-08-09     A       617\n",
       "9  2019-08-10     A       406"
      ]
     },
     "metadata": {},
     "output_type": "display_data"
    },
    {
     "name": "stdout",
     "output_type": "stream",
     "text": [
      "<class 'pandas.core.frame.DataFrame'>\n",
      "RangeIndex: 62 entries, 0 to 61\n",
      "Data columns (total 3 columns):\n",
      " #   Column    Non-Null Count  Dtype \n",
      "---  ------    --------------  ----- \n",
      " 0   date      62 non-null     object\n",
      " 1   group     62 non-null     object\n",
      " 2   visitors  62 non-null     int64 \n",
      "dtypes: int64(1), object(2)\n",
      "memory usage: 1.6+ KB\n",
      "Количество дубликатов - 0\n"
     ]
    },
    {
     "data": {
      "text/html": [
       "<div>\n",
       "<style scoped>\n",
       "    .dataframe tbody tr th:only-of-type {\n",
       "        vertical-align: middle;\n",
       "    }\n",
       "\n",
       "    .dataframe tbody tr th {\n",
       "        vertical-align: top;\n",
       "    }\n",
       "\n",
       "    .dataframe thead th {\n",
       "        text-align: right;\n",
       "    }\n",
       "</style>\n",
       "<table border=\"1\" class=\"dataframe\">\n",
       "  <thead>\n",
       "    <tr style=\"text-align: right;\">\n",
       "      <th></th>\n",
       "      <th>visitors</th>\n",
       "    </tr>\n",
       "  </thead>\n",
       "  <tbody>\n",
       "    <tr>\n",
       "      <th>count</th>\n",
       "      <td>62.000000</td>\n",
       "    </tr>\n",
       "    <tr>\n",
       "      <th>mean</th>\n",
       "      <td>607.290323</td>\n",
       "    </tr>\n",
       "    <tr>\n",
       "      <th>std</th>\n",
       "      <td>114.400560</td>\n",
       "    </tr>\n",
       "    <tr>\n",
       "      <th>min</th>\n",
       "      <td>361.000000</td>\n",
       "    </tr>\n",
       "    <tr>\n",
       "      <th>25%</th>\n",
       "      <td>534.000000</td>\n",
       "    </tr>\n",
       "    <tr>\n",
       "      <th>50%</th>\n",
       "      <td>624.500000</td>\n",
       "    </tr>\n",
       "    <tr>\n",
       "      <th>75%</th>\n",
       "      <td>710.500000</td>\n",
       "    </tr>\n",
       "    <tr>\n",
       "      <th>max</th>\n",
       "      <td>770.000000</td>\n",
       "    </tr>\n",
       "  </tbody>\n",
       "</table>\n",
       "</div>"
      ],
      "text/plain": [
       "         visitors\n",
       "count   62.000000\n",
       "mean   607.290323\n",
       "std    114.400560\n",
       "min    361.000000\n",
       "25%    534.000000\n",
       "50%    624.500000\n",
       "75%    710.500000\n",
       "max    770.000000"
      ]
     },
     "metadata": {},
     "output_type": "display_data"
    },
    {
     "data": {
      "text/plain": [
       "2019-08-11    2\n",
       "2019-08-17    2\n",
       "2019-08-02    2\n",
       "2019-08-13    2\n",
       "2019-08-07    2\n",
       "2019-08-12    2\n",
       "2019-08-29    2\n",
       "2019-08-14    2\n",
       "2019-08-09    2\n",
       "2019-08-15    2\n",
       "2019-08-04    2\n",
       "2019-08-25    2\n",
       "2019-08-06    2\n",
       "2019-08-28    2\n",
       "2019-08-22    2\n",
       "2019-08-21    2\n",
       "2019-08-20    2\n",
       "2019-08-24    2\n",
       "2019-08-10    2\n",
       "2019-08-03    2\n",
       "2019-08-18    2\n",
       "2019-08-23    2\n",
       "2019-08-01    2\n",
       "2019-08-26    2\n",
       "2019-08-31    2\n",
       "2019-08-30    2\n",
       "2019-08-27    2\n",
       "2019-08-16    2\n",
       "2019-08-08    2\n",
       "2019-08-05    2\n",
       "2019-08-19    2\n",
       "Name: date, dtype: int64"
      ]
     },
     "metadata": {},
     "output_type": "display_data"
    },
    {
     "name": "stdout",
     "output_type": "stream",
     "text": [
      "**************************************************\n"
     ]
    },
    {
     "data": {
      "text/plain": [
       "B    31\n",
       "A    31\n",
       "Name: group, dtype: int64"
      ]
     },
     "metadata": {},
     "output_type": "display_data"
    },
    {
     "name": "stdout",
     "output_type": "stream",
     "text": [
      "**************************************************\n"
     ]
    }
   ],
   "source": [
    "def inspect(df):\n",
    "    pd.options.display.max_colwidth = 120\n",
    "    display(df.head(10)) \n",
    "    df.info() \n",
    "    print ('Количество дубликатов -', df.duplicated().sum())\n",
    "    numeric_columns=df.describe().columns\n",
    "    display(df.describe())\n",
    "    display()\n",
    "    df.columns = [x.lower().replace(' ', '_') for x in df.columns.values]\n",
    "    for column_name in df.columns:\n",
    "        if column_name not in numeric_columns:\n",
    "            if 'session' in column_name or 'dt' in column_name:\n",
    "                df[column_name] = pd.to_datetime(df[column_name])\n",
    "            else:\n",
    "                display(df[column_name].value_counts())\n",
    "                print(50*'*')\n",
    "    return df\n",
    "hypothesis = inspect(hypothesis)\n",
    "orders = inspect(orders)\n",
    "visitors = inspect(visitors)"
   ]
  },
  {
   "cell_type": "markdown",
   "metadata": {},
   "source": [
    "***Для наглядности построим гистограммы по данным датафреймов***"
   ]
  },
  {
   "cell_type": "code",
   "execution_count": 4,
   "metadata": {},
   "outputs": [
    {
     "data": {
      "image/png": "[encoded data removed]",
      "text/plain": [
       "<Figure size 1080x504 with 4 Axes>"
      ]
     },
     "metadata": {
      "needs_background": "light"
     },
     "output_type": "display_data"
    }
   ],
   "source": [
    "hypothesis.hist(figsize=(15, 7));"
   ]
  },
  {
   "cell_type": "code",
   "execution_count": 5,
   "metadata": {},
   "outputs": [
    {
     "data": {
      "image/png": "[encoded data removed]",
      "text/plain": [
       "<Figure size 1080x504 with 4 Axes>"
      ]
     },
     "metadata": {
      "needs_background": "light"
     },
     "output_type": "display_data"
    }
   ],
   "source": [
    "orders.hist(figsize=(15, 7));"
   ]
  },
  {
   "cell_type": "code",
   "execution_count": 6,
   "metadata": {},
   "outputs": [
    {
     "data": {
      "image/png": "[encoded data removed]",
      "text/plain": [
       "<Figure size 720x360 with 1 Axes>"
      ]
     },
     "metadata": {
      "needs_background": "light"
     },
     "output_type": "display_data"
    }
   ],
   "source": [
    "visitors.hist(figsize=(10, 5));"
   ]
  },
  {
   "cell_type": "markdown",
   "metadata": {},
   "source": [
    "**Вывод:**\n",
    "\n",
    "В датафрейме hypothesis присутствует 5 столбцов, он состоит из 9 строк. Вес 488.0+ bytes. Пропуски и дубликаты отсутствуют. \n",
    "\n",
    "В датафрейме orders присутствует 7 столбцов, он состоит из 1197 строк. Вес 65.6+ KB. Пропуски и дубликаты отсутствуют.\n",
    "\n",
    "В датафрейме visitors присутствует 5 столбцов, он состоит из 62 строк. Вес 2.5+ KB. Пропуски и дубликаты отсутствуют.\n",
    "\n",
    "Названия столбцов в датафрейме hypothesis нужно привести к стандартному стилю. Названия столбцов transactionId и visitorId  в датафрейме orders необходимо будет привести к стандартному 'змеиному' формату.\n",
    "\n",
    "Формат даты и времени в orders и visitors нужно будет привести к удобному виду и создать отдельно колонки с месяцем и годом.\n",
    "Также, нужно будет проверить, за какой период предоставлены данные в этих двух датафреймах."
   ]
  },
  {
   "cell_type": "markdown",
   "metadata": {},
   "source": [
    "#### Шаг 2. Предобработка данных"
   ]
  },
  {
   "cell_type": "markdown",
   "metadata": {},
   "source": [
    "***Изменим настройки отображения***"
   ]
  },
  {
   "cell_type": "code",
   "execution_count": 7,
   "metadata": {},
   "outputs": [],
   "source": [
    "pd.options.display.float_format = '{:,.2f}'.format"
   ]
  },
  {
   "cell_type": "markdown",
   "metadata": {},
   "source": [
    "***Приведём формат даты и времени датафрейма orders к удобному виду и создадим отдельно колонки с месяцем и годом***"
   ]
  },
  {
   "cell_type": "code",
   "execution_count": 8,
   "metadata": {},
   "outputs": [],
   "source": [
    "orders['date'] = pd.to_datetime(orders['date'])\n",
    "orders['month']= pd.to_datetime(orders['date']).dt.strftime('%Y-%m')\n",
    "orders['year'] = pd.to_datetime(orders['date']).dt.strftime('%Y')"
   ]
  },
  {
   "cell_type": "markdown",
   "metadata": {},
   "source": [
    "***Приведём формат даты и времени датафрейма visitors к удобному виду и создадим отдельно колонки с месяцем и годом***"
   ]
  },
  {
   "cell_type": "code",
   "execution_count": 9,
   "metadata": {},
   "outputs": [],
   "source": [
    "visitors['date'] = pd.to_datetime(visitors['date'])\n",
    "visitors['month']= pd.to_datetime(visitors['date']).dt.strftime('%Y-%m')\n",
    "visitors['year'] = pd.to_datetime(visitors['date']).dt.strftime('%Y')"
   ]
  },
  {
   "cell_type": "markdown",
   "metadata": {},
   "source": [
    "***Приведём названия столбцов в датафрейме hypothesis к стандартному стилю***"
   ]
  },
  {
   "cell_type": "code",
   "execution_count": 10,
   "metadata": {},
   "outputs": [],
   "source": [
    "hypothesis.columns = [x.lower() for x in hypothesis.columns.values]"
   ]
  },
  {
   "cell_type": "code",
   "execution_count": 11,
   "metadata": {},
   "outputs": [
    {
     "data": {
      "text/html": [
       "<div>\n",
       "<style scoped>\n",
       "    .dataframe tbody tr th:only-of-type {\n",
       "        vertical-align: middle;\n",
       "    }\n",
       "\n",
       "    .dataframe tbody tr th {\n",
       "        vertical-align: top;\n",
       "    }\n",
       "\n",
       "    .dataframe thead th {\n",
       "        text-align: right;\n",
       "    }\n",
       "</style>\n",
       "<table border=\"1\" class=\"dataframe\">\n",
       "  <thead>\n",
       "    <tr style=\"text-align: right;\">\n",
       "      <th></th>\n",
       "      <th>hypothesis</th>\n",
       "      <th>reach</th>\n",
       "      <th>impact</th>\n",
       "      <th>confidence</th>\n",
       "      <th>efforts</th>\n",
       "    </tr>\n",
       "  </thead>\n",
       "  <tbody>\n",
       "    <tr>\n",
       "      <th>0</th>\n",
       "      <td>Добавить два новых канала привлечения трафика, что позволит привлекать на 30% больше пользователей</td>\n",
       "      <td>3</td>\n",
       "      <td>10</td>\n",
       "      <td>8</td>\n",
       "      <td>6</td>\n",
       "    </tr>\n",
       "    <tr>\n",
       "      <th>1</th>\n",
       "      <td>Запустить собственную службу доставки, что сократит срок доставки заказов</td>\n",
       "      <td>2</td>\n",
       "      <td>5</td>\n",
       "      <td>4</td>\n",
       "      <td>10</td>\n",
       "    </tr>\n",
       "    <tr>\n",
       "      <th>2</th>\n",
       "      <td>Добавить блоки рекомендаций товаров на сайт интернет магазина, чтобы повысить конверсию и средний чек заказа</td>\n",
       "      <td>8</td>\n",
       "      <td>3</td>\n",
       "      <td>7</td>\n",
       "      <td>3</td>\n",
       "    </tr>\n",
       "    <tr>\n",
       "      <th>3</th>\n",
       "      <td>Изменить структура категорий, что увеличит конверсию, т.к. пользователи быстрее найдут нужный товар</td>\n",
       "      <td>8</td>\n",
       "      <td>3</td>\n",
       "      <td>3</td>\n",
       "      <td>8</td>\n",
       "    </tr>\n",
       "    <tr>\n",
       "      <th>4</th>\n",
       "      <td>Изменить цвет фона главной страницы, чтобы увеличить вовлеченность пользователей</td>\n",
       "      <td>3</td>\n",
       "      <td>1</td>\n",
       "      <td>1</td>\n",
       "      <td>1</td>\n",
       "    </tr>\n",
       "  </tbody>\n",
       "</table>\n",
       "</div>"
      ],
      "text/plain": [
       "                                                                                                     hypothesis  \\\n",
       "0            Добавить два новых канала привлечения трафика, что позволит привлекать на 30% больше пользователей   \n",
       "1                                     Запустить собственную службу доставки, что сократит срок доставки заказов   \n",
       "2  Добавить блоки рекомендаций товаров на сайт интернет магазина, чтобы повысить конверсию и средний чек заказа   \n",
       "3           Изменить структура категорий, что увеличит конверсию, т.к. пользователи быстрее найдут нужный товар   \n",
       "4                              Изменить цвет фона главной страницы, чтобы увеличить вовлеченность пользователей   \n",
       "\n",
       "   reach  impact  confidence  efforts  \n",
       "0      3      10           8        6  \n",
       "1      2       5           4       10  \n",
       "2      8       3           7        3  \n",
       "3      8       3           3        8  \n",
       "4      3       1           1        1  "
      ]
     },
     "execution_count": 11,
     "metadata": {},
     "output_type": "execute_result"
    }
   ],
   "source": [
    "hypothesis.head()"
   ]
  },
  {
   "cell_type": "markdown",
   "metadata": {},
   "source": [
    "***Приводим названия столбцов в датафрейме orders к к стандартному 'змеиному' формату***"
   ]
  },
  {
   "cell_type": "code",
   "execution_count": 12,
   "metadata": {},
   "outputs": [],
   "source": [
    "orders.rename(columns = {'transactionid':'transaction_id', 'visitorid':'visitor_id'}, inplace = True )"
   ]
  },
  {
   "cell_type": "code",
   "execution_count": 13,
   "metadata": {},
   "outputs": [
    {
     "data": {
      "text/html": [
       "<div>\n",
       "<style scoped>\n",
       "    .dataframe tbody tr th:only-of-type {\n",
       "        vertical-align: middle;\n",
       "    }\n",
       "\n",
       "    .dataframe tbody tr th {\n",
       "        vertical-align: top;\n",
       "    }\n",
       "\n",
       "    .dataframe thead th {\n",
       "        text-align: right;\n",
       "    }\n",
       "</style>\n",
       "<table border=\"1\" class=\"dataframe\">\n",
       "  <thead>\n",
       "    <tr style=\"text-align: right;\">\n",
       "      <th></th>\n",
       "      <th>transaction_id</th>\n",
       "      <th>visitor_id</th>\n",
       "      <th>date</th>\n",
       "      <th>revenue</th>\n",
       "      <th>group</th>\n",
       "      <th>month</th>\n",
       "      <th>year</th>\n",
       "    </tr>\n",
       "  </thead>\n",
       "  <tbody>\n",
       "    <tr>\n",
       "      <th>0</th>\n",
       "      <td>3667963787</td>\n",
       "      <td>3312258926</td>\n",
       "      <td>2019-08-15</td>\n",
       "      <td>1650</td>\n",
       "      <td>B</td>\n",
       "      <td>2019-08</td>\n",
       "      <td>2019</td>\n",
       "    </tr>\n",
       "    <tr>\n",
       "      <th>1</th>\n",
       "      <td>2804400009</td>\n",
       "      <td>3642806036</td>\n",
       "      <td>2019-08-15</td>\n",
       "      <td>730</td>\n",
       "      <td>B</td>\n",
       "      <td>2019-08</td>\n",
       "      <td>2019</td>\n",
       "    </tr>\n",
       "    <tr>\n",
       "      <th>2</th>\n",
       "      <td>2961555356</td>\n",
       "      <td>4069496402</td>\n",
       "      <td>2019-08-15</td>\n",
       "      <td>400</td>\n",
       "      <td>A</td>\n",
       "      <td>2019-08</td>\n",
       "      <td>2019</td>\n",
       "    </tr>\n",
       "    <tr>\n",
       "      <th>3</th>\n",
       "      <td>3797467345</td>\n",
       "      <td>1196621759</td>\n",
       "      <td>2019-08-15</td>\n",
       "      <td>9759</td>\n",
       "      <td>B</td>\n",
       "      <td>2019-08</td>\n",
       "      <td>2019</td>\n",
       "    </tr>\n",
       "    <tr>\n",
       "      <th>4</th>\n",
       "      <td>2282983706</td>\n",
       "      <td>2322279887</td>\n",
       "      <td>2019-08-15</td>\n",
       "      <td>2308</td>\n",
       "      <td>B</td>\n",
       "      <td>2019-08</td>\n",
       "      <td>2019</td>\n",
       "    </tr>\n",
       "  </tbody>\n",
       "</table>\n",
       "</div>"
      ],
      "text/plain": [
       "   transaction_id  visitor_id       date  revenue group    month  year\n",
       "0      3667963787  3312258926 2019-08-15     1650     B  2019-08  2019\n",
       "1      2804400009  3642806036 2019-08-15      730     B  2019-08  2019\n",
       "2      2961555356  4069496402 2019-08-15      400     A  2019-08  2019\n",
       "3      3797467345  1196621759 2019-08-15     9759     B  2019-08  2019\n",
       "4      2282983706  2322279887 2019-08-15     2308     B  2019-08  2019"
      ]
     },
     "execution_count": 13,
     "metadata": {},
     "output_type": "execute_result"
    }
   ],
   "source": [
    "orders.head()"
   ]
  },
  {
   "cell_type": "markdown",
   "metadata": {},
   "source": [
    "***Проверим, за какой период предоставлены данные***"
   ]
  },
  {
   "cell_type": "code",
   "execution_count": 14,
   "metadata": {},
   "outputs": [
    {
     "data": {
      "text/plain": [
       "array([2019])"
      ]
     },
     "execution_count": 14,
     "metadata": {},
     "output_type": "execute_result"
    }
   ],
   "source": [
    "orders['date'].dt.year.unique()"
   ]
  },
  {
   "cell_type": "code",
   "execution_count": 15,
   "metadata": {
    "scrolled": true
   },
   "outputs": [
    {
     "data": {
      "text/plain": [
       "array([2019])"
      ]
     },
     "execution_count": 15,
     "metadata": {},
     "output_type": "execute_result"
    }
   ],
   "source": [
    "visitors['date'].dt.year.unique()"
   ]
  },
  {
   "cell_type": "markdown",
   "metadata": {},
   "source": [
    "Данные в orders и visitors предоставлены только за 2019 год."
   ]
  },
  {
   "cell_type": "markdown",
   "metadata": {},
   "source": [
    "***Проверим минимальные и максимальные даты теста***"
   ]
  },
  {
   "cell_type": "code",
   "execution_count": 16,
   "metadata": {
    "scrolled": true
   },
   "outputs": [
    {
     "name": "stdout",
     "output_type": "stream",
     "text": [
      "2019-08-01 00:00:00\n",
      "2019-08-31 00:00:00\n"
     ]
    }
   ],
   "source": [
    "print(min(visitors['date']))\n",
    "print(max(visitors['date']))"
   ]
  },
  {
   "cell_type": "markdown",
   "metadata": {},
   "source": [
    "Исходя из данных обоих групп, мы имеем данные за август 2019."
   ]
  },
  {
   "cell_type": "markdown",
   "metadata": {},
   "source": [
    "**Вывод:**\n",
    "\n",
    "Пропущенных данных и дубликатов в датафреймах нет.\n",
    "\n",
    "Изменим настройки отображения числовых показателей до двух знаков после запятой.\n",
    "\n",
    "Добавили столбец month и year в датафреймы с датами.\n",
    "\n",
    "Привели к стандарному стилю столбцы датафреймах hypothesis и orders.\n",
    "\n",
    "Данные в orders и visitors предоставлены только за август 2019."
   ]
  },
  {
   "cell_type": "markdown",
   "metadata": {},
   "source": [
    "#### Шаг 3. Исследовательский анализ данных"
   ]
  },
  {
   "cell_type": "markdown",
   "metadata": {},
   "source": [
    "***Посмотрим выборку по группам***"
   ]
  },
  {
   "cell_type": "code",
   "execution_count": 17,
   "metadata": {},
   "outputs": [
    {
     "data": {
      "text/html": [
       "<div>\n",
       "<style scoped>\n",
       "    .dataframe tbody tr th:only-of-type {\n",
       "        vertical-align: middle;\n",
       "    }\n",
       "\n",
       "    .dataframe tbody tr th {\n",
       "        vertical-align: top;\n",
       "    }\n",
       "\n",
       "    .dataframe thead th {\n",
       "        text-align: right;\n",
       "    }\n",
       "</style>\n",
       "<table border=\"1\" class=\"dataframe\">\n",
       "  <thead>\n",
       "    <tr style=\"text-align: right;\">\n",
       "      <th></th>\n",
       "      <th>groups</th>\n",
       "      <th>group_by_test</th>\n",
       "    </tr>\n",
       "    <tr>\n",
       "      <th>visitor_id</th>\n",
       "      <th></th>\n",
       "      <th></th>\n",
       "    </tr>\n",
       "  </thead>\n",
       "  <tbody>\n",
       "    <tr>\n",
       "      <th>8300375</th>\n",
       "      <td>2</td>\n",
       "      <td>[B, A]</td>\n",
       "    </tr>\n",
       "    <tr>\n",
       "      <th>199603092</th>\n",
       "      <td>2</td>\n",
       "      <td>[A, B]</td>\n",
       "    </tr>\n",
       "    <tr>\n",
       "      <th>232979603</th>\n",
       "      <td>2</td>\n",
       "      <td>[B, A]</td>\n",
       "    </tr>\n",
       "    <tr>\n",
       "      <th>237748145</th>\n",
       "      <td>2</td>\n",
       "      <td>[B, A]</td>\n",
       "    </tr>\n",
       "    <tr>\n",
       "      <th>276558944</th>\n",
       "      <td>2</td>\n",
       "      <td>[B, A]</td>\n",
       "    </tr>\n",
       "    <tr>\n",
       "      <th>351125977</th>\n",
       "      <td>2</td>\n",
       "      <td>[B, A]</td>\n",
       "    </tr>\n",
       "    <tr>\n",
       "      <th>393266494</th>\n",
       "      <td>2</td>\n",
       "      <td>[A, B]</td>\n",
       "    </tr>\n",
       "    <tr>\n",
       "      <th>457167155</th>\n",
       "      <td>2</td>\n",
       "      <td>[B, A]</td>\n",
       "    </tr>\n",
       "    <tr>\n",
       "      <th>471551937</th>\n",
       "      <td>2</td>\n",
       "      <td>[A, B]</td>\n",
       "    </tr>\n",
       "    <tr>\n",
       "      <th>477780734</th>\n",
       "      <td>2</td>\n",
       "      <td>[A, B]</td>\n",
       "    </tr>\n",
       "  </tbody>\n",
       "</table>\n",
       "</div>"
      ],
      "text/plain": [
       "            groups group_by_test\n",
       "visitor_id                      \n",
       "8300375          2        [B, A]\n",
       "199603092        2        [A, B]\n",
       "232979603        2        [B, A]\n",
       "237748145        2        [B, A]\n",
       "276558944        2        [B, A]\n",
       "351125977        2        [B, A]\n",
       "393266494        2        [A, B]\n",
       "457167155        2        [B, A]\n",
       "471551937        2        [A, B]\n",
       "477780734        2        [A, B]"
      ]
     },
     "metadata": {},
     "output_type": "display_data"
    },
    {
     "name": "stdout",
     "output_type": "stream",
     "text": [
      "Общее количество пользователей: 1031\n",
      "Кол-во пользователей в группе А: 503\n",
      "% от общего кол-ва пользователей в группе А: 48.79%\n",
      "Кол-во пользователей в группе В: 586\n",
      "% от общего кол-ва пользователей в группе B: 56.84%\n",
      "Кол-во пользователей в обоих группах: 58\n"
     ]
    }
   ],
   "source": [
    "ab_test = orders.groupby('visitor_id').agg({'group': ['nunique', 'unique']})\n",
    "ab_test.columns = ['groups', 'group_by_test']\n",
    "ab_test = ab_test.query('groups > 1')\n",
    "display(ab_test.head(10))\n",
    "ab_test_A=503/1031*100\n",
    "ab_test_B=586/1031*100\n",
    "print('Общее количество пользователей:', orders['visitor_id'].nunique())\n",
    "print('Кол-во пользователей в группе А:', orders.query('group == \"A\"')['visitor_id'].nunique())\n",
    "print(f'% от общего кол-ва пользователей в группе А: {ab_test_A:,.2f}%')\n",
    "print('Кол-во пользователей в группе В:', orders.query('group == \"B\"')['visitor_id'].nunique())\n",
    "print(f'% от общего кол-ва пользователей в группе B: {ab_test_B:,.2f}%')\n",
    "print('Кол-во пользователей в обоих группах:',len(ab_test))"
   ]
  },
  {
   "cell_type": "markdown",
   "metadata": {},
   "source": [
    "**Вывод:**\n",
    "\n",
    "Здесь видно, что 58 пользователей находятся как в группе А, так и в группе В. \n",
    "\n",
    "В процентном соотношении это получается, что в группе А они составляют 11,53%, в группе В - 9,89%. А от общего количества пользователей они составляют около 5,60%. Так как они принимают участие в обоих группах, есть, конечно, вероятность \"подглядывания\", но, я считаю, что не стоит исключать данных пользователей из теста и предлагаю их оставить. Врядли они внесут большую погрешность в исследование."
   ]
  },
  {
   "cell_type": "markdown",
   "metadata": {},
   "source": [
    "***Приоритизация гипотез***"
   ]
  },
  {
   "cell_type": "markdown",
   "metadata": {},
   "source": [
    "**Примените фреймворк ICE для приоритизации гипотез. Отсортируйте их по убыванию приоритета.**"
   ]
  },
  {
   "cell_type": "code",
   "execution_count": 18,
   "metadata": {},
   "outputs": [],
   "source": [
    "hypothesis['ICE'] = round(hypothesis['impact']*hypothesis['confidence']/hypothesis['efforts'], 2)"
   ]
  },
  {
   "cell_type": "code",
   "execution_count": 19,
   "metadata": {},
   "outputs": [
    {
     "data": {
      "text/html": [
       "<div>\n",
       "<style scoped>\n",
       "    .dataframe tbody tr th:only-of-type {\n",
       "        vertical-align: middle;\n",
       "    }\n",
       "\n",
       "    .dataframe tbody tr th {\n",
       "        vertical-align: top;\n",
       "    }\n",
       "\n",
       "    .dataframe thead th {\n",
       "        text-align: right;\n",
       "    }\n",
       "</style>\n",
       "<table border=\"1\" class=\"dataframe\">\n",
       "  <thead>\n",
       "    <tr style=\"text-align: right;\">\n",
       "      <th></th>\n",
       "      <th>hypothesis</th>\n",
       "      <th>ICE</th>\n",
       "    </tr>\n",
       "  </thead>\n",
       "  <tbody>\n",
       "    <tr>\n",
       "      <th>8</th>\n",
       "      <td>Запустить акцию, дающую скидку на товар в день рождения</td>\n",
       "      <td>16.20</td>\n",
       "    </tr>\n",
       "    <tr>\n",
       "      <th>0</th>\n",
       "      <td>Добавить два новых канала привлечения трафика, что позволит привлекать на 30% больше пользователей</td>\n",
       "      <td>13.33</td>\n",
       "    </tr>\n",
       "    <tr>\n",
       "      <th>7</th>\n",
       "      <td>Добавить форму подписки на все основные страницы, чтобы собрать базу клиентов для email-рассылок</td>\n",
       "      <td>11.20</td>\n",
       "    </tr>\n",
       "    <tr>\n",
       "      <th>6</th>\n",
       "      <td>Показать на главной странице баннеры с актуальными акциями и распродажами, чтобы увеличить конверсию</td>\n",
       "      <td>8.00</td>\n",
       "    </tr>\n",
       "    <tr>\n",
       "      <th>2</th>\n",
       "      <td>Добавить блоки рекомендаций товаров на сайт интернет магазина, чтобы повысить конверсию и средний чек заказа</td>\n",
       "      <td>7.00</td>\n",
       "    </tr>\n",
       "    <tr>\n",
       "      <th>1</th>\n",
       "      <td>Запустить собственную службу доставки, что сократит срок доставки заказов</td>\n",
       "      <td>2.00</td>\n",
       "    </tr>\n",
       "    <tr>\n",
       "      <th>5</th>\n",
       "      <td>Добавить страницу отзывов клиентов о магазине, что позволит увеличить количество заказов</td>\n",
       "      <td>1.33</td>\n",
       "    </tr>\n",
       "    <tr>\n",
       "      <th>3</th>\n",
       "      <td>Изменить структура категорий, что увеличит конверсию, т.к. пользователи быстрее найдут нужный товар</td>\n",
       "      <td>1.12</td>\n",
       "    </tr>\n",
       "    <tr>\n",
       "      <th>4</th>\n",
       "      <td>Изменить цвет фона главной страницы, чтобы увеличить вовлеченность пользователей</td>\n",
       "      <td>1.00</td>\n",
       "    </tr>\n",
       "  </tbody>\n",
       "</table>\n",
       "</div>"
      ],
      "text/plain": [
       "                                                                                                     hypothesis  \\\n",
       "8                                                       Запустить акцию, дающую скидку на товар в день рождения   \n",
       "0            Добавить два новых канала привлечения трафика, что позволит привлекать на 30% больше пользователей   \n",
       "7              Добавить форму подписки на все основные страницы, чтобы собрать базу клиентов для email-рассылок   \n",
       "6          Показать на главной странице баннеры с актуальными акциями и распродажами, чтобы увеличить конверсию   \n",
       "2  Добавить блоки рекомендаций товаров на сайт интернет магазина, чтобы повысить конверсию и средний чек заказа   \n",
       "1                                     Запустить собственную службу доставки, что сократит срок доставки заказов   \n",
       "5                      Добавить страницу отзывов клиентов о магазине, что позволит увеличить количество заказов   \n",
       "3           Изменить структура категорий, что увеличит конверсию, т.к. пользователи быстрее найдут нужный товар   \n",
       "4                              Изменить цвет фона главной страницы, чтобы увеличить вовлеченность пользователей   \n",
       "\n",
       "    ICE  \n",
       "8 16.20  \n",
       "0 13.33  \n",
       "7 11.20  \n",
       "6  8.00  \n",
       "2  7.00  \n",
       "1  2.00  \n",
       "5  1.33  \n",
       "3  1.12  \n",
       "4  1.00  "
      ]
     },
     "execution_count": 19,
     "metadata": {},
     "output_type": "execute_result"
    }
   ],
   "source": [
    "pd.set_option('max_colwidth', 120)\n",
    "hypothesis[['hypothesis', 'ICE']].sort_values(by='ICE', ascending=False)"
   ]
  },
  {
   "cell_type": "markdown",
   "metadata": {},
   "source": [
    "**Вывод:**\n",
    "\n",
    "Самой первой для проверки идет гипотеза под номером восемь - Запустить акцию, дающую скидку на товар в день рождения."
   ]
  },
  {
   "cell_type": "markdown",
   "metadata": {},
   "source": [
    "**Примените фреймворк RICE для приоритизации гипотез. Отсортируйте их по убыванию приоритета.**"
   ]
  },
  {
   "cell_type": "code",
   "execution_count": 20,
   "metadata": {},
   "outputs": [],
   "source": [
    "hypothesis['RICE'] = ((hypothesis['reach']*hypothesis['impact']*hypothesis['confidence'])/hypothesis['efforts'])"
   ]
  },
  {
   "cell_type": "code",
   "execution_count": 21,
   "metadata": {},
   "outputs": [
    {
     "data": {
      "text/html": [
       "<div>\n",
       "<style scoped>\n",
       "    .dataframe tbody tr th:only-of-type {\n",
       "        vertical-align: middle;\n",
       "    }\n",
       "\n",
       "    .dataframe tbody tr th {\n",
       "        vertical-align: top;\n",
       "    }\n",
       "\n",
       "    .dataframe thead th {\n",
       "        text-align: right;\n",
       "    }\n",
       "</style>\n",
       "<table border=\"1\" class=\"dataframe\">\n",
       "  <thead>\n",
       "    <tr style=\"text-align: right;\">\n",
       "      <th></th>\n",
       "      <th>hypothesis</th>\n",
       "      <th>RICE</th>\n",
       "    </tr>\n",
       "  </thead>\n",
       "  <tbody>\n",
       "    <tr>\n",
       "      <th>7</th>\n",
       "      <td>Добавить форму подписки на все основные страницы, чтобы собрать базу клиентов для email-рассылок</td>\n",
       "      <td>112.00</td>\n",
       "    </tr>\n",
       "    <tr>\n",
       "      <th>2</th>\n",
       "      <td>Добавить блоки рекомендаций товаров на сайт интернет магазина, чтобы повысить конверсию и средний чек заказа</td>\n",
       "      <td>56.00</td>\n",
       "    </tr>\n",
       "    <tr>\n",
       "      <th>0</th>\n",
       "      <td>Добавить два новых канала привлечения трафика, что позволит привлекать на 30% больше пользователей</td>\n",
       "      <td>40.00</td>\n",
       "    </tr>\n",
       "    <tr>\n",
       "      <th>6</th>\n",
       "      <td>Показать на главной странице баннеры с актуальными акциями и распродажами, чтобы увеличить конверсию</td>\n",
       "      <td>40.00</td>\n",
       "    </tr>\n",
       "    <tr>\n",
       "      <th>8</th>\n",
       "      <td>Запустить акцию, дающую скидку на товар в день рождения</td>\n",
       "      <td>16.20</td>\n",
       "    </tr>\n",
       "    <tr>\n",
       "      <th>3</th>\n",
       "      <td>Изменить структура категорий, что увеличит конверсию, т.к. пользователи быстрее найдут нужный товар</td>\n",
       "      <td>9.00</td>\n",
       "    </tr>\n",
       "    <tr>\n",
       "      <th>1</th>\n",
       "      <td>Запустить собственную службу доставки, что сократит срок доставки заказов</td>\n",
       "      <td>4.00</td>\n",
       "    </tr>\n",
       "    <tr>\n",
       "      <th>5</th>\n",
       "      <td>Добавить страницу отзывов клиентов о магазине, что позволит увеличить количество заказов</td>\n",
       "      <td>4.00</td>\n",
       "    </tr>\n",
       "    <tr>\n",
       "      <th>4</th>\n",
       "      <td>Изменить цвет фона главной страницы, чтобы увеличить вовлеченность пользователей</td>\n",
       "      <td>3.00</td>\n",
       "    </tr>\n",
       "  </tbody>\n",
       "</table>\n",
       "</div>"
      ],
      "text/plain": [
       "                                                                                                     hypothesis  \\\n",
       "7              Добавить форму подписки на все основные страницы, чтобы собрать базу клиентов для email-рассылок   \n",
       "2  Добавить блоки рекомендаций товаров на сайт интернет магазина, чтобы повысить конверсию и средний чек заказа   \n",
       "0            Добавить два новых канала привлечения трафика, что позволит привлекать на 30% больше пользователей   \n",
       "6          Показать на главной странице баннеры с актуальными акциями и распродажами, чтобы увеличить конверсию   \n",
       "8                                                       Запустить акцию, дающую скидку на товар в день рождения   \n",
       "3           Изменить структура категорий, что увеличит конверсию, т.к. пользователи быстрее найдут нужный товар   \n",
       "1                                     Запустить собственную службу доставки, что сократит срок доставки заказов   \n",
       "5                      Добавить страницу отзывов клиентов о магазине, что позволит увеличить количество заказов   \n",
       "4                              Изменить цвет фона главной страницы, чтобы увеличить вовлеченность пользователей   \n",
       "\n",
       "    RICE  \n",
       "7 112.00  \n",
       "2  56.00  \n",
       "0  40.00  \n",
       "6  40.00  \n",
       "8  16.20  \n",
       "3   9.00  \n",
       "1   4.00  \n",
       "5   4.00  \n",
       "4   3.00  "
      ]
     },
     "execution_count": 21,
     "metadata": {},
     "output_type": "execute_result"
    }
   ],
   "source": [
    "pd.set_option('max_colwidth', 120)\n",
    "hypothesis[['hypothesis', 'RICE']].sort_values(by='RICE', ascending=False)"
   ]
  },
  {
   "cell_type": "markdown",
   "metadata": {},
   "source": [
    "**Вывод:**\n",
    "\n",
    "Здесь, самой первой для проверки идет гипотеза под номером семь - Добавить форму подписки на все основные страницы, чтобы собрать базу клиентов для email-рассылок.\n",
    "\n",
    "Поскольку на значимость гипотезы влияет охват пользователей Reach, а он у этой гипотезы ровняется 10, то она и будет в приоритете."
   ]
  },
  {
   "cell_type": "markdown",
   "metadata": {},
   "source": [
    "#### Шаг 4. Проанализируйте A/B-тест"
   ]
  },
  {
   "cell_type": "markdown",
   "metadata": {},
   "source": [
    "***Постройте график кумулятивной выручки по группам.***"
   ]
  },
  {
   "cell_type": "code",
   "execution_count": 22,
   "metadata": {},
   "outputs": [
    {
     "data": {
      "image/png": "[encoded data removed]",
      "text/plain": [
       "<Figure size 720x360 with 1 Axes>"
      ]
     },
     "metadata": {
      "needs_background": "light"
     },
     "output_type": "display_data"
    }
   ],
   "source": [
    "# создаем массив уникальных пар значений дат и групп теста\n",
    "datesGroups = orders[['date', 'group']].drop_duplicates()\n",
    "\n",
    "# получаем агрегированные кумулятивные по дням данные о заказах \n",
    "ordersAggregated = datesGroups.apply(\n",
    "    lambda x: orders[\n",
    "        np.logical_and(\n",
    "            orders['date'] <= x['date'], orders['group'] == x['group']\n",
    "        )].agg(\n",
    "        {\n",
    "            'date' : 'max', \n",
    "            'group' : 'max', \n",
    "            'transaction_id' : 'nunique', \n",
    "            'visitor_id' : 'nunique', \n",
    "            'revenue' : 'sum'}\n",
    "    ), axis=1).sort_values(by=['date','group'])\n",
    "\n",
    "# получаем агрегированные кумулятивные по дням данные о посетителях интернет-магазина\n",
    "visitorsAggregated = datesGroups.apply(\n",
    "    lambda x: visitors[\n",
    "        np.logical_and(\n",
    "            visitors['date'] <= x['date'], visitors['group'] == x['group']\n",
    "        )].agg(\n",
    "        {\n",
    "            'date' : 'max', \n",
    "            'group' : 'max', \n",
    "            'visitors' : 'sum'}\n",
    "    ), axis=1).sort_values(by=['date','group'])\n",
    "\n",
    "# объединяем кумулятивные данные в одной таблице и присваиваем ее столбцам понятные названия\n",
    "cumulativeData = ordersAggregated.merge(visitorsAggregated, left_on=['date', 'group'], right_on=['date', 'group'])\n",
    "cumulativeData.columns = ['date', 'group', 'orders', 'buyers', 'revenue', 'visitors']\n",
    "\n",
    "# датафрейм с кумулятивным количеством заказов и кумулятивной выручкой по дням в группе А\n",
    "cumulativeRevenueA = cumulativeData[cumulativeData['group']=='A'][['date','revenue', 'orders']]\n",
    "\n",
    "# датафрейм с кумулятивным количеством заказов и кумулятивной выручкой по дням в группе B\n",
    "cumulativeRevenueB = cumulativeData[cumulativeData['group']=='B'][['date','revenue', 'orders']]\n",
    "\n",
    "# настраиваем размер графика\n",
    "plt.figure(figsize=(10, 5))\n",
    "\n",
    "# Строим график выручки группы А\n",
    "plt.plot(cumulativeRevenueA['date'], cumulativeRevenueA['revenue'], label='A')\n",
    "\n",
    "# Строим график выручки группы B\n",
    "plt.plot(cumulativeRevenueB['date'], cumulativeRevenueB['revenue'], label='B')\n",
    "\n",
    "plt.legend()\n",
    "plt.title('График кумулятивной выручки по группам')\n",
    "plt.xlabel('Дата')\n",
    "plt.ylabel('Выручка')\n",
    "plt.show();"
   ]
  },
  {
   "cell_type": "markdown",
   "metadata": {},
   "source": [
    "**Вывод**\n",
    "\n",
    "Выручка почти равномерно увеличивается в течение всего теста. Но, видно что выручка у группы В выше выручки группы А. Также заметно, что на отметке около 19 августа выручка группы В резко отскочила вверх.\n",
    "\n",
    "Это может говорить о всплесках числа заказов, либо о появлении очень дорогих заказов."
   ]
  },
  {
   "cell_type": "markdown",
   "metadata": {},
   "source": [
    "***Постройте график кумулятивного среднего чека по группам.***"
   ]
  },
  {
   "cell_type": "code",
   "execution_count": 23,
   "metadata": {},
   "outputs": [
    {
     "data": {
      "image/png": "[encoded data removed]",
      "text/plain": [
       "<Figure size 720x360 with 1 Axes>"
      ]
     },
     "metadata": {
      "needs_background": "light"
     },
     "output_type": "display_data"
    }
   ],
   "source": [
    "plt.figure(figsize=(10, 5))\n",
    "plt.plot(cumulativeRevenueA['date'], cumulativeRevenueA['revenue']/cumulativeRevenueA['orders'], label='A')\n",
    "plt.plot(cumulativeRevenueB['date'], cumulativeRevenueB['revenue']/cumulativeRevenueB['orders'], label='B')\n",
    "plt.xticks(rotation = 45)\n",
    "plt.legend()\n",
    "plt.title('График кумулятивного среднего чека по группам')\n",
    "plt.xlabel('Дата')\n",
    "plt.ylabel('Средний чек')\n",
    "plt.show()"
   ]
  },
  {
   "cell_type": "markdown",
   "metadata": {},
   "source": [
    "**Вывод**\n",
    "\n",
    "Кумулятивный средний чек группы В практически на всем протяжении превышал средний чек группы А. Также, можно видеть что в районе 18 августа резкое движение чека группы В вверх. Теоретически, это как раз подтверждает наличие крупного заказа в тот день. К концу графика, средний чек по обоим группам начинает немного стабилизироваться."
   ]
  },
  {
   "cell_type": "markdown",
   "metadata": {},
   "source": [
    "***Постройте график относительного изменения кумулятивного среднего чека группы B к группе A.***"
   ]
  },
  {
   "cell_type": "code",
   "execution_count": 24,
   "metadata": {},
   "outputs": [
    {
     "data": {
      "image/png": "[encoded data removed]",
      "text/plain": [
       "<Figure size 720x360 with 1 Axes>"
      ]
     },
     "metadata": {
      "needs_background": "light"
     },
     "output_type": "display_data"
    }
   ],
   "source": [
    "plt.figure(figsize=(10, 5))\n",
    "mergedCumulativeRevenue = cumulativeRevenueA.merge(\n",
    "    cumulativeRevenueB, \n",
    "    left_on='date', \n",
    "    right_on='date', \n",
    "    how='left', \n",
    "    suffixes=['A', 'B']\n",
    ")\n",
    "plt.plot(mergedCumulativeRevenue['date'], (mergedCumulativeRevenue['revenueB']\n",
    "                                           /mergedCumulativeRevenue['ordersB'])/ \n",
    "         (mergedCumulativeRevenue['revenueA']/mergedCumulativeRevenue['ordersA']) - 1)\n",
    "\n",
    "plt.axhline(y=0, color='black', linestyle='--')\n",
    "plt.title('График относительного изменения кумулятивного среднего чека группы B к группе A')\n",
    "plt.xlabel('Дата')\n",
    "plt.ylabel('Относительное изменение')\n",
    "plt.xticks(rotation = 45)\n",
    "plt.show()"
   ]
  },
  {
   "cell_type": "markdown",
   "metadata": {},
   "source": [
    "**Вывод**\n",
    "\n",
    "Относительное изменение кумулятивного среднего чека группы B к группе A было положительным практически во все время исследования. Сильные отрицательные значения наблюдаются только в районе 13 августа.\n",
    "В некоторых местах на графике виден резкий скачок вверх - это может говорить нам о наличии крупных заказов."
   ]
  },
  {
   "cell_type": "markdown",
   "metadata": {},
   "source": [
    "***Постройте график кумулятивного среднего количества заказов на посетителя по группам.***"
   ]
  },
  {
   "cell_type": "code",
   "execution_count": 25,
   "metadata": {},
   "outputs": [
    {
     "data": {
      "image/png": "[encoded data removed]",
      "text/plain": [
       "<Figure size 720x360 with 1 Axes>"
      ]
     },
     "metadata": {
      "needs_background": "light"
     },
     "output_type": "display_data"
    }
   ],
   "source": [
    "# настраиваем размер графика\n",
    "plt.figure(figsize=(10, 5))\n",
    "\n",
    "# считаем среднее количество заказов на посетителя\n",
    "cumulativeData['conversion'] = cumulativeData['orders']/cumulativeData['visitors']\n",
    "\n",
    "# отделяем данные по группе A\n",
    "cumulativeDataA = cumulativeData[cumulativeData['group']=='A']\n",
    "\n",
    "# отделяем данные по группе B\n",
    "cumulativeDataB = cumulativeData[cumulativeData['group']=='B']\n",
    "\n",
    "# строим графики\n",
    "plt.plot(cumulativeDataA['date'], cumulativeDataA['conversion'], label='A')\n",
    "plt.plot(cumulativeDataB['date'], cumulativeDataB['conversion'], label='B')\n",
    "plt.axis([pd.datetime(2019, 8, 1), pd.datetime(2019, 8, 31), 0, 0.05])\n",
    "plt.title('График кумулятивного среднего количества заказов на посетителя по группам')\n",
    "plt.xlabel('Дата')\n",
    "plt.ylabel('Среднее количество')\n",
    "plt.xticks(rotation = 45)\n",
    "plt.legend();"
   ]
  },
  {
   "cell_type": "markdown",
   "metadata": {},
   "source": [
    "**Вывод**\n",
    "\n",
    "Среднее количество заказов сначала увеличивалось для обеих групп. Далее, количество сокращается для группы А и стабилизируется на определенном диапазоне. В конце, есть некоторый спад. У группы В наоборот, идет восстановление количества заказов (либо качества). Выходя на определенный диапазон, количество заказов по продолжению теста начинает понемногу идти на спад. В конце есть небольшой выход вверх и далее небольшое падение."
   ]
  },
  {
   "cell_type": "markdown",
   "metadata": {},
   "source": [
    "***Постройте график относительного изменения кумулятивного среднего количества заказов на посетителя группы B к группе A.***"
   ]
  },
  {
   "cell_type": "code",
   "execution_count": 26,
   "metadata": {},
   "outputs": [
    {
     "data": {
      "image/png": "[encoded data removed]",
      "text/plain": [
       "<Figure size 720x360 with 1 Axes>"
      ]
     },
     "metadata": {
      "needs_background": "light"
     },
     "output_type": "display_data"
    }
   ],
   "source": [
    "mergedCumulativeConversions = ( cumulativeDataA[['date','conversion']]\n",
    "    .merge(cumulativeDataB[['date','conversion']], left_on='date', right_on='date', how='left', suffixes=['A', 'B'])\n",
    "                              )\n",
    "plt.figure(figsize=(10, 5))\n",
    "plt.plot(mergedCumulativeConversions['date'], \n",
    "        mergedCumulativeConversions['conversionB']/mergedCumulativeConversions['conversionA']-1,\n",
    "        label='Относительный прирост конверсии группы B относительно группы A')\n",
    "plt.legend()\n",
    "plt.axhline(y=0, color='black', linestyle='--')\n",
    "plt.axhline(y = 0.1, color='grey', linestyle='--');\n",
    "plt.title('График относительного изменения кумулятивного среднего количества заказов на посетителя группы B к группе A')\n",
    "plt.xlabel('Дата')\n",
    "plt.ylabel('Относительное изменение конверсии')\n",
    "plt.xticks(rotation = 45)\n",
    "plt.show();"
   ]
  },
  {
   "cell_type": "markdown",
   "metadata": {},
   "source": [
    "**Вывод**\n",
    "\n",
    "На графике можно наблюдать резкий выброс ко 2 августу, потом идет спад и выход вверх.\n",
    "В целом, конверсия группы В выше группы А и преимущественно продолжает колебаться в районе 10-14%."
   ]
  },
  {
   "cell_type": "markdown",
   "metadata": {},
   "source": [
    "***Постройте точечный график количества заказов по пользователям.***"
   ]
  },
  {
   "cell_type": "code",
   "execution_count": 27,
   "metadata": {},
   "outputs": [
    {
     "name": "stdout",
     "output_type": "stream",
     "text": [
      "      visitor_id  orders\n",
      "1023  4256040402      11\n",
      "591   2458001652      11\n",
      "569   2378935119       9\n",
      "487   2038680547       8\n",
      "44     199603092       5\n",
      "744   3062433592       5\n",
      "55     237748145       5\n",
      "917   3803269165       5\n",
      "299   1230306981       5\n",
      "897   3717692402       5\n"
     ]
    },
    {
     "data": {
      "image/png": "[encoded data removed]",
      "text/plain": [
       "<Figure size 432x288 with 1 Axes>"
      ]
     },
     "metadata": {
      "needs_background": "light"
     },
     "output_type": "display_data"
    }
   ],
   "source": [
    "ordersByUsers = (orders.groupby('visitor_id', as_index=False).agg({'transaction_id': 'nunique'}))\n",
    "ordersByUsers.columns = ['visitor_id', 'orders']\n",
    "\n",
    "print(ordersByUsers.sort_values(by='orders', ascending=False).head(10))\n",
    "\n",
    "# серия из чисел от 0 до количества наблюдений в ordersByUsers\n",
    "x_values = pd.Series(range(0, len(ordersByUsers)))\n",
    "plt.scatter(x_values, ordersByUsers['orders'])\n",
    "plt.title('Точечный график количества заказов по пользователям')\n",
    "plt.xlabel('Пользователи')\n",
    "plt.ylabel('Заказы')\n",
    "plt.show()"
   ]
  },
  {
   "cell_type": "markdown",
   "metadata": {},
   "source": [
    "**Вывод**\n",
    "\n",
    "Здесь можно наблюдать, что основное количество пользователей делает 1-2 заказа. Но есть значительная часть пользователей, которые делают 3, 4 и даже 5 заказов. Учитывать ли эти заказы как аномальные пока мы не можем, так как их точная доля не ясна.\n",
    "\n",
    "Есть и совсем выбивающиеся количества заказов - от 8 до 12. Видно, что их доля небольшая. Эти заказы, скорее всего, были сделаны на большие суммы. Т.е. покупали большими партиями, или в заказах было что-то дорогое по стоимости."
   ]
  },
  {
   "cell_type": "markdown",
   "metadata": {},
   "source": [
    "***Посчитайте 95-й и 99-й перцентили количества заказов на пользователя.***"
   ]
  },
  {
   "cell_type": "code",
   "execution_count": 28,
   "metadata": {},
   "outputs": [
    {
     "name": "stdout",
     "output_type": "stream",
     "text": [
      "[2. 4.]\n"
     ]
    }
   ],
   "source": [
    "print(np.percentile(ordersByUsers['orders'], [95, 99]))"
   ]
  },
  {
   "cell_type": "markdown",
   "metadata": {},
   "source": [
    "**Вывод**\n",
    "\n",
    "Не более 5% пользователей оформляли больше 2 заказов. 1% пользователей оформляли более 4 заказов. Думаю, что нужно выбрать 2 заказа на пользователя как нижнюю границу, остальные будем считать аномалиями."
   ]
  },
  {
   "cell_type": "markdown",
   "metadata": {},
   "source": [
    "***Постройте точечный график стоимостей заказов.***"
   ]
  },
  {
   "cell_type": "code",
   "execution_count": 29,
   "metadata": {},
   "outputs": [
    {
     "data": {
      "image/png": "[encoded data removed]",
      "text/plain": [
       "<Figure size 432x288 with 1 Axes>"
      ]
     },
     "metadata": {
      "needs_background": "light"
     },
     "output_type": "display_data"
    }
   ],
   "source": [
    "x_values = pd.Series(range(0,len(orders['revenue'])))\n",
    "plt.scatter(x_values, orders['revenue'])\n",
    "plt.title('Точечный график стоимостей заказов')\n",
    "plt.xlabel('Пользователеи')\n",
    "plt.ylabel('Стоимость заказа');"
   ]
  },
  {
   "cell_type": "markdown",
   "metadata": {},
   "source": [
    "**Вывод**\n",
    "\n",
    "На графике видно, что большинство заказов не превышает 100 тысяч рублей. И можно наблюдать 1 заказ больше 1.2 млн. Могу допустить, что это тот выброс в группе В."
   ]
  },
  {
   "cell_type": "markdown",
   "metadata": {},
   "source": [
    "***Посчитайте 95-й и 99-й перцентили стоимости заказов.***"
   ]
  },
  {
   "cell_type": "code",
   "execution_count": 30,
   "metadata": {},
   "outputs": [
    {
     "name": "stdout",
     "output_type": "stream",
     "text": [
      "[28000.  58233.2]\n"
     ]
    }
   ],
   "source": [
    "print(np.percentile(orders['revenue'], [95, 99]))"
   ]
  },
  {
   "cell_type": "markdown",
   "metadata": {},
   "source": [
    "**Вывод**\n",
    "\n",
    "Не более 5% заказов имеют стоимость 28000 рублей. Также, не более 1% дороже 58233.2 рублей. Предполагаю, что можно выбрать стоимость заказа в 28000 рублей как нижнюю границу и отсеять аномальные величины по ней."
   ]
  },
  {
   "cell_type": "markdown",
   "metadata": {},
   "source": [
    "***Посчитайте статистическую значимость различий в среднем количестве заказов на посетителя между группами по «сырым» данным.***"
   ]
  },
  {
   "cell_type": "markdown",
   "metadata": {},
   "source": [
    "Сформулируем гипотезы:\n",
    "\n",
    "Н0: Различий в среднем количестве заказов между группами нет.\n",
    "\n",
    "Н1: Различия в среднем количестве заказов между группами есть."
   ]
  },
  {
   "cell_type": "code",
   "execution_count": 31,
   "metadata": {},
   "outputs": [
    {
     "name": "stdout",
     "output_type": "stream",
     "text": [
      "        date  ordersPerDateA  revenuePerDateA  ordersPerDateB  \\\n",
      "0 2019-08-01              24           148579              20   \n",
      "1 2019-08-02              20            93822              23   \n",
      "2 2019-08-03              24           112473              16   \n",
      "3 2019-08-04              16            70825              16   \n",
      "4 2019-08-05              25           124218              23   \n",
      "\n",
      "   revenuePerDateB  ordersCummulativeA  revenueCummulativeA  \\\n",
      "0           101217                  24               148579   \n",
      "1           165531                  44               242401   \n",
      "2           114248                  68               354874   \n",
      "3           108571                  84               425699   \n",
      "4            92428                 109               549917   \n",
      "\n",
      "   ordersCummulativeB  revenueCummulativeB  visitorsPerDateA  \\\n",
      "0                  20               101217               719   \n",
      "1                  43               266748               619   \n",
      "2                  59               380996               507   \n",
      "3                  75               489567               717   \n",
      "4                  98               581995               756   \n",
      "\n",
      "   visitorsPerDateB  visitorsCummulativeA  visitorsCummulativeB  \n",
      "0               713                   719                   713  \n",
      "1               581                  1338                  1294  \n",
      "2               509                  1845                  1803  \n",
      "3               770                  2562                  2573  \n",
      "4               707                  3318                  3280  \n",
      "\n",
      "Отвергаем нулевую гипотезу: Различий в среднем количестве заказов между группами нет.\n",
      "P-value = 0.017\n",
      "Относительный прирост среднего группы В к конверсии группы А: 0.138\n"
     ]
    }
   ],
   "source": [
    "visitorsADaily = visitors[visitors['group'] == 'A'][['date', 'visitors']]\n",
    "visitorsADaily.columns = ['date', 'visitorsPerDateA']\n",
    "\n",
    "visitorsACummulative = visitorsADaily.apply(\n",
    "    lambda x: visitorsADaily[visitorsADaily['date'] <= x['date']].agg(\n",
    "        {'date': 'max', 'visitorsPerDateA': 'sum'}\n",
    "    ),\n",
    "    axis=1,\n",
    ")\n",
    "visitorsACummulative.columns = ['date', 'visitorsCummulativeA']\n",
    "\n",
    "visitorsBDaily = visitors[visitors['group'] == 'B'][['date', 'visitors']]\n",
    "visitorsBDaily.columns = ['date', 'visitorsPerDateB']\n",
    "\n",
    "visitorsBCummulative = visitorsBDaily.apply(\n",
    "    lambda x: visitorsBDaily[visitorsBDaily['date'] <= x['date']].agg(\n",
    "        {'date': 'max', 'visitorsPerDateB': 'sum'}\n",
    "    ),\n",
    "    axis=1,\n",
    ")\n",
    "visitorsBCummulative.columns = ['date', 'visitorsCummulativeB']\n",
    "\n",
    "ordersADaily = (\n",
    "    orders[orders['group'] == 'A'][['date', 'transaction_id', 'visitor_id', 'revenue']]\n",
    "    .groupby('date', as_index=False)\n",
    "    .agg({'transaction_id': pd.Series.nunique, 'revenue': 'sum'})\n",
    ")\n",
    "ordersADaily.columns = ['date', 'ordersPerDateA', 'revenuePerDateA']\n",
    "\n",
    "ordersACummulative = ordersADaily.apply(\n",
    "    lambda x: ordersADaily[ordersADaily['date'] <= x['date']].agg(\n",
    "        {'date': 'max', 'ordersPerDateA': 'sum', 'revenuePerDateA': 'sum'}\n",
    "    ),\n",
    "    axis=1,\n",
    ").sort_values(by=['date'])\n",
    "ordersACummulative.columns = [\n",
    "    'date',\n",
    "    'ordersCummulativeA',\n",
    "    'revenueCummulativeA',\n",
    "]\n",
    "\n",
    "ordersBDaily = (\n",
    "    orders[orders['group'] == 'B'][['date', 'transaction_id', 'visitor_id', 'revenue']]\n",
    "    .groupby('date', as_index=False)\n",
    "    .agg({'visitor_id': pd.Series.nunique, 'revenue': 'sum'})\n",
    ")\n",
    "ordersBDaily.columns = ['date', 'ordersPerDateB', 'revenuePerDateB']\n",
    "\n",
    "ordersBCummulative = ordersBDaily.apply(\n",
    "    lambda x: ordersBDaily[ordersBDaily['date'] <= x['date']].agg(\n",
    "        {'date': 'max', 'ordersPerDateB': 'sum', 'revenuePerDateB': 'sum'}\n",
    "    ),\n",
    "    axis=1,\n",
    ").sort_values(by=['date'])\n",
    "ordersBCummulative.columns = [\n",
    "    'date',\n",
    "    'ordersCummulativeB',\n",
    "    'revenueCummulativeB',\n",
    "]\n",
    "\n",
    "data = (\n",
    "    ordersADaily.merge(\n",
    "        ordersBDaily, left_on='date', right_on='date', how='left'\n",
    "    )\n",
    "    .merge(ordersACummulative, left_on='date', right_on='date', how='left')\n",
    "    .merge(ordersBCummulative, left_on='date', right_on='date', how='left')\n",
    "    .merge(visitorsADaily, left_on='date', right_on='date', how='left')\n",
    "    .merge(visitorsBDaily, left_on='date', right_on='date', how='left')\n",
    "    .merge(visitorsACummulative, left_on='date', right_on='date', how='left')\n",
    "    .merge(visitorsBCummulative, left_on='date', right_on='date', how='left')\n",
    ")\n",
    "\n",
    "print(data.head(5))\n",
    "\n",
    "\n",
    "ordersByUsersA = (\n",
    "    orders[orders['group'] == 'A']\n",
    "    .groupby('visitor_id', as_index=False)\n",
    "    .agg({'transaction_id': pd.Series.nunique})\n",
    ")\n",
    "ordersByUsersA.columns = ['visitor_id', 'orders']  \n",
    "    \n",
    "ordersByUsersB = (\n",
    "    orders[orders['group'] == 'B']\n",
    "    .groupby('visitor_id', as_index=False)\n",
    "    .agg({'transaction_id': pd.Series.nunique})\n",
    ")\n",
    "ordersByUsersB.columns = ['visitor_id', 'orders']\n",
    "\n",
    "sampleA = pd.concat(\n",
    "    [\n",
    "        ordersByUsersA['orders'],\n",
    "        pd.Series(\n",
    "            0,\n",
    "            index=np.arange(\n",
    "                data['visitorsPerDateA'].sum() - len(ordersByUsersA['orders'])\n",
    "            ),\n",
    "            name='orders',\n",
    "        ),\n",
    "    ],\n",
    "    axis=0,\n",
    ")\n",
    "\n",
    "sampleB = pd.concat(\n",
    "    [\n",
    "        ordersByUsersB['orders'],\n",
    "        pd.Series(\n",
    "            0,\n",
    "            index=np.arange(\n",
    "                data['visitorsPerDateB'].sum() - len(ordersByUsersB['orders'])\n",
    "            ),\n",
    "            name='orders',\n",
    "        ),\n",
    "    ],\n",
    "    axis=0,\n",
    ")\n",
    "\n",
    "print()\n",
    "\n",
    "alpha = 0.05\n",
    "results=st.mannwhitneyu(sampleA, sampleB)\n",
    "if (results.pvalue < alpha):\n",
    "    print('Отвергаем нулевую гипотезу: Различий в среднем количестве заказов между группами нет.')\n",
    "else:\n",
    "    print('Не получилось отвергнуть нулевую гипотезу: Различия в среднем количестве заказов между группами есть.')\n",
    "\n",
    "\n",
    "print('P-value =', \"{0:.3f}\".format(stats.mannwhitneyu(sampleA, sampleB)[1]))\n",
    "print(\"Относительный прирост среднего группы В к конверсии группы А: {0:.3f}\".format(sampleB.mean() / sampleA.mean() - 1))"
   ]
  },
  {
   "cell_type": "markdown",
   "metadata": {},
   "source": [
    "**Вывод**\n",
    "\n",
    "P-value = 0.017, что меньше 0.05. \n",
    "\n",
    "Это значит, что по «сырым» данным в среднем количестве заказов есть статистически значимые различия между группой A и B. Относительный прирост среднего группы В к конверсии группы А равен 13,8%."
   ]
  },
  {
   "cell_type": "markdown",
   "metadata": {},
   "source": [
    "***Посчитайте статистическую значимость различий в среднем чеке заказа между группами по «сырым» данным.***"
   ]
  },
  {
   "cell_type": "markdown",
   "metadata": {},
   "source": [
    "Сформулируем гипотезу:\n",
    "\n",
    "Н0: Различий в среднем чеке между группами нет.\n",
    "\n",
    "Н1: Различия в среднем чеке между группами есть."
   ]
  },
  {
   "cell_type": "code",
   "execution_count": 32,
   "metadata": {},
   "outputs": [
    {
     "name": "stdout",
     "output_type": "stream",
     "text": [
      "Не получилось отвергнуть нулевую гипотезу: Различия в среднем чеке между группами есть.\n",
      "P-value = 0.729\n",
      "Относительное различие среднего чека между группами по «сырым» данным: 0.259\n"
     ]
    }
   ],
   "source": [
    "alpha = 0.05\n",
    "results=st.mannwhitneyu(orders[orders['group']=='A']['revenue'], orders[orders['group']=='B']['revenue'])\n",
    "if (results.pvalue < alpha):\n",
    "    print('Отвергаем нулевую гипотезу: Различий в среднем чеке между группами нет.')\n",
    "else:\n",
    "    print('Не получилось отвергнуть нулевую гипотезу: Различия в среднем чеке между группами есть.')\n",
    "    \n",
    "print('P-value =', '{0:.3f}'.format(stats.mannwhitneyu(orders[orders['group']=='A']['revenue'], orders[orders['group']=='B']['revenue'])[1]))\n",
    "print(\"Относительное различие среднего чека между группами по «сырым» данным: {0:.3f}\".format(orders[orders['group'] == 'B']['revenue'].mean() / orders[orders['group'] == 'A']['revenue'].mean() - 1))"
   ]
  },
  {
   "cell_type": "markdown",
   "metadata": {},
   "source": [
    "**Вывод**\n",
    "\n",
    "P-value больше 0.05. Таким образом, статистически значимых отличий в среднем чеке между группами нет. Но, относительное различие среднего чека между группами по «сырым» данным - 25,9 %. Могу предположить, что это из-за аномальных по сумме заказов."
   ]
  },
  {
   "cell_type": "markdown",
   "metadata": {},
   "source": [
    "***Посчитайте статистическую значимость различий в среднем количестве заказов на посетителя между группами по «очищенным» данным.***"
   ]
  },
  {
   "cell_type": "markdown",
   "metadata": {},
   "source": [
    "Сформулируем гипотезу:\n",
    "\n",
    "Н0: Различий в конверсии между группами нет.\n",
    "\n",
    "Н1: Различия в конверсии между группами есть."
   ]
  },
  {
   "cell_type": "code",
   "execution_count": 33,
   "metadata": {},
   "outputs": [
    {
     "name": "stdout",
     "output_type": "stream",
     "text": [
      "1099    148427295\n",
      "18      199603092\n",
      "928     204675465\n",
      "23      237748145\n",
      "37      249864742\n",
      "Name: visitor_id, dtype: int64\n",
      "74\n",
      "\n",
      "Отвергаем нулевую гипотезу: Различий в конверсии между группами нет.\n",
      "P-value = 0.013\n",
      "Различия в конверсии групп A и B: 0.173\n"
     ]
    }
   ],
   "source": [
    "usersWithManyOrders = pd.concat(\n",
    "    [\n",
    "        ordersByUsersA[ordersByUsersA['orders'] > 2]['visitor_id'],\n",
    "        ordersByUsersB[ordersByUsersB['orders'] > 2]['visitor_id']\n",
    "    ],\n",
    "    axis = 0\n",
    ")\n",
    "\n",
    "usersWithExpensiveOrders = orders[orders['revenue'] > 28000]['visitor_id']\n",
    "abnormalUsers = (\n",
    "    pd.concat([usersWithManyOrders, usersWithExpensiveOrders], axis=0)\n",
    "    .drop_duplicates()\n",
    "    .sort_values()\n",
    ")\n",
    "\n",
    "print(abnormalUsers.head())\n",
    "print(len(abnormalUsers))\n",
    "\n",
    "sampleAFiltered = pd.concat(\n",
    "    [\n",
    "        ordersByUsersA[\n",
    "            np.logical_not(ordersByUsersA['visitor_id'].isin(abnormalUsers))\n",
    "        ]['orders'],\n",
    "        pd.Series(\n",
    "            0,\n",
    "            index=np.arange(\n",
    "                data['visitorsPerDateA'].sum() - len(ordersByUsersA['orders'])\n",
    "            ),\n",
    "            name='orders',\n",
    "        ),\n",
    "    ],\n",
    "    axis=0,\n",
    ")\n",
    "\n",
    "sampleBFiltered = pd.concat(\n",
    "    [\n",
    "        ordersByUsersB[\n",
    "            np.logical_not(ordersByUsersB['visitor_id'].isin(abnormalUsers))\n",
    "        ]['orders'],\n",
    "        pd.Series(\n",
    "            0,\n",
    "            index=np.arange(\n",
    "                data['visitorsPerDateB'].sum() - len(ordersByUsersB['orders'])\n",
    "            ),\n",
    "            name='orders',\n",
    "        ),\n",
    "    ],\n",
    "    axis=0,\n",
    ")\n",
    "print()\n",
    "\n",
    "alpha = 0.05\n",
    "results=st.mannwhitneyu(sampleA, sampleB)\n",
    "if (results.pvalue < alpha):\n",
    "    print('Отвергаем нулевую гипотезу: Различий в конверсии между группами нет.')\n",
    "else:\n",
    "    print('Не получилось отвергнуть нулевую гипотезу: Различия в конверсии между группами есть.')\n",
    "\n",
    "print('P-value =', '{0:.3f}'.format(stats.mannwhitneyu(sampleAFiltered, sampleBFiltered)[1]))\n",
    "print('Различия в конверсии групп A и B:', '{0:.3f}'.format(sampleBFiltered.mean()/sampleAFiltered.mean()-1))"
   ]
  },
  {
   "cell_type": "markdown",
   "metadata": {},
   "source": [
    "**Вывод**\n",
    "\n",
    "74 аномальных пользователей.\n",
    "\n",
    "P-value = 0.013, это меньше 0.05.\n",
    "\n",
    "Таким образом, по «очищенным» данным различия в конверсии групп A и B есть. Группа B выглядит значительно лучше группы A на 17,3%. Это выше чем с «сырыми» данными, где результат был 13.8%."
   ]
  },
  {
   "cell_type": "markdown",
   "metadata": {},
   "source": [
    "***Посчитайте статистическую значимость различий в среднем чеке заказа между группами по «очищенным» данным.***"
   ]
  },
  {
   "cell_type": "code",
   "execution_count": 34,
   "metadata": {},
   "outputs": [
    {
     "name": "stdout",
     "output_type": "stream",
     "text": [
      "Не получилось отвергнуть нулевую гипотезу: Различия в среднем чеке между группами есть.\n",
      "P-value = 0.738\n",
      "Относительное изменение среднего чека в группе B по отношению к группе A после очистки данных: -0.020\n"
     ]
    }
   ],
   "source": [
    "alpha = 0.05\n",
    "results=st.mannwhitneyu(orders[orders['group']=='A']['revenue'], orders[orders['group']=='B']['revenue'])\n",
    "if (results.pvalue < alpha):\n",
    "    print('Отвергаем нулевую гипотезу: Различий в среднем чеке между группами нет.')\n",
    "else:\n",
    "    print('Не получилось отвергнуть нулевую гипотезу: Различия в среднем чеке между группами есть.')\n",
    "\n",
    "print('P-value =', '{0:.3f}'.format(stats.mannwhitneyu(orders[np.logical_and(orders['group'] == 'A',\n",
    "                    np.logical_not(orders['visitor_id'].isin(abnormalUsers)),\n",
    "                )]['revenue'],orders[np.logical_and(orders['group'] == 'B',\n",
    "                    np.logical_not(orders['visitor_id'].isin(abnormalUsers)),\n",
    "                )]['revenue'],)[1]))\n",
    "\n",
    "print('Относительное изменение среднего чека в группе B по отношению к группе A после очистки данных:', '{0:.3f}'.format(orders[np.logical_and(orders['group'] == 'B',\n",
    "                np.logical_not(orders['visitor_id'].isin(abnormalUsers)),\n",
    "            )]['revenue'].mean()/ orders[np.logical_and(orders['group'] == 'A',\n",
    "                np.logical_not(orders['visitor_id'].isin(abnormalUsers)),)]['revenue'].mean()- 1))"
   ]
  },
  {
   "cell_type": "markdown",
   "metadata": {},
   "source": [
    "P-value = 0.738, что значительно больше 0.05.\n",
    "\n",
    "Нет статистически значимого различия по среднему чеку между группами по «сырым» и по «очищенным» данным.\n",
    "\n",
    "Относительное изменение среднего чека в группе B по отношению к группе A после очистки данных -2%"
   ]
  },
  {
   "cell_type": "markdown",
   "metadata": {},
   "source": [
    "#### Шаг 5. Результаты теста"
   ]
  },
  {
   "cell_type": "markdown",
   "metadata": {},
   "source": [
    "Тест можно остановить и и по итогу признать его успешным.\n",
    "\n",
    "Можно зафиксировать победу группы В, так как группа В лучше группы А по конверсии, хотя по среднему чеку группы примерно равны.\n",
    "Также, кумулятивная выручка группы В стабильно выше выручки группы А."
   ]
  },
  {
   "cell_type": "markdown",
   "metadata": {},
   "source": [
    "#### Шаг 6. Общий вывод"
   ]
  },
  {
   "cell_type": "markdown",
   "metadata": {},
   "source": [
    "В ходе проведенного анализа данных была проделана работа по приоритизации гипотез.\n",
    "Был применен фреймворк ICE, где наиболее перспективной оказалась гипотеза под номером восемь - Запустить акцию, дающую скидку на товар в день рождения. При применении фреймворка RICE, наиболее перспективной оказалась гипотеза под номером семь - Добавить форму подписки на все основные страницы, чтобы собрать базу клиентов для email-рассылок. Поскольку на значимость гипотезы влияет охват пользователей Reach, а он у этой гипотезы ровняется 10, то она и стала приоритетной для проработки.\n",
    "\n",
    "После чего был проанализирован A/B-тест и выявлено следующее:\n",
    "\n",
    "* На графике кумулятивной выручки по группам, выручка почти равномерно увеличивается в течение всего теста. Но, видно что выручка у группы В выше выручки группы А.\n",
    "* На графике кумулятивного среднего чека по группам, кумулятивный средний чек группы В практически на всем протяжении превышал средний чек группы А. Также, можно видеть что в районе 18 августа резкое движение чека группы В вверх. Теоретически, это как раз подтверждает наличие крупного заказа в тот день. К концу графика, средний чек по обоим группам начинает немного стабилизироваться.\n",
    "* На графике относительного изменения кумулятивного среднего чека группы B к группе A, относительное изменение кумулятивного среднего чека группы B к группе A было положительным практически во все время исследования. Сильные отрицательные значения наблюдаются только в районе 13 августа. В некоторых местах на графике виден резкий скачок вверх - это может говорить нам о наличии крупных заказов.\n",
    "* На графике кумулятивного среднего количества заказов на посетителя по группам, среднее количество заказов сначала увеличивалось для обеих групп. Далее, количество сокращается для группы А и стабилизируется на определенном диапазоне. В конце, есть некоторый спад. У группы В наоборот, идет восстановление количества заказов (либо качества). Выходя на определенный диапазон, количество заказов по продолжению теста начинает понемногу идти на спад. В конце, есть небольшой выход вверх и далее небольшое падение.\n",
    "* На графике относительного изменения кумулятивного среднего количества заказов на посетителя группы B к группе A можно наблюдать резкий выброс ко 2 августу, потом идет спад и выход вверх. В целом, конверсия группы В выше группы А и преимущественно продолжает колебаться в районе 10-14%.\n",
    "* На точечном графике количества заказов по пользователям можно наблюдать, что основное количество пользователей делает 1-2 заказа. Но есть значительная часть пользователей, которые делают 3, 4 и даже 5 заказов. Есть и совсем выбивающиеся количества заказов - от 8 до 12. Видно, что их доля небольшая. Эти заказы, скорее всего, были сделаны на большие суммы. Т.е. покупали большими партиями, или в заказах было что-то дорогое по стоимости.\n",
    "* Не более 5% пользователей оформляли больше 2 заказов. 1% пользователей оформляли более 4 заказов. Выбрали 2 заказа на пользователя как нижнюю границу, остальные будем считать аномалиями.\n",
    "* Не более 5% заказов имеют стоимость 28000 рублей. Также, не более 1% дороже 58233.2 рублей. Выбрали стоимость заказа в 28000 рублей как нижнюю границу и предложили отсеять аномальные величины по ней.\n",
    "* По «сырым» данным в среднем количестве заказов есть статистически значимые различия между группой A и B. Относительный прирост среднего группы В к конверсии группы А равен 13,8%.\n",
    "* Статистически значимых отличий в среднем чеке между группами нет. Но, относительное различие среднего чека между группами по «сырым» данным - 25,9 %. Предположительно это из-за аномальных по сумме заказов.\n",
    "* По «очищенным» данным различия в конверсии групп A и B есть. Группа B выглядит значительно лучше группы A на 17,3%. Это выше чем с «сырыми» данными, где результат был 13.8%.\n",
    "* Нет статистически значимого различия по среднему чеку между группами по «сырым» и по «очищенным» данным. Относительное изменение среднего чека в группе B по отношению к группе A после очистки данных -2%."
   ]
  }
 ],
 "metadata": {
  "ExecuteTimeLog": [
   {
    "duration": 1285,
    "start_time": "2024-02-27T20:29:10.387Z"
   },
   {
    "duration": 191,
    "start_time": "2024-02-27T20:31:38.586Z"
   },
   {
    "duration": 133,
    "start_time": "2024-02-27T20:32:55.026Z"
   },
   {
    "duration": 3,
    "start_time": "2024-02-27T20:36:06.690Z"
   },
   {
    "duration": 21,
    "start_time": "2024-02-27T20:38:30.051Z"
   },
   {
    "duration": 7,
    "start_time": "2024-02-27T20:40:17.332Z"
   },
   {
    "duration": 160,
    "start_time": "2024-02-27T20:40:49.891Z"
   },
   {
    "duration": 4,
    "start_time": "2024-02-27T20:42:56.709Z"
   },
   {
    "duration": 5,
    "start_time": "2024-02-27T20:43:03.371Z"
   },
   {
    "duration": 4,
    "start_time": "2024-02-27T20:43:06.736Z"
   },
   {
    "duration": 100,
    "start_time": "2024-02-27T20:46:42.272Z"
   },
   {
    "duration": 548,
    "start_time": "2024-02-27T20:47:04.772Z"
   },
   {
    "duration": 302,
    "start_time": "2024-02-27T20:47:42.294Z"
   },
   {
    "duration": 414,
    "start_time": "2024-02-27T20:48:06.045Z"
   },
   {
    "duration": 422,
    "start_time": "2024-02-27T20:48:19.352Z"
   },
   {
    "duration": 330,
    "start_time": "2024-02-27T20:48:28.013Z"
   },
   {
    "duration": 514,
    "start_time": "2024-02-27T20:48:40.250Z"
   },
   {
    "duration": 1494,
    "start_time": "2024-02-29T16:07:12.217Z"
   },
   {
    "duration": 198,
    "start_time": "2024-02-29T16:07:13.713Z"
   },
   {
    "duration": 163,
    "start_time": "2024-02-29T16:07:13.913Z"
   },
   {
    "duration": 498,
    "start_time": "2024-02-29T16:07:14.077Z"
   },
   {
    "duration": 431,
    "start_time": "2024-02-29T16:07:14.577Z"
   },
   {
    "duration": 192,
    "start_time": "2024-02-29T16:07:15.009Z"
   },
   {
    "duration": 3,
    "start_time": "2024-02-29T16:07:15.202Z"
   },
   {
    "duration": 103,
    "start_time": "2024-02-29T16:07:15.217Z"
   },
   {
    "duration": 16,
    "start_time": "2024-02-29T16:07:15.322Z"
   },
   {
    "duration": 36,
    "start_time": "2024-02-29T16:07:15.340Z"
   },
   {
    "duration": 34,
    "start_time": "2024-02-29T16:07:15.377Z"
   },
   {
    "duration": 3,
    "start_time": "2024-02-29T16:29:57.192Z"
   },
   {
    "duration": 12,
    "start_time": "2024-02-29T16:30:17.827Z"
   },
   {
    "duration": 3,
    "start_time": "2024-02-29T16:31:28.010Z"
   },
   {
    "duration": 19,
    "start_time": "2024-02-29T16:31:39.317Z"
   },
   {
    "duration": 4,
    "start_time": "2024-02-29T16:35:54.125Z"
   },
   {
    "duration": 9,
    "start_time": "2024-02-29T16:35:54.700Z"
   },
   {
    "duration": 338,
    "start_time": "2024-02-29T16:51:02.384Z"
   },
   {
    "duration": 265,
    "start_time": "2024-02-29T16:51:09.293Z"
   },
   {
    "duration": 294,
    "start_time": "2024-02-29T16:51:23.990Z"
   },
   {
    "duration": 355,
    "start_time": "2024-02-29T16:53:10.458Z"
   },
   {
    "duration": 297,
    "start_time": "2024-02-29T16:54:01.075Z"
   },
   {
    "duration": 289,
    "start_time": "2024-02-29T16:54:26.000Z"
   },
   {
    "duration": 269,
    "start_time": "2024-02-29T16:54:58.274Z"
   },
   {
    "duration": 179,
    "start_time": "2024-02-29T16:55:12.816Z"
   },
   {
    "duration": 295,
    "start_time": "2024-02-29T16:56:00.778Z"
   },
   {
    "duration": 63,
    "start_time": "2024-02-29T16:56:20.152Z"
   },
   {
    "duration": 79,
    "start_time": "2024-02-29T16:56:27.154Z"
   },
   {
    "duration": 72,
    "start_time": "2024-02-29T16:56:32.288Z"
   },
   {
    "duration": 303,
    "start_time": "2024-02-29T16:57:04.473Z"
   },
   {
    "duration": 256,
    "start_time": "2024-02-29T16:57:14.464Z"
   },
   {
    "duration": 258,
    "start_time": "2024-02-29T16:57:22.399Z"
   },
   {
    "duration": 9,
    "start_time": "2024-02-29T16:57:33.816Z"
   },
   {
    "duration": 261,
    "start_time": "2024-02-29T16:57:41.353Z"
   },
   {
    "duration": 651,
    "start_time": "2024-02-29T16:58:06.604Z"
   },
   {
    "duration": 72,
    "start_time": "2024-02-29T16:58:18.776Z"
   },
   {
    "duration": 68,
    "start_time": "2024-02-29T16:58:31.913Z"
   },
   {
    "duration": 64,
    "start_time": "2024-02-29T16:58:36.190Z"
   },
   {
    "duration": 279,
    "start_time": "2024-02-29T16:58:44.392Z"
   },
   {
    "duration": 264,
    "start_time": "2024-02-29T16:58:55.535Z"
   },
   {
    "duration": 299,
    "start_time": "2024-02-29T16:59:08.113Z"
   },
   {
    "duration": 278,
    "start_time": "2024-02-29T16:59:17.151Z"
   },
   {
    "duration": 247,
    "start_time": "2024-02-29T16:59:25.207Z"
   },
   {
    "duration": 4,
    "start_time": "2024-02-29T17:02:01.299Z"
   },
   {
    "duration": 4,
    "start_time": "2024-02-29T17:07:46.596Z"
   },
   {
    "duration": 1306,
    "start_time": "2024-02-29T17:15:47.596Z"
   },
   {
    "duration": 74,
    "start_time": "2024-02-29T17:16:05.471Z"
   },
   {
    "duration": 355,
    "start_time": "2024-02-29T17:16:43.836Z"
   },
   {
    "duration": 70,
    "start_time": "2024-02-29T17:18:19.459Z"
   },
   {
    "duration": 72,
    "start_time": "2024-02-29T17:20:51.162Z"
   },
   {
    "duration": 72,
    "start_time": "2024-02-29T17:23:44.341Z"
   },
   {
    "duration": 82,
    "start_time": "2024-02-29T17:24:36.971Z"
   },
   {
    "duration": 73,
    "start_time": "2024-02-29T17:25:08.563Z"
   },
   {
    "duration": 70,
    "start_time": "2024-02-29T17:26:13.322Z"
   },
   {
    "duration": 79,
    "start_time": "2024-02-29T17:26:51.411Z"
   },
   {
    "duration": 67,
    "start_time": "2024-02-29T17:27:08.071Z"
   },
   {
    "duration": 85,
    "start_time": "2024-02-29T17:44:47.667Z"
   },
   {
    "duration": 83,
    "start_time": "2024-02-29T17:45:14.371Z"
   },
   {
    "duration": 73,
    "start_time": "2024-02-29T17:46:08.767Z"
   },
   {
    "duration": 86,
    "start_time": "2024-02-29T17:47:33.792Z"
   },
   {
    "duration": 79,
    "start_time": "2024-02-29T17:47:56.497Z"
   },
   {
    "duration": 71,
    "start_time": "2024-02-29T17:48:17.449Z"
   },
   {
    "duration": 74,
    "start_time": "2024-02-29T17:48:23.934Z"
   },
   {
    "duration": 83,
    "start_time": "2024-02-29T17:48:39.932Z"
   },
   {
    "duration": 71,
    "start_time": "2024-02-29T17:48:52.726Z"
   },
   {
    "duration": 74,
    "start_time": "2024-02-29T17:48:58.291Z"
   },
   {
    "duration": 73,
    "start_time": "2024-02-29T17:49:07.212Z"
   },
   {
    "duration": 71,
    "start_time": "2024-02-29T17:49:13.444Z"
   },
   {
    "duration": 72,
    "start_time": "2024-02-29T17:49:38.331Z"
   },
   {
    "duration": 79,
    "start_time": "2024-02-29T17:49:48.431Z"
   },
   {
    "duration": 93,
    "start_time": "2024-02-29T17:50:18.499Z"
   },
   {
    "duration": 102,
    "start_time": "2024-02-29T17:50:29.471Z"
   },
   {
    "duration": 74,
    "start_time": "2024-02-29T17:50:56.308Z"
   },
   {
    "duration": 81,
    "start_time": "2024-02-29T17:51:17.197Z"
   },
   {
    "duration": 72,
    "start_time": "2024-02-29T17:51:56.104Z"
   },
   {
    "duration": 80,
    "start_time": "2024-02-29T17:53:48.069Z"
   },
   {
    "duration": 75,
    "start_time": "2024-02-29T17:54:13.858Z"
   },
   {
    "duration": 71,
    "start_time": "2024-02-29T17:54:25.110Z"
   },
   {
    "duration": 68,
    "start_time": "2024-02-29T17:55:02.579Z"
   },
   {
    "duration": 73,
    "start_time": "2024-02-29T17:55:31.471Z"
   },
   {
    "duration": 80,
    "start_time": "2024-02-29T17:56:15.551Z"
   },
   {
    "duration": 6,
    "start_time": "2024-02-29T19:53:27.721Z"
   },
   {
    "duration": 9,
    "start_time": "2024-02-29T19:54:38.890Z"
   },
   {
    "duration": 9,
    "start_time": "2024-02-29T19:58:13.107Z"
   },
   {
    "duration": 187,
    "start_time": "2024-02-29T20:00:36.107Z"
   },
   {
    "duration": 166,
    "start_time": "2024-02-29T20:01:12.210Z"
   },
   {
    "duration": 147,
    "start_time": "2024-02-29T20:01:48.042Z"
   },
   {
    "duration": 16,
    "start_time": "2024-02-29T20:05:26.255Z"
   },
   {
    "duration": 4,
    "start_time": "2024-02-29T20:05:37.009Z"
   },
   {
    "duration": 14,
    "start_time": "2024-02-29T20:05:38.930Z"
   },
   {
    "duration": 8,
    "start_time": "2024-02-29T20:05:45.694Z"
   },
   {
    "duration": 5,
    "start_time": "2024-02-29T20:10:01.763Z"
   },
   {
    "duration": 10,
    "start_time": "2024-02-29T20:10:34.411Z"
   },
   {
    "duration": 77,
    "start_time": "2024-02-29T20:19:11.509Z"
   },
   {
    "duration": 51,
    "start_time": "2024-03-01T20:57:04.025Z"
   },
   {
    "duration": 1503,
    "start_time": "2024-03-01T20:57:14.126Z"
   },
   {
    "duration": 190,
    "start_time": "2024-03-01T20:57:15.631Z"
   },
   {
    "duration": 171,
    "start_time": "2024-03-01T20:57:15.823Z"
   },
   {
    "duration": 512,
    "start_time": "2024-03-01T20:57:15.996Z"
   },
   {
    "duration": 434,
    "start_time": "2024-03-01T20:57:16.509Z"
   },
   {
    "duration": 165,
    "start_time": "2024-03-01T20:57:16.945Z"
   },
   {
    "duration": 3,
    "start_time": "2024-03-01T20:57:17.112Z"
   },
   {
    "duration": 28,
    "start_time": "2024-03-01T20:57:17.116Z"
   },
   {
    "duration": 7,
    "start_time": "2024-03-01T20:57:17.145Z"
   },
   {
    "duration": 11,
    "start_time": "2024-03-01T20:57:17.155Z"
   },
   {
    "duration": 11,
    "start_time": "2024-03-01T20:57:17.168Z"
   },
   {
    "duration": 14,
    "start_time": "2024-03-01T20:57:17.181Z"
   },
   {
    "duration": 13,
    "start_time": "2024-03-01T20:57:17.196Z"
   },
   {
    "duration": 8,
    "start_time": "2024-03-01T20:57:17.210Z"
   },
   {
    "duration": 8,
    "start_time": "2024-03-01T20:57:17.220Z"
   },
   {
    "duration": 14,
    "start_time": "2024-03-01T20:57:17.230Z"
   },
   {
    "duration": 99,
    "start_time": "2024-03-01T20:57:17.246Z"
   },
   {
    "duration": 4,
    "start_time": "2024-03-01T20:57:17.346Z"
   },
   {
    "duration": 16,
    "start_time": "2024-03-01T20:57:17.352Z"
   },
   {
    "duration": 12,
    "start_time": "2024-03-01T20:57:17.369Z"
   },
   {
    "duration": 18,
    "start_time": "2024-03-01T20:57:17.383Z"
   },
   {
    "duration": 6,
    "start_time": "2024-03-01T20:57:17.403Z"
   },
   {
    "duration": 6,
    "start_time": "2024-03-01T20:57:23.779Z"
   },
   {
    "duration": 727,
    "start_time": "2024-03-01T21:12:04.886Z"
   },
   {
    "duration": 591,
    "start_time": "2024-03-01T21:12:36.704Z"
   },
   {
    "duration": 621,
    "start_time": "2024-03-01T21:12:41.592Z"
   },
   {
    "duration": 562,
    "start_time": "2024-03-01T21:14:30.766Z"
   },
   {
    "duration": 56,
    "start_time": "2024-03-02T18:08:27.476Z"
   },
   {
    "duration": 9,
    "start_time": "2024-03-02T18:08:58.380Z"
   },
   {
    "duration": 8,
    "start_time": "2024-03-02T18:09:09.111Z"
   },
   {
    "duration": 8,
    "start_time": "2024-03-02T18:09:35.287Z"
   },
   {
    "duration": 8,
    "start_time": "2024-03-02T18:09:46.954Z"
   },
   {
    "duration": 8,
    "start_time": "2024-03-02T18:09:56.072Z"
   },
   {
    "duration": 1548,
    "start_time": "2024-03-02T18:11:06.610Z"
   },
   {
    "duration": 190,
    "start_time": "2024-03-02T18:11:08.160Z"
   },
   {
    "duration": 168,
    "start_time": "2024-03-02T18:11:08.352Z"
   },
   {
    "duration": 530,
    "start_time": "2024-03-02T18:11:08.521Z"
   },
   {
    "duration": 396,
    "start_time": "2024-03-02T18:11:09.053Z"
   },
   {
    "duration": 164,
    "start_time": "2024-03-02T18:11:09.450Z"
   },
   {
    "duration": 2,
    "start_time": "2024-03-02T18:11:09.616Z"
   },
   {
    "duration": 105,
    "start_time": "2024-03-02T18:11:09.619Z"
   },
   {
    "duration": 7,
    "start_time": "2024-03-02T18:11:09.725Z"
   },
   {
    "duration": 6,
    "start_time": "2024-03-02T18:11:09.734Z"
   },
   {
    "duration": 10,
    "start_time": "2024-03-02T18:11:09.741Z"
   },
   {
    "duration": 3,
    "start_time": "2024-03-02T18:11:09.753Z"
   },
   {
    "duration": 30,
    "start_time": "2024-03-02T18:11:09.757Z"
   },
   {
    "duration": 8,
    "start_time": "2024-03-02T18:11:09.789Z"
   },
   {
    "duration": 5,
    "start_time": "2024-03-02T18:11:09.798Z"
   },
   {
    "duration": 4,
    "start_time": "2024-03-02T18:11:09.804Z"
   },
   {
    "duration": 102,
    "start_time": "2024-03-02T18:11:09.809Z"
   },
   {
    "duration": 4,
    "start_time": "2024-03-02T18:11:09.913Z"
   },
   {
    "duration": 10,
    "start_time": "2024-03-02T18:11:09.919Z"
   },
   {
    "duration": 4,
    "start_time": "2024-03-02T18:11:09.931Z"
   },
   {
    "duration": 10,
    "start_time": "2024-03-02T18:11:09.936Z"
   },
   {
    "duration": 620,
    "start_time": "2024-03-02T18:11:09.948Z"
   },
   {
    "duration": 341,
    "start_time": "2024-03-02T18:11:10.571Z"
   },
   {
    "duration": 338,
    "start_time": "2024-03-02T18:11:39.394Z"
   },
   {
    "duration": 326,
    "start_time": "2024-03-02T18:12:05.327Z"
   },
   {
    "duration": 328,
    "start_time": "2024-03-02T18:12:49.742Z"
   },
   {
    "duration": 335,
    "start_time": "2024-03-02T18:12:53.741Z"
   },
   {
    "duration": 233,
    "start_time": "2024-03-02T18:13:04.476Z"
   },
   {
    "duration": 247,
    "start_time": "2024-03-02T18:13:30.535Z"
   },
   {
    "duration": 226,
    "start_time": "2024-03-02T18:13:41.745Z"
   },
   {
    "duration": 351,
    "start_time": "2024-03-02T18:13:50.626Z"
   },
   {
    "duration": 270,
    "start_time": "2024-03-02T18:14:05.391Z"
   },
   {
    "duration": 347,
    "start_time": "2024-03-02T18:14:27.840Z"
   },
   {
    "duration": 267,
    "start_time": "2024-03-02T18:14:32.878Z"
   },
   {
    "duration": 255,
    "start_time": "2024-03-02T18:15:15.580Z"
   },
   {
    "duration": 266,
    "start_time": "2024-03-02T18:15:34.840Z"
   },
   {
    "duration": 366,
    "start_time": "2024-03-02T18:17:34.519Z"
   },
   {
    "duration": 262,
    "start_time": "2024-03-02T18:18:07.604Z"
   },
   {
    "duration": 255,
    "start_time": "2024-03-02T18:18:19.247Z"
   },
   {
    "duration": 266,
    "start_time": "2024-03-02T18:27:05.305Z"
   },
   {
    "duration": 275,
    "start_time": "2024-03-02T18:28:10.645Z"
   },
   {
    "duration": 267,
    "start_time": "2024-03-02T18:28:35.933Z"
   },
   {
    "duration": 271,
    "start_time": "2024-03-02T18:29:31.953Z"
   },
   {
    "duration": 356,
    "start_time": "2024-03-02T18:29:45.773Z"
   },
   {
    "duration": 302,
    "start_time": "2024-03-02T18:31:57.016Z"
   },
   {
    "duration": 272,
    "start_time": "2024-03-02T18:33:10.590Z"
   },
   {
    "duration": 288,
    "start_time": "2024-03-02T18:35:18.362Z"
   },
   {
    "duration": 275,
    "start_time": "2024-03-02T18:35:29.692Z"
   },
   {
    "duration": 288,
    "start_time": "2024-03-02T18:36:01.904Z"
   },
   {
    "duration": 1323,
    "start_time": "2024-03-02T18:36:14.946Z"
   },
   {
    "duration": 74,
    "start_time": "2024-03-02T18:36:16.271Z"
   },
   {
    "duration": 164,
    "start_time": "2024-03-02T18:36:16.347Z"
   },
   {
    "duration": 535,
    "start_time": "2024-03-02T18:36:16.513Z"
   },
   {
    "duration": 421,
    "start_time": "2024-03-02T18:36:17.051Z"
   },
   {
    "duration": 167,
    "start_time": "2024-03-02T18:36:17.473Z"
   },
   {
    "duration": 3,
    "start_time": "2024-03-02T18:36:17.641Z"
   },
   {
    "duration": 22,
    "start_time": "2024-03-02T18:36:17.645Z"
   },
   {
    "duration": 8,
    "start_time": "2024-03-02T18:36:17.679Z"
   },
   {
    "duration": 5,
    "start_time": "2024-03-02T18:36:17.688Z"
   },
   {
    "duration": 10,
    "start_time": "2024-03-02T18:36:17.694Z"
   },
   {
    "duration": 5,
    "start_time": "2024-03-02T18:36:17.706Z"
   },
   {
    "duration": 11,
    "start_time": "2024-03-02T18:36:17.712Z"
   },
   {
    "duration": 10,
    "start_time": "2024-03-02T18:36:17.725Z"
   },
   {
    "duration": 11,
    "start_time": "2024-03-02T18:36:17.737Z"
   },
   {
    "duration": 4,
    "start_time": "2024-03-02T18:36:17.750Z"
   },
   {
    "duration": 106,
    "start_time": "2024-03-02T18:36:17.756Z"
   },
   {
    "duration": 18,
    "start_time": "2024-03-02T18:36:17.863Z"
   },
   {
    "duration": 20,
    "start_time": "2024-03-02T18:36:17.883Z"
   },
   {
    "duration": 10,
    "start_time": "2024-03-02T18:36:17.905Z"
   },
   {
    "duration": 19,
    "start_time": "2024-03-02T18:36:17.917Z"
   },
   {
    "duration": 665,
    "start_time": "2024-03-02T18:36:17.938Z"
   },
   {
    "duration": 440,
    "start_time": "2024-03-02T18:36:18.605Z"
   },
   {
    "duration": 262,
    "start_time": "2024-03-02T18:37:41.408Z"
   },
   {
    "duration": 273,
    "start_time": "2024-03-02T18:40:54.448Z"
   },
   {
    "duration": 242,
    "start_time": "2024-03-02T18:41:01.128Z"
   },
   {
    "duration": 157,
    "start_time": "2024-03-02T20:40:32.628Z"
   },
   {
    "duration": 163,
    "start_time": "2024-03-02T20:41:42.597Z"
   },
   {
    "duration": 20,
    "start_time": "2024-03-02T20:42:09.234Z"
   },
   {
    "duration": 14,
    "start_time": "2024-03-02T20:42:25.128Z"
   },
   {
    "duration": 140,
    "start_time": "2024-03-02T20:42:42.835Z"
   },
   {
    "duration": 140,
    "start_time": "2024-03-02T20:44:38.823Z"
   },
   {
    "duration": 137,
    "start_time": "2024-03-02T20:45:58.914Z"
   },
   {
    "duration": 5,
    "start_time": "2024-03-02T21:11:22.466Z"
   },
   {
    "duration": 5,
    "start_time": "2024-03-02T21:12:45.725Z"
   },
   {
    "duration": 13,
    "start_time": "2024-03-02T21:21:51.617Z"
   },
   {
    "duration": 10,
    "start_time": "2024-03-02T21:22:10.216Z"
   },
   {
    "duration": 261,
    "start_time": "2024-03-02T21:22:20.846Z"
   },
   {
    "duration": 143,
    "start_time": "2024-03-02T21:22:27.075Z"
   },
   {
    "duration": 173,
    "start_time": "2024-03-02T21:25:28.697Z"
   },
   {
    "duration": 69,
    "start_time": "2024-03-03T18:24:43.543Z"
   },
   {
    "duration": 1331,
    "start_time": "2024-03-03T18:25:13.457Z"
   },
   {
    "duration": 180,
    "start_time": "2024-03-03T18:25:14.790Z"
   },
   {
    "duration": 113,
    "start_time": "2024-03-03T18:25:14.971Z"
   },
   {
    "duration": 459,
    "start_time": "2024-03-03T18:25:15.085Z"
   },
   {
    "duration": 381,
    "start_time": "2024-03-03T18:25:15.546Z"
   },
   {
    "duration": 132,
    "start_time": "2024-03-03T18:25:15.929Z"
   },
   {
    "duration": 3,
    "start_time": "2024-03-03T18:25:16.062Z"
   },
   {
    "duration": 21,
    "start_time": "2024-03-03T18:25:16.066Z"
   },
   {
    "duration": 6,
    "start_time": "2024-03-03T18:25:16.088Z"
   },
   {
    "duration": 21,
    "start_time": "2024-03-03T18:25:16.097Z"
   },
   {
    "duration": 7,
    "start_time": "2024-03-03T18:25:16.119Z"
   },
   {
    "duration": 4,
    "start_time": "2024-03-03T18:25:16.127Z"
   },
   {
    "duration": 9,
    "start_time": "2024-03-03T18:25:16.133Z"
   },
   {
    "duration": 5,
    "start_time": "2024-03-03T18:25:16.143Z"
   },
   {
    "duration": 11,
    "start_time": "2024-03-03T18:25:16.149Z"
   },
   {
    "duration": 4,
    "start_time": "2024-03-03T18:25:16.161Z"
   },
   {
    "duration": 105,
    "start_time": "2024-03-03T18:25:16.167Z"
   },
   {
    "duration": 4,
    "start_time": "2024-03-03T18:25:16.273Z"
   },
   {
    "duration": 22,
    "start_time": "2024-03-03T18:25:16.278Z"
   },
   {
    "duration": 4,
    "start_time": "2024-03-03T18:25:16.301Z"
   },
   {
    "duration": 19,
    "start_time": "2024-03-03T18:25:16.306Z"
   },
   {
    "duration": 578,
    "start_time": "2024-03-03T18:25:16.326Z"
   },
   {
    "duration": 230,
    "start_time": "2024-03-03T18:25:16.906Z"
   },
   {
    "duration": 129,
    "start_time": "2024-03-03T18:25:17.138Z"
   },
   {
    "duration": 3,
    "start_time": "2024-03-03T18:25:17.269Z"
   },
   {
    "duration": 138,
    "start_time": "2024-03-03T18:25:17.273Z"
   },
   {
    "duration": 135,
    "start_time": "2024-03-03T18:25:19.069Z"
   },
   {
    "duration": 150,
    "start_time": "2024-03-03T18:25:45.819Z"
   },
   {
    "duration": 157,
    "start_time": "2024-03-03T18:27:38.461Z"
   },
   {
    "duration": 83,
    "start_time": "2024-03-03T18:33:18.679Z"
   },
   {
    "duration": 4,
    "start_time": "2024-03-03T18:33:52.259Z"
   },
   {
    "duration": 73,
    "start_time": "2024-03-03T18:46:29.459Z"
   },
   {
    "duration": 200,
    "start_time": "2024-03-03T19:04:13.125Z"
   },
   {
    "duration": 99,
    "start_time": "2024-03-03T19:05:15.401Z"
   },
   {
    "duration": 317,
    "start_time": "2024-03-03T19:06:03.307Z"
   },
   {
    "duration": 347,
    "start_time": "2024-03-03T19:26:18.308Z"
   },
   {
    "duration": 317,
    "start_time": "2024-03-03T19:28:28.037Z"
   },
   {
    "duration": 1261,
    "start_time": "2024-03-03T19:28:36.043Z"
   },
   {
    "duration": 74,
    "start_time": "2024-03-03T19:28:37.306Z"
   },
   {
    "duration": 165,
    "start_time": "2024-03-03T19:28:37.383Z"
   },
   {
    "duration": 506,
    "start_time": "2024-03-03T19:28:37.550Z"
   },
   {
    "duration": 374,
    "start_time": "2024-03-03T19:28:38.058Z"
   },
   {
    "duration": 177,
    "start_time": "2024-03-03T19:28:38.434Z"
   },
   {
    "duration": 5,
    "start_time": "2024-03-03T19:28:38.613Z"
   },
   {
    "duration": 19,
    "start_time": "2024-03-03T19:28:38.620Z"
   },
   {
    "duration": 7,
    "start_time": "2024-03-03T19:28:38.640Z"
   },
   {
    "duration": 8,
    "start_time": "2024-03-03T19:28:38.650Z"
   },
   {
    "duration": 12,
    "start_time": "2024-03-03T19:28:38.660Z"
   },
   {
    "duration": 4,
    "start_time": "2024-03-03T19:28:38.674Z"
   },
   {
    "duration": 41,
    "start_time": "2024-03-03T19:28:38.680Z"
   },
   {
    "duration": 6,
    "start_time": "2024-03-03T19:28:38.725Z"
   },
   {
    "duration": 6,
    "start_time": "2024-03-03T19:28:38.734Z"
   },
   {
    "duration": 4,
    "start_time": "2024-03-03T19:28:38.743Z"
   },
   {
    "duration": 132,
    "start_time": "2024-03-03T19:28:38.749Z"
   },
   {
    "duration": 4,
    "start_time": "2024-03-03T19:28:38.882Z"
   },
   {
    "duration": 12,
    "start_time": "2024-03-03T19:28:38.888Z"
   },
   {
    "duration": 19,
    "start_time": "2024-03-03T19:28:38.902Z"
   },
   {
    "duration": 11,
    "start_time": "2024-03-03T19:28:38.923Z"
   },
   {
    "duration": 671,
    "start_time": "2024-03-03T19:28:38.936Z"
   },
   {
    "duration": 234,
    "start_time": "2024-03-03T19:28:39.609Z"
   },
   {
    "duration": 120,
    "start_time": "2024-03-03T19:28:39.844Z"
   },
   {
    "duration": 4,
    "start_time": "2024-03-03T19:28:39.965Z"
   },
   {
    "duration": 145,
    "start_time": "2024-03-03T19:28:39.970Z"
   },
   {
    "duration": 3,
    "start_time": "2024-03-03T19:28:40.117Z"
   },
   {
    "duration": 446,
    "start_time": "2024-03-03T19:28:40.122Z"
   },
   {
    "duration": 321,
    "start_time": "2024-03-03T19:29:46.480Z"
   },
   {
    "duration": 349,
    "start_time": "2024-03-03T19:30:18.437Z"
   },
   {
    "duration": 324,
    "start_time": "2024-03-03T19:30:30.997Z"
   },
   {
    "duration": 343,
    "start_time": "2024-03-03T19:31:07.405Z"
   },
   {
    "duration": 6,
    "start_time": "2024-03-03T19:34:13.711Z"
   },
   {
    "duration": 1112,
    "start_time": "2024-03-03T19:34:19.264Z"
   },
   {
    "duration": 72,
    "start_time": "2024-03-03T19:34:20.378Z"
   },
   {
    "duration": 117,
    "start_time": "2024-03-03T19:34:20.452Z"
   },
   {
    "duration": 439,
    "start_time": "2024-03-03T19:34:20.571Z"
   },
   {
    "duration": 368,
    "start_time": "2024-03-03T19:34:21.017Z"
   },
   {
    "duration": 146,
    "start_time": "2024-03-03T19:34:21.387Z"
   },
   {
    "duration": 2,
    "start_time": "2024-03-03T19:34:21.535Z"
   },
   {
    "duration": 19,
    "start_time": "2024-03-03T19:34:21.539Z"
   },
   {
    "duration": 7,
    "start_time": "2024-03-03T19:34:21.559Z"
   },
   {
    "duration": 5,
    "start_time": "2024-03-03T19:34:21.567Z"
   },
   {
    "duration": 9,
    "start_time": "2024-03-03T19:34:21.573Z"
   },
   {
    "duration": 8,
    "start_time": "2024-03-03T19:34:21.583Z"
   },
   {
    "duration": 29,
    "start_time": "2024-03-03T19:34:21.593Z"
   },
   {
    "duration": 6,
    "start_time": "2024-03-03T19:34:21.625Z"
   },
   {
    "duration": 5,
    "start_time": "2024-03-03T19:34:21.632Z"
   },
   {
    "duration": 4,
    "start_time": "2024-03-03T19:34:21.639Z"
   },
   {
    "duration": 104,
    "start_time": "2024-03-03T19:34:21.645Z"
   },
   {
    "duration": 4,
    "start_time": "2024-03-03T19:34:21.751Z"
   },
   {
    "duration": 30,
    "start_time": "2024-03-03T19:34:21.757Z"
   },
   {
    "duration": 4,
    "start_time": "2024-03-03T19:34:21.789Z"
   },
   {
    "duration": 12,
    "start_time": "2024-03-03T19:34:21.794Z"
   },
   {
    "duration": 624,
    "start_time": "2024-03-03T19:34:21.808Z"
   },
   {
    "duration": 220,
    "start_time": "2024-03-03T19:34:22.434Z"
   },
   {
    "duration": 129,
    "start_time": "2024-03-03T19:34:22.656Z"
   },
   {
    "duration": 4,
    "start_time": "2024-03-03T19:34:22.787Z"
   },
   {
    "duration": 147,
    "start_time": "2024-03-03T19:34:22.793Z"
   },
   {
    "duration": 5,
    "start_time": "2024-03-03T19:34:22.941Z"
   },
   {
    "duration": 364,
    "start_time": "2024-03-03T19:34:22.948Z"
   },
   {
    "duration": 351,
    "start_time": "2024-03-03T19:35:25.200Z"
   },
   {
    "duration": 329,
    "start_time": "2024-03-03T19:36:38.021Z"
   },
   {
    "duration": 350,
    "start_time": "2024-03-03T19:37:24.060Z"
   },
   {
    "duration": 328,
    "start_time": "2024-03-03T19:37:32.590Z"
   },
   {
    "duration": 401,
    "start_time": "2024-03-03T19:38:24.572Z"
   },
   {
    "duration": 106,
    "start_time": "2024-03-03T19:38:37.228Z"
   },
   {
    "duration": 332,
    "start_time": "2024-03-03T19:38:43.529Z"
   },
   {
    "duration": 11,
    "start_time": "2024-03-03T20:15:46.779Z"
   },
   {
    "duration": 10,
    "start_time": "2024-03-03T20:23:07.281Z"
   },
   {
    "duration": 9,
    "start_time": "2024-03-03T20:23:15.949Z"
   },
   {
    "duration": 9,
    "start_time": "2024-03-03T20:23:23.456Z"
   },
   {
    "duration": 9,
    "start_time": "2024-03-03T20:23:31.148Z"
   },
   {
    "duration": 1164,
    "start_time": "2024-03-03T20:33:20.231Z"
   },
   {
    "duration": 1187,
    "start_time": "2024-03-03T20:33:38.957Z"
   },
   {
    "duration": 31,
    "start_time": "2024-03-03T20:34:04.485Z"
   },
   {
    "duration": 32,
    "start_time": "2024-03-03T20:34:12.708Z"
   },
   {
    "duration": 34,
    "start_time": "2024-03-03T20:35:39.977Z"
   },
   {
    "duration": 34,
    "start_time": "2024-03-03T20:35:51.648Z"
   },
   {
    "duration": 1181,
    "start_time": "2024-03-03T20:55:06.462Z"
   },
   {
    "duration": 13,
    "start_time": "2024-03-03T20:58:32.190Z"
   },
   {
    "duration": 13,
    "start_time": "2024-03-03T20:59:51.803Z"
   },
   {
    "duration": 50,
    "start_time": "2024-03-04T21:12:41.994Z"
   },
   {
    "duration": 8,
    "start_time": "2024-03-04T21:12:59.518Z"
   },
   {
    "duration": 8,
    "start_time": "2024-03-04T21:13:18.136Z"
   },
   {
    "duration": 7,
    "start_time": "2024-03-04T21:13:22.349Z"
   },
   {
    "duration": 1408,
    "start_time": "2024-03-04T21:13:27.901Z"
   },
   {
    "duration": 195,
    "start_time": "2024-03-04T21:13:29.311Z"
   },
   {
    "duration": 143,
    "start_time": "2024-03-04T21:13:29.508Z"
   },
   {
    "duration": 462,
    "start_time": "2024-03-04T21:13:29.653Z"
   },
   {
    "duration": 379,
    "start_time": "2024-03-04T21:13:30.117Z"
   },
   {
    "duration": 146,
    "start_time": "2024-03-04T21:13:30.498Z"
   },
   {
    "duration": 2,
    "start_time": "2024-03-04T21:13:30.646Z"
   },
   {
    "duration": 43,
    "start_time": "2024-03-04T21:13:30.649Z"
   },
   {
    "duration": 20,
    "start_time": "2024-03-04T21:13:30.694Z"
   },
   {
    "duration": 61,
    "start_time": "2024-03-04T21:13:30.716Z"
   },
   {
    "duration": 30,
    "start_time": "2024-03-04T21:13:30.779Z"
   },
   {
    "duration": 48,
    "start_time": "2024-03-04T21:13:30.811Z"
   },
   {
    "duration": 26,
    "start_time": "2024-03-04T21:13:30.861Z"
   },
   {
    "duration": 19,
    "start_time": "2024-03-04T21:13:30.889Z"
   },
   {
    "duration": 29,
    "start_time": "2024-03-04T21:13:30.910Z"
   },
   {
    "duration": 11,
    "start_time": "2024-03-04T21:13:30.941Z"
   },
   {
    "duration": 93,
    "start_time": "2024-03-04T21:13:30.953Z"
   },
   {
    "duration": 5,
    "start_time": "2024-03-04T21:13:31.047Z"
   },
   {
    "duration": 16,
    "start_time": "2024-03-04T21:13:31.054Z"
   },
   {
    "duration": 13,
    "start_time": "2024-03-04T21:13:31.072Z"
   },
   {
    "duration": 32,
    "start_time": "2024-03-04T21:13:31.086Z"
   },
   {
    "duration": 607,
    "start_time": "2024-03-04T21:13:31.119Z"
   },
   {
    "duration": 231,
    "start_time": "2024-03-04T21:13:31.727Z"
   },
   {
    "duration": 129,
    "start_time": "2024-03-04T21:13:31.959Z"
   },
   {
    "duration": 12,
    "start_time": "2024-03-04T21:13:32.089Z"
   },
   {
    "duration": 140,
    "start_time": "2024-03-04T21:13:32.103Z"
   },
   {
    "duration": 4,
    "start_time": "2024-03-04T21:13:32.245Z"
   },
   {
    "duration": 353,
    "start_time": "2024-03-04T21:13:32.252Z"
   },
   {
    "duration": 9,
    "start_time": "2024-03-04T21:13:32.607Z"
   },
   {
    "duration": 33,
    "start_time": "2024-03-04T21:13:32.618Z"
   },
   {
    "duration": 12,
    "start_time": "2024-03-04T21:13:32.652Z"
   },
   {
    "duration": 274,
    "start_time": "2024-03-04T21:13:56.445Z"
   },
   {
    "duration": 192,
    "start_time": "2024-03-04T21:15:24.045Z"
   },
   {
    "duration": 217,
    "start_time": "2024-03-04T21:15:39.725Z"
   },
   {
    "duration": 195,
    "start_time": "2024-03-04T21:15:46.996Z"
   },
   {
    "duration": 226,
    "start_time": "2024-03-04T21:15:56.873Z"
   },
   {
    "duration": 190,
    "start_time": "2024-03-04T21:16:05.616Z"
   },
   {
    "duration": 304,
    "start_time": "2024-03-04T21:16:20.202Z"
   },
   {
    "duration": 201,
    "start_time": "2024-03-04T21:16:27.640Z"
   },
   {
    "duration": 118,
    "start_time": "2024-03-06T16:50:29.788Z"
   },
   {
    "duration": 53,
    "start_time": "2024-03-06T17:03:41.118Z"
   },
   {
    "duration": 1633,
    "start_time": "2024-03-06T17:03:56.841Z"
   },
   {
    "duration": 192,
    "start_time": "2024-03-06T17:03:58.479Z"
   },
   {
    "duration": 228,
    "start_time": "2024-03-06T17:03:58.673Z"
   },
   {
    "duration": 561,
    "start_time": "2024-03-06T17:03:58.903Z"
   },
   {
    "duration": 430,
    "start_time": "2024-03-06T17:03:59.466Z"
   },
   {
    "duration": 169,
    "start_time": "2024-03-06T17:03:59.898Z"
   },
   {
    "duration": 3,
    "start_time": "2024-03-06T17:04:00.069Z"
   },
   {
    "duration": 87,
    "start_time": "2024-03-06T17:04:00.073Z"
   },
   {
    "duration": 121,
    "start_time": "2024-03-06T17:04:00.162Z"
   },
   {
    "duration": 349,
    "start_time": "2024-03-06T17:04:00.284Z"
   },
   {
    "duration": 111,
    "start_time": "2024-03-06T17:04:00.634Z"
   },
   {
    "duration": 128,
    "start_time": "2024-03-06T17:04:00.747Z"
   },
   {
    "duration": 136,
    "start_time": "2024-03-06T17:04:00.877Z"
   },
   {
    "duration": 355,
    "start_time": "2024-03-06T17:04:01.016Z"
   },
   {
    "duration": 338,
    "start_time": "2024-03-06T17:04:01.373Z"
   },
   {
    "duration": 433,
    "start_time": "2024-03-06T17:04:01.713Z"
   },
   {
    "duration": 272,
    "start_time": "2024-03-06T17:04:02.148Z"
   },
   {
    "duration": 327,
    "start_time": "2024-03-06T17:04:02.423Z"
   },
   {
    "duration": 211,
    "start_time": "2024-03-06T17:04:02.752Z"
   },
   {
    "duration": 109,
    "start_time": "2024-03-06T17:04:02.964Z"
   },
   {
    "duration": 54,
    "start_time": "2024-03-06T17:04:03.075Z"
   },
   {
    "duration": 703,
    "start_time": "2024-03-06T17:04:03.131Z"
   },
   {
    "duration": 227,
    "start_time": "2024-03-06T17:04:03.835Z"
   },
   {
    "duration": 156,
    "start_time": "2024-03-06T17:04:04.063Z"
   },
   {
    "duration": 5,
    "start_time": "2024-03-06T17:04:04.221Z"
   },
   {
    "duration": 171,
    "start_time": "2024-03-06T17:04:04.228Z"
   },
   {
    "duration": 5,
    "start_time": "2024-03-06T17:04:04.401Z"
   },
   {
    "duration": 588,
    "start_time": "2024-03-06T17:04:04.409Z"
   },
   {
    "duration": 12,
    "start_time": "2024-03-06T17:04:04.999Z"
   },
   {
    "duration": 51,
    "start_time": "2024-03-06T17:04:05.013Z"
   },
   {
    "duration": 27,
    "start_time": "2024-03-06T17:04:05.066Z"
   },
   {
    "duration": 177,
    "start_time": "2024-03-06T17:04:25.652Z"
   },
   {
    "duration": 1387,
    "start_time": "2024-03-06T17:06:33.248Z"
   },
   {
    "duration": 76,
    "start_time": "2024-03-06T17:06:34.637Z"
   },
   {
    "duration": 174,
    "start_time": "2024-03-06T17:06:34.715Z"
   },
   {
    "duration": 500,
    "start_time": "2024-03-06T17:06:34.890Z"
   },
   {
    "duration": 414,
    "start_time": "2024-03-06T17:06:35.392Z"
   },
   {
    "duration": 177,
    "start_time": "2024-03-06T17:06:35.808Z"
   },
   {
    "duration": 3,
    "start_time": "2024-03-06T17:06:35.987Z"
   },
   {
    "duration": 75,
    "start_time": "2024-03-06T17:06:35.992Z"
   },
   {
    "duration": 12,
    "start_time": "2024-03-06T17:06:36.068Z"
   },
   {
    "duration": 29,
    "start_time": "2024-03-06T17:06:36.082Z"
   },
   {
    "duration": 20,
    "start_time": "2024-03-06T17:06:36.113Z"
   },
   {
    "duration": 11,
    "start_time": "2024-03-06T17:06:36.135Z"
   },
   {
    "duration": 19,
    "start_time": "2024-03-06T17:06:36.148Z"
   },
   {
    "duration": 32,
    "start_time": "2024-03-06T17:06:36.171Z"
   },
   {
    "duration": 90,
    "start_time": "2024-03-06T17:06:36.205Z"
   },
   {
    "duration": 23,
    "start_time": "2024-03-06T17:06:36.296Z"
   },
   {
    "duration": 89,
    "start_time": "2024-03-06T17:06:36.321Z"
   },
   {
    "duration": 4,
    "start_time": "2024-03-06T17:06:36.412Z"
   },
   {
    "duration": 16,
    "start_time": "2024-03-06T17:06:36.418Z"
   },
   {
    "duration": 14,
    "start_time": "2024-03-06T17:06:36.436Z"
   },
   {
    "duration": 22,
    "start_time": "2024-03-06T17:06:36.452Z"
   },
   {
    "duration": 706,
    "start_time": "2024-03-06T17:06:36.476Z"
   },
   {
    "duration": 256,
    "start_time": "2024-03-06T17:06:37.183Z"
   },
   {
    "duration": 155,
    "start_time": "2024-03-06T17:06:37.441Z"
   },
   {
    "duration": 5,
    "start_time": "2024-03-06T17:06:37.597Z"
   },
   {
    "duration": 180,
    "start_time": "2024-03-06T17:06:37.604Z"
   },
   {
    "duration": 5,
    "start_time": "2024-03-06T17:06:37.785Z"
   },
   {
    "duration": 410,
    "start_time": "2024-03-06T17:06:37.792Z"
   },
   {
    "duration": 12,
    "start_time": "2024-03-06T17:06:38.204Z"
   },
   {
    "duration": 65,
    "start_time": "2024-03-06T17:06:38.218Z"
   },
   {
    "duration": 15,
    "start_time": "2024-03-06T17:06:38.284Z"
   },
   {
    "duration": 402,
    "start_time": "2024-03-06T17:13:56.294Z"
   },
   {
    "duration": 401,
    "start_time": "2024-03-06T17:14:05.499Z"
   },
   {
    "duration": 40,
    "start_time": "2024-03-06T17:15:39.308Z"
   },
   {
    "duration": 18,
    "start_time": "2024-03-06T17:15:53.423Z"
   },
   {
    "duration": 21,
    "start_time": "2024-03-06T17:16:02.479Z"
   },
   {
    "duration": 11,
    "start_time": "2024-03-06T17:16:37.618Z"
   },
   {
    "duration": 422,
    "start_time": "2024-03-06T17:19:44.346Z"
   },
   {
    "duration": 407,
    "start_time": "2024-03-06T17:20:19.245Z"
   },
   {
    "duration": 12,
    "start_time": "2024-03-06T17:21:38.597Z"
   },
   {
    "duration": 12,
    "start_time": "2024-03-06T17:21:45.979Z"
   },
   {
    "duration": 39,
    "start_time": "2024-03-06T17:23:18.444Z"
   },
   {
    "duration": 98,
    "start_time": "2024-03-06T17:23:26.289Z"
   },
   {
    "duration": 45,
    "start_time": "2024-03-06T17:23:33.249Z"
   },
   {
    "duration": 21,
    "start_time": "2024-03-06T17:32:35.596Z"
   },
   {
    "duration": 100,
    "start_time": "2024-03-06T17:58:15.479Z"
   },
   {
    "duration": 423,
    "start_time": "2024-03-06T18:02:02.863Z"
   },
   {
    "duration": 418,
    "start_time": "2024-03-06T18:02:13.688Z"
   },
   {
    "duration": 453,
    "start_time": "2024-03-06T18:02:53.551Z"
   },
   {
    "duration": 467,
    "start_time": "2024-03-06T18:03:06.910Z"
   },
   {
    "duration": 444,
    "start_time": "2024-03-06T18:03:25.975Z"
   },
   {
    "duration": 448,
    "start_time": "2024-03-06T18:03:36.368Z"
   },
   {
    "duration": 444,
    "start_time": "2024-03-06T18:05:00.322Z"
   },
   {
    "duration": 399,
    "start_time": "2024-03-06T18:05:03.794Z"
   },
   {
    "duration": 433,
    "start_time": "2024-03-06T18:05:39.917Z"
   },
   {
    "duration": 34,
    "start_time": "2024-03-06T18:10:45.931Z"
   },
   {
    "duration": 35,
    "start_time": "2024-03-06T18:10:50.691Z"
   },
   {
    "duration": 16,
    "start_time": "2024-03-06T18:12:40.269Z"
   },
   {
    "duration": 16,
    "start_time": "2024-03-06T18:13:39.851Z"
   },
   {
    "duration": 17,
    "start_time": "2024-03-06T18:14:11.910Z"
   },
   {
    "duration": 60,
    "start_time": "2024-03-06T18:30:17.013Z"
   },
   {
    "duration": 21,
    "start_time": "2024-03-06T18:31:32.130Z"
   },
   {
    "duration": 102,
    "start_time": "2024-03-06T18:50:12.252Z"
   },
   {
    "duration": 213,
    "start_time": "2024-03-06T19:01:27.844Z"
   },
   {
    "duration": 213,
    "start_time": "2024-03-06T19:03:34.115Z"
   },
   {
    "duration": 303,
    "start_time": "2024-03-06T19:05:44.496Z"
   },
   {
    "duration": 317,
    "start_time": "2024-03-06T19:06:20.585Z"
   },
   {
    "duration": 304,
    "start_time": "2024-03-06T19:06:33.901Z"
   },
   {
    "duration": 331,
    "start_time": "2024-03-06T19:06:40.867Z"
   },
   {
    "duration": 453,
    "start_time": "2024-03-06T19:06:46.951Z"
   },
   {
    "duration": 314,
    "start_time": "2024-03-06T19:07:03.397Z"
   },
   {
    "duration": 345,
    "start_time": "2024-03-06T19:08:33.288Z"
   },
   {
    "duration": 225,
    "start_time": "2024-03-06T19:16:18.431Z"
   },
   {
    "duration": 330,
    "start_time": "2024-03-06T19:21:15.045Z"
   },
   {
    "duration": 347,
    "start_time": "2024-03-06T19:21:56.211Z"
   },
   {
    "duration": 384,
    "start_time": "2024-03-06T19:22:50.649Z"
   },
   {
    "duration": 391,
    "start_time": "2024-03-06T19:23:59.053Z"
   },
   {
    "duration": 362,
    "start_time": "2024-03-06T19:24:24.092Z"
   },
   {
    "duration": 339,
    "start_time": "2024-03-06T19:26:20.429Z"
   },
   {
    "duration": 383,
    "start_time": "2024-03-06T19:27:30.887Z"
   },
   {
    "duration": 470,
    "start_time": "2024-03-06T19:28:06.420Z"
   },
   {
    "duration": 1330,
    "start_time": "2024-03-06T21:21:31.477Z"
   },
   {
    "duration": 76,
    "start_time": "2024-03-06T21:21:32.809Z"
   },
   {
    "duration": 223,
    "start_time": "2024-03-06T21:21:32.887Z"
   },
   {
    "duration": 476,
    "start_time": "2024-03-06T21:21:33.112Z"
   },
   {
    "duration": 417,
    "start_time": "2024-03-06T21:21:33.590Z"
   },
   {
    "duration": 167,
    "start_time": "2024-03-06T21:21:34.008Z"
   },
   {
    "duration": 3,
    "start_time": "2024-03-06T21:21:34.180Z"
   },
   {
    "duration": 26,
    "start_time": "2024-03-06T21:21:34.184Z"
   },
   {
    "duration": 8,
    "start_time": "2024-03-06T21:21:34.211Z"
   },
   {
    "duration": 21,
    "start_time": "2024-03-06T21:21:34.221Z"
   },
   {
    "duration": 11,
    "start_time": "2024-03-06T21:21:34.244Z"
   },
   {
    "duration": 8,
    "start_time": "2024-03-06T21:21:34.258Z"
   },
   {
    "duration": 27,
    "start_time": "2024-03-06T21:21:34.269Z"
   },
   {
    "duration": 10,
    "start_time": "2024-03-06T21:21:34.301Z"
   },
   {
    "duration": 6,
    "start_time": "2024-03-06T21:21:34.314Z"
   },
   {
    "duration": 7,
    "start_time": "2024-03-06T21:21:34.322Z"
   },
   {
    "duration": 123,
    "start_time": "2024-03-06T21:21:34.331Z"
   },
   {
    "duration": 6,
    "start_time": "2024-03-06T21:21:34.456Z"
   },
   {
    "duration": 30,
    "start_time": "2024-03-06T21:21:34.464Z"
   },
   {
    "duration": 11,
    "start_time": "2024-03-06T21:21:34.496Z"
   },
   {
    "duration": 19,
    "start_time": "2024-03-06T21:21:34.511Z"
   },
   {
    "duration": 705,
    "start_time": "2024-03-06T21:21:34.532Z"
   },
   {
    "duration": 219,
    "start_time": "2024-03-06T21:21:35.238Z"
   },
   {
    "duration": 355,
    "start_time": "2024-03-06T21:21:35.458Z"
   },
   {
    "duration": 220,
    "start_time": "2024-03-06T21:21:35.815Z"
   },
   {
    "duration": 404,
    "start_time": "2024-03-06T21:21:36.036Z"
   },
   {
    "duration": 152,
    "start_time": "2024-03-06T21:21:36.442Z"
   },
   {
    "duration": 4,
    "start_time": "2024-03-06T21:21:36.596Z"
   },
   {
    "duration": 169,
    "start_time": "2024-03-06T21:21:36.602Z"
   },
   {
    "duration": 10,
    "start_time": "2024-03-06T21:21:36.773Z"
   },
   {
    "duration": 451,
    "start_time": "2024-03-06T21:21:36.785Z"
   },
   {
    "duration": 19,
    "start_time": "2024-03-06T21:21:37.237Z"
   },
   {
    "duration": 103,
    "start_time": "2024-03-06T21:21:37.258Z"
   },
   {
    "duration": 168,
    "start_time": "2024-03-06T21:21:37.363Z"
   }
  ],
  "kernelspec": {
   "display_name": "Python 3 (ipykernel)",
   "language": "python",
   "name": "python3"
  },
  "language_info": {
   "codemirror_mode": {
    "name": "ipython",
    "version": 3
   },
   "file_extension": ".py",
   "mimetype": "text/x-python",
   "name": "python",
   "nbconvert_exporter": "python",
   "pygments_lexer": "ipython3",
   "version": "3.10.13"
  },
  "toc": {
   "base_numbering": 1,
   "nav_menu": {
    "height": "105.656px",
    "width": "227.656px"
   },
   "number_sections": true,
   "sideBar": true,
   "skip_h1_title": true,
   "title_cell": "Table of Contents",
   "title_sidebar": "Contents",
   "toc_cell": false,
   "toc_position": {},
   "toc_section_display": true,
   "toc_window_display": false
  }
 },
 "nbformat": 4,
 "nbformat_minor": 2
}
